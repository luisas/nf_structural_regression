{
 "cells": [
  {
   "cell_type": "code",
   "execution_count": 6,
   "id": "87b0aa8f",
   "metadata": {},
   "outputs": [],
   "source": [
    "#!/usr/bin/env python3\n",
    "# coding: utf-8\n",
    "\n",
    "# In[41]:\n",
    "\n",
    "\n",
    "import Bio.PDB as bpdb\n",
    "from Bio import PDB\n",
    "import sys\n",
    "import pandas as pd\n"
   ]
  },
  {
   "cell_type": "code",
   "execution_count": 11,
   "id": "1d60511c",
   "metadata": {},
   "outputs": [],
   "source": [
    "structure=\"/home/luisasantus/Desktop/crg_cluster/data/structural_regression/homfam/pdbs/structures/fetched/PDB/GEL-ref/1svr_ref.pdb\""
   ]
  },
  {
   "cell_type": "code",
   "execution_count": 6,
   "id": "f02bff9d",
   "metadata": {},
   "outputs": [
    {
     "data": {
      "text/html": [
       "<div>\n",
       "<style scoped>\n",
       "    .dataframe tbody tr th:only-of-type {\n",
       "        vertical-align: middle;\n",
       "    }\n",
       "\n",
       "    .dataframe tbody tr th {\n",
       "        vertical-align: top;\n",
       "    }\n",
       "\n",
       "    .dataframe thead th {\n",
       "        text-align: right;\n",
       "    }\n",
       "</style>\n",
       "<table border=\"1\" class=\"dataframe\">\n",
       "  <thead>\n",
       "    <tr style=\"text-align: right;\">\n",
       "      <th></th>\n",
       "      <th>0</th>\n",
       "      <th>1</th>\n",
       "      <th>2</th>\n",
       "      <th>3</th>\n",
       "      <th>4</th>\n",
       "      <th>5</th>\n",
       "      <th>6</th>\n",
       "      <th>7</th>\n",
       "      <th>8</th>\n",
       "      <th>9</th>\n",
       "      <th>10</th>\n",
       "      <th>11</th>\n",
       "      <th>12</th>\n",
       "      <th>13</th>\n",
       "      <th>14</th>\n",
       "    </tr>\n",
       "  </thead>\n",
       "  <tbody>\n",
       "    <tr>\n",
       "      <th>0</th>\n",
       "      <td>2vil</td>\n",
       "      <td>2vil_A</td>\n",
       "      <td>1.0</td>\n",
       "      <td>126</td>\n",
       "      <td>0</td>\n",
       "      <td>0</td>\n",
       "      <td>1</td>\n",
       "      <td>126</td>\n",
       "      <td>1</td>\n",
       "      <td>126</td>\n",
       "      <td>1.558000e-81</td>\n",
       "      <td>266</td>\n",
       "      <td>1.0</td>\n",
       "      <td>2vil</td>\n",
       "      <td>2vila</td>\n",
       "    </tr>\n",
       "    <tr>\n",
       "      <th>1</th>\n",
       "      <td>1svr</td>\n",
       "      <td>1svr_A</td>\n",
       "      <td>1.0</td>\n",
       "      <td>94</td>\n",
       "      <td>0</td>\n",
       "      <td>0</td>\n",
       "      <td>1</td>\n",
       "      <td>94</td>\n",
       "      <td>10</td>\n",
       "      <td>103</td>\n",
       "      <td>8.723000e-58</td>\n",
       "      <td>196</td>\n",
       "      <td>1.0</td>\n",
       "      <td>1svr</td>\n",
       "      <td>1svra</td>\n",
       "    </tr>\n",
       "    <tr>\n",
       "      <th>2</th>\n",
       "      <td>1yagg</td>\n",
       "      <td>1yag_G</td>\n",
       "      <td>1.0</td>\n",
       "      <td>125</td>\n",
       "      <td>0</td>\n",
       "      <td>0</td>\n",
       "      <td>1</td>\n",
       "      <td>125</td>\n",
       "      <td>1</td>\n",
       "      <td>125</td>\n",
       "      <td>1.186000e-82</td>\n",
       "      <td>269</td>\n",
       "      <td>1.0</td>\n",
       "      <td>1yag</td>\n",
       "      <td>1yagg</td>\n",
       "    </tr>\n",
       "    <tr>\n",
       "      <th>3</th>\n",
       "      <td>1d0na2</td>\n",
       "      <td>1d0n_A</td>\n",
       "      <td>1.0</td>\n",
       "      <td>127</td>\n",
       "      <td>0</td>\n",
       "      <td>0</td>\n",
       "      <td>1</td>\n",
       "      <td>127</td>\n",
       "      <td>603</td>\n",
       "      <td>729</td>\n",
       "      <td>1.045000e-83</td>\n",
       "      <td>272</td>\n",
       "      <td>1.0</td>\n",
       "      <td>1d0n</td>\n",
       "      <td>1d0na</td>\n",
       "    </tr>\n",
       "  </tbody>\n",
       "</table>\n",
       "</div>"
      ],
      "text/plain": [
       "       0       1    2    3   4   5   6    7    8    9             10   11  \\\n",
       "0    2vil  2vil_A  1.0  126   0   0   1  126    1  126  1.558000e-81  266   \n",
       "1    1svr  1svr_A  1.0   94   0   0   1   94   10  103  8.723000e-58  196   \n",
       "2   1yagg  1yag_G  1.0  125   0   0   1  125    1  125  1.186000e-82  269   \n",
       "3  1d0na2  1d0n_A  1.0  127   0   0   1  127  603  729  1.045000e-83  272   \n",
       "\n",
       "    12    13     14  \n",
       "0  1.0  2vil  2vila  \n",
       "1  1.0  1svr  1svra  \n",
       "2  1.0  1yag  1yagg  \n",
       "3  1.0  1d0n  1d0na  "
      ]
     },
     "execution_count": 6,
     "metadata": {},
     "output_type": "execute_result"
    }
   ],
   "source": [
    "pd.read_csv(hits, header = None, sep = \"\\t\")"
   ]
  },
  {
   "cell_type": "code",
   "execution_count": 18,
   "id": "cb149729",
   "metadata": {},
   "outputs": [
    {
     "name": "stdout",
     "output_type": "stream",
     "text": [
      "<Structure id=temp>\n"
     ]
    },
    {
     "ename": "NameError",
     "evalue": "name 'seq' is not defined",
     "output_type": "error",
     "traceback": [
      "\u001b[0;31m---------------------------------------------------------------------------\u001b[0m",
      "\u001b[0;31mNameError\u001b[0m                                 Traceback (most recent call last)",
      "Input \u001b[0;32mIn [18]\u001b[0m, in \u001b[0;36m<cell line: 64>\u001b[0;34m()\u001b[0m\n\u001b[1;32m     62\u001b[0m         \u001b[38;5;28;01mfor\u001b[39;00m residue \u001b[38;5;129;01min\u001b[39;00m chain:\n\u001b[1;32m     63\u001b[0m             seq\u001b[38;5;241m.\u001b[39mappend(d3to1[residue\u001b[38;5;241m.\u001b[39mresname])\n\u001b[0;32m---> 64\u001b[0m sequence \u001b[38;5;241m=\u001b[39m \u001b[38;5;124m'\u001b[39m\u001b[38;5;124m'\u001b[39m\u001b[38;5;241m.\u001b[39mjoin(\u001b[43mseq\u001b[49m)\n",
      "\u001b[0;31mNameError\u001b[0m: name 'seq' is not defined"
     ]
    }
   ],
   "source": [
    "\n",
    "start_res = 10\n",
    "end_res = 103\n",
    "chain_id = \"A\"\n",
    "\n",
    "#structure = \"/home/luisasantus/Desktop/crg_cluster/data/tf/cisbp/data_pbm_train/F212_2.00/colabfold_header/pdbs/M00168_2.00-T198024_2.00-MS02_2.00-Gcm1_3732-PBM_alphafold.pdb\"\n",
    "#outname = \"my_output3.pdb\"\n",
    "\n",
    "#structure = sys.argv[3]\n",
    "#outname = sys.argv[4]\n",
    "shift = 10\n",
    "\n",
    "start_res = start_res - shift + 1\n",
    "end_res = end_res - shift + 1\n",
    "\n",
    "class ResSelect(bpdb.Select):\n",
    "    def accept_residue(self, res):\n",
    "        # i checked, both inclusive!\n",
    "        if res.id[1] >= start_res and res.id[1] <= end_res and res.parent.id == chain_id:\n",
    "            return True\n",
    "        else:\n",
    "            return False\n",
    "\n",
    "s = bpdb.PDBParser().get_structure('input', structure)\n",
    "io = bpdb.PDBIO()\n",
    "io.set_structure(s)\n",
    "io.save(\"temp.pdb\", ResSelect())\n",
    "\n",
    "\n",
    "\n",
    "pdb_io = PDB.PDBIO()\n",
    "pdb_parser = PDB.PDBParser()\n",
    "final_structure = pdb_parser.get_structure(\"temp\", \"temp.pdb\")\n",
    "\n",
    "for model in final_structure:\n",
    "    for chain in model:\n",
    "        for i, residue in enumerate(chain.get_residues()):\n",
    "            res_id = list(residue.id)\n",
    "            res_id[1] = i+1\n",
    "            residue.id = tuple(res_id)\n",
    "\n",
    "pdb_io.set_structure(final_structure)\n",
    "#pdb_io.save(outname + \".pdb\")\n",
    "\n",
    "\n",
    "# In[47]:\n",
    "\n",
    "\n",
    "# You can use a dict to convert three letter code to one letter code\n",
    "d3to1 = {'CYS': 'C', 'ASP': 'D', 'SER': 'S', 'GLN': 'Q', 'LYS': 'K',\n",
    "'ILE': 'I', 'PRO': 'P', 'THR': 'T', 'PHE': 'F', 'ASN': 'N',\n",
    "'GLY': 'G', 'HIS': 'H', 'LEU': 'L', 'ARG': 'R', 'TRP': 'W',\n",
    "'ALA': 'A', 'VAL':'V', 'GLU': 'E', 'TYR': 'Y', 'MET': 'M'}\n",
    "\n",
    "\n",
    "# iterate each model, chain, and residue\n",
    "# printing out the sequence for each chain\n",
    "print(final_structure)\n",
    "for model in final_structure:\n",
    "    print(model)\n",
    "    for chain in model:\n",
    "        seq = []\n",
    "        for residue in chain:\n",
    "            seq.append(d3to1[residue.resname])\n",
    "sequence = ''.join(seq)\n",
    "\n",
    "\n",
    "# In[ ]:\n"
   ]
  },
  {
   "cell_type": "code",
   "execution_count": 3,
   "id": "b63d51df",
   "metadata": {},
   "outputs": [],
   "source": [
    "fasta = \"/home/luisasantus/Desktop/crg_cluster/data/structural_regression/homfam/pdbs/structures/fetched/PDB/GEL-ref/1yagg_ref.fa\""
   ]
  },
  {
   "cell_type": "code",
   "execution_count": 2,
   "id": "8166022f",
   "metadata": {},
   "outputs": [
    {
     "ename": "NameError",
     "evalue": "name 'sys' is not defined",
     "output_type": "error",
     "traceback": [
      "\u001b[0;31m---------------------------------------------------------------------------\u001b[0m",
      "\u001b[0;31mNameError\u001b[0m                                 Traceback (most recent call last)",
      "Input \u001b[0;32mIn [2]\u001b[0m, in \u001b[0;36m<cell line: 3>\u001b[0;34m()\u001b[0m\n\u001b[1;32m      1\u001b[0m \u001b[38;5;28;01mimport\u001b[39;00m \u001b[38;5;21;01mBio\u001b[39;00m\n\u001b[1;32m      2\u001b[0m \u001b[38;5;28;01mfrom\u001b[39;00m \u001b[38;5;21;01mBio\u001b[39;00m \u001b[38;5;28;01mimport\u001b[39;00m SeqIO\n\u001b[0;32m----> 3\u001b[0m fasta \u001b[38;5;241m=\u001b[39m \u001b[43msys\u001b[49m\u001b[38;5;241m.\u001b[39margv[\u001b[38;5;241m1\u001b[39m]\n\u001b[1;32m      4\u001b[0m output \u001b[38;5;241m=\u001b[39m sys\u001b[38;5;241m.\u001b[39margv[\u001b[38;5;241m3\u001b[39m]\n",
      "\u001b[0;31mNameError\u001b[0m: name 'sys' is not defined"
     ]
    }
   ],
   "source": [
    "import Bio\n",
    "from Bio import SeqIO\n",
    "fasta = sys.argv[1]\n",
    "output = sys.argv[3]\n",
    "target_chain = sys.argv[2]\n"
   ]
  },
  {
   "cell_type": "code",
   "execution_count": 5,
   "id": "04b474bc",
   "metadata": {},
   "outputs": [],
   "source": [
    "target_chain = \"A\""
   ]
  },
  {
   "cell_type": "code",
   "execution_count": 4,
   "id": "4933e964",
   "metadata": {},
   "outputs": [
    {
     "ename": "NameError",
     "evalue": "name 'sys' is not defined",
     "output_type": "error",
     "traceback": [
      "\u001b[0;31m---------------------------------------------------------------------------\u001b[0m",
      "\u001b[0;31mNameError\u001b[0m                                 Traceback (most recent call last)",
      "Input \u001b[0;32mIn [4]\u001b[0m, in \u001b[0;36m<cell line: 1>\u001b[0;34m()\u001b[0m\n\u001b[0;32m----> 1\u001b[0m target_chain \u001b[38;5;241m=\u001b[39m \u001b[43msys\u001b[49m\u001b[38;5;241m.\u001b[39margv[\u001b[38;5;241m2\u001b[39m]\n\u001b[1;32m      2\u001b[0m chain_str \u001b[38;5;241m=\u001b[39m \u001b[38;5;124m\"\u001b[39m\u001b[38;5;124mChain \u001b[39m\u001b[38;5;124m\"\u001b[39m\u001b[38;5;241m+\u001b[39mtarget_chain\n\u001b[1;32m      3\u001b[0m auth_chain_str \u001b[38;5;241m=\u001b[39m \u001b[38;5;124m\"\u001b[39m\u001b[38;5;124mauth \u001b[39m\u001b[38;5;124m\"\u001b[39m\u001b[38;5;241m+\u001b[39mtarget_chain\n",
      "\u001b[0;31mNameError\u001b[0m: name 'sys' is not defined"
     ]
    }
   ],
   "source": [
    "chain_str = \"Chain \"+target_chain\n",
    "auth_chain_str = \"auth \"+target_chain\n",
    "multiple_chains = re.search('Chains([^|]*)\\|.*', string, re.IGNORECASE)\n",
    "\n",
    "handle = open(output,\"w\")\n",
    "for record in SeqIO.parse(fasta,'fasta'):\n",
    "    name = record.description\n",
    "    if auth_chain_str in name or chain_str in name or : \n",
    "        SeqIO.write(record,output,\"fasta\")\n"
   ]
  },
  {
   "cell_type": "code",
   "execution_count": 32,
   "id": "48c83ad1",
   "metadata": {},
   "outputs": [],
   "source": [
    "string = \">1CDT_1|Chains A, B|CARDIOTOXIN | VII4_Naja mossambica (8\""
   ]
  },
  {
   "cell_type": "code",
   "execution_count": null,
   "id": "3581a805",
   "metadata": {},
   "outputs": [],
   "source": []
  },
  {
   "cell_type": "code",
   "execution_count": 8,
   "id": "18f6e8e7",
   "metadata": {},
   "outputs": [],
   "source": [
    "import re"
   ]
  },
  {
   "cell_type": "code",
   "execution_count": 35,
   "id": "5a4ae1c2",
   "metadata": {},
   "outputs": [
    {
     "name": "stdout",
     "output_type": "stream",
     "text": [
      "luisa\n"
     ]
    }
   ],
   "source": [
    "if title_search:\n",
    "    title = title_search.group(1)\n",
    "    if target_chain in title: \n",
    "        print(\"luisa\")"
   ]
  }
 ],
 "metadata": {
  "kernelspec": {
   "display_name": "Python 3 (ipykernel)",
   "language": "python",
   "name": "python3"
  },
  "language_info": {
   "codemirror_mode": {
    "name": "ipython",
    "version": 3
   },
   "file_extension": ".py",
   "mimetype": "text/x-python",
   "name": "python",
   "nbconvert_exporter": "python",
   "pygments_lexer": "ipython3",
   "version": "3.9.12"
  }
 },
 "nbformat": 4,
 "nbformat_minor": 5
}
