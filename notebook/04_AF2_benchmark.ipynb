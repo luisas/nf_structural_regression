{
 "cells": [
  {
   "cell_type": "markdown",
   "id": "55d88cd0",
   "metadata": {},
   "source": [
    "# AF2 predictions benchmark "
   ]
  },
  {
   "cell_type": "code",
   "execution_count": 2,
   "id": "071de1a8",
   "metadata": {},
   "outputs": [],
   "source": [
    "import json\n",
    "import os\n",
    "import pandas as pd\n",
    "import glob\n",
    "import seaborn as sns\n",
    "import matplotlib.pyplot as plt\n",
    "\n",
    "results_dir = \"/home/luisasantus/Desktop/crg_cluster/data/structural_regression/af2_structures/\""
   ]
  },
  {
   "cell_type": "code",
   "execution_count": 6,
   "id": "d3a37650",
   "metadata": {},
   "outputs": [],
   "source": [
    "def get_plddt(results_dir, dataset):\n",
    "    colabfold_dir = results_dir+\"/colabfold_header/\"\n",
    "    plddt_summary = pd.DataFrame()\n",
    "    for fam in os.listdir(colabfold_dir):\n",
    "        fam_dir = os.path.join(colabfold_dir,fam)\n",
    "        for f in os.listdir(os.path.join(fam_dir,\"plddts\")):\n",
    "            if f.endswith('plddt.eval'):\n",
    "                plddts = pd.read_csv(os.path.join(fam_dir,\"plddts\",f), sep = \"\\s+\", header = None)\n",
    "                plddts = plddts.set_axis([\"sequence\", \"plddt\"], axis=1)\n",
    "                plddts[\"family\"] = fam\n",
    "                plddts[\"benchmarking_dataset\"] = dataset\n",
    "                \n",
    "                plddt_summary = pd.concat([plddt_summary, plddts], ignore_index=True)\n",
    "    return(plddt_summary)"
   ]
  },
  {
   "cell_type": "code",
   "execution_count": 7,
   "id": "f95b9804",
   "metadata": {},
   "outputs": [
    {
     "data": {
      "text/html": [
       "<div>\n",
       "<style scoped>\n",
       "    .dataframe tbody tr th:only-of-type {\n",
       "        vertical-align: middle;\n",
       "    }\n",
       "\n",
       "    .dataframe tbody tr th {\n",
       "        vertical-align: top;\n",
       "    }\n",
       "\n",
       "    .dataframe thead th {\n",
       "        text-align: right;\n",
       "    }\n",
       "</style>\n",
       "<table border=\"1\" class=\"dataframe\">\n",
       "  <thead>\n",
       "    <tr style=\"text-align: right;\">\n",
       "      <th></th>\n",
       "      <th>sequence</th>\n",
       "      <th>plddt</th>\n",
       "      <th>family</th>\n",
       "      <th>benchmarking_dataset</th>\n",
       "    </tr>\n",
       "  </thead>\n",
       "  <tbody>\n",
       "    <tr>\n",
       "      <th>0</th>\n",
       "      <td>B2B1K0_PODAN_34-104</td>\n",
       "      <td>60.8602</td>\n",
       "      <td>ghf11</td>\n",
       "      <td>homfam</td>\n",
       "    </tr>\n",
       "    <tr>\n",
       "      <th>1</th>\n",
       "      <td>Q4P0L3_USTMA_34-219</td>\n",
       "      <td>86.6325</td>\n",
       "      <td>ghf11</td>\n",
       "      <td>homfam</td>\n",
       "    </tr>\n",
       "  </tbody>\n",
       "</table>\n",
       "</div>"
      ],
      "text/plain": [
       "              sequence    plddt family benchmarking_dataset\n",
       "0  B2B1K0_PODAN_34-104  60.8602  ghf11               homfam\n",
       "1  Q4P0L3_USTMA_34-219  86.6325  ghf11               homfam"
      ]
     },
     "execution_count": 7,
     "metadata": {},
     "output_type": "execute_result"
    }
   ],
   "source": [
    "# Extract plddt for each sequence in the family\n",
    "af2_homfam = get_plddt(results_dir, \"homfam\")\n",
    "af2_homfam.head(2)"
   ]
  },
  {
   "cell_type": "code",
   "execution_count": 8,
   "id": "dcb37b3d",
   "metadata": {},
   "outputs": [
    {
     "data": {
      "text/html": [
       "<div>\n",
       "<style scoped>\n",
       "    .dataframe tbody tr th:only-of-type {\n",
       "        vertical-align: middle;\n",
       "    }\n",
       "\n",
       "    .dataframe tbody tr th {\n",
       "        vertical-align: top;\n",
       "    }\n",
       "\n",
       "    .dataframe thead th {\n",
       "        text-align: right;\n",
       "    }\n",
       "</style>\n",
       "<table border=\"1\" class=\"dataframe\">\n",
       "  <thead>\n",
       "    <tr style=\"text-align: right;\">\n",
       "      <th></th>\n",
       "      <th>family</th>\n",
       "      <th>benchmarking_dataset</th>\n",
       "      <th>plddt_mean</th>\n",
       "      <th>plddt_min</th>\n",
       "      <th>plddt_max</th>\n",
       "    </tr>\n",
       "  </thead>\n",
       "  <tbody>\n",
       "    <tr>\n",
       "      <th>0</th>\n",
       "      <td>TNF</td>\n",
       "      <td>homfam</td>\n",
       "      <td>74.955996</td>\n",
       "      <td>44.3361</td>\n",
       "      <td>84.9513</td>\n",
       "    </tr>\n",
       "    <tr>\n",
       "      <th>1</th>\n",
       "      <td>ghf11</td>\n",
       "      <td>homfam</td>\n",
       "      <td>81.239152</td>\n",
       "      <td>49.6475</td>\n",
       "      <td>88.1020</td>\n",
       "    </tr>\n",
       "  </tbody>\n",
       "</table>\n",
       "</div>"
      ],
      "text/plain": [
       "  family benchmarking_dataset  plddt_mean  plddt_min  plddt_max\n",
       "0    TNF               homfam   74.955996    44.3361    84.9513\n",
       "1  ghf11               homfam   81.239152    49.6475    88.1020"
      ]
     },
     "execution_count": 8,
     "metadata": {},
     "output_type": "execute_result"
    }
   ],
   "source": [
    "# Summarize plddt family-wise\n",
    "af2_homfam_summary = af2_homfam.groupby(['family',\"benchmarking_dataset\"]).agg({'plddt': ['mean', 'min', 'max']}).reset_index().set_axis([\"family\", \"benchmarking_dataset\", \"plddt_mean\", \"plddt_min\", \"plddt_max\"], axis=1)\n",
    "af2_homfam_summary.head(2)"
   ]
  },
  {
   "cell_type": "code",
   "execution_count": 9,
   "id": "a4ca5d93",
   "metadata": {},
   "outputs": [],
   "source": [
    "summary_homfam_exthomfam = pd.read_csv(\"/home/luisasantus/Desktop/crg_cluster/data/structural_regression/stats/01_summary_homfam_exthomfam.csv\")\n",
    "summary_homfam_exthomfam = summary_homfam_exthomfam.rename(columns={\"dataset\": \"benchmarking_dataset\"})\n",
    "summary_homfam_exthomfam.head(2)\n",
    "stats_af2 = pd.merge(af2_homfam_summary, summary_homfam_exthomfam, on =[\"family\",\"benchmarking_dataset\"])"
   ]
  },
  {
   "cell_type": "markdown",
   "id": "e4db186f",
   "metadata": {},
   "source": [
    "## Store files "
   ]
  },
  {
   "cell_type": "code",
   "execution_count": 41,
   "id": "6376a78c",
   "metadata": {},
   "outputs": [],
   "source": [
    "af2_homfam.to_csv(os.path.join(\"/home/luisasantus/Desktop/crg_cluster/data/structural_regression/stats/\", \"02_summary_af2.csv\"), index = False)\n",
    "af2_homfam_summary.to_csv(os.path.join(\"/home/luisasantus/Desktop/crg_cluster/data/structural_regression/stats/\", \"03_summary_af2_grouped.csv\"), index = False)"
   ]
  },
  {
   "cell_type": "markdown",
   "id": "f3b77af7",
   "metadata": {},
   "source": [
    "# Visualize "
   ]
  },
  {
   "cell_type": "markdown",
   "id": "757e1bcc",
   "metadata": {},
   "source": [
    "### How well does AF2 perform on the sequences in the families in the different datasets"
   ]
  },
  {
   "cell_type": "code",
   "execution_count": 53,
   "id": "558b8018",
   "metadata": {},
   "outputs": [
    {
     "data": {
      "text/html": [
       "<div>\n",
       "<style scoped>\n",
       "    .dataframe tbody tr th:only-of-type {\n",
       "        vertical-align: middle;\n",
       "    }\n",
       "\n",
       "    .dataframe tbody tr th {\n",
       "        vertical-align: top;\n",
       "    }\n",
       "\n",
       "    .dataframe thead th {\n",
       "        text-align: right;\n",
       "    }\n",
       "</style>\n",
       "<table border=\"1\" class=\"dataframe\">\n",
       "  <thead>\n",
       "    <tr style=\"text-align: right;\">\n",
       "      <th></th>\n",
       "      <th>family</th>\n",
       "      <th>benchmarking_dataset</th>\n",
       "      <th>plddt_mean</th>\n",
       "      <th>plddt_min</th>\n",
       "      <th>plddt_max</th>\n",
       "    </tr>\n",
       "  </thead>\n",
       "  <tbody>\n",
       "    <tr>\n",
       "      <th>0</th>\n",
       "      <td>TNF</td>\n",
       "      <td>homfam</td>\n",
       "      <td>74.955996</td>\n",
       "      <td>44.3361</td>\n",
       "      <td>84.9513</td>\n",
       "    </tr>\n",
       "    <tr>\n",
       "      <th>1</th>\n",
       "      <td>ghf11</td>\n",
       "      <td>homfam</td>\n",
       "      <td>81.239152</td>\n",
       "      <td>49.6475</td>\n",
       "      <td>88.1020</td>\n",
       "    </tr>\n",
       "    <tr>\n",
       "      <th>2</th>\n",
       "      <td>hip</td>\n",
       "      <td>homfam</td>\n",
       "      <td>78.387074</td>\n",
       "      <td>56.6983</td>\n",
       "      <td>82.6511</td>\n",
       "    </tr>\n",
       "    <tr>\n",
       "      <th>3</th>\n",
       "      <td>rnasemam</td>\n",
       "      <td>homfam</td>\n",
       "      <td>78.333078</td>\n",
       "      <td>57.8495</td>\n",
       "      <td>84.7626</td>\n",
       "    </tr>\n",
       "    <tr>\n",
       "      <th>4</th>\n",
       "      <td>scorptoxin</td>\n",
       "      <td>homfam</td>\n",
       "      <td>70.143942</td>\n",
       "      <td>52.2479</td>\n",
       "      <td>80.3438</td>\n",
       "    </tr>\n",
       "    <tr>\n",
       "      <th>5</th>\n",
       "      <td>seatoxin</td>\n",
       "      <td>homfam</td>\n",
       "      <td>63.094774</td>\n",
       "      <td>55.1243</td>\n",
       "      <td>71.2845</td>\n",
       "    </tr>\n",
       "    <tr>\n",
       "      <th>6</th>\n",
       "      <td>sti</td>\n",
       "      <td>homfam</td>\n",
       "      <td>77.721156</td>\n",
       "      <td>60.7132</td>\n",
       "      <td>85.1204</td>\n",
       "    </tr>\n",
       "    <tr>\n",
       "      <th>7</th>\n",
       "      <td>test</td>\n",
       "      <td>homfam</td>\n",
       "      <td>61.860650</td>\n",
       "      <td>55.3155</td>\n",
       "      <td>71.1619</td>\n",
       "    </tr>\n",
       "    <tr>\n",
       "      <th>8</th>\n",
       "      <td>toxin</td>\n",
       "      <td>homfam</td>\n",
       "      <td>74.358762</td>\n",
       "      <td>51.3286</td>\n",
       "      <td>79.7002</td>\n",
       "    </tr>\n",
       "  </tbody>\n",
       "</table>\n",
       "</div>"
      ],
      "text/plain": [
       "       family benchmarking_dataset  plddt_mean  plddt_min  plddt_max\n",
       "0         TNF               homfam   74.955996    44.3361    84.9513\n",
       "1       ghf11               homfam   81.239152    49.6475    88.1020\n",
       "2         hip               homfam   78.387074    56.6983    82.6511\n",
       "3    rnasemam               homfam   78.333078    57.8495    84.7626\n",
       "4  scorptoxin               homfam   70.143942    52.2479    80.3438\n",
       "5    seatoxin               homfam   63.094774    55.1243    71.2845\n",
       "6         sti               homfam   77.721156    60.7132    85.1204\n",
       "7        test               homfam   61.860650    55.3155    71.1619\n",
       "8       toxin               homfam   74.358762    51.3286    79.7002"
      ]
     },
     "execution_count": 53,
     "metadata": {},
     "output_type": "execute_result"
    }
   ],
   "source": [
    "af2_homfam_summary"
   ]
  },
  {
   "cell_type": "code",
   "execution_count": 56,
   "id": "e5fb129b",
   "metadata": {},
   "outputs": [
    {
     "data": {
      "text/plain": [
       "<seaborn.axisgrid.FacetGrid at 0x7f4f05ee5f10>"
      ]
     },
     "execution_count": 56,
     "metadata": {},
     "output_type": "execute_result"
    },
    {
     "data": {
      "image/png": "[encoded data removed]",
      "text/plain": [
       "<Figure size 580.075x360 with 1 Axes>"
      ]
     },
     "metadata": {},
     "output_type": "display_data"
    }
   ],
   "source": [
    "# Plot AF2 plddts summaries across families \n",
    "sns.set_theme(style=\"white\")\n",
    "sns.set_context(\"talk\")\n",
    "ax = sns.displot(af2_homfam_summary, x=\"plddt_mean\", hue = \"benchmarking_dataset\", kind=\"kde\")\n",
    "ax.set(xlabel='plddt (mean)')"
   ]
  },
  {
   "cell_type": "code",
   "execution_count": 12,
   "id": "a0de0fa7",
   "metadata": {},
   "outputs": [],
   "source": [
    "from Bio import SeqIO\n",
    "seqs_dir=\"/home/luisasantus/Desktop/crg_cluster/data/structural_regression/\"\n",
    "\n",
    "def get_seq_lengths(seqs_dir, dataset, family):\n",
    "    seqs_dir = os.path.join(*list([seqs_dir,dataset,\"combinedSeqs\"]))\n",
    "    f = os.path.join(*list([seqs_dir,family+ \".fa\"]))\n",
    "    fasta_sequences = SeqIO.parse(open(f),'fasta')\n",
    "    summary = pd.DataFrame()\n",
    "    for fasta in fasta_sequences:\n",
    "        name, sequence = fasta.id, str(fasta.seq)\n",
    "        l = len(sequence)\n",
    "        name = name.replace(\"/\", \"_\")\n",
    "        entry = pd.DataFrame([{\"family\": family,\n",
    "                                \"sequence\": name,\n",
    "                                \"sequence length\": l,\n",
    "                                \"benchmarking_dataset\": dataset}])\n",
    "        summary = pd.concat([summary,entry], ignore_index=True)\n",
    "    return(summary)"
   ]
  },
  {
   "cell_type": "code",
   "execution_count": 13,
   "id": "902517cc",
   "metadata": {},
   "outputs": [],
   "source": [
    "# Get summary\n",
    "summary_lengths = pd.DataFrame()\n",
    "for family in stats_af2.family:\n",
    "    summary_fam = get_seq_lengths(seqs_dir, \"homfam\", family)\n",
    "    summary_lengths = pd.concat([summary_lengths,summary_fam], ignore_index=True)"
   ]
  },
  {
   "cell_type": "code",
   "execution_count": 47,
   "id": "1b416264",
   "metadata": {},
   "outputs": [],
   "source": [
    "af2_sequence_summary = pd.merge(af2_homfam, summary_lengths, on =[\"family\",\"sequence\",\"benchmarking_dataset\"])"
   ]
  },
  {
   "cell_type": "code",
   "execution_count": 51,
   "id": "c8e46752",
   "metadata": {},
   "outputs": [
    {
     "data": {
      "text/plain": [
       "[Text(0, 0.5, 'sequence length')]"
      ]
     },
     "execution_count": 51,
     "metadata": {},
     "output_type": "execute_result"
    },
    {
     "data": {
      "image/png": "[encoded data removed]",
      "text/plain": [
       "<Figure size 432x432 with 1 Axes>"
      ]
     },
     "metadata": {},
     "output_type": "display_data"
    }
   ],
   "source": [
    "# Draw a combo histogram and scatterplot with density contours\n",
    "f, ax = plt.subplots(figsize=(6, 6))\n",
    "x=af2_sequence_summary.plddt\n",
    "y=af2_sequence_summary[\"sequence length\"]\n",
    "sns.scatterplot(x=x, y=y, s=5, color=\".15\")\n",
    "sns.histplot(x=x, y=y, bins=50, pthresh=.1, cmap=\"mako\")\n",
    "sns.kdeplot(x=x, y=y, levels=5, color=\"w\", linewidths=1)\n",
    "ax.set(ylabel='sequence length')"
   ]
  },
  {
   "cell_type": "code",
   "execution_count": 52,
   "id": "784afa5a",
   "metadata": {},
   "outputs": [
    {
     "name": "stdout",
     "output_type": "stream",
     "text": [
      "['n: 399']\n"
     ]
    },
    {
     "data": {
      "text/plain": [
       "Text(1, 1, \"['n: 399']\")"
      ]
     },
     "execution_count": 52,
     "metadata": {},
     "output_type": "execute_result"
    },
    {
     "data": {
      "image/png": "[encoded data removed]",
      "text/plain": [
       "<Figure size 432x432 with 3 Axes>"
      ]
     },
     "metadata": {},
     "output_type": "display_data"
    }
   ],
   "source": [
    "sns.set_theme(style=\"ticks\")\n",
    "sns.set_context(\"talk\")\n",
    "\n",
    "\n",
    "sns.jointplot(\n",
    "    data=af2_sequence_summary,  fill=True, color = \"red\", legend = False, \n",
    "    x=\"plddt\", y=\"sequence length\", hue=\"benchmarking_dataset\",\n",
    "    kind=\"kde\",\n",
    ")\n",
    "\n",
    "nobs = af2_sequence_summary['sequence'].value_counts().sum()\n",
    "nobs = [\"n: \" + str(nobs)]\n",
    "print(nobs)\n",
    "# Add it to the plot\n",
    "ax.text(1,1,nobs,horizontalalignment='center',size='small',color='red')\n"
   ]
  },
  {
   "cell_type": "code",
   "execution_count": 67,
   "id": "078823fc",
   "metadata": {},
   "outputs": [
    {
     "data": {
      "text/plain": [
       "'/home/luisasantus/Desktop/crg_cluster/data/structural_regression/'"
      ]
     },
     "execution_count": 67,
     "metadata": {},
     "output_type": "execute_result"
    }
   ],
   "source": [
    " # Overview of all sequences in Homfam and Exthomfam\n",
    "seqs_dir"
   ]
  },
  {
   "cell_type": "code",
   "execution_count": 10,
   "id": "0a45d59d",
   "metadata": {},
   "outputs": [
    {
     "ename": "NameError",
     "evalue": "name 'get_seq_lengths' is not defined",
     "output_type": "error",
     "traceback": [
      "\u001b[0;31m---------------------------------------------------------------------------\u001b[0m",
      "\u001b[0;31mNameError\u001b[0m                                 Traceback (most recent call last)",
      "\u001b[0;32m/tmp/ipykernel_204801/2882704912.py\u001b[0m in \u001b[0;36m<module>\u001b[0;34m\u001b[0m\n\u001b[1;32m      1\u001b[0m \u001b[0msummary_lengths\u001b[0m \u001b[0;34m=\u001b[0m \u001b[0mpd\u001b[0m\u001b[0;34m.\u001b[0m\u001b[0mDataFrame\u001b[0m\u001b[0;34m(\u001b[0m\u001b[0;34m)\u001b[0m\u001b[0;34m\u001b[0m\u001b[0;34m\u001b[0m\u001b[0m\n\u001b[1;32m      2\u001b[0m \u001b[0;32mfor\u001b[0m \u001b[0mfamily\u001b[0m \u001b[0;32min\u001b[0m \u001b[0mstats_af2\u001b[0m\u001b[0;34m.\u001b[0m\u001b[0mfamily\u001b[0m\u001b[0;34m:\u001b[0m\u001b[0;34m\u001b[0m\u001b[0;34m\u001b[0m\u001b[0m\n\u001b[0;32m----> 3\u001b[0;31m     \u001b[0msummary_fam\u001b[0m \u001b[0;34m=\u001b[0m \u001b[0mget_seq_lengths\u001b[0m\u001b[0;34m(\u001b[0m\u001b[0mseqs_dir\u001b[0m\u001b[0;34m,\u001b[0m \u001b[0;34m\"homfam\"\u001b[0m\u001b[0;34m,\u001b[0m \u001b[0mfamily\u001b[0m\u001b[0;34m)\u001b[0m\u001b[0;34m\u001b[0m\u001b[0;34m\u001b[0m\u001b[0m\n\u001b[0m\u001b[1;32m      4\u001b[0m     \u001b[0msummary_lengths\u001b[0m \u001b[0;34m=\u001b[0m \u001b[0mpd\u001b[0m\u001b[0;34m.\u001b[0m\u001b[0mconcat\u001b[0m\u001b[0;34m(\u001b[0m\u001b[0;34m[\u001b[0m\u001b[0msummary_lengths\u001b[0m\u001b[0;34m,\u001b[0m\u001b[0msummary_fam\u001b[0m\u001b[0;34m]\u001b[0m\u001b[0;34m,\u001b[0m \u001b[0mignore_index\u001b[0m\u001b[0;34m=\u001b[0m\u001b[0;32mTrue\u001b[0m\u001b[0;34m)\u001b[0m\u001b[0;34m\u001b[0m\u001b[0;34m\u001b[0m\u001b[0m\n",
      "\u001b[0;31mNameError\u001b[0m: name 'get_seq_lengths' is not defined"
     ]
    }
   ],
   "source": [
    "summary_lengths = pd.DataFrame()\n",
    "for family in stats_af2.family:\n",
    "    summary_fam = get_seq_lengths(seqs_dir, \"homfam\", family)\n",
    "    summary_lengths = pd.concat([summary_lengths,summary_fam], ignore_index=True)"
   ]
  }
 ],
 "metadata": {
  "kernelspec": {
   "display_name": "Python 3 (ipykernel)",
   "language": "python",
   "name": "python3"
  },
  "language_info": {
   "codemirror_mode": {
    "name": "ipython",
    "version": 3
   },
   "file_extension": ".py",
   "mimetype": "text/x-python",
   "name": "python",
   "nbconvert_exporter": "python",
   "pygments_lexer": "ipython3",
   "version": "3.8.10"
  }
 },
 "nbformat": 4,
 "nbformat_minor": 5
}
