{
 "cells": [
  {
   "cell_type": "markdown",
   "id": "ad579e4a",
   "metadata": {},
   "source": [
    "# AF2 predictions benchmark "
   ]
  },
  {
   "cell_type": "code",
   "execution_count": 223,
   "id": "bcb54977",
   "metadata": {},
   "outputs": [],
   "source": [
    "import json\n",
    "import os\n",
    "import pandas as pd\n",
    "import glob\n",
    "results_dir = \"/home/luisasantus/Desktop/crg_cluster/projects/structural_regression/results/\""
   ]
  },
  {
   "cell_type": "code",
   "execution_count": 236,
   "id": "444b300d",
   "metadata": {},
   "outputs": [],
   "source": [
    "def get_plddt(results_dir, dataset):\n",
    "    colabfold_dir = results_dir+dataset+\"/structures/colabfold_header/\"\n",
    "    plddt_summary = pd.DataFrame()\n",
    "    for fam in os.listdir(colabfold_dir):\n",
    "        fam_dir = os.path.join(colabfold_dir,fam)\n",
    "        for f in os.listdir(fam_dir):\n",
    "            if f.endswith('plddt.eval'):\n",
    "                plddts = pd.read_csv(os.path.join(fam_dir,f), sep = \"\\s+\", header = None)\n",
    "                plddts = plddts.set_axis([\"sequence\", \"plddt\"], axis=1)\n",
    "                plddts[\"name\"] = fam\n",
    "                plddts[\"benchmarking_dataset\"] = dataset\n",
    "                \n",
    "                plddt_summary = pd.concat([plddt_summary, plddts])\n",
    "    plddt_summary[[\"family\",\"tree_method\", \"bucket\"]] = plddt_summary.name.str.split(\".\", expand=True)\n",
    "    return(plddt_summary)"
   ]
  },
  {
   "cell_type": "code",
   "execution_count": 237,
   "id": "46276c51",
   "metadata": {},
   "outputs": [
    {
     "data": {
      "text/html": [
       "<div>\n",
       "<style scoped>\n",
       "    .dataframe tbody tr th:only-of-type {\n",
       "        vertical-align: middle;\n",
       "    }\n",
       "\n",
       "    .dataframe tbody tr th {\n",
       "        vertical-align: top;\n",
       "    }\n",
       "\n",
       "    .dataframe thead th {\n",
       "        text-align: right;\n",
       "    }\n",
       "</style>\n",
       "<table border=\"1\" class=\"dataframe\">\n",
       "  <thead>\n",
       "    <tr style=\"text-align: right;\">\n",
       "      <th></th>\n",
       "      <th>sequence</th>\n",
       "      <th>plddt</th>\n",
       "      <th>name</th>\n",
       "      <th>benchmarking_dataset</th>\n",
       "      <th>family</th>\n",
       "      <th>tree_method</th>\n",
       "      <th>bucket</th>\n",
       "    </tr>\n",
       "  </thead>\n",
       "  <tbody>\n",
       "    <tr>\n",
       "      <th>0</th>\n",
       "      <td>1bbi</td>\n",
       "      <td>71.7192</td>\n",
       "      <td>bowman.FAMSA-medoid.100</td>\n",
       "      <td>homfam</td>\n",
       "      <td>bowman</td>\n",
       "      <td>FAMSA-medoid</td>\n",
       "      <td>100</td>\n",
       "    </tr>\n",
       "    <tr>\n",
       "      <th>1</th>\n",
       "      <td>1pbia</td>\n",
       "      <td>74.0113</td>\n",
       "      <td>bowman.FAMSA-medoid.100</td>\n",
       "      <td>homfam</td>\n",
       "      <td>bowman</td>\n",
       "      <td>FAMSA-medoid</td>\n",
       "      <td>100</td>\n",
       "    </tr>\n",
       "  </tbody>\n",
       "</table>\n",
       "</div>"
      ],
      "text/plain": [
       "  sequence    plddt                     name benchmarking_dataset  family  \\\n",
       "0     1bbi  71.7192  bowman.FAMSA-medoid.100               homfam  bowman   \n",
       "1    1pbia  74.0113  bowman.FAMSA-medoid.100               homfam  bowman   \n",
       "\n",
       "    tree_method bucket  \n",
       "0  FAMSA-medoid    100  \n",
       "1  FAMSA-medoid    100  "
      ]
     },
     "execution_count": 237,
     "metadata": {},
     "output_type": "execute_result"
    }
   ],
   "source": [
    "# Extract plddt for each sequence in the family\n",
    "af2_homfam = get_plddt(results_dir, \"homfam\")\n",
    "af2_homfam.head(2)"
   ]
  },
  {
   "cell_type": "code",
   "execution_count": 238,
   "id": "2333a19e",
   "metadata": {},
   "outputs": [
    {
     "data": {
      "text/html": [
       "<div>\n",
       "<style scoped>\n",
       "    .dataframe tbody tr th:only-of-type {\n",
       "        vertical-align: middle;\n",
       "    }\n",
       "\n",
       "    .dataframe tbody tr th {\n",
       "        vertical-align: top;\n",
       "    }\n",
       "\n",
       "    .dataframe thead th {\n",
       "        text-align: right;\n",
       "    }\n",
       "</style>\n",
       "<table border=\"1\" class=\"dataframe\">\n",
       "  <thead>\n",
       "    <tr style=\"text-align: right;\">\n",
       "      <th></th>\n",
       "      <th>family</th>\n",
       "      <th>tree_method</th>\n",
       "      <th>benchmarking_dataset</th>\n",
       "      <th>plddt_mean</th>\n",
       "      <th>plddt_min</th>\n",
       "      <th>plddt_max</th>\n",
       "    </tr>\n",
       "  </thead>\n",
       "  <tbody>\n",
       "    <tr>\n",
       "      <th>0</th>\n",
       "      <td>bowman</td>\n",
       "      <td>FAMSA-medoid</td>\n",
       "      <td>homfam</td>\n",
       "      <td>58.037347</td>\n",
       "      <td>44.7605</td>\n",
       "      <td>74.0113</td>\n",
       "    </tr>\n",
       "    <tr>\n",
       "      <th>1</th>\n",
       "      <td>seatoxin</td>\n",
       "      <td>FAMSA-medoid</td>\n",
       "      <td>homfam</td>\n",
       "      <td>64.221655</td>\n",
       "      <td>55.1243</td>\n",
       "      <td>71.2845</td>\n",
       "    </tr>\n",
       "  </tbody>\n",
       "</table>\n",
       "</div>"
      ],
      "text/plain": [
       "     family   tree_method benchmarking_dataset  plddt_mean  plddt_min  \\\n",
       "0    bowman  FAMSA-medoid               homfam   58.037347    44.7605   \n",
       "1  seatoxin  FAMSA-medoid               homfam   64.221655    55.1243   \n",
       "\n",
       "   plddt_max  \n",
       "0    74.0113  \n",
       "1    71.2845  "
      ]
     },
     "execution_count": 238,
     "metadata": {},
     "output_type": "execute_result"
    }
   ],
   "source": [
    "# Summarize plddt family-wise\n",
    "af2_homfam_summary = af2_homfam.groupby(['family','tree_method',\"benchmarking_dataset\"]).agg({'plddt': ['mean', 'min', 'max']}).reset_index().set_axis([\"family\", \"tree_method\", \"benchmarking_dataset\", \"plddt_mean\", \"plddt_min\", \"plddt_max\"], axis=1)\n",
    "af2_homfam_summary.head(2)"
   ]
  },
  {
   "cell_type": "code",
   "execution_count": 239,
   "id": "205463f1",
   "metadata": {},
   "outputs": [
    {
     "data": {
      "text/html": [
       "<div>\n",
       "<style scoped>\n",
       "    .dataframe tbody tr th:only-of-type {\n",
       "        vertical-align: middle;\n",
       "    }\n",
       "\n",
       "    .dataframe tbody tr th {\n",
       "        vertical-align: top;\n",
       "    }\n",
       "\n",
       "    .dataframe thead th {\n",
       "        text-align: right;\n",
       "    }\n",
       "</style>\n",
       "<table border=\"1\" class=\"dataframe\">\n",
       "  <thead>\n",
       "    <tr style=\"text-align: right;\">\n",
       "      <th></th>\n",
       "      <th>family</th>\n",
       "      <th>tree_method</th>\n",
       "      <th>benchmarking_dataset</th>\n",
       "      <th>plddt_mean</th>\n",
       "      <th>plddt_min</th>\n",
       "      <th>plddt_max</th>\n",
       "      <th>subset</th>\n",
       "      <th>n_sequences</th>\n",
       "      <th>mean_length</th>\n",
       "      <th>min_length</th>\n",
       "      <th>max_length</th>\n",
       "      <th>file</th>\n",
       "      <th>size_group</th>\n",
       "      <th>perc_ref_total</th>\n",
       "    </tr>\n",
       "  </thead>\n",
       "  <tbody>\n",
       "    <tr>\n",
       "      <th>0</th>\n",
       "      <td>bowman</td>\n",
       "      <td>FAMSA-medoid</td>\n",
       "      <td>homfam</td>\n",
       "      <td>58.037347</td>\n",
       "      <td>44.7605</td>\n",
       "      <td>74.0113</td>\n",
       "      <td>combined</td>\n",
       "      <td>499</td>\n",
       "      <td>26.144289</td>\n",
       "      <td>14</td>\n",
       "      <td>71</td>\n",
       "      <td>bowman</td>\n",
       "      <td>small</td>\n",
       "      <td>1.002004</td>\n",
       "    </tr>\n",
       "    <tr>\n",
       "      <th>1</th>\n",
       "      <td>seatoxin</td>\n",
       "      <td>FAMSA-medoid</td>\n",
       "      <td>homfam</td>\n",
       "      <td>64.221655</td>\n",
       "      <td>55.1243</td>\n",
       "      <td>71.2845</td>\n",
       "      <td>combined</td>\n",
       "      <td>93</td>\n",
       "      <td>43.634409</td>\n",
       "      <td>34</td>\n",
       "      <td>50</td>\n",
       "      <td>seatoxin</td>\n",
       "      <td>small</td>\n",
       "      <td>5.376344</td>\n",
       "    </tr>\n",
       "  </tbody>\n",
       "</table>\n",
       "</div>"
      ],
      "text/plain": [
       "     family   tree_method benchmarking_dataset  plddt_mean  plddt_min  \\\n",
       "0    bowman  FAMSA-medoid               homfam   58.037347    44.7605   \n",
       "1  seatoxin  FAMSA-medoid               homfam   64.221655    55.1243   \n",
       "\n",
       "   plddt_max    subset  n_sequences  mean_length  min_length  max_length  \\\n",
       "0    74.0113  combined          499    26.144289          14          71   \n",
       "1    71.2845  combined           93    43.634409          34          50   \n",
       "\n",
       "       file size_group  perc_ref_total  \n",
       "0    bowman      small        1.002004  \n",
       "1  seatoxin      small        5.376344  "
      ]
     },
     "execution_count": 239,
     "metadata": {},
     "output_type": "execute_result"
    }
   ],
   "source": [
    "summary_homfam_exthomfam = pd.read_csv(\"/home/luisasantus/Desktop/crg_cluster/data/structural_regression/stats/01_summary_homfam_exthomfam.csv\")\n",
    "summary_homfam_exthomfam = summary_homfam_exthomfam.rename(columns={\"dataset\": \"benchmarking_dataset\"})\n",
    "summary_homfam_exthomfam.head(2)\n",
    "stats_af2 = pd.merge(af2_homfam_summary, summary_homfam_exthomfam, on =[\"family\",\"benchmarking_dataset\"])\n",
    "stats_af2"
   ]
  },
  {
   "cell_type": "markdown",
   "id": "c7885784",
   "metadata": {},
   "source": [
    "## Store files "
   ]
  },
  {
   "cell_type": "code",
   "execution_count": 229,
   "id": "22b0d5e4",
   "metadata": {},
   "outputs": [],
   "source": [
    "af2_homfam.to_csv(os.path.join(\"/home/luisasantus/Desktop/crg_cluster/data/structural_regression/stats/\", \"02_summary_af2.csv\"), index = False)\n",
    "af2_homfam_summary.to_csv(os.path.join(\"/home/luisasantus/Desktop/crg_cluster/data/structural_regression/stats/\", \"03_summary_af2_grouped.csv\"), index = False)"
   ]
  },
  {
   "cell_type": "markdown",
   "id": "f114c91a",
   "metadata": {},
   "source": [
    "# Visualize "
   ]
  },
  {
   "cell_type": "markdown",
   "id": "8d1f2199",
   "metadata": {},
   "source": [
    "### How well does AF2 perform on the sequences in the families in the different datasets"
   ]
  },
  {
   "cell_type": "code",
   "execution_count": 230,
   "id": "32d48a89",
   "metadata": {},
   "outputs": [
    {
     "data": {
      "text/plain": [
       "<seaborn.axisgrid.FacetGrid at 0x7f8f23b4ec10>"
      ]
     },
     "execution_count": 230,
     "metadata": {},
     "output_type": "execute_result"
    },
    {
     "data": {
      "image/png": "[encoded data removed]",
      "text/plain": [
       "<Figure size 580.075x360 with 1 Axes>"
      ]
     },
     "metadata": {},
     "output_type": "display_data"
    }
   ],
   "source": [
    "# Plot AF2 plddts summaries across families \n",
    "af2_homfam_summary\n",
    "sns.set_theme(style=\"white\")\n",
    "sns.set_context(\"talk\")\n",
    "ax = sns.displot(af2_homfam_summary, x=\"plddt_mean\", hue = \"benchmarking_dataset\", kind=\"kde\")\n",
    "ax.set(xlabel='plddt (mean)')"
   ]
  },
  {
   "cell_type": "code",
   "execution_count": 195,
   "id": "4a0dec59",
   "metadata": {},
   "outputs": [
    {
     "data": {
      "text/html": [
       "<div>\n",
       "<style scoped>\n",
       "    .dataframe tbody tr th:only-of-type {\n",
       "        vertical-align: middle;\n",
       "    }\n",
       "\n",
       "    .dataframe tbody tr th {\n",
       "        vertical-align: top;\n",
       "    }\n",
       "\n",
       "    .dataframe thead th {\n",
       "        text-align: right;\n",
       "    }\n",
       "</style>\n",
       "<table border=\"1\" class=\"dataframe\">\n",
       "  <thead>\n",
       "    <tr style=\"text-align: right;\">\n",
       "      <th></th>\n",
       "      <th>family</th>\n",
       "      <th>tree_method</th>\n",
       "      <th>benchmarking_dataset</th>\n",
       "      <th>plddt_mean</th>\n",
       "      <th>plddt_min</th>\n",
       "      <th>plddt_max</th>\n",
       "      <th>subset</th>\n",
       "      <th>n_sequences</th>\n",
       "      <th>mean_length</th>\n",
       "      <th>min_length</th>\n",
       "      <th>max_length</th>\n",
       "      <th>file</th>\n",
       "      <th>size_group</th>\n",
       "      <th>perc_ref_total</th>\n",
       "    </tr>\n",
       "  </thead>\n",
       "  <tbody>\n",
       "    <tr>\n",
       "      <th>0</th>\n",
       "      <td>bowman</td>\n",
       "      <td>FAMSA-medoid</td>\n",
       "      <td>homfam</td>\n",
       "      <td>58.037347</td>\n",
       "      <td>44.7605</td>\n",
       "      <td>74.0113</td>\n",
       "      <td>combined</td>\n",
       "      <td>499</td>\n",
       "      <td>26.144289</td>\n",
       "      <td>14</td>\n",
       "      <td>71</td>\n",
       "      <td>bowman</td>\n",
       "      <td>small</td>\n",
       "      <td>1.002004</td>\n",
       "    </tr>\n",
       "    <tr>\n",
       "      <th>1</th>\n",
       "      <td>seatoxin</td>\n",
       "      <td>FAMSA-medoid</td>\n",
       "      <td>homfam</td>\n",
       "      <td>64.221655</td>\n",
       "      <td>55.1243</td>\n",
       "      <td>71.2845</td>\n",
       "      <td>combined</td>\n",
       "      <td>93</td>\n",
       "      <td>43.634409</td>\n",
       "      <td>34</td>\n",
       "      <td>50</td>\n",
       "      <td>seatoxin</td>\n",
       "      <td>small</td>\n",
       "      <td>5.376344</td>\n",
       "    </tr>\n",
       "  </tbody>\n",
       "</table>\n",
       "</div>"
      ],
      "text/plain": [
       "     family   tree_method benchmarking_dataset  plddt_mean  plddt_min  \\\n",
       "0    bowman  FAMSA-medoid               homfam   58.037347    44.7605   \n",
       "1  seatoxin  FAMSA-medoid               homfam   64.221655    55.1243   \n",
       "\n",
       "   plddt_max    subset  n_sequences  mean_length  min_length  max_length  \\\n",
       "0    74.0113  combined          499    26.144289          14          71   \n",
       "1    71.2845  combined           93    43.634409          34          50   \n",
       "\n",
       "       file size_group  perc_ref_total  \n",
       "0    bowman      small        1.002004  \n",
       "1  seatoxin      small        5.376344  "
      ]
     },
     "execution_count": 195,
     "metadata": {},
     "output_type": "execute_result"
    }
   ],
   "source": [
    "stats_af2"
   ]
  },
  {
   "cell_type": "code",
   "execution_count": 269,
   "id": "2255254a",
   "metadata": {},
   "outputs": [
    {
     "ename": "LinAlgError",
     "evalue": "2-th leading minor of the array is not positive definite",
     "output_type": "error",
     "traceback": [
      "\u001b[0;31m---------------------------------------------------------------------------\u001b[0m",
      "\u001b[0;31mLinAlgError\u001b[0m                               Traceback (most recent call last)",
      "\u001b[0;32m/tmp/ipykernel_768722/3175802983.py\u001b[0m in \u001b[0;36m<module>\u001b[0;34m\u001b[0m\n\u001b[1;32m      5\u001b[0m \u001b[0msns\u001b[0m\u001b[0;34m.\u001b[0m\u001b[0mscatterplot\u001b[0m\u001b[0;34m(\u001b[0m\u001b[0mx\u001b[0m\u001b[0;34m=\u001b[0m\u001b[0mx\u001b[0m\u001b[0;34m,\u001b[0m \u001b[0my\u001b[0m\u001b[0;34m=\u001b[0m\u001b[0my\u001b[0m\u001b[0;34m,\u001b[0m \u001b[0ms\u001b[0m\u001b[0;34m=\u001b[0m\u001b[0;36m5\u001b[0m\u001b[0;34m,\u001b[0m \u001b[0mcolor\u001b[0m\u001b[0;34m=\u001b[0m\u001b[0;34m\".15\"\u001b[0m\u001b[0;34m)\u001b[0m\u001b[0;34m\u001b[0m\u001b[0;34m\u001b[0m\u001b[0m\n\u001b[1;32m      6\u001b[0m \u001b[0msns\u001b[0m\u001b[0;34m.\u001b[0m\u001b[0mhistplot\u001b[0m\u001b[0;34m(\u001b[0m\u001b[0mx\u001b[0m\u001b[0;34m=\u001b[0m\u001b[0mx\u001b[0m\u001b[0;34m,\u001b[0m \u001b[0my\u001b[0m\u001b[0;34m=\u001b[0m\u001b[0my\u001b[0m\u001b[0;34m,\u001b[0m \u001b[0mbins\u001b[0m\u001b[0;34m=\u001b[0m\u001b[0;36m50\u001b[0m\u001b[0;34m,\u001b[0m \u001b[0mpthresh\u001b[0m\u001b[0;34m=\u001b[0m\u001b[0;36m.1\u001b[0m\u001b[0;34m,\u001b[0m \u001b[0mcmap\u001b[0m\u001b[0;34m=\u001b[0m\u001b[0;34m\"mako\"\u001b[0m\u001b[0;34m)\u001b[0m\u001b[0;34m\u001b[0m\u001b[0;34m\u001b[0m\u001b[0m\n\u001b[0;32m----> 7\u001b[0;31m \u001b[0msns\u001b[0m\u001b[0;34m.\u001b[0m\u001b[0mkdeplot\u001b[0m\u001b[0;34m(\u001b[0m\u001b[0mx\u001b[0m\u001b[0;34m=\u001b[0m\u001b[0mx\u001b[0m\u001b[0;34m,\u001b[0m \u001b[0my\u001b[0m\u001b[0;34m=\u001b[0m\u001b[0my\u001b[0m\u001b[0;34m,\u001b[0m \u001b[0mlevels\u001b[0m\u001b[0;34m=\u001b[0m\u001b[0;36m5\u001b[0m\u001b[0;34m,\u001b[0m \u001b[0mcolor\u001b[0m\u001b[0;34m=\u001b[0m\u001b[0;34m\"w\"\u001b[0m\u001b[0;34m,\u001b[0m \u001b[0mlinewidths\u001b[0m\u001b[0;34m=\u001b[0m\u001b[0;36m1\u001b[0m\u001b[0;34m)\u001b[0m\u001b[0;34m\u001b[0m\u001b[0;34m\u001b[0m\u001b[0m\n\u001b[0m",
      "\u001b[0;32m~/.local/lib/python3.8/site-packages/seaborn/_decorators.py\u001b[0m in \u001b[0;36minner_f\u001b[0;34m(*args, **kwargs)\u001b[0m\n\u001b[1;32m     44\u001b[0m             )\n\u001b[1;32m     45\u001b[0m         \u001b[0mkwargs\u001b[0m\u001b[0;34m.\u001b[0m\u001b[0mupdate\u001b[0m\u001b[0;34m(\u001b[0m\u001b[0;34m{\u001b[0m\u001b[0mk\u001b[0m\u001b[0;34m:\u001b[0m \u001b[0marg\u001b[0m \u001b[0;32mfor\u001b[0m \u001b[0mk\u001b[0m\u001b[0;34m,\u001b[0m \u001b[0marg\u001b[0m \u001b[0;32min\u001b[0m \u001b[0mzip\u001b[0m\u001b[0;34m(\u001b[0m\u001b[0msig\u001b[0m\u001b[0;34m.\u001b[0m\u001b[0mparameters\u001b[0m\u001b[0;34m,\u001b[0m \u001b[0margs\u001b[0m\u001b[0;34m)\u001b[0m\u001b[0;34m}\u001b[0m\u001b[0;34m)\u001b[0m\u001b[0;34m\u001b[0m\u001b[0;34m\u001b[0m\u001b[0m\n\u001b[0;32m---> 46\u001b[0;31m         \u001b[0;32mreturn\u001b[0m \u001b[0mf\u001b[0m\u001b[0;34m(\u001b[0m\u001b[0;34m**\u001b[0m\u001b[0mkwargs\u001b[0m\u001b[0;34m)\u001b[0m\u001b[0;34m\u001b[0m\u001b[0;34m\u001b[0m\u001b[0m\n\u001b[0m\u001b[1;32m     47\u001b[0m     \u001b[0;32mreturn\u001b[0m \u001b[0minner_f\u001b[0m\u001b[0;34m\u001b[0m\u001b[0;34m\u001b[0m\u001b[0m\n\u001b[1;32m     48\u001b[0m \u001b[0;34m\u001b[0m\u001b[0m\n",
      "\u001b[0;32m~/.local/lib/python3.8/site-packages/seaborn/distributions.py\u001b[0m in \u001b[0;36mkdeplot\u001b[0;34m(x, y, shade, vertical, kernel, bw, gridsize, cut, clip, legend, cumulative, shade_lowest, cbar, cbar_ax, cbar_kws, ax, weights, hue, palette, hue_order, hue_norm, multiple, common_norm, common_grid, levels, thresh, bw_method, bw_adjust, log_scale, color, fill, data, data2, warn_singular, **kwargs)\u001b[0m\n\u001b[1;32m   1781\u001b[0m     \u001b[0;32melse\u001b[0m\u001b[0;34m:\u001b[0m\u001b[0;34m\u001b[0m\u001b[0;34m\u001b[0m\u001b[0m\n\u001b[1;32m   1782\u001b[0m \u001b[0;34m\u001b[0m\u001b[0m\n\u001b[0;32m-> 1783\u001b[0;31m         p.plot_bivariate_density(\n\u001b[0m\u001b[1;32m   1784\u001b[0m             \u001b[0mcommon_norm\u001b[0m\u001b[0;34m=\u001b[0m\u001b[0mcommon_norm\u001b[0m\u001b[0;34m,\u001b[0m\u001b[0;34m\u001b[0m\u001b[0;34m\u001b[0m\u001b[0m\n\u001b[1;32m   1785\u001b[0m             \u001b[0mfill\u001b[0m\u001b[0;34m=\u001b[0m\u001b[0mfill\u001b[0m\u001b[0;34m,\u001b[0m\u001b[0;34m\u001b[0m\u001b[0;34m\u001b[0m\u001b[0m\n",
      "\u001b[0;32m~/.local/lib/python3.8/site-packages/seaborn/distributions.py\u001b[0m in \u001b[0;36mplot_bivariate_density\u001b[0;34m(self, common_norm, fill, levels, thresh, color, legend, cbar, warn_singular, cbar_ax, cbar_kws, estimate_kws, **contour_kws)\u001b[0m\n\u001b[1;32m   1109\u001b[0m             \u001b[0;31m# Estimate the density of observations at this level\u001b[0m\u001b[0;34m\u001b[0m\u001b[0;34m\u001b[0m\u001b[0;34m\u001b[0m\u001b[0m\n\u001b[1;32m   1110\u001b[0m             \u001b[0mobservations\u001b[0m \u001b[0;34m=\u001b[0m \u001b[0mobservations\u001b[0m\u001b[0;34m[\u001b[0m\u001b[0;34m\"x\"\u001b[0m\u001b[0;34m]\u001b[0m\u001b[0;34m,\u001b[0m \u001b[0mobservations\u001b[0m\u001b[0;34m[\u001b[0m\u001b[0;34m\"y\"\u001b[0m\u001b[0;34m]\u001b[0m\u001b[0;34m\u001b[0m\u001b[0;34m\u001b[0m\u001b[0m\n\u001b[0;32m-> 1111\u001b[0;31m             \u001b[0mdensity\u001b[0m\u001b[0;34m,\u001b[0m \u001b[0msupport\u001b[0m \u001b[0;34m=\u001b[0m \u001b[0mestimator\u001b[0m\u001b[0;34m(\u001b[0m\u001b[0;34m*\u001b[0m\u001b[0mobservations\u001b[0m\u001b[0;34m,\u001b[0m \u001b[0mweights\u001b[0m\u001b[0;34m=\u001b[0m\u001b[0mweights\u001b[0m\u001b[0;34m)\u001b[0m\u001b[0;34m\u001b[0m\u001b[0;34m\u001b[0m\u001b[0m\n\u001b[0m\u001b[1;32m   1112\u001b[0m \u001b[0;34m\u001b[0m\u001b[0m\n\u001b[1;32m   1113\u001b[0m             \u001b[0;31m# Transform the support grid back to the original scale\u001b[0m\u001b[0;34m\u001b[0m\u001b[0;34m\u001b[0m\u001b[0;34m\u001b[0m\u001b[0m\n",
      "\u001b[0;32m~/.local/lib/python3.8/site-packages/seaborn/_statistics.py\u001b[0m in \u001b[0;36m__call__\u001b[0;34m(self, x1, x2, weights)\u001b[0m\n\u001b[1;32m    187\u001b[0m             \u001b[0;32mreturn\u001b[0m \u001b[0mself\u001b[0m\u001b[0;34m.\u001b[0m\u001b[0m_eval_univariate\u001b[0m\u001b[0;34m(\u001b[0m\u001b[0mx1\u001b[0m\u001b[0;34m,\u001b[0m \u001b[0mweights\u001b[0m\u001b[0;34m)\u001b[0m\u001b[0;34m\u001b[0m\u001b[0;34m\u001b[0m\u001b[0m\n\u001b[1;32m    188\u001b[0m         \u001b[0;32melse\u001b[0m\u001b[0;34m:\u001b[0m\u001b[0;34m\u001b[0m\u001b[0;34m\u001b[0m\u001b[0m\n\u001b[0;32m--> 189\u001b[0;31m             \u001b[0;32mreturn\u001b[0m \u001b[0mself\u001b[0m\u001b[0;34m.\u001b[0m\u001b[0m_eval_bivariate\u001b[0m\u001b[0;34m(\u001b[0m\u001b[0mx1\u001b[0m\u001b[0;34m,\u001b[0m \u001b[0mx2\u001b[0m\u001b[0;34m,\u001b[0m \u001b[0mweights\u001b[0m\u001b[0;34m)\u001b[0m\u001b[0;34m\u001b[0m\u001b[0;34m\u001b[0m\u001b[0m\n\u001b[0m\u001b[1;32m    190\u001b[0m \u001b[0;34m\u001b[0m\u001b[0m\n\u001b[1;32m    191\u001b[0m \u001b[0;34m\u001b[0m\u001b[0m\n",
      "\u001b[0;32m~/.local/lib/python3.8/site-packages/seaborn/_statistics.py\u001b[0m in \u001b[0;36m_eval_bivariate\u001b[0;34m(self, x1, x2, weights)\u001b[0m\n\u001b[1;32m    162\u001b[0m         \u001b[0msupport\u001b[0m \u001b[0;34m=\u001b[0m \u001b[0mself\u001b[0m\u001b[0;34m.\u001b[0m\u001b[0msupport\u001b[0m\u001b[0;34m\u001b[0m\u001b[0;34m\u001b[0m\u001b[0m\n\u001b[1;32m    163\u001b[0m         \u001b[0;32mif\u001b[0m \u001b[0msupport\u001b[0m \u001b[0;32mis\u001b[0m \u001b[0;32mNone\u001b[0m\u001b[0;34m:\u001b[0m\u001b[0;34m\u001b[0m\u001b[0;34m\u001b[0m\u001b[0m\n\u001b[0;32m--> 164\u001b[0;31m             \u001b[0msupport\u001b[0m \u001b[0;34m=\u001b[0m \u001b[0mself\u001b[0m\u001b[0;34m.\u001b[0m\u001b[0mdefine_support\u001b[0m\u001b[0;34m(\u001b[0m\u001b[0mx1\u001b[0m\u001b[0;34m,\u001b[0m \u001b[0mx2\u001b[0m\u001b[0;34m,\u001b[0m \u001b[0mcache\u001b[0m\u001b[0;34m=\u001b[0m\u001b[0;32mFalse\u001b[0m\u001b[0;34m)\u001b[0m\u001b[0;34m\u001b[0m\u001b[0;34m\u001b[0m\u001b[0m\n\u001b[0m\u001b[1;32m    165\u001b[0m \u001b[0;34m\u001b[0m\u001b[0m\n\u001b[1;32m    166\u001b[0m         \u001b[0mkde\u001b[0m \u001b[0;34m=\u001b[0m \u001b[0mself\u001b[0m\u001b[0;34m.\u001b[0m\u001b[0m_fit\u001b[0m\u001b[0;34m(\u001b[0m\u001b[0;34m[\u001b[0m\u001b[0mx1\u001b[0m\u001b[0;34m,\u001b[0m \u001b[0mx2\u001b[0m\u001b[0;34m]\u001b[0m\u001b[0;34m,\u001b[0m \u001b[0mweights\u001b[0m\u001b[0;34m)\u001b[0m\u001b[0;34m\u001b[0m\u001b[0;34m\u001b[0m\u001b[0m\n",
      "\u001b[0;32m~/.local/lib/python3.8/site-packages/seaborn/_statistics.py\u001b[0m in \u001b[0;36mdefine_support\u001b[0;34m(self, x1, x2, weights, cache)\u001b[0m\n\u001b[1;32m    119\u001b[0m             \u001b[0msupport\u001b[0m \u001b[0;34m=\u001b[0m \u001b[0mself\u001b[0m\u001b[0;34m.\u001b[0m\u001b[0m_define_support_univariate\u001b[0m\u001b[0;34m(\u001b[0m\u001b[0mx1\u001b[0m\u001b[0;34m,\u001b[0m \u001b[0mweights\u001b[0m\u001b[0;34m)\u001b[0m\u001b[0;34m\u001b[0m\u001b[0;34m\u001b[0m\u001b[0m\n\u001b[1;32m    120\u001b[0m         \u001b[0;32melse\u001b[0m\u001b[0;34m:\u001b[0m\u001b[0;34m\u001b[0m\u001b[0;34m\u001b[0m\u001b[0m\n\u001b[0;32m--> 121\u001b[0;31m             \u001b[0msupport\u001b[0m \u001b[0;34m=\u001b[0m \u001b[0mself\u001b[0m\u001b[0;34m.\u001b[0m\u001b[0m_define_support_bivariate\u001b[0m\u001b[0;34m(\u001b[0m\u001b[0mx1\u001b[0m\u001b[0;34m,\u001b[0m \u001b[0mx2\u001b[0m\u001b[0;34m,\u001b[0m \u001b[0mweights\u001b[0m\u001b[0;34m)\u001b[0m\u001b[0;34m\u001b[0m\u001b[0;34m\u001b[0m\u001b[0m\n\u001b[0m\u001b[1;32m    122\u001b[0m \u001b[0;34m\u001b[0m\u001b[0m\n\u001b[1;32m    123\u001b[0m         \u001b[0;32mif\u001b[0m \u001b[0mcache\u001b[0m\u001b[0;34m:\u001b[0m\u001b[0;34m\u001b[0m\u001b[0;34m\u001b[0m\u001b[0m\n",
      "\u001b[0;32m~/.local/lib/python3.8/site-packages/seaborn/_statistics.py\u001b[0m in \u001b[0;36m_define_support_bivariate\u001b[0;34m(self, x1, x2, weights)\u001b[0m\n\u001b[1;32m    102\u001b[0m             \u001b[0mclip\u001b[0m \u001b[0;34m=\u001b[0m \u001b[0;34m(\u001b[0m\u001b[0mclip\u001b[0m\u001b[0;34m,\u001b[0m \u001b[0mclip\u001b[0m\u001b[0;34m)\u001b[0m\u001b[0;34m\u001b[0m\u001b[0;34m\u001b[0m\u001b[0m\n\u001b[1;32m    103\u001b[0m \u001b[0;34m\u001b[0m\u001b[0m\n\u001b[0;32m--> 104\u001b[0;31m         \u001b[0mkde\u001b[0m \u001b[0;34m=\u001b[0m \u001b[0mself\u001b[0m\u001b[0;34m.\u001b[0m\u001b[0m_fit\u001b[0m\u001b[0;34m(\u001b[0m\u001b[0;34m[\u001b[0m\u001b[0mx1\u001b[0m\u001b[0;34m,\u001b[0m \u001b[0mx2\u001b[0m\u001b[0;34m]\u001b[0m\u001b[0;34m,\u001b[0m \u001b[0mweights\u001b[0m\u001b[0;34m)\u001b[0m\u001b[0;34m\u001b[0m\u001b[0;34m\u001b[0m\u001b[0m\n\u001b[0m\u001b[1;32m    105\u001b[0m         \u001b[0mbw\u001b[0m \u001b[0;34m=\u001b[0m \u001b[0mnp\u001b[0m\u001b[0;34m.\u001b[0m\u001b[0msqrt\u001b[0m\u001b[0;34m(\u001b[0m\u001b[0mnp\u001b[0m\u001b[0;34m.\u001b[0m\u001b[0mdiag\u001b[0m\u001b[0;34m(\u001b[0m\u001b[0mkde\u001b[0m\u001b[0;34m.\u001b[0m\u001b[0mcovariance\u001b[0m\u001b[0;34m)\u001b[0m\u001b[0;34m.\u001b[0m\u001b[0msqueeze\u001b[0m\u001b[0;34m(\u001b[0m\u001b[0;34m)\u001b[0m\u001b[0;34m)\u001b[0m\u001b[0;34m\u001b[0m\u001b[0;34m\u001b[0m\u001b[0m\n\u001b[1;32m    106\u001b[0m \u001b[0;34m\u001b[0m\u001b[0m\n",
      "\u001b[0;32m~/.local/lib/python3.8/site-packages/seaborn/_statistics.py\u001b[0m in \u001b[0;36m_fit\u001b[0;34m(self, fit_data, weights)\u001b[0m\n\u001b[1;32m    135\u001b[0m             \u001b[0mfit_kws\u001b[0m\u001b[0;34m[\u001b[0m\u001b[0;34m\"weights\"\u001b[0m\u001b[0;34m]\u001b[0m \u001b[0;34m=\u001b[0m \u001b[0mweights\u001b[0m\u001b[0;34m\u001b[0m\u001b[0;34m\u001b[0m\u001b[0m\n\u001b[1;32m    136\u001b[0m \u001b[0;34m\u001b[0m\u001b[0m\n\u001b[0;32m--> 137\u001b[0;31m         \u001b[0mkde\u001b[0m \u001b[0;34m=\u001b[0m \u001b[0mstats\u001b[0m\u001b[0;34m.\u001b[0m\u001b[0mgaussian_kde\u001b[0m\u001b[0;34m(\u001b[0m\u001b[0mfit_data\u001b[0m\u001b[0;34m,\u001b[0m \u001b[0;34m**\u001b[0m\u001b[0mfit_kws\u001b[0m\u001b[0;34m)\u001b[0m\u001b[0;34m\u001b[0m\u001b[0;34m\u001b[0m\u001b[0m\n\u001b[0m\u001b[1;32m    138\u001b[0m         \u001b[0mkde\u001b[0m\u001b[0;34m.\u001b[0m\u001b[0mset_bandwidth\u001b[0m\u001b[0;34m(\u001b[0m\u001b[0mkde\u001b[0m\u001b[0;34m.\u001b[0m\u001b[0mfactor\u001b[0m \u001b[0;34m*\u001b[0m \u001b[0mself\u001b[0m\u001b[0;34m.\u001b[0m\u001b[0mbw_adjust\u001b[0m\u001b[0;34m)\u001b[0m\u001b[0;34m\u001b[0m\u001b[0;34m\u001b[0m\u001b[0m\n\u001b[1;32m    139\u001b[0m \u001b[0;34m\u001b[0m\u001b[0m\n",
      "\u001b[0;32m~/.local/lib/python3.8/site-packages/scipy/stats/kde.py\u001b[0m in \u001b[0;36m__init__\u001b[0;34m(self, dataset, bw_method, weights)\u001b[0m\n\u001b[1;32m    204\u001b[0m             \u001b[0mself\u001b[0m\u001b[0;34m.\u001b[0m\u001b[0m_neff\u001b[0m \u001b[0;34m=\u001b[0m \u001b[0;36m1\u001b[0m\u001b[0;34m/\u001b[0m\u001b[0msum\u001b[0m\u001b[0;34m(\u001b[0m\u001b[0mself\u001b[0m\u001b[0;34m.\u001b[0m\u001b[0m_weights\u001b[0m\u001b[0;34m**\u001b[0m\u001b[0;36m2\u001b[0m\u001b[0;34m)\u001b[0m\u001b[0;34m\u001b[0m\u001b[0;34m\u001b[0m\u001b[0m\n\u001b[1;32m    205\u001b[0m \u001b[0;34m\u001b[0m\u001b[0m\n\u001b[0;32m--> 206\u001b[0;31m         \u001b[0mself\u001b[0m\u001b[0;34m.\u001b[0m\u001b[0mset_bandwidth\u001b[0m\u001b[0;34m(\u001b[0m\u001b[0mbw_method\u001b[0m\u001b[0;34m=\u001b[0m\u001b[0mbw_method\u001b[0m\u001b[0;34m)\u001b[0m\u001b[0;34m\u001b[0m\u001b[0;34m\u001b[0m\u001b[0m\n\u001b[0m\u001b[1;32m    207\u001b[0m \u001b[0;34m\u001b[0m\u001b[0m\n\u001b[1;32m    208\u001b[0m     \u001b[0;32mdef\u001b[0m \u001b[0mevaluate\u001b[0m\u001b[0;34m(\u001b[0m\u001b[0mself\u001b[0m\u001b[0;34m,\u001b[0m \u001b[0mpoints\u001b[0m\u001b[0;34m)\u001b[0m\u001b[0;34m:\u001b[0m\u001b[0;34m\u001b[0m\u001b[0;34m\u001b[0m\u001b[0m\n",
      "\u001b[0;32m~/.local/lib/python3.8/site-packages/scipy/stats/kde.py\u001b[0m in \u001b[0;36mset_bandwidth\u001b[0;34m(self, bw_method)\u001b[0m\n\u001b[1;32m    552\u001b[0m             \u001b[0;32mraise\u001b[0m \u001b[0mValueError\u001b[0m\u001b[0;34m(\u001b[0m\u001b[0mmsg\u001b[0m\u001b[0;34m)\u001b[0m\u001b[0;34m\u001b[0m\u001b[0;34m\u001b[0m\u001b[0m\n\u001b[1;32m    553\u001b[0m \u001b[0;34m\u001b[0m\u001b[0m\n\u001b[0;32m--> 554\u001b[0;31m         \u001b[0mself\u001b[0m\u001b[0;34m.\u001b[0m\u001b[0m_compute_covariance\u001b[0m\u001b[0;34m(\u001b[0m\u001b[0;34m)\u001b[0m\u001b[0;34m\u001b[0m\u001b[0;34m\u001b[0m\u001b[0m\n\u001b[0m\u001b[1;32m    555\u001b[0m \u001b[0;34m\u001b[0m\u001b[0m\n\u001b[1;32m    556\u001b[0m     \u001b[0;32mdef\u001b[0m \u001b[0m_compute_covariance\u001b[0m\u001b[0;34m(\u001b[0m\u001b[0mself\u001b[0m\u001b[0;34m)\u001b[0m\u001b[0;34m:\u001b[0m\u001b[0;34m\u001b[0m\u001b[0;34m\u001b[0m\u001b[0m\n",
      "\u001b[0;32m~/.local/lib/python3.8/site-packages/scipy/stats/kde.py\u001b[0m in \u001b[0;36m_compute_covariance\u001b[0;34m(self)\u001b[0m\n\u001b[1;32m    568\u001b[0m         \u001b[0mself\u001b[0m\u001b[0;34m.\u001b[0m\u001b[0mcovariance\u001b[0m \u001b[0;34m=\u001b[0m \u001b[0mself\u001b[0m\u001b[0;34m.\u001b[0m\u001b[0m_data_covariance\u001b[0m \u001b[0;34m*\u001b[0m \u001b[0mself\u001b[0m\u001b[0;34m.\u001b[0m\u001b[0mfactor\u001b[0m\u001b[0;34m**\u001b[0m\u001b[0;36m2\u001b[0m\u001b[0;34m\u001b[0m\u001b[0;34m\u001b[0m\u001b[0m\n\u001b[1;32m    569\u001b[0m         \u001b[0mself\u001b[0m\u001b[0;34m.\u001b[0m\u001b[0minv_cov\u001b[0m \u001b[0;34m=\u001b[0m \u001b[0mself\u001b[0m\u001b[0;34m.\u001b[0m\u001b[0m_data_inv_cov\u001b[0m \u001b[0;34m/\u001b[0m \u001b[0mself\u001b[0m\u001b[0;34m.\u001b[0m\u001b[0mfactor\u001b[0m\u001b[0;34m**\u001b[0m\u001b[0;36m2\u001b[0m\u001b[0;34m\u001b[0m\u001b[0;34m\u001b[0m\u001b[0m\n\u001b[0;32m--> 570\u001b[0;31m         \u001b[0mL\u001b[0m \u001b[0;34m=\u001b[0m \u001b[0mlinalg\u001b[0m\u001b[0;34m.\u001b[0m\u001b[0mcholesky\u001b[0m\u001b[0;34m(\u001b[0m\u001b[0mself\u001b[0m\u001b[0;34m.\u001b[0m\u001b[0mcovariance\u001b[0m\u001b[0;34m*\u001b[0m\u001b[0;36m2\u001b[0m\u001b[0;34m*\u001b[0m\u001b[0mpi\u001b[0m\u001b[0;34m)\u001b[0m\u001b[0;34m\u001b[0m\u001b[0;34m\u001b[0m\u001b[0m\n\u001b[0m\u001b[1;32m    571\u001b[0m         \u001b[0mself\u001b[0m\u001b[0;34m.\u001b[0m\u001b[0mlog_det\u001b[0m \u001b[0;34m=\u001b[0m \u001b[0;36m2\u001b[0m\u001b[0;34m*\u001b[0m\u001b[0mnp\u001b[0m\u001b[0;34m.\u001b[0m\u001b[0mlog\u001b[0m\u001b[0;34m(\u001b[0m\u001b[0mnp\u001b[0m\u001b[0;34m.\u001b[0m\u001b[0mdiag\u001b[0m\u001b[0;34m(\u001b[0m\u001b[0mL\u001b[0m\u001b[0;34m)\u001b[0m\u001b[0;34m)\u001b[0m\u001b[0;34m.\u001b[0m\u001b[0msum\u001b[0m\u001b[0;34m(\u001b[0m\u001b[0;34m)\u001b[0m\u001b[0;34m\u001b[0m\u001b[0;34m\u001b[0m\u001b[0m\n\u001b[1;32m    572\u001b[0m \u001b[0;34m\u001b[0m\u001b[0m\n",
      "\u001b[0;32m~/.local/lib/python3.8/site-packages/scipy/linalg/decomp_cholesky.py\u001b[0m in \u001b[0;36mcholesky\u001b[0;34m(a, lower, overwrite_a, check_finite)\u001b[0m\n\u001b[1;32m     86\u001b[0m \u001b[0;34m\u001b[0m\u001b[0m\n\u001b[1;32m     87\u001b[0m     \"\"\"\n\u001b[0;32m---> 88\u001b[0;31m     c, lower = _cholesky(a, lower=lower, overwrite_a=overwrite_a, clean=True,\n\u001b[0m\u001b[1;32m     89\u001b[0m                          check_finite=check_finite)\n\u001b[1;32m     90\u001b[0m     \u001b[0;32mreturn\u001b[0m \u001b[0mc\u001b[0m\u001b[0;34m\u001b[0m\u001b[0;34m\u001b[0m\u001b[0m\n",
      "\u001b[0;32m~/.local/lib/python3.8/site-packages/scipy/linalg/decomp_cholesky.py\u001b[0m in \u001b[0;36m_cholesky\u001b[0;34m(a, lower, overwrite_a, clean, check_finite)\u001b[0m\n\u001b[1;32m     35\u001b[0m     \u001b[0mc\u001b[0m\u001b[0;34m,\u001b[0m \u001b[0minfo\u001b[0m \u001b[0;34m=\u001b[0m \u001b[0mpotrf\u001b[0m\u001b[0;34m(\u001b[0m\u001b[0ma1\u001b[0m\u001b[0;34m,\u001b[0m \u001b[0mlower\u001b[0m\u001b[0;34m=\u001b[0m\u001b[0mlower\u001b[0m\u001b[0;34m,\u001b[0m \u001b[0moverwrite_a\u001b[0m\u001b[0;34m=\u001b[0m\u001b[0moverwrite_a\u001b[0m\u001b[0;34m,\u001b[0m \u001b[0mclean\u001b[0m\u001b[0;34m=\u001b[0m\u001b[0mclean\u001b[0m\u001b[0;34m)\u001b[0m\u001b[0;34m\u001b[0m\u001b[0;34m\u001b[0m\u001b[0m\n\u001b[1;32m     36\u001b[0m     \u001b[0;32mif\u001b[0m \u001b[0minfo\u001b[0m \u001b[0;34m>\u001b[0m \u001b[0;36m0\u001b[0m\u001b[0;34m:\u001b[0m\u001b[0;34m\u001b[0m\u001b[0;34m\u001b[0m\u001b[0m\n\u001b[0;32m---> 37\u001b[0;31m         raise LinAlgError(\"%d-th leading minor of the array is not positive \"\n\u001b[0m\u001b[1;32m     38\u001b[0m                           \"definite\" % info)\n\u001b[1;32m     39\u001b[0m     \u001b[0;32mif\u001b[0m \u001b[0minfo\u001b[0m \u001b[0;34m<\u001b[0m \u001b[0;36m0\u001b[0m\u001b[0;34m:\u001b[0m\u001b[0;34m\u001b[0m\u001b[0;34m\u001b[0m\u001b[0m\n",
      "\u001b[0;31mLinAlgError\u001b[0m: 2-th leading minor of the array is not positive definite"
     ]
    },
    {
     "data": {
      "image/png": "[encoded data removed]",
      "text/plain": [
       "<Figure size 432x432 with 1 Axes>"
      ]
     },
     "metadata": {},
     "output_type": "display_data"
    }
   ],
   "source": []
  },
  {
   "cell_type": "code",
   "execution_count": 302,
   "id": "498a53e2",
   "metadata": {},
   "outputs": [],
   "source": [
    "from Bio import SeqIO\n",
    "seqs_dir=\"/home/luisasantus/Desktop/crg_cluster/data/structural_regression/\"\n",
    "\n",
    "def get_seq_lengths(seqs_dir, dataset, family):\n",
    "    seqs_dir = os.path.join(*list([seqs_dir,dataset,\"combinedSeqs\"]))\n",
    "    f = os.path.join(*list([seqs_dir,family+ \".fa\"]))\n",
    "    fasta_sequences = SeqIO.parse(open(f),'fasta')\n",
    "    summary = pd.DataFrame()\n",
    "    for fasta in fasta_sequences:\n",
    "        name, sequence = fasta.id, str(fasta.seq)\n",
    "        l = len(sequence)\n",
    "        name = name.replace(\"/\", \"_\")\n",
    "        entry = pd.DataFrame([{\"family\": family,\n",
    "                                \"sequence\": name,\n",
    "                                \"sequence length\": l,\n",
    "                                \"benchmarking_dataset\": dataset}])\n",
    "        summary = pd.concat([summary,entry], ignore_index=True)\n",
    "    return(summary)"
   ]
  },
  {
   "cell_type": "code",
   "execution_count": 303,
   "id": "98d43d73",
   "metadata": {},
   "outputs": [],
   "source": [
    "# Get summary\n",
    "summary_lengths = pd.DataFrame()\n",
    "for family in stats_af2.family:\n",
    "    summary_fam = get_seq_lengths(seqs_dir, \"homfam\", family)\n",
    "    summary_lengths = pd.concat([summary_lengths,summary_fam])"
   ]
  },
  {
   "cell_type": "code",
   "execution_count": 304,
   "id": "bf487e24",
   "metadata": {},
   "outputs": [],
   "source": [
    "af2_sequence_summary = pd.merge(af2_homfam, summary_lengths, on =[\"family\",\"sequence\",\"benchmarking_dataset\"])"
   ]
  },
  {
   "cell_type": "code",
   "execution_count": 305,
   "id": "4c53da97",
   "metadata": {},
   "outputs": [
    {
     "data": {
      "text/html": [
       "<div>\n",
       "<style scoped>\n",
       "    .dataframe tbody tr th:only-of-type {\n",
       "        vertical-align: middle;\n",
       "    }\n",
       "\n",
       "    .dataframe tbody tr th {\n",
       "        vertical-align: top;\n",
       "    }\n",
       "\n",
       "    .dataframe thead th {\n",
       "        text-align: right;\n",
       "    }\n",
       "</style>\n",
       "<table border=\"1\" class=\"dataframe\">\n",
       "  <thead>\n",
       "    <tr style=\"text-align: right;\">\n",
       "      <th></th>\n",
       "      <th>sequence</th>\n",
       "      <th>plddt</th>\n",
       "      <th>name</th>\n",
       "      <th>benchmarking_dataset</th>\n",
       "      <th>family</th>\n",
       "      <th>tree_method</th>\n",
       "      <th>bucket</th>\n",
       "      <th>sequence length</th>\n",
       "    </tr>\n",
       "  </thead>\n",
       "  <tbody>\n",
       "    <tr>\n",
       "      <th>0</th>\n",
       "      <td>1bbi</td>\n",
       "      <td>71.7192</td>\n",
       "      <td>bowman.FAMSA-medoid.100</td>\n",
       "      <td>homfam</td>\n",
       "      <td>bowman</td>\n",
       "      <td>FAMSA-medoid</td>\n",
       "      <td>100</td>\n",
       "      <td>71</td>\n",
       "    </tr>\n",
       "    <tr>\n",
       "      <th>1</th>\n",
       "      <td>1pbia</td>\n",
       "      <td>74.0113</td>\n",
       "      <td>bowman.FAMSA-medoid.100</td>\n",
       "      <td>homfam</td>\n",
       "      <td>bowman</td>\n",
       "      <td>FAMSA-medoid</td>\n",
       "      <td>100</td>\n",
       "      <td>68</td>\n",
       "    </tr>\n",
       "    <tr>\n",
       "      <th>2</th>\n",
       "      <td>1pi2</td>\n",
       "      <td>71.8073</td>\n",
       "      <td>bowman.FAMSA-medoid.100</td>\n",
       "      <td>homfam</td>\n",
       "      <td>bowman</td>\n",
       "      <td>FAMSA-medoid</td>\n",
       "      <td>100</td>\n",
       "      <td>61</td>\n",
       "    </tr>\n",
       "    <tr>\n",
       "      <th>3</th>\n",
       "      <td>1tabi</td>\n",
       "      <td>55.3083</td>\n",
       "      <td>bowman.FAMSA-medoid.100</td>\n",
       "      <td>homfam</td>\n",
       "      <td>bowman</td>\n",
       "      <td>FAMSA-medoid</td>\n",
       "      <td>100</td>\n",
       "      <td>36</td>\n",
       "    </tr>\n",
       "    <tr>\n",
       "      <th>4</th>\n",
       "      <td>A0A8V3_COPJA_57-82</td>\n",
       "      <td>62.3678</td>\n",
       "      <td>bowman.FAMSA-medoid.100</td>\n",
       "      <td>homfam</td>\n",
       "      <td>bowman</td>\n",
       "      <td>FAMSA-medoid</td>\n",
       "      <td>100</td>\n",
       "      <td>26</td>\n",
       "    </tr>\n",
       "    <tr>\n",
       "      <th>...</th>\n",
       "      <td>...</td>\n",
       "      <td>...</td>\n",
       "      <td>...</td>\n",
       "      <td>...</td>\n",
       "      <td>...</td>\n",
       "      <td>...</td>\n",
       "      <td>...</td>\n",
       "      <td>...</td>\n",
       "    </tr>\n",
       "    <tr>\n",
       "      <th>188</th>\n",
       "      <td>TXH2_ANTS7_3-45</td>\n",
       "      <td>65.0115</td>\n",
       "      <td>seatoxin.FAMSA-medoid.100</td>\n",
       "      <td>homfam</td>\n",
       "      <td>seatoxin</td>\n",
       "      <td>FAMSA-medoid</td>\n",
       "      <td>100</td>\n",
       "      <td>43</td>\n",
       "    </tr>\n",
       "    <tr>\n",
       "      <th>189</th>\n",
       "      <td>TXH7_ANTS7_3-45</td>\n",
       "      <td>63.2193</td>\n",
       "      <td>seatoxin.FAMSA-medoid.100</td>\n",
       "      <td>homfam</td>\n",
       "      <td>seatoxin</td>\n",
       "      <td>FAMSA-medoid</td>\n",
       "      <td>100</td>\n",
       "      <td>43</td>\n",
       "    </tr>\n",
       "    <tr>\n",
       "      <th>190</th>\n",
       "      <td>TXH8_ANTS7_3-45</td>\n",
       "      <td>66.8347</td>\n",
       "      <td>seatoxin.FAMSA-medoid.100</td>\n",
       "      <td>homfam</td>\n",
       "      <td>seatoxin</td>\n",
       "      <td>FAMSA-medoid</td>\n",
       "      <td>100</td>\n",
       "      <td>43</td>\n",
       "    </tr>\n",
       "    <tr>\n",
       "      <th>191</th>\n",
       "      <td>TXNA_CONGI_3-45</td>\n",
       "      <td>65.7949</td>\n",
       "      <td>seatoxin.FAMSA-medoid.100</td>\n",
       "      <td>homfam</td>\n",
       "      <td>seatoxin</td>\n",
       "      <td>FAMSA-medoid</td>\n",
       "      <td>100</td>\n",
       "      <td>43</td>\n",
       "    </tr>\n",
       "    <tr>\n",
       "      <th>192</th>\n",
       "      <td>TXRC1_HETCR_3-45</td>\n",
       "      <td>67.2516</td>\n",
       "      <td>seatoxin.FAMSA-medoid.100</td>\n",
       "      <td>homfam</td>\n",
       "      <td>seatoxin</td>\n",
       "      <td>FAMSA-medoid</td>\n",
       "      <td>100</td>\n",
       "      <td>43</td>\n",
       "    </tr>\n",
       "  </tbody>\n",
       "</table>\n",
       "<p>193 rows × 8 columns</p>\n",
       "</div>"
      ],
      "text/plain": [
       "               sequence    plddt                       name  \\\n",
       "0                  1bbi  71.7192    bowman.FAMSA-medoid.100   \n",
       "1                 1pbia  74.0113    bowman.FAMSA-medoid.100   \n",
       "2                  1pi2  71.8073    bowman.FAMSA-medoid.100   \n",
       "3                 1tabi  55.3083    bowman.FAMSA-medoid.100   \n",
       "4    A0A8V3_COPJA_57-82  62.3678    bowman.FAMSA-medoid.100   \n",
       "..                  ...      ...                        ...   \n",
       "188     TXH2_ANTS7_3-45  65.0115  seatoxin.FAMSA-medoid.100   \n",
       "189     TXH7_ANTS7_3-45  63.2193  seatoxin.FAMSA-medoid.100   \n",
       "190     TXH8_ANTS7_3-45  66.8347  seatoxin.FAMSA-medoid.100   \n",
       "191     TXNA_CONGI_3-45  65.7949  seatoxin.FAMSA-medoid.100   \n",
       "192    TXRC1_HETCR_3-45  67.2516  seatoxin.FAMSA-medoid.100   \n",
       "\n",
       "    benchmarking_dataset    family   tree_method bucket  sequence length  \n",
       "0                 homfam    bowman  FAMSA-medoid    100               71  \n",
       "1                 homfam    bowman  FAMSA-medoid    100               68  \n",
       "2                 homfam    bowman  FAMSA-medoid    100               61  \n",
       "3                 homfam    bowman  FAMSA-medoid    100               36  \n",
       "4                 homfam    bowman  FAMSA-medoid    100               26  \n",
       "..                   ...       ...           ...    ...              ...  \n",
       "188               homfam  seatoxin  FAMSA-medoid    100               43  \n",
       "189               homfam  seatoxin  FAMSA-medoid    100               43  \n",
       "190               homfam  seatoxin  FAMSA-medoid    100               43  \n",
       "191               homfam  seatoxin  FAMSA-medoid    100               43  \n",
       "192               homfam  seatoxin  FAMSA-medoid    100               43  \n",
       "\n",
       "[193 rows x 8 columns]"
      ]
     },
     "execution_count": 305,
     "metadata": {},
     "output_type": "execute_result"
    }
   ],
   "source": [
    "af2_sequence_summary"
   ]
  },
  {
   "cell_type": "code",
   "execution_count": 295,
   "id": "250abc57",
   "metadata": {},
   "outputs": [
    {
     "data": {
      "text/html": [
       "<div>\n",
       "<style scoped>\n",
       "    .dataframe tbody tr th:only-of-type {\n",
       "        vertical-align: middle;\n",
       "    }\n",
       "\n",
       "    .dataframe tbody tr th {\n",
       "        vertical-align: top;\n",
       "    }\n",
       "\n",
       "    .dataframe thead th {\n",
       "        text-align: right;\n",
       "    }\n",
       "</style>\n",
       "<table border=\"1\" class=\"dataframe\">\n",
       "  <thead>\n",
       "    <tr style=\"text-align: right;\">\n",
       "      <th></th>\n",
       "      <th>family</th>\n",
       "      <th>sequence</th>\n",
       "      <th>length</th>\n",
       "      <th>benchmarking_dataset</th>\n",
       "    </tr>\n",
       "  </thead>\n",
       "  <tbody>\n",
       "    <tr>\n",
       "      <th>0</th>\n",
       "      <td>bowman</td>\n",
       "      <td>A0JKC9_9FABA/56-81</td>\n",
       "      <td>26</td>\n",
       "      <td>homfam</td>\n",
       "    </tr>\n",
       "    <tr>\n",
       "      <th>1</th>\n",
       "      <td>bowman</td>\n",
       "      <td>C5Y7Y4_SORBI/31-57</td>\n",
       "      <td>27</td>\n",
       "      <td>homfam</td>\n",
       "    </tr>\n",
       "    <tr>\n",
       "      <th>2</th>\n",
       "      <td>bowman</td>\n",
       "      <td>Q84X87_DOLBI/72-96</td>\n",
       "      <td>25</td>\n",
       "      <td>homfam</td>\n",
       "    </tr>\n",
       "    <tr>\n",
       "      <th>3</th>\n",
       "      <td>bowman</td>\n",
       "      <td>Q39806_SOYBN/4-28</td>\n",
       "      <td>25</td>\n",
       "      <td>homfam</td>\n",
       "    </tr>\n",
       "    <tr>\n",
       "      <th>4</th>\n",
       "      <td>bowman</td>\n",
       "      <td>B2RG94_9FABA/83-107</td>\n",
       "      <td>25</td>\n",
       "      <td>homfam</td>\n",
       "    </tr>\n",
       "    <tr>\n",
       "      <th>...</th>\n",
       "      <td>...</td>\n",
       "      <td>...</td>\n",
       "      <td>...</td>\n",
       "      <td>...</td>\n",
       "    </tr>\n",
       "    <tr>\n",
       "      <th>88</th>\n",
       "      <td>seatoxin</td>\n",
       "      <td>TXA5_ANESU/3-45</td>\n",
       "      <td>43</td>\n",
       "      <td>homfam</td>\n",
       "    </tr>\n",
       "    <tr>\n",
       "      <th>89</th>\n",
       "      <td>seatoxin</td>\n",
       "      <td>B1NWR3_9CNID/36-78</td>\n",
       "      <td>43</td>\n",
       "      <td>homfam</td>\n",
       "    </tr>\n",
       "    <tr>\n",
       "      <th>90</th>\n",
       "      <td>seatoxin</td>\n",
       "      <td>B1NWR6_NEMVE/41-83</td>\n",
       "      <td>43</td>\n",
       "      <td>homfam</td>\n",
       "    </tr>\n",
       "    <tr>\n",
       "      <th>91</th>\n",
       "      <td>seatoxin</td>\n",
       "      <td>B1NWT2_NEMVE/41-81</td>\n",
       "      <td>41</td>\n",
       "      <td>homfam</td>\n",
       "    </tr>\n",
       "    <tr>\n",
       "      <th>92</th>\n",
       "      <td>seatoxin</td>\n",
       "      <td>TXC3_BUNCI/3-46</td>\n",
       "      <td>44</td>\n",
       "      <td>homfam</td>\n",
       "    </tr>\n",
       "  </tbody>\n",
       "</table>\n",
       "<p>592 rows × 4 columns</p>\n",
       "</div>"
      ],
      "text/plain": [
       "      family             sequence  length benchmarking_dataset\n",
       "0     bowman   A0JKC9_9FABA/56-81      26               homfam\n",
       "1     bowman   C5Y7Y4_SORBI/31-57      27               homfam\n",
       "2     bowman   Q84X87_DOLBI/72-96      25               homfam\n",
       "3     bowman    Q39806_SOYBN/4-28      25               homfam\n",
       "4     bowman  B2RG94_9FABA/83-107      25               homfam\n",
       "..       ...                  ...     ...                  ...\n",
       "88  seatoxin      TXA5_ANESU/3-45      43               homfam\n",
       "89  seatoxin   B1NWR3_9CNID/36-78      43               homfam\n",
       "90  seatoxin   B1NWR6_NEMVE/41-83      43               homfam\n",
       "91  seatoxin   B1NWT2_NEMVE/41-81      41               homfam\n",
       "92  seatoxin      TXC3_BUNCI/3-46      44               homfam\n",
       "\n",
       "[592 rows x 4 columns]"
      ]
     },
     "execution_count": 295,
     "metadata": {},
     "output_type": "execute_result"
    }
   ],
   "source": [
    "summary_lengths"
   ]
  },
  {
   "cell_type": "code",
   "execution_count": 301,
   "id": "30ac9d5f",
   "metadata": {},
   "outputs": [
    {
     "data": {
      "text/plain": [
       "[Text(0, 0.5, 'sequence length')]"
      ]
     },
     "execution_count": 301,
     "metadata": {},
     "output_type": "execute_result"
    },
    {
     "data": {
      "image/png": "[encoded data removed]",
      "text/plain": [
       "<Figure size 432x432 with 1 Axes>"
      ]
     },
     "metadata": {},
     "output_type": "display_data"
    }
   ],
   "source": [
    "# Draw a combo histogram and scatterplot with density contours\n",
    "f, ax = plt.subplots(figsize=(6, 6))\n",
    "x=af2_sequence_summary.plddt\n",
    "y=af2_sequence_summary.length\n",
    "sns.scatterplot(x=x, y=y, s=5, color=\".15\")\n",
    "sns.histplot(x=x, y=y, bins=50, pthresh=.1, cmap=\"mako\")\n",
    "sns.kdeplot(x=x, y=y, levels=5, color=\"w\", linewidths=1)\n",
    "ax.set(ylabel='sequence length')"
   ]
  },
  {
   "cell_type": "code",
   "execution_count": 338,
   "id": "e3ca604c",
   "metadata": {},
   "outputs": [
    {
     "data": {
      "text/plain": [
       "193"
      ]
     },
     "execution_count": 338,
     "metadata": {},
     "output_type": "execute_result"
    }
   ],
   "source": []
  },
  {
   "cell_type": "code",
   "execution_count": 351,
   "id": "2f330c41",
   "metadata": {},
   "outputs": [
    {
     "name": "stdout",
     "output_type": "stream",
     "text": [
      "['n: 193']\n"
     ]
    },
    {
     "data": {
      "text/plain": [
       "Text(1, 1, \"['n: 193']\")"
      ]
     },
     "execution_count": 351,
     "metadata": {},
     "output_type": "execute_result"
    },
    {
     "data": {
      "image/png": "[encoded data removed]",
      "text/plain": [
       "<Figure size 432x432 with 3 Axes>"
      ]
     },
     "metadata": {},
     "output_type": "display_data"
    }
   ],
   "source": [
    "sns.set_theme(style=\"ticks\")\n",
    "sns.set_context(\"talk\")\n",
    "\n",
    "\n",
    "sns.jointplot(\n",
    "    data=af2_sequence_summary,  fill=True, color = \"red\", legend = False, \n",
    "    x=\"plddt\", y=\"sequence length\", hue=\"benchmarking_dataset\",\n",
    "    kind=\"kde\",\n",
    ")\n",
    "\n",
    "nobs = af2_sequence_summary['sequence'].value_counts().sum()\n",
    "nobs = [\"n: \" + str(nobs)]\n",
    "print(nobs)\n",
    "# Add it to the plot\n",
    "ax.text(1,1,nobs,horizontalalignment='center',size='small',color='red')\n"
   ]
  }
 ],
 "metadata": {
  "kernelspec": {
   "display_name": "Python 3 (ipykernel)",
   "language": "python",
   "name": "python3"
  },
  "language_info": {
   "codemirror_mode": {
    "name": "ipython",
    "version": 3
   },
   "file_extension": ".py",
   "mimetype": "text/x-python",
   "name": "python",
   "nbconvert_exporter": "python",
   "pygments_lexer": "ipython3",
   "version": "3.8.10"
  }
 },
 "nbformat": 4,
 "nbformat_minor": 5
}
