{
 "cells": [
  {
   "cell_type": "markdown",
   "id": "c2a868b6",
   "metadata": {},
   "source": [
    "# AF2 predictions benchmark "
   ]
  },
  {
   "cell_type": "code",
   "execution_count": 139,
   "id": "5f3de860",
   "metadata": {},
   "outputs": [],
   "source": [
    "import json\n",
    "import os\n",
    "import pandas as pd\n",
    "import glob\n",
    "results_dir = \"/home/luisasantus/Desktop/crg_cluster/projects/structural_regression/results/\""
   ]
  },
  {
   "cell_type": "code",
   "execution_count": 140,
   "id": "012be8c8",
   "metadata": {},
   "outputs": [],
   "source": [
    "def get_plddt(results_dir, dataset):\n",
    "    colabfold_dir = results_dir+dataset+\"/structures/colabfold_header/\"\n",
    "    for fam in os.listdir(colabfold_dir):\n",
    "        fam_dir = os.path.join(colabfold_dir,fam)\n",
    "        print(fam_dir)\n",
    "        for f in os.listdir(fam_dir):\n",
    "            if f.endswith('plddt.eval'):\n",
    "                plddts = pd.read_csv(os.path.join(fam_dir,f), sep = \"\\s+\", header = None)\n",
    "                plddts = plddts.set_axis([\"sequence\", \"plddt\"], axis=1)\n",
    "                plddts[\"family\"] = fam\n",
    "                plddts[\"benchmarking_dataset\"] = dataset\n",
    "                return(plddts)"
   ]
  },
  {
   "cell_type": "code",
   "execution_count": 142,
   "id": "c7b1b91d",
   "metadata": {},
   "outputs": [
    {
     "name": "stdout",
     "output_type": "stream",
     "text": [
      "/home/luisasantus/Desktop/crg_cluster/projects/structural_regression/results/homfam/structures/colabfold_header/seatoxin\n"
     ]
    },
    {
     "data": {
      "text/plain": [
       "seatoxin    93\n",
       "Name: family, dtype: int64"
      ]
     },
     "execution_count": 142,
     "metadata": {},
     "output_type": "execute_result"
    }
   ],
   "source": [
    "# Extract plddt for each sequence in the family\n",
    "af2_homfam = get_plddt(results_dir, \"homfam\")\n",
    "af2_homfam.family.value_counts()"
   ]
  },
  {
   "cell_type": "code",
   "execution_count": 143,
   "id": "43d96cb5",
   "metadata": {},
   "outputs": [
    {
     "data": {
      "text/html": [
       "<div>\n",
       "<style scoped>\n",
       "    .dataframe tbody tr th:only-of-type {\n",
       "        vertical-align: middle;\n",
       "    }\n",
       "\n",
       "    .dataframe tbody tr th {\n",
       "        vertical-align: top;\n",
       "    }\n",
       "\n",
       "    .dataframe thead th {\n",
       "        text-align: right;\n",
       "    }\n",
       "</style>\n",
       "<table border=\"1\" class=\"dataframe\">\n",
       "  <thead>\n",
       "    <tr style=\"text-align: right;\">\n",
       "      <th></th>\n",
       "      <th>family</th>\n",
       "      <th>benchmarking_dataset</th>\n",
       "      <th>plddt_mean</th>\n",
       "      <th>plddt_min</th>\n",
       "      <th>plddt_max</th>\n",
       "    </tr>\n",
       "  </thead>\n",
       "  <tbody>\n",
       "    <tr>\n",
       "      <th>0</th>\n",
       "      <td>seatoxin</td>\n",
       "      <td>homfam</td>\n",
       "      <td>64.221655</td>\n",
       "      <td>55.1243</td>\n",
       "      <td>71.2845</td>\n",
       "    </tr>\n",
       "  </tbody>\n",
       "</table>\n",
       "</div>"
      ],
      "text/plain": [
       "     family benchmarking_dataset  plddt_mean  plddt_min  plddt_max\n",
       "0  seatoxin               homfam   64.221655    55.1243    71.2845"
      ]
     },
     "execution_count": 143,
     "metadata": {},
     "output_type": "execute_result"
    }
   ],
   "source": [
    "# Summarize plddt family-wise\n",
    "af2_homfam_summary = af2_homfam.groupby(['family', \"benchmarking_dataset\"]).agg({'plddt': ['mean', 'min', 'max']}).reset_index().set_axis([\"family\", \"benchmarking_dataset\", \"plddt_mean\", \"plddt_min\", \"plddt_max\"], axis=1)\n",
    "af2_homfam_summary.head()"
   ]
  },
  {
   "cell_type": "markdown",
   "id": "4f252cdd",
   "metadata": {},
   "source": [
    "## Store files "
   ]
  },
  {
   "cell_type": "code",
   "execution_count": 144,
   "id": "fb72f13b",
   "metadata": {},
   "outputs": [],
   "source": [
    "af2_homfam.to_csv(os.path.join(\"/home/luisasantus/Desktop/crg_cluster/data/structural_regression/stats/\", \"02_summary_af2.csv\"), index = False)\n",
    "af2_homfam_summary.to_csv(os.path.join(\"/home/luisasantus/Desktop/crg_cluster/data/structural_regression/stats/\", \"03_summary_af2_grouped.csv\"), index = False)"
   ]
  },
  {
   "cell_type": "markdown",
   "id": "10e5a7e8",
   "metadata": {},
   "source": [
    "# Visualize "
   ]
  },
  {
   "cell_type": "markdown",
   "id": "47fd5462",
   "metadata": {},
   "source": [
    "### How well does AF2 perform on the sequences in the families in the different datasets"
   ]
  },
  {
   "cell_type": "code",
   "execution_count": 145,
   "id": "3ae1b744",
   "metadata": {},
   "outputs": [
    {
     "name": "stderr",
     "output_type": "stream",
     "text": [
      "/home/luisasantus/.local/lib/python3.8/site-packages/seaborn/distributions.py:316: UserWarning: Dataset has 0 variance; skipping density estimate. Pass `warn_singular=False` to disable this warning.\n",
      "  warnings.warn(msg, UserWarning)\n"
     ]
    },
    {
     "data": {
      "text/plain": [
       "<seaborn.axisgrid.FacetGrid at 0x7f8f25834970>"
      ]
     },
     "execution_count": 145,
     "metadata": {},
     "output_type": "execute_result"
    },
    {
     "data": {
      "image/png": "[encoded data removed]",
      "text/plain": [
       "<Figure size 580.075x360 with 1 Axes>"
      ]
     },
     "metadata": {},
     "output_type": "display_data"
    }
   ],
   "source": [
    "# Plot AF2 plddts summaries across families \n",
    "af2_homfam_summary\n",
    "sns.set_theme(style=\"white\")\n",
    "sns.set_context(\"talk\")\n",
    "ax = sns.displot(af2_homfam_summary, x=\"plddt_mean\", hue = \"benchmarking_dataset\", kind=\"kde\")\n",
    "ax.set(xlabel='plddt (mean)')"
   ]
  },
  {
   "cell_type": "code",
   "execution_count": null,
   "id": "749124ab",
   "metadata": {},
   "outputs": [],
   "source": []
  }
 ],
 "metadata": {
  "kernelspec": {
   "display_name": "Python 3 (ipykernel)",
   "language": "python",
   "name": "python3"
  },
  "language_info": {
   "codemirror_mode": {
    "name": "ipython",
    "version": 3
   },
   "file_extension": ".py",
   "mimetype": "text/x-python",
   "name": "python",
   "nbconvert_exporter": "python",
   "pygments_lexer": "ipython3",
   "version": "3.8.10"
  }
 },
 "nbformat": 4,
 "nbformat_minor": 5
}
