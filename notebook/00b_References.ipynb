{
 "cells": [
  {
   "cell_type": "markdown",
   "id": "ba95e511",
   "metadata": {},
   "source": [
    "# Explore Homfam "
   ]
  },
  {
   "cell_type": "code",
   "execution_count": 1,
   "id": "0e50f0e3",
   "metadata": {},
   "outputs": [],
   "source": [
    "import os\n",
    "import pandas as pd\n",
    "import numpy as np\n",
    "import seaborn as sns\n",
    "import matplotlib.pyplot as plt\n",
    "from collections import OrderedDict\n",
    "from Bio import SeqIO\n",
    "homfam_path_ref = \"/home/luisasantus/Desktop/crg_cluster/data/structural_regression/homfam/refs\"\n",
    "outdir = \"../../../data/structural_regression/plots/01_homfam/\""
   ]
  },
  {
   "cell_type": "code",
   "execution_count": 2,
   "id": "475e53e2",
   "metadata": {},
   "outputs": [],
   "source": [
    "def get_stats(f, extended = False):\n",
    "    fasta_sequences = SeqIO.parse(open(f),'fasta')\n",
    "\n",
    "    ls = []\n",
    "    n_sequences = 0 \n",
    "\n",
    "    for fasta in fasta_sequences:\n",
    "        name, sequence = fasta.id, str(fasta.seq)\n",
    "        n_sequences = n_sequences + 1\n",
    "        l = len(sequence.replace(\"-\", \"\"))\n",
    "        ls.append(l)\n",
    "        # if extended, save all infos about the sequences\n",
    "        \n",
    "\n",
    "    entry = pd.DataFrame({\"file\": [os.path.basename(f).replace(\".fa\", \"\")],\n",
    "                          \"n_sequences\": [n_sequences],\n",
    "                          \"mean_length\": [np.mean(ls)],\n",
    "                          \"min_length\": [np.min(ls)],\n",
    "                          \"max_length\": [np.max(ls)]})       \n",
    "\n",
    "\n",
    "    return(entry)"
   ]
  },
  {
   "cell_type": "code",
   "execution_count": 3,
   "id": "7e7e7fcf",
   "metadata": {},
   "outputs": [],
   "source": [
    "def get_summary_df(homfam_path, subset = \"\", suffix = \"\"):\n",
    "    summary_homfam = pd.DataFrame()\n",
    "    max_steps = float(\"Inf\")\n",
    "    i = 0 \n",
    "    for filename in os.listdir(homfam_path):\n",
    "        if filename.endswith(suffix):\n",
    "            i = i+1\n",
    "            if(i>max_steps): \n",
    "                break\n",
    "            f = os.path.join(homfam_path, filename)\n",
    "            # checking if it is a file\n",
    "            if os.path.isfile(f):\n",
    "                entry = get_stats(f)\n",
    "                summary_homfam = summary_homfam.append(entry, ignore_index= True)\n",
    "    summary_homfam[\"family\"] = summary_homfam.file.str.replace(\".ref\", \"\", regex = False)\n",
    "    summary_homfam[\"subset\"] = subset\n",
    "    summary_homfam.sort_values(by=['family'])\n",
    "\n",
    "    column_names = [\"family\", \"subset\", \"n_sequences\",\"mean_length\", \"min_length\", \"max_length\", \"file\"]\n",
    "    summary_homfam = summary_homfam.reindex(columns=column_names)\n",
    "    return(summary_homfam)"
   ]
  },
  {
   "cell_type": "markdown",
   "id": "844c5c80",
   "metadata": {},
   "source": [
    "#### Homfam"
   ]
  },
  {
   "cell_type": "code",
   "execution_count": 10,
   "id": "929cdd2b",
   "metadata": {},
   "outputs": [
    {
     "name": "stderr",
     "output_type": "stream",
     "text": [
      "/tmp/ipykernel_49316/574803492.py:14: FutureWarning: The frame.append method is deprecated and will be removed from pandas in a future version. Use pandas.concat instead.\n",
      "  summary_homfam = summary_homfam.append(entry, ignore_index= True)\n"
     ]
    },
    {
     "data": {
      "text/html": [
       "<div>\n",
       "<style scoped>\n",
       "    .dataframe tbody tr th:only-of-type {\n",
       "        vertical-align: middle;\n",
       "    }\n",
       "\n",
       "    .dataframe tbody tr th {\n",
       "        vertical-align: top;\n",
       "    }\n",
       "\n",
       "    .dataframe thead th {\n",
       "        text-align: right;\n",
       "    }\n",
       "</style>\n",
       "<table border=\"1\" class=\"dataframe\">\n",
       "  <thead>\n",
       "    <tr style=\"text-align: right;\">\n",
       "      <th></th>\n",
       "      <th>family</th>\n",
       "      <th>subset</th>\n",
       "      <th>n_sequences</th>\n",
       "      <th>mean_length</th>\n",
       "      <th>min_length</th>\n",
       "      <th>max_length</th>\n",
       "      <th>file</th>\n",
       "    </tr>\n",
       "  </thead>\n",
       "  <tbody>\n",
       "    <tr>\n",
       "      <th>0</th>\n",
       "      <td>DMRL_synthase-ref</td>\n",
       "      <td>ref</td>\n",
       "      <td>5</td>\n",
       "      <td>158.0</td>\n",
       "      <td>148</td>\n",
       "      <td>168</td>\n",
       "      <td>DMRL_synthase-ref</td>\n",
       "    </tr>\n",
       "    <tr>\n",
       "      <th>1</th>\n",
       "      <td>oxidored_q6-ref</td>\n",
       "      <td>ref</td>\n",
       "      <td>5</td>\n",
       "      <td>265.2</td>\n",
       "      <td>261</td>\n",
       "      <td>275</td>\n",
       "      <td>oxidored_q6-ref</td>\n",
       "    </tr>\n",
       "    <tr>\n",
       "      <th>2</th>\n",
       "      <td>ghf22-ref</td>\n",
       "      <td>ref</td>\n",
       "      <td>12</td>\n",
       "      <td>126.5</td>\n",
       "      <td>120</td>\n",
       "      <td>130</td>\n",
       "      <td>ghf22-ref</td>\n",
       "    </tr>\n",
       "    <tr>\n",
       "      <th>3</th>\n",
       "      <td>TNF-ref</td>\n",
       "      <td>ref</td>\n",
       "      <td>5</td>\n",
       "      <td>149.6</td>\n",
       "      <td>144</td>\n",
       "      <td>163</td>\n",
       "      <td>TNF-ref</td>\n",
       "    </tr>\n",
       "    <tr>\n",
       "      <th>4</th>\n",
       "      <td>slectin-ref</td>\n",
       "      <td>ref</td>\n",
       "      <td>5</td>\n",
       "      <td>133.4</td>\n",
       "      <td>129</td>\n",
       "      <td>137</td>\n",
       "      <td>slectin-ref</td>\n",
       "    </tr>\n",
       "  </tbody>\n",
       "</table>\n",
       "</div>"
      ],
      "text/plain": [
       "              family subset  n_sequences  mean_length  min_length  max_length  \\\n",
       "0  DMRL_synthase-ref    ref            5        158.0         148         168   \n",
       "1    oxidored_q6-ref    ref            5        265.2         261         275   \n",
       "2          ghf22-ref    ref           12        126.5         120         130   \n",
       "3            TNF-ref    ref            5        149.6         144         163   \n",
       "4        slectin-ref    ref            5        133.4         129         137   \n",
       "\n",
       "                file  \n",
       "0  DMRL_synthase-ref  \n",
       "1    oxidored_q6-ref  \n",
       "2          ghf22-ref  \n",
       "3            TNF-ref  \n",
       "4        slectin-ref  "
      ]
     },
     "execution_count": 10,
     "metadata": {},
     "output_type": "execute_result"
    }
   ],
   "source": [
    "summary_homfam_ref = get_summary_df(homfam_path_ref, \"ref\", \"fa\")\n",
    "summary_homfam_ref.head()"
   ]
  },
  {
   "cell_type": "code",
   "execution_count": 11,
   "id": "01eecd39",
   "metadata": {},
   "outputs": [
    {
     "data": {
      "text/plain": [
       "Text(0.5, 1.0, 'Homfam')"
      ]
     },
     "execution_count": 11,
     "metadata": {},
     "output_type": "execute_result"
    },
    {
     "data": {
      "image/png": "[encoded data removed]",
      "text/plain": [
       "<Figure size 432x288 with 1 Axes>"
      ]
     },
     "metadata": {},
     "output_type": "display_data"
    }
   ],
   "source": [
    "sns.set_style(\"ticks\")\n",
    "sns.set_context(\"talk\")\n",
    "sns.set_palette(sns.color_palette([\"royalblue\"]))\n",
    "\n",
    "ax = sns.histplot(data=summary_homfam_ref, x=\"n_sequences\", binwidth=3)\n",
    "ax.set_xlabel(\"# of reference sequences\")\n",
    "ax.set_ylabel(\"# of families\")\n",
    "ax.set_title(\"Homfam\")"
   ]
  },
  {
   "cell_type": "code",
   "execution_count": 12,
   "id": "9c55e1fa",
   "metadata": {},
   "outputs": [
    {
     "data": {
      "text/plain": [
       "Text(0.5, 1.0, 'Homfam')"
      ]
     },
     "execution_count": 12,
     "metadata": {},
     "output_type": "execute_result"
    },
    {
     "data": {
      "image/png": "[encoded data removed]",
      "text/plain": [
       "<Figure size 432x288 with 1 Axes>"
      ]
     },
     "metadata": {},
     "output_type": "display_data"
    }
   ],
   "source": [
    "sns.set_style(\"white\")\n",
    "ax = sns.histplot(\n",
    "    summary_homfam_ref, x=\"n_sequences\", y=\"mean_length\",\n",
    "    bins=30\n",
    ")\n",
    "ax.set_xlabel(\"# of reference sequences\")\n",
    "ax.set_ylabel(\"mean length\")\n",
    "ax.set_title(\"Homfam\")\n",
    "\n"
   ]
  },
  {
   "cell_type": "code",
   "execution_count": 13,
   "id": "2231532f",
   "metadata": {},
   "outputs": [
    {
     "ename": "NameError",
     "evalue": "name 'homfam_path_combined' is not defined",
     "output_type": "error",
     "traceback": [
      "\u001b[0;31m---------------------------------------------------------------------------\u001b[0m",
      "\u001b[0;31mNameError\u001b[0m                                 Traceback (most recent call last)",
      "Input \u001b[0;32mIn [13]\u001b[0m, in \u001b[0;36m<cell line: 5>\u001b[0;34m()\u001b[0m\n\u001b[1;32m      1\u001b[0m \u001b[38;5;66;03m# Prep homfam\u001b[39;00m\n\u001b[1;32m      2\u001b[0m \u001b[38;5;66;03m# Add group sizes\u001b[39;00m\n\u001b[1;32m      3\u001b[0m \u001b[38;5;66;03m#[200,10k), [10k,40k), [40k,100k), [100k,250k), [250k,3M).\u001b[39;00m\n\u001b[1;32m      4\u001b[0m \u001b[38;5;66;03m#thresholds = [4000,10000,25000,415519]\u001b[39;00m\n\u001b[0;32m----> 5\u001b[0m summary_homfam_combined \u001b[38;5;241m=\u001b[39m get_summary_df(\u001b[43mhomfam_path_combined\u001b[49m, \u001b[38;5;124m\"\u001b[39m\u001b[38;5;124mcombined\u001b[39m\u001b[38;5;124m\"\u001b[39m)\n\u001b[1;32m      6\u001b[0m thresholds \u001b[38;5;241m=\u001b[39m [\u001b[38;5;241m10000\u001b[39m,\u001b[38;5;241m40000\u001b[39m,\u001b[38;5;241m100000\u001b[39m,\u001b[38;5;241m250000\u001b[39m]\n\u001b[1;32m      7\u001b[0m thresholds_str \u001b[38;5;241m=\u001b[39m \u001b[38;5;28mlist\u001b[39m([\u001b[38;5;124m\"\u001b[39m\u001b[38;5;124m[0,10k)\u001b[39m\u001b[38;5;124m\"\u001b[39m, \u001b[38;5;124m\"\u001b[39m\u001b[38;5;124m[10k,40k)\u001b[39m\u001b[38;5;124m\"\u001b[39m, \u001b[38;5;124m\"\u001b[39m\u001b[38;5;124m[40k,100k)\u001b[39m\u001b[38;5;124m\"\u001b[39m, \u001b[38;5;124m\"\u001b[39m\u001b[38;5;124m[100k,250k)\u001b[39m\u001b[38;5;124m\"\u001b[39m, \u001b[38;5;124m\"\u001b[39m\u001b[38;5;124m[250k,3M)\u001b[39m\u001b[38;5;124m\"\u001b[39m])\n",
      "\u001b[0;31mNameError\u001b[0m: name 'homfam_path_combined' is not defined"
     ]
    }
   ],
   "source": [
    "# Prep homfam\n",
    "# Add group sizes\n",
    "#[200,10k), [10k,40k), [40k,100k), [100k,250k), [250k,3M).\n",
    "#thresholds = [4000,10000,25000,415519]\n",
    "summary_homfam_combined = get_summary_df(homfam_path_combined, \"combined\")\n",
    "thresholds = [10000,40000,100000,250000]\n",
    "thresholds_str = list([\"[0,10k)\", \"[10k,40k)\", \"[40k,100k)\", \"[100k,250k)\", \"[250k,3M)\"])\n",
    "def get_size_families(summary_homfam_combined, thresholds = thresholds): \n",
    "    summary_homfam_combined[\"size_group\"] = \"huge\"\n",
    "    summary_homfam_combined.loc[summary_homfam_combined.n_sequences < thresholds[3], \"size_group\"] = \"xlarge\"\n",
    "    summary_homfam_combined.loc[summary_homfam_combined.n_sequences < thresholds[2], \"size_group\"] = \"large\"\n",
    "    summary_homfam_combined.loc[summary_homfam_combined.n_sequences < thresholds[1], \"size_group\"] = \"medium\"\n",
    "    summary_homfam_combined.loc[summary_homfam_combined.n_sequences < thresholds[0], \"size_group\"] = \"small\"\n",
    "    return(summary_homfam_combined)\n",
    "summary_homfam_combined = get_size_families(summary_homfam_combined)"
   ]
  },
  {
   "cell_type": "code",
   "execution_count": 8,
   "id": "50e9437a",
   "metadata": {},
   "outputs": [
    {
     "ename": "NameError",
     "evalue": "name 'summary_homfam_combined' is not defined",
     "output_type": "error",
     "traceback": [
      "\u001b[0;31m---------------------------------------------------------------------------\u001b[0m",
      "\u001b[0;31mNameError\u001b[0m                                 Traceback (most recent call last)",
      "Input \u001b[0;32mIn [8]\u001b[0m, in \u001b[0;36m<cell line: 1>\u001b[0;34m()\u001b[0m\n\u001b[0;32m----> 1\u001b[0m family_sizes \u001b[38;5;241m=\u001b[39m \u001b[43msummary_homfam_combined\u001b[49m[[\u001b[38;5;124m\"\u001b[39m\u001b[38;5;124mfamily\u001b[39m\u001b[38;5;124m\"\u001b[39m, \u001b[38;5;124m\"\u001b[39m\u001b[38;5;124msize_group\u001b[39m\u001b[38;5;124m\"\u001b[39m]]\n\u001b[1;32m      2\u001b[0m summary_homfam_ref\u001b[38;5;241m.\u001b[39mfamily \u001b[38;5;241m=\u001b[39m summary_homfam_ref\u001b[38;5;241m.\u001b[39mfamily\u001b[38;5;241m.\u001b[39mstr\u001b[38;5;241m.\u001b[39mreplace(\u001b[38;5;124m\"\u001b[39m\u001b[38;5;124m-ref\u001b[39m\u001b[38;5;124m\"\u001b[39m, \u001b[38;5;124m\"\u001b[39m\u001b[38;5;124m\"\u001b[39m)\n\u001b[1;32m      3\u001b[0m summary_homfam_ref_with_sizes \u001b[38;5;241m=\u001b[39m pd\u001b[38;5;241m.\u001b[39mmerge(summary_homfam_ref, family_sizes, on \u001b[38;5;241m=\u001b[39m \u001b[38;5;124m\"\u001b[39m\u001b[38;5;124mfamily\u001b[39m\u001b[38;5;124m\"\u001b[39m )\n",
      "\u001b[0;31mNameError\u001b[0m: name 'summary_homfam_combined' is not defined"
     ]
    }
   ],
   "source": [
    "family_sizes = summary_homfam_combined[[\"family\", \"size_group\"]]\n",
    "summary_homfam_ref.family = summary_homfam_ref.family.str.replace(\"-ref\", \"\")\n",
    "summary_homfam_ref_with_sizes = pd.merge(summary_homfam_ref, family_sizes, on = \"family\" ) "
   ]
  },
  {
   "cell_type": "code",
   "execution_count": 9,
   "id": "47d0616d",
   "metadata": {},
   "outputs": [
    {
     "ename": "NameError",
     "evalue": "name 'summary_homfam_ref_with_sizes' is not defined",
     "output_type": "error",
     "traceback": [
      "\u001b[0;31m---------------------------------------------------------------------------\u001b[0m",
      "\u001b[0;31mNameError\u001b[0m                                 Traceback (most recent call last)",
      "Input \u001b[0;32mIn [9]\u001b[0m, in \u001b[0;36m<cell line: 2>\u001b[0;34m()\u001b[0m\n\u001b[1;32m      1\u001b[0m sns\u001b[38;5;241m.\u001b[39mset_style(\u001b[38;5;124m\"\u001b[39m\u001b[38;5;124mwhite\u001b[39m\u001b[38;5;124m\"\u001b[39m)\n\u001b[0;32m----> 2\u001b[0m summary_homfam_ref_with_sizes[\u001b[38;5;124m'\u001b[39m\u001b[38;5;124msize_group\u001b[39m\u001b[38;5;124m'\u001b[39m] \u001b[38;5;241m=\u001b[39m pd\u001b[38;5;241m.\u001b[39mCategorical(\u001b[43msummary_homfam_ref_with_sizes\u001b[49m[\u001b[38;5;124m'\u001b[39m\u001b[38;5;124msize_group\u001b[39m\u001b[38;5;124m'\u001b[39m], [\u001b[38;5;124m'\u001b[39m\u001b[38;5;124msmall\u001b[39m\u001b[38;5;124m'\u001b[39m,\u001b[38;5;124m'\u001b[39m\u001b[38;5;124mmedium\u001b[39m\u001b[38;5;124m'\u001b[39m,\u001b[38;5;124m'\u001b[39m\u001b[38;5;124mlarge\u001b[39m\u001b[38;5;124m'\u001b[39m])\n\u001b[1;32m      3\u001b[0m \u001b[38;5;66;03m#sns.set_palette(\"magma\",3)\u001b[39;00m\n\u001b[1;32m      4\u001b[0m sns\u001b[38;5;241m.\u001b[39mset_palette(sns\u001b[38;5;241m.\u001b[39mcolor_palette([\u001b[38;5;124m\"\u001b[39m\u001b[38;5;124mgold\u001b[39m\u001b[38;5;124m\"\u001b[39m, \u001b[38;5;124m\"\u001b[39m\u001b[38;5;124mblue\u001b[39m\u001b[38;5;124m\"\u001b[39m, \u001b[38;5;124m\"\u001b[39m\u001b[38;5;124mcrimson\u001b[39m\u001b[38;5;124m\"\u001b[39m]))\n",
      "\u001b[0;31mNameError\u001b[0m: name 'summary_homfam_ref_with_sizes' is not defined"
     ]
    }
   ],
   "source": [
    "sns.set_style(\"white\")\n",
    "summary_homfam_ref_with_sizes['size_group'] = pd.Categorical(summary_homfam_ref_with_sizes['size_group'], ['small','medium','large'])\n",
    "#sns.set_palette(\"magma\",3)\n",
    "sns.set_palette(sns.color_palette([\"gold\", \"blue\", \"crimson\"]))\n",
    "\n",
    "ax = sns.histplot(\n",
    "    summary_homfam_ref_with_sizes, x=\"n_sequences\", y=\"size_group\", hue = \"size_group\", legend = False ,  bins=30\n",
    ")\n",
    "ax.set_xlabel(\"# of reference sequences\")\n",
    "ax.set_ylabel(\"family group\")\n",
    "ax.set_title(\"Homfam\")\n"
   ]
  },
  {
   "cell_type": "code",
   "execution_count": null,
   "id": "c545b4cd",
   "metadata": {},
   "outputs": [],
   "source": []
  }
 ],
 "metadata": {
  "kernelspec": {
   "display_name": "Python 3 (ipykernel)",
   "language": "python",
   "name": "python3"
  },
  "language_info": {
   "codemirror_mode": {
    "name": "ipython",
    "version": 3
   },
   "file_extension": ".py",
   "mimetype": "text/x-python",
   "name": "python",
   "nbconvert_exporter": "python",
   "pygments_lexer": "ipython3",
   "version": "3.8.10"
  }
 },
 "nbformat": 4,
 "nbformat_minor": 5
}
