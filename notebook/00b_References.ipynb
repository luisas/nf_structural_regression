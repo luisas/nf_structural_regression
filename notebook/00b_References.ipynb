{
 "cells": [
  {
   "cell_type": "markdown",
   "id": "ba95e511",
   "metadata": {},
   "source": [
    "# Explore Homfam "
   ]
  },
  {
   "cell_type": "code",
   "execution_count": 17,
   "id": "0e50f0e3",
   "metadata": {},
   "outputs": [],
   "source": [
    "import os\n",
    "import pandas as pd\n",
    "import numpy as np\n",
    "import seaborn as sns\n",
    "import matplotlib.pyplot as plt\n",
    "from collections import OrderedDict\n",
    "from Bio import SeqIO\n",
    "homfam_path_ref = \"/home/luisasantus/Desktop/crg_cluster/data/structural_regression/homfam/refs\"\n",
    "outdir = \"../../../data/structural_regression/plots/01_homfam/\""
   ]
  },
  {
   "cell_type": "code",
   "execution_count": 18,
   "id": "475e53e2",
   "metadata": {},
   "outputs": [],
   "source": [
    "def get_stats(f, extended = False):\n",
    "    fasta_sequences = SeqIO.parse(open(f),'fasta')\n",
    "\n",
    "    ls = []\n",
    "    n_sequences = 0 \n",
    "\n",
    "    for fasta in fasta_sequences:\n",
    "        name, sequence = fasta.id, str(fasta.seq)\n",
    "        n_sequences = n_sequences + 1\n",
    "        l = len(sequence.replace(\"-\", \"\"))\n",
    "        ls.append(l)\n",
    "        # if extended, save all infos about the sequences\n",
    "        \n",
    "\n",
    "    entry = pd.DataFrame({\"file\": [os.path.basename(f).replace(\".fa\", \"\")],\n",
    "                          \"n_sequences\": [n_sequences],\n",
    "                          \"mean_length\": [np.mean(ls)],\n",
    "                          \"min_length\": [np.min(ls)],\n",
    "                          \"max_length\": [np.max(ls)]})       \n",
    "\n",
    "\n",
    "    return(entry)"
   ]
  },
  {
   "cell_type": "code",
   "execution_count": 23,
   "id": "7e7e7fcf",
   "metadata": {},
   "outputs": [],
   "source": [
    "def get_summary_df(homfam_path, subset = \"\", suffix = \"\"):\n",
    "    summary_homfam = pd.DataFrame()\n",
    "    max_steps = float(\"Inf\")\n",
    "    i = 0 \n",
    "    for filename in os.listdir(homfam_path):\n",
    "        if filename.endswith(suffix):\n",
    "            i = i+1\n",
    "            if(i>max_steps): \n",
    "                break\n",
    "            f = os.path.join(homfam_path, filename)\n",
    "            # checking if it is a file\n",
    "            if os.path.isfile(f):\n",
    "                entry = get_stats(f)\n",
    "                summary_homfam = summary_homfam.append(entry, ignore_index= True)\n",
    "    summary_homfam[\"family\"] = summary_homfam.file.str.replace(\".ref\", \"\", regex = False)\n",
    "    summary_homfam[\"subset\"] = subset\n",
    "    summary_homfam.sort_values(by=['family'])\n",
    "\n",
    "    column_names = [\"family\", \"subset\", \"n_sequences\",\"mean_length\", \"min_length\", \"max_length\", \"file\"]\n",
    "    summary_homfam = summary_homfam.reindex(columns=column_names)\n",
    "    return(summary_homfam)"
   ]
  },
  {
   "cell_type": "markdown",
   "id": "844c5c80",
   "metadata": {},
   "source": [
    "#### Homfam"
   ]
  },
  {
   "cell_type": "code",
   "execution_count": 51,
   "id": "929cdd2b",
   "metadata": {},
   "outputs": [
    {
     "name": "stderr",
     "output_type": "stream",
     "text": [
      "/tmp/ipykernel_6798/574803492.py:14: FutureWarning: The frame.append method is deprecated and will be removed from pandas in a future version. Use pandas.concat instead.\n",
      "  summary_homfam = summary_homfam.append(entry, ignore_index= True)\n"
     ]
    },
    {
     "data": {
      "text/html": [
       "<div>\n",
       "<style scoped>\n",
       "    .dataframe tbody tr th:only-of-type {\n",
       "        vertical-align: middle;\n",
       "    }\n",
       "\n",
       "    .dataframe tbody tr th {\n",
       "        vertical-align: top;\n",
       "    }\n",
       "\n",
       "    .dataframe thead th {\n",
       "        text-align: right;\n",
       "    }\n",
       "</style>\n",
       "<table border=\"1\" class=\"dataframe\">\n",
       "  <thead>\n",
       "    <tr style=\"text-align: right;\">\n",
       "      <th></th>\n",
       "      <th>family</th>\n",
       "      <th>subset</th>\n",
       "      <th>n_sequences</th>\n",
       "      <th>mean_length</th>\n",
       "      <th>min_length</th>\n",
       "      <th>max_length</th>\n",
       "      <th>file</th>\n",
       "    </tr>\n",
       "  </thead>\n",
       "  <tbody>\n",
       "    <tr>\n",
       "      <th>0</th>\n",
       "      <td>DMRL_synthase-ref</td>\n",
       "      <td>ref</td>\n",
       "      <td>5</td>\n",
       "      <td>158.0</td>\n",
       "      <td>148</td>\n",
       "      <td>168</td>\n",
       "      <td>DMRL_synthase-ref</td>\n",
       "    </tr>\n",
       "    <tr>\n",
       "      <th>1</th>\n",
       "      <td>oxidored_q6-ref</td>\n",
       "      <td>ref</td>\n",
       "      <td>5</td>\n",
       "      <td>265.2</td>\n",
       "      <td>261</td>\n",
       "      <td>275</td>\n",
       "      <td>oxidored_q6-ref</td>\n",
       "    </tr>\n",
       "    <tr>\n",
       "      <th>2</th>\n",
       "      <td>ghf22-ref</td>\n",
       "      <td>ref</td>\n",
       "      <td>12</td>\n",
       "      <td>126.5</td>\n",
       "      <td>120</td>\n",
       "      <td>130</td>\n",
       "      <td>ghf22-ref</td>\n",
       "    </tr>\n",
       "    <tr>\n",
       "      <th>3</th>\n",
       "      <td>TNF-ref</td>\n",
       "      <td>ref</td>\n",
       "      <td>5</td>\n",
       "      <td>149.6</td>\n",
       "      <td>144</td>\n",
       "      <td>163</td>\n",
       "      <td>TNF-ref</td>\n",
       "    </tr>\n",
       "    <tr>\n",
       "      <th>4</th>\n",
       "      <td>slectin-ref</td>\n",
       "      <td>ref</td>\n",
       "      <td>5</td>\n",
       "      <td>133.4</td>\n",
       "      <td>129</td>\n",
       "      <td>137</td>\n",
       "      <td>slectin-ref</td>\n",
       "    </tr>\n",
       "  </tbody>\n",
       "</table>\n",
       "</div>"
      ],
      "text/plain": [
       "              family subset  n_sequences  mean_length  min_length  max_length  \\\n",
       "0  DMRL_synthase-ref    ref            5        158.0         148         168   \n",
       "1    oxidored_q6-ref    ref            5        265.2         261         275   \n",
       "2          ghf22-ref    ref           12        126.5         120         130   \n",
       "3            TNF-ref    ref            5        149.6         144         163   \n",
       "4        slectin-ref    ref            5        133.4         129         137   \n",
       "\n",
       "                file  \n",
       "0  DMRL_synthase-ref  \n",
       "1    oxidored_q6-ref  \n",
       "2          ghf22-ref  \n",
       "3            TNF-ref  \n",
       "4        slectin-ref  "
      ]
     },
     "execution_count": 51,
     "metadata": {},
     "output_type": "execute_result"
    }
   ],
   "source": [
    "summary_homfam_ref = get_summary_df(homfam_path_ref, \"ref\", \"fa\")\n",
    "summary_homfam_ref.head()"
   ]
  },
  {
   "cell_type": "code",
   "execution_count": 126,
   "id": "01eecd39",
   "metadata": {},
   "outputs": [
    {
     "data": {
      "text/plain": [
       "Text(0.5, 1.0, 'Homfam')"
      ]
     },
     "execution_count": 126,
     "metadata": {},
     "output_type": "execute_result"
    },
    {
     "data": {
      "image/png": "[encoded data removed]",
      "text/plain": [
       "<Figure size 432x288 with 1 Axes>"
      ]
     },
     "metadata": {},
     "output_type": "display_data"
    }
   ],
   "source": [
    "sns.set_style(\"ticks\")\n",
    "sns.set_context(\"talk\")\n",
    "sns.set_palette(sns.color_palette([\"royalblue\"]))\n",
    "\n",
    "ax = sns.histplot(data=summary_homfam_ref, x=\"n_sequences\", binwidth=3)\n",
    "ax.set_xlabel(\"# of reference sequences\")\n",
    "ax.set_ylabel(\"# of families\")\n",
    "ax.set_title(\"Homfam\")"
   ]
  },
  {
   "cell_type": "code",
   "execution_count": 127,
   "id": "9c55e1fa",
   "metadata": {},
   "outputs": [
    {
     "data": {
      "text/plain": [
       "Text(0.5, 1.0, 'Homfam')"
      ]
     },
     "execution_count": 127,
     "metadata": {},
     "output_type": "execute_result"
    },
    {
     "data": {
      "image/png": "[encoded data removed]",
      "text/plain": [
       "<Figure size 432x288 with 1 Axes>"
      ]
     },
     "metadata": {},
     "output_type": "display_data"
    }
   ],
   "source": [
    "sns.set_style(\"white\")\n",
    "ax = sns.histplot(\n",
    "    summary_homfam_ref, x=\"n_sequences\", y=\"mean_length\",\n",
    "    bins=30\n",
    ")\n",
    "ax.set_xlabel(\"# of reference sequences\")\n",
    "ax.set_ylabel(\"mean length\")\n",
    "ax.set_title(\"Homfam\")\n",
    "\n"
   ]
  },
  {
   "cell_type": "code",
   "execution_count": 76,
   "id": "2231532f",
   "metadata": {},
   "outputs": [
    {
     "name": "stderr",
     "output_type": "stream",
     "text": [
      "/tmp/ipykernel_6798/574803492.py:14: FutureWarning: The frame.append method is deprecated and will be removed from pandas in a future version. Use pandas.concat instead.\n",
      "  summary_homfam = summary_homfam.append(entry, ignore_index= True)\n"
     ]
    },
    {
     "data": {
      "text/html": [
       "<div>\n",
       "<style scoped>\n",
       "    .dataframe tbody tr th:only-of-type {\n",
       "        vertical-align: middle;\n",
       "    }\n",
       "\n",
       "    .dataframe tbody tr th {\n",
       "        vertical-align: top;\n",
       "    }\n",
       "\n",
       "    .dataframe thead th {\n",
       "        text-align: right;\n",
       "    }\n",
       "</style>\n",
       "<table border=\"1\" class=\"dataframe\">\n",
       "  <thead>\n",
       "    <tr style=\"text-align: right;\">\n",
       "      <th></th>\n",
       "      <th>family</th>\n",
       "      <th>subset</th>\n",
       "      <th>n_sequences</th>\n",
       "      <th>mean_length</th>\n",
       "      <th>min_length</th>\n",
       "      <th>max_length</th>\n",
       "      <th>file</th>\n",
       "      <th>size_group</th>\n",
       "    </tr>\n",
       "  </thead>\n",
       "  <tbody>\n",
       "    <tr>\n",
       "      <th>14</th>\n",
       "      <td>ghf10</td>\n",
       "      <td>combined</td>\n",
       "      <td>1502</td>\n",
       "      <td>220.340213</td>\n",
       "      <td>53</td>\n",
       "      <td>400</td>\n",
       "      <td>ghf10</td>\n",
       "      <td>small</td>\n",
       "    </tr>\n",
       "    <tr>\n",
       "      <th>18</th>\n",
       "      <td>Acetyltransf</td>\n",
       "      <td>combined</td>\n",
       "      <td>46285</td>\n",
       "      <td>82.989716</td>\n",
       "      <td>28</td>\n",
       "      <td>181</td>\n",
       "      <td>Acetyltransf</td>\n",
       "      <td>large</td>\n",
       "    </tr>\n",
       "    <tr>\n",
       "      <th>32</th>\n",
       "      <td>egf</td>\n",
       "      <td>combined</td>\n",
       "      <td>7774</td>\n",
       "      <td>32.076537</td>\n",
       "      <td>17</td>\n",
       "      <td>67</td>\n",
       "      <td>egf</td>\n",
       "      <td>small</td>\n",
       "    </tr>\n",
       "    <tr>\n",
       "      <th>35</th>\n",
       "      <td>adh</td>\n",
       "      <td>combined</td>\n",
       "      <td>21331</td>\n",
       "      <td>123.640383</td>\n",
       "      <td>37</td>\n",
       "      <td>374</td>\n",
       "      <td>adh</td>\n",
       "      <td>medium</td>\n",
       "    </tr>\n",
       "    <tr>\n",
       "      <th>38</th>\n",
       "      <td>HMG_box</td>\n",
       "      <td>combined</td>\n",
       "      <td>4779</td>\n",
       "      <td>66.071563</td>\n",
       "      <td>22</td>\n",
       "      <td>86</td>\n",
       "      <td>HMG_box</td>\n",
       "      <td>small</td>\n",
       "    </tr>\n",
       "    <tr>\n",
       "      <th>52</th>\n",
       "      <td>biotin_lipoyl</td>\n",
       "      <td>combined</td>\n",
       "      <td>11833</td>\n",
       "      <td>71.892758</td>\n",
       "      <td>30</td>\n",
       "      <td>106</td>\n",
       "      <td>biotin_lipoyl</td>\n",
       "      <td>medium</td>\n",
       "    </tr>\n",
       "    <tr>\n",
       "      <th>77</th>\n",
       "      <td>rhv</td>\n",
       "      <td>combined</td>\n",
       "      <td>17976</td>\n",
       "      <td>143.424010</td>\n",
       "      <td>31</td>\n",
       "      <td>854</td>\n",
       "      <td>rhv</td>\n",
       "      <td>medium</td>\n",
       "    </tr>\n",
       "    <tr>\n",
       "      <th>89</th>\n",
       "      <td>rnasemam</td>\n",
       "      <td>combined</td>\n",
       "      <td>498</td>\n",
       "      <td>120.072289</td>\n",
       "      <td>62</td>\n",
       "      <td>140</td>\n",
       "      <td>rnasemam</td>\n",
       "      <td>small</td>\n",
       "    </tr>\n",
       "  </tbody>\n",
       "</table>\n",
       "</div>"
      ],
      "text/plain": [
       "           family    subset  n_sequences  mean_length  min_length  max_length  \\\n",
       "14          ghf10  combined         1502   220.340213          53         400   \n",
       "18   Acetyltransf  combined        46285    82.989716          28         181   \n",
       "32            egf  combined         7774    32.076537          17          67   \n",
       "35            adh  combined        21331   123.640383          37         374   \n",
       "38        HMG_box  combined         4779    66.071563          22          86   \n",
       "52  biotin_lipoyl  combined        11833    71.892758          30         106   \n",
       "77            rhv  combined        17976   143.424010          31         854   \n",
       "89       rnasemam  combined          498   120.072289          62         140   \n",
       "\n",
       "             file size_group  \n",
       "14          ghf10      small  \n",
       "18   Acetyltransf      large  \n",
       "32            egf      small  \n",
       "35            adh     medium  \n",
       "38        HMG_box      small  \n",
       "52  biotin_lipoyl     medium  \n",
       "77            rhv     medium  \n",
       "89       rnasemam      small  "
      ]
     },
     "execution_count": 76,
     "metadata": {},
     "output_type": "execute_result"
    }
   ],
   "source": [
    "# Prep homfam\n",
    "# Add group sizes\n",
    "#[200,10k), [10k,40k), [40k,100k), [100k,250k), [250k,3M).\n",
    "#thresholds = [4000,10000,25000,415519]\n",
    "summary_homfam_combined = get_summary_df(homfam_path_combined, \"combined\")\n",
    "thresholds = [10000,40000,100000,250000]\n",
    "thresholds_str = list([\"[0,10k)\", \"[10k,40k)\", \"[40k,100k)\", \"[100k,250k)\", \"[250k,3M)\"])\n",
    "def get_size_families(summary_homfam_combined, thresholds = thresholds): \n",
    "    summary_homfam_combined[\"size_group\"] = \"huge\"\n",
    "    summary_homfam_combined.loc[summary_homfam_combined.n_sequences < thresholds[3], \"size_group\"] = \"xlarge\"\n",
    "    summary_homfam_combined.loc[summary_homfam_combined.n_sequences < thresholds[2], \"size_group\"] = \"large\"\n",
    "    summary_homfam_combined.loc[summary_homfam_combined.n_sequences < thresholds[1], \"size_group\"] = \"medium\"\n",
    "    summary_homfam_combined.loc[summary_homfam_combined.n_sequences < thresholds[0], \"size_group\"] = \"small\"\n",
    "    return(summary_homfam_combined)\n",
    "summary_homfam_combined = get_size_families(summary_homfam_combined)"
   ]
  },
  {
   "cell_type": "code",
   "execution_count": 80,
   "id": "50e9437a",
   "metadata": {},
   "outputs": [
    {
     "data": {
      "text/html": [
       "<div>\n",
       "<style scoped>\n",
       "    .dataframe tbody tr th:only-of-type {\n",
       "        vertical-align: middle;\n",
       "    }\n",
       "\n",
       "    .dataframe tbody tr th {\n",
       "        vertical-align: top;\n",
       "    }\n",
       "\n",
       "    .dataframe thead th {\n",
       "        text-align: right;\n",
       "    }\n",
       "</style>\n",
       "<table border=\"1\" class=\"dataframe\">\n",
       "  <thead>\n",
       "    <tr style=\"text-align: right;\">\n",
       "      <th></th>\n",
       "      <th>family</th>\n",
       "      <th>size_group</th>\n",
       "    </tr>\n",
       "  </thead>\n",
       "  <tbody>\n",
       "    <tr>\n",
       "      <th>0</th>\n",
       "      <td>Sulfotransfer</td>\n",
       "      <td>small</td>\n",
       "    </tr>\n",
       "    <tr>\n",
       "      <th>1</th>\n",
       "      <td>hpr</td>\n",
       "      <td>small</td>\n",
       "    </tr>\n",
       "    <tr>\n",
       "      <th>2</th>\n",
       "      <td>serpin</td>\n",
       "      <td>small</td>\n",
       "    </tr>\n",
       "    <tr>\n",
       "      <th>3</th>\n",
       "      <td>hr</td>\n",
       "      <td>small</td>\n",
       "    </tr>\n",
       "    <tr>\n",
       "      <th>4</th>\n",
       "      <td>ldh</td>\n",
       "      <td>small</td>\n",
       "    </tr>\n",
       "    <tr>\n",
       "      <th>...</th>\n",
       "      <td>...</td>\n",
       "      <td>...</td>\n",
       "    </tr>\n",
       "    <tr>\n",
       "      <th>90</th>\n",
       "      <td>hip</td>\n",
       "      <td>small</td>\n",
       "    </tr>\n",
       "    <tr>\n",
       "      <th>91</th>\n",
       "      <td>hom</td>\n",
       "      <td>medium</td>\n",
       "    </tr>\n",
       "    <tr>\n",
       "      <th>92</th>\n",
       "      <td>aadh</td>\n",
       "      <td>small</td>\n",
       "    </tr>\n",
       "    <tr>\n",
       "      <th>93</th>\n",
       "      <td>sodcu</td>\n",
       "      <td>small</td>\n",
       "    </tr>\n",
       "    <tr>\n",
       "      <th>94</th>\n",
       "      <td>sti</td>\n",
       "      <td>small</td>\n",
       "    </tr>\n",
       "  </tbody>\n",
       "</table>\n",
       "<p>95 rows × 2 columns</p>\n",
       "</div>"
      ],
      "text/plain": [
       "           family size_group\n",
       "0   Sulfotransfer      small\n",
       "1             hpr      small\n",
       "2          serpin      small\n",
       "3              hr      small\n",
       "4             ldh      small\n",
       "..            ...        ...\n",
       "90            hip      small\n",
       "91            hom     medium\n",
       "92           aadh      small\n",
       "93          sodcu      small\n",
       "94            sti      small\n",
       "\n",
       "[95 rows x 2 columns]"
      ]
     },
     "execution_count": 80,
     "metadata": {},
     "output_type": "execute_result"
    }
   ],
   "source": [
    "family_sizes = summary_homfam_combined[[\"family\", \"size_group\"]]\n",
    "summary_homfam_ref.family = summary_homfam_ref.family.str.replace(\"-ref\", \"\")\n",
    "summary_homfam_ref_with_sizes = pd.merge(summary_homfam_ref, family_sizes, on = \"family\" ) "
   ]
  },
  {
   "cell_type": "code",
   "execution_count": 121,
   "id": "47d0616d",
   "metadata": {},
   "outputs": [
    {
     "data": {
      "text/plain": [
       "Text(0.5, 1.0, 'Homfam')"
      ]
     },
     "execution_count": 121,
     "metadata": {},
     "output_type": "execute_result"
    },
    {
     "data": {
      "image/png": "[encoded data removed]",
      "text/plain": [
       "<Figure size 432x288 with 1 Axes>"
      ]
     },
     "metadata": {},
     "output_type": "display_data"
    }
   ],
   "source": [
    "sns.set_style(\"white\")\n",
    "summary_homfam_ref_with_sizes['size_group'] = pd.Categorical(summary_homfam_ref_with_sizes['size_group'], ['small','medium','large'])\n",
    "#sns.set_palette(\"magma\",3)\n",
    "sns.set_palette(sns.color_palette([\"gold\", \"blue\", \"crimson\"]))\n",
    "\n",
    "ax = sns.histplot(\n",
    "    summary_homfam_ref_with_sizes, x=\"n_sequences\", y=\"size_group\", hue = \"size_group\", legend = False ,  bins=30\n",
    ")\n",
    "ax.set_xlabel(\"# of reference sequences\")\n",
    "ax.set_ylabel(\"family group\")\n",
    "ax.set_title(\"Homfam\")\n"
   ]
  },
  {
   "cell_type": "code",
   "execution_count": null,
   "id": "c545b4cd",
   "metadata": {},
   "outputs": [],
   "source": []
  }
 ],
 "metadata": {
  "kernelspec": {
   "display_name": "Python 3 (ipykernel)",
   "language": "python",
   "name": "python3"
  },
  "language_info": {
   "codemirror_mode": {
    "name": "ipython",
    "version": 3
   },
   "file_extension": ".py",
   "mimetype": "text/x-python",
   "name": "python",
   "nbconvert_exporter": "python",
   "pygments_lexer": "ipython3",
   "version": "3.9.12"
  }
 },
 "nbformat": 4,
 "nbformat_minor": 5
}
