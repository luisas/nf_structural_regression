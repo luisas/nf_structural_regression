{
 "cells": [
  {
   "cell_type": "markdown",
   "id": "16235361",
   "metadata": {},
   "source": [
    "# benchmark structural regression"
   ]
  },
  {
   "cell_type": "code",
   "execution_count": 254,
   "id": "35afcd98",
   "metadata": {},
   "outputs": [],
   "source": [
    "import os\n",
    "import pandas as pd\n",
    "import numpy as np\n",
    "import seaborn as sns\n",
    "import matplotlib.pyplot as plt\n",
    "from os import listdir\n",
    "from os.path import isfile, join\n",
    "import matplotlib.ticker as ticker\n",
    "import sys\n",
    "from math import *\n",
    "from scipy.stats import binned_statistic"
   ]
  },
  {
   "cell_type": "code",
   "execution_count": 28,
   "id": "4b2a3e32",
   "metadata": {},
   "outputs": [],
   "source": [
    "from utils_benchmark import * \n",
    "#test()"
   ]
  },
  {
   "cell_type": "code",
   "execution_count": 29,
   "id": "fff329fd",
   "metadata": {},
   "outputs": [],
   "source": [
    "evaluation_dir = \"/home/luisasantus/Desktop/crg_cluster/projects/structural_regression/results/\"\n",
    "outdir = \"../../../data/structural_regression/plots/02_benchmarkCPU/\""
   ]
  },
  {
   "cell_type": "markdown",
   "id": "d36bd699",
   "metadata": {},
   "source": [
    "## families infos"
   ]
  },
  {
   "cell_type": "code",
   "execution_count": 30,
   "id": "6724d220",
   "metadata": {},
   "outputs": [],
   "source": [
    "#### Load datasets informations (Homfam + extHomfam)\n",
    "summary_homfam_exthomfam = pd.read_csv(\"/home/luisasantus/Desktop/crg_cluster/data/structural_regression/stats/01_summary_homfam_exthomfam.csv\")\n",
    "summary_homfam_exthomfam = summary_homfam_exthomfam.rename(columns={\"dataset\": \"benchmarking_dataset\"})"
   ]
  },
  {
   "cell_type": "markdown",
   "id": "b17b6898",
   "metadata": {},
   "source": [
    "## AF2 infos"
   ]
  },
  {
   "cell_type": "code",
   "execution_count": 31,
   "id": "a7706d45",
   "metadata": {},
   "outputs": [],
   "source": [
    "# Load AF2 scores\n",
    "af2 = pd.read_csv(\"/home/luisasantus/Desktop/crg_cluster/data/structural_regression/stats/02_summary_af2.csv\")\n",
    "af2_grouped = pd.read_csv(\"/home/luisasantus/Desktop/crg_cluster/data/structural_regression/stats/03_summary_af2_grouped.csv\")"
   ]
  },
  {
   "cell_type": "markdown",
   "id": "6b302684",
   "metadata": {},
   "source": [
    "## running time"
   ]
  },
  {
   "cell_type": "code",
   "execution_count": 32,
   "id": "a87fd1df",
   "metadata": {},
   "outputs": [
    {
     "data": {
      "text/plain": [
       "regressive     378\n",
       "progressive    189\n",
       "dynamic         56\n",
       "Name: 1, dtype: int64"
      ]
     },
     "execution_count": 32,
     "metadata": {},
     "output_type": "execute_result"
    }
   ],
   "source": [
    "def extract_all_traces(dataset):\n",
    "    # ---------- EXTRACT SEQUENCES ---------------\n",
    "    #traces_extracted_sequences_homfam = get_computation_times(join(evaluation_dir, dataset), dataset, \"seqs_extracted\")\n",
    "    # ---------- AF2 PREDICTIONS -------------------------\n",
    "    # traces_af2_homfam = get_computation_times(join(evaluation_dir, dataset), dataset, \"structures/colabfold\")\n",
    "    # ---------- ALIGNMENTS -------------------------\n",
    "    traces_alignments_homfam = get_computation_times(join(evaluation_dir, dataset), dataset, \"alignments\", extralevel=True)\n",
    "    # ---------- CONCATENATE AL OF THEM IN ONE ---------------\n",
    "    traces = pd.concat([traces_alignments_homfam], ignore_index=True)\n",
    "    return(traces)\n",
    "\n",
    "traces = extract_all_traces(\"homfam\")\n",
    "traces.name.str.split(\".\", expand = True)[1].value_counts()"
   ]
  },
  {
   "cell_type": "markdown",
   "id": "2e7d5a22",
   "metadata": {},
   "source": [
    "## msa evaluation "
   ]
  },
  {
   "cell_type": "code",
   "execution_count": 33,
   "id": "272171ac",
   "metadata": {},
   "outputs": [
    {
     "data": {
      "text/plain": [
       "regressive     376\n",
       "progressive    188\n",
       "dynamic         56\n",
       "Name: method, dtype: int64"
      ]
     },
     "execution_count": 33,
     "metadata": {},
     "output_type": "execute_result"
    }
   ],
   "source": [
    "dataset = \"homfam\"\n",
    "\n",
    "\n",
    "eval_dir = join(\"/home/luisasantus/Desktop/crg_cluster/projects/structural_regression/results/\",dataset,\"evaluation/CSV/\")\n",
    "scores_df = get_evaluation_all(eval_dir)\n",
    "scores_df[\"benchmarking_dataset\"] = dataset\n",
    "scores_df[\"bucket_size\"] = pd.to_numeric(scores_df.bucket_size)\n",
    "\n",
    "# sep reference and full\n",
    "scores_df[\"tag\"] = scores_df.family.str.contains(\"_ref\").map({True: 'ref', False: 'full'})\n",
    "scores_df.family = scores_df.family.str.replace(\"_ref\",\"\")\n",
    "\n",
    "scores_df.method.value_counts()"
   ]
  },
  {
   "cell_type": "code",
   "execution_count": 58,
   "id": "53218076",
   "metadata": {},
   "outputs": [],
   "source": [
    "scores_df_full = scores_df[scores_df.tag == \"full\"]\n",
    "scores_df_ref = scores_df[scores_df.tag == \"ref\"]"
   ]
  },
  {
   "cell_type": "markdown",
   "id": "cf837218",
   "metadata": {},
   "source": [
    "## merge"
   ]
  },
  {
   "cell_type": "code",
   "execution_count": 111,
   "id": "43ca3fa9",
   "metadata": {},
   "outputs": [],
   "source": [
    "def get_stats(scores_df, traces, summary_homfam_exthomfam):\n",
    "    stats = pd.merge(scores_df, traces, on = [\"name\",\"benchmarking_dataset\"])\n",
    "    stats = pd.merge(stats, summary_homfam_exthomfam, on =[\"family\",\"benchmarking_dataset\"])\n",
    "    stats_alignments = stats[stats.task == \"alignments\"]\n",
    "    stats_alignments[\"approach\"] = stats_alignments[[\"method\", \"bucket_size\", \"master_msa\", \"slave_msa\", \"dynamicX_val\"]].apply(lambda row: '_'.join(row.values.astype(str)), axis=1)\n",
    "    stats_alignments[\"fam_approach\"] = stats_alignments[\"family\"]+\"_\"+stats_alignments[\"approach\"]\n",
    "    stats_alignments.tc = pd.to_numeric(stats_alignments.tc)\n",
    "    return(stats_alignments)"
   ]
  },
  {
   "cell_type": "code",
   "execution_count": 123,
   "id": "28798e7a",
   "metadata": {},
   "outputs": [],
   "source": [
    "stats_alignments_full = get_stats(scores_df_full, traces, summary_homfam_exthomfam)\n",
    "stats_alignments_ref = get_stats(scores_df_ref, traces, summary_homfam_exthomfam)\n",
    "# Only keep the ones with ref \n",
    "stats_alignments_full = stats_alignments_full.loc[stats_alignments_full.fam_approach.isin(stats_alignments_ref.fam_approach)]\n",
    "stats_alignments_full_sorted = stats_alignments_full.sort_values(by=[\"family\", \"approach\"]).reset_index()\n",
    "stats_alignments_ref_sorted = stats_alignments_ref.sort_values(by=[\"family\", \"approach\"]).reset_index()\n",
    "# ----------   Get diff TC --------- \n",
    "stats_alignments_full_sorted[\"diff_tc\"] = stats_alignments_full_sorted.tc - stats_alignments_ref_sorted.tc"
   ]
  },
  {
   "cell_type": "code",
   "execution_count": 125,
   "id": "daef16ff",
   "metadata": {},
   "outputs": [
    {
     "data": {
      "text/html": [
       "<div>\n",
       "<style scoped>\n",
       "    .dataframe tbody tr th:only-of-type {\n",
       "        vertical-align: middle;\n",
       "    }\n",
       "\n",
       "    .dataframe tbody tr th {\n",
       "        vertical-align: top;\n",
       "    }\n",
       "\n",
       "    .dataframe thead th {\n",
       "        text-align: right;\n",
       "    }\n",
       "</style>\n",
       "<table border=\"1\" class=\"dataframe\">\n",
       "  <thead>\n",
       "    <tr style=\"text-align: right;\">\n",
       "      <th></th>\n",
       "      <th>level_0</th>\n",
       "      <th>index</th>\n",
       "      <th>name</th>\n",
       "      <th>sp</th>\n",
       "      <th>tc</th>\n",
       "      <th>column</th>\n",
       "      <th>family</th>\n",
       "      <th>method</th>\n",
       "      <th>bucket_size</th>\n",
       "      <th>master_msa</th>\n",
       "      <th>...</th>\n",
       "      <th>n_sequences</th>\n",
       "      <th>mean_length</th>\n",
       "      <th>min_length</th>\n",
       "      <th>max_length</th>\n",
       "      <th>file</th>\n",
       "      <th>size_group</th>\n",
       "      <th>perc_ref_total</th>\n",
       "      <th>approach</th>\n",
       "      <th>fam_approach</th>\n",
       "      <th>diff_tc</th>\n",
       "    </tr>\n",
       "  </thead>\n",
       "  <tbody>\n",
       "    <tr>\n",
       "      <th>0</th>\n",
       "      <td>318</td>\n",
       "      <td>95</td>\n",
       "      <td>Acetyltransf.progressive.FAMSA.FAMSA-medoid</td>\n",
       "      <td>44.3</td>\n",
       "      <td>15.3</td>\n",
       "      <td>21.5</td>\n",
       "      <td>Acetyltransf</td>\n",
       "      <td>progressive</td>\n",
       "      <td>NaN</td>\n",
       "      <td>FAMSA</td>\n",
       "      <td>...</td>\n",
       "      <td>46285</td>\n",
       "      <td>82.989716</td>\n",
       "      <td>28</td>\n",
       "      <td>181</td>\n",
       "      <td>Acetyltransf</td>\n",
       "      <td>xlarge</td>\n",
       "      <td>0.012963</td>\n",
       "      <td>progressive_nan_FAMSA_nan_nan</td>\n",
       "      <td>Acetyltransf_progressive_nan_FAMSA_nan_nan</td>\n",
       "      <td>-15.4</td>\n",
       "    </tr>\n",
       "    <tr>\n",
       "      <th>1</th>\n",
       "      <td>317</td>\n",
       "      <td>309</td>\n",
       "      <td>Acetyltransf.regressive.1000.FAMSA.FAMSA-medoid</td>\n",
       "      <td>48.8</td>\n",
       "      <td>13.8</td>\n",
       "      <td>19.3</td>\n",
       "      <td>Acetyltransf</td>\n",
       "      <td>regressive</td>\n",
       "      <td>1000.0</td>\n",
       "      <td>FAMSA</td>\n",
       "      <td>...</td>\n",
       "      <td>46285</td>\n",
       "      <td>82.989716</td>\n",
       "      <td>28</td>\n",
       "      <td>181</td>\n",
       "      <td>Acetyltransf</td>\n",
       "      <td>xlarge</td>\n",
       "      <td>0.012963</td>\n",
       "      <td>regressive_1000.0_FAMSA_nan_nan</td>\n",
       "      <td>Acetyltransf_regressive_1000.0_FAMSA_nan_nan</td>\n",
       "      <td>-16.9</td>\n",
       "    </tr>\n",
       "    <tr>\n",
       "      <th>2</th>\n",
       "      <td>316</td>\n",
       "      <td>283</td>\n",
       "      <td>Acetyltransf.regressive.50.FAMSA.FAMSA-medoid</td>\n",
       "      <td>36.8</td>\n",
       "      <td>2.1</td>\n",
       "      <td>2.4</td>\n",
       "      <td>Acetyltransf</td>\n",
       "      <td>regressive</td>\n",
       "      <td>50.0</td>\n",
       "      <td>FAMSA</td>\n",
       "      <td>...</td>\n",
       "      <td>46285</td>\n",
       "      <td>82.989716</td>\n",
       "      <td>28</td>\n",
       "      <td>181</td>\n",
       "      <td>Acetyltransf</td>\n",
       "      <td>xlarge</td>\n",
       "      <td>0.012963</td>\n",
       "      <td>regressive_50.0_FAMSA_nan_nan</td>\n",
       "      <td>Acetyltransf_regressive_50.0_FAMSA_nan_nan</td>\n",
       "      <td>-28.6</td>\n",
       "    </tr>\n",
       "    <tr>\n",
       "      <th>3</th>\n",
       "      <td>210</td>\n",
       "      <td>120</td>\n",
       "      <td>Ald_Xan_dh_2.progressive.FAMSA.FAMSA-medoid</td>\n",
       "      <td>86.7</td>\n",
       "      <td>70.6</td>\n",
       "      <td>75.2</td>\n",
       "      <td>Ald_Xan_dh_2</td>\n",
       "      <td>progressive</td>\n",
       "      <td>NaN</td>\n",
       "      <td>FAMSA</td>\n",
       "      <td>...</td>\n",
       "      <td>2589</td>\n",
       "      <td>109.303978</td>\n",
       "      <td>29</td>\n",
       "      <td>804</td>\n",
       "      <td>Ald_Xan_dh_2</td>\n",
       "      <td>small</td>\n",
       "      <td>0.231750</td>\n",
       "      <td>progressive_nan_FAMSA_nan_nan</td>\n",
       "      <td>Ald_Xan_dh_2_progressive_nan_FAMSA_nan_nan</td>\n",
       "      <td>1.5</td>\n",
       "    </tr>\n",
       "    <tr>\n",
       "      <th>4</th>\n",
       "      <td>209</td>\n",
       "      <td>179</td>\n",
       "      <td>Ald_Xan_dh_2.regressive.1000.FAMSA.FAMSA-medoid</td>\n",
       "      <td>86.5</td>\n",
       "      <td>70.4</td>\n",
       "      <td>75.3</td>\n",
       "      <td>Ald_Xan_dh_2</td>\n",
       "      <td>regressive</td>\n",
       "      <td>1000.0</td>\n",
       "      <td>FAMSA</td>\n",
       "      <td>...</td>\n",
       "      <td>2589</td>\n",
       "      <td>109.303978</td>\n",
       "      <td>29</td>\n",
       "      <td>804</td>\n",
       "      <td>Ald_Xan_dh_2</td>\n",
       "      <td>small</td>\n",
       "      <td>0.231750</td>\n",
       "      <td>regressive_1000.0_FAMSA_nan_nan</td>\n",
       "      <td>Ald_Xan_dh_2_regressive_1000.0_FAMSA_nan_nan</td>\n",
       "      <td>1.3</td>\n",
       "    </tr>\n",
       "  </tbody>\n",
       "</table>\n",
       "<p>5 rows × 43 columns</p>\n",
       "</div>"
      ],
      "text/plain": [
       "   level_0  index                                             name    sp  \\\n",
       "0      318     95      Acetyltransf.progressive.FAMSA.FAMSA-medoid  44.3   \n",
       "1      317    309  Acetyltransf.regressive.1000.FAMSA.FAMSA-medoid  48.8   \n",
       "2      316    283    Acetyltransf.regressive.50.FAMSA.FAMSA-medoid  36.8   \n",
       "3      210    120      Ald_Xan_dh_2.progressive.FAMSA.FAMSA-medoid  86.7   \n",
       "4      209    179  Ald_Xan_dh_2.regressive.1000.FAMSA.FAMSA-medoid  86.5   \n",
       "\n",
       "     tc  column        family       method  bucket_size master_msa  ...  \\\n",
       "0  15.3    21.5  Acetyltransf  progressive          NaN      FAMSA  ...   \n",
       "1  13.8    19.3  Acetyltransf   regressive       1000.0      FAMSA  ...   \n",
       "2   2.1     2.4  Acetyltransf   regressive         50.0      FAMSA  ...   \n",
       "3  70.6    75.2  Ald_Xan_dh_2  progressive          NaN      FAMSA  ...   \n",
       "4  70.4    75.3  Ald_Xan_dh_2   regressive       1000.0      FAMSA  ...   \n",
       "\n",
       "  n_sequences mean_length min_length max_length          file size_group  \\\n",
       "0       46285   82.989716         28        181  Acetyltransf     xlarge   \n",
       "1       46285   82.989716         28        181  Acetyltransf     xlarge   \n",
       "2       46285   82.989716         28        181  Acetyltransf     xlarge   \n",
       "3        2589  109.303978         29        804  Ald_Xan_dh_2      small   \n",
       "4        2589  109.303978         29        804  Ald_Xan_dh_2      small   \n",
       "\n",
       "   perc_ref_total                         approach  \\\n",
       "0        0.012963    progressive_nan_FAMSA_nan_nan   \n",
       "1        0.012963  regressive_1000.0_FAMSA_nan_nan   \n",
       "2        0.012963    regressive_50.0_FAMSA_nan_nan   \n",
       "3        0.231750    progressive_nan_FAMSA_nan_nan   \n",
       "4        0.231750  regressive_1000.0_FAMSA_nan_nan   \n",
       "\n",
       "                                   fam_approach  diff_tc  \n",
       "0    Acetyltransf_progressive_nan_FAMSA_nan_nan    -15.4  \n",
       "1  Acetyltransf_regressive_1000.0_FAMSA_nan_nan    -16.9  \n",
       "2    Acetyltransf_regressive_50.0_FAMSA_nan_nan    -28.6  \n",
       "3    Ald_Xan_dh_2_progressive_nan_FAMSA_nan_nan      1.5  \n",
       "4  Ald_Xan_dh_2_regressive_1000.0_FAMSA_nan_nan      1.3  \n",
       "\n",
       "[5 rows x 43 columns]"
      ]
     },
     "execution_count": 125,
     "metadata": {},
     "output_type": "execute_result"
    }
   ],
   "source": [
    "stats_alignments_full_sorted.head()"
   ]
  },
  {
   "cell_type": "code",
   "execution_count": 118,
   "id": "50ed7a18",
   "metadata": {},
   "outputs": [],
   "source": []
  },
  {
   "cell_type": "code",
   "execution_count": null,
   "id": "4ee83ea5",
   "metadata": {},
   "outputs": [],
   "source": []
  },
  {
   "cell_type": "markdown",
   "id": "878c7041",
   "metadata": {},
   "source": [
    "# Dynamic params selection "
   ]
  },
  {
   "cell_type": "code",
   "execution_count": 142,
   "id": "a9bed048",
   "metadata": {},
   "outputs": [],
   "source": [
    "metrics = [[\"sp\", \"sum of pairs\"], [\"tc\", \"total column\"], [\"column\", \"column\"]]\n",
    "metrics = [[\"tc\", \"total column\"]]"
   ]
  },
  {
   "cell_type": "markdown",
   "id": "e1983f72",
   "metadata": {},
   "source": [
    "## DyanmicX"
   ]
  },
  {
   "cell_type": "code",
   "execution_count": 31,
   "id": "4bf822f7",
   "metadata": {},
   "outputs": [],
   "source": [
    "stats_alignments_dynamic = stats_alignments[stats_alignments.method ==\"dynamic\"]"
   ]
  },
  {
   "cell_type": "code",
   "execution_count": 40,
   "id": "c9cfae07",
   "metadata": {},
   "outputs": [
    {
     "data": {
      "image/png": "[encoded data removed]",
      "text/plain": [
       "<Figure size 360x288 with 1 Axes>"
      ]
     },
     "metadata": {
      "needs_background": "light"
     },
     "output_type": "display_data"
    }
   ],
   "source": [
    "sns.set_context(\"talk\")\n",
    "#metrics = [[\"diff_sp\", \"sum of pairs\"], [\"diff_tc\", \"total column\"], [\"diff_column\", \"column\"]]\n",
    "\n",
    "for metric in metrics:\n",
    "    f, ax = plt.subplots(figsize=(5, 4))\n",
    "    sns.scatterplot(data=stats_alignments_dynamic, y=metric[0], x=\"n_sequences\", hue=\"dynamicX_val\",\n",
    "                    palette = \"magma\", s = 50)\n",
    "    plt.legend(bbox_to_anchor=(1.05, 1), loc=2, borderaxespad=0.)\n",
    "    ax.set(ylabel=  metric[1], xlabel='number of sequences')"
   ]
  },
  {
   "cell_type": "markdown",
   "id": "4bf07cd9",
   "metadata": {},
   "source": [
    "## parent aligner "
   ]
  },
  {
   "cell_type": "code",
   "execution_count": 43,
   "id": "382fa119",
   "metadata": {},
   "outputs": [
    {
     "data": {
      "image/png": "[encoded data removed]",
      "text/plain": [
       "<Figure size 360x288 with 1 Axes>"
      ]
     },
     "metadata": {
      "needs_background": "light"
     },
     "output_type": "display_data"
    }
   ],
   "source": [
    "for metric in metrics:\n",
    "    f, ax = plt.subplots(figsize=(5, 4))\n",
    "    sns.scatterplot(data=stats_alignments_dynamic, y=metric[0], x=\"n_sequences\", hue=\"master_msa\",s = 50)\n",
    "    plt.legend(bbox_to_anchor=(1.05, 1), loc=2, borderaxespad=0.)\n",
    "    ax.set(ylabel=  metric[1], xlabel='number of sequences')"
   ]
  },
  {
   "cell_type": "markdown",
   "id": "5f25fa21",
   "metadata": {},
   "source": [
    "# Performance"
   ]
  },
  {
   "cell_type": "code",
   "execution_count": 342,
   "id": "aca6d019",
   "metadata": {},
   "outputs": [
    {
     "name": "stdout",
     "output_type": "stream",
     "text": [
      "93681\n",
      "1068\n",
      "464\n"
     ]
    },
    {
     "data": {
      "text/plain": [
       "[Text(0.5, 0, 'number of sequences')]"
      ]
     },
     "execution_count": 342,
     "metadata": {},
     "output_type": "execute_result"
    },
    {
     "data": {
      "image/png": "[encoded data removed]",
      "text/plain": [
       "<Figure size 720x504 with 1 Axes>"
      ]
     },
     "metadata": {
      "needs_background": "light"
     },
     "output_type": "display_data"
    }
   ],
   "source": [
    "# try plotting with cumavg\n",
    "sns.set_context(\"talk\")\n",
    "# Only keep 10k sequences or more \n",
    "\n",
    "\n",
    "\n",
    "\n",
    "bin_window = 200\n",
    "n_bins = ceil((df.n_sequences.max()-df.n_sequences.min())/bin_window)\n",
    "print(df.n_sequences.max())\n",
    "print(df.n_sequences.min())\n",
    "print(n_bins)\n",
    "df = stats_alignments_full_sorted[stats_alignments_full_sorted.n_sequences>1000]\n",
    "df = df.sort_values(by=[\"n_sequences\"])\n",
    "df[\"seq_bin\"] = pd.cut(df.n_sequences, n_bins)\n",
    "bin_means = pd.DataFrame(df.groupby([\"seq_bin\", \"method\"])[\"tc\"].mean()).reset_index()\n",
    "bin_means.columns = ['seq_bin', \"method\", 'tc_binned']\n",
    "bin_means.head(1)\n",
    "df = pd.merge(df, bin_means, on = [\"seq_bin\",\"method\"])\n",
    "df.head(2)\n",
    "\n",
    "\n",
    "f, ax = plt.subplots(figsize=(10, 7))\n",
    "x = df.n_sequences\n",
    "y = (df.sort_values(by=[\"n_sequences\"])[\"tc_binned\"])\n",
    "hue = df[\"method\"]\n",
    "\n",
    "g_results = sns.lineplot(x = x, y = y, hue = hue)\n",
    "\n",
    "plt.legend(bbox_to_anchor=(1.05, 1), loc=2, borderaxespad=0.)\n",
    "ax.set(xlabel='number of sequences')"
   ]
  },
  {
   "cell_type": "code",
   "execution_count": 324,
   "id": "6dc239e6",
   "metadata": {},
   "outputs": [
    {
     "data": {
      "text/html": [
       "<div>\n",
       "<style scoped>\n",
       "    .dataframe tbody tr th:only-of-type {\n",
       "        vertical-align: middle;\n",
       "    }\n",
       "\n",
       "    .dataframe tbody tr th {\n",
       "        vertical-align: top;\n",
       "    }\n",
       "\n",
       "    .dataframe thead th {\n",
       "        text-align: right;\n",
       "    }\n",
       "</style>\n",
       "<table border=\"1\" class=\"dataframe\">\n",
       "  <thead>\n",
       "    <tr style=\"text-align: right;\">\n",
       "      <th></th>\n",
       "      <th>level_0</th>\n",
       "      <th>index</th>\n",
       "      <th>name</th>\n",
       "      <th>sp</th>\n",
       "      <th>tc</th>\n",
       "      <th>column</th>\n",
       "      <th>family</th>\n",
       "      <th>method</th>\n",
       "      <th>bucket_size</th>\n",
       "      <th>master_msa</th>\n",
       "      <th>...</th>\n",
       "      <th>min_length</th>\n",
       "      <th>max_length</th>\n",
       "      <th>file</th>\n",
       "      <th>size_group</th>\n",
       "      <th>perc_ref_total</th>\n",
       "      <th>approach</th>\n",
       "      <th>fam_approach</th>\n",
       "      <th>diff_tc</th>\n",
       "      <th>seq_bin</th>\n",
       "      <th>tc_binned</th>\n",
       "    </tr>\n",
       "  </thead>\n",
       "  <tbody>\n",
       "    <tr>\n",
       "      <th>0</th>\n",
       "      <td>246</td>\n",
       "      <td>238</td>\n",
       "      <td>gluts.regressive.50.FAMSA.FAMSA-medoid</td>\n",
       "      <td>89.400</td>\n",
       "      <td>72.100</td>\n",
       "      <td>77.400</td>\n",
       "      <td>gluts</td>\n",
       "      <td>regressive</td>\n",
       "      <td>50.000</td>\n",
       "      <td>FAMSA</td>\n",
       "      <td>...</td>\n",
       "      <td>41</td>\n",
       "      <td>224</td>\n",
       "      <td>gluts</td>\n",
       "      <td>large</td>\n",
       "      <td>0.139</td>\n",
       "      <td>regressive_50.0_FAMSA_nan_nan</td>\n",
       "      <td>gluts_regressive_50.0_FAMSA_nan_nan</td>\n",
       "      <td>-4.700</td>\n",
       "      <td>(10015.418, 10934.82]</td>\n",
       "      <td>58.900</td>\n",
       "    </tr>\n",
       "    <tr>\n",
       "      <th>1</th>\n",
       "      <td>245</td>\n",
       "      <td>192</td>\n",
       "      <td>gluts.regressive.1000.FAMSA.FAMSA-medoid</td>\n",
       "      <td>92.900</td>\n",
       "      <td>76.000</td>\n",
       "      <td>81.200</td>\n",
       "      <td>gluts</td>\n",
       "      <td>regressive</td>\n",
       "      <td>1000.000</td>\n",
       "      <td>FAMSA</td>\n",
       "      <td>...</td>\n",
       "      <td>41</td>\n",
       "      <td>224</td>\n",
       "      <td>gluts</td>\n",
       "      <td>large</td>\n",
       "      <td>0.139</td>\n",
       "      <td>regressive_1000.0_FAMSA_nan_nan</td>\n",
       "      <td>gluts_regressive_1000.0_FAMSA_nan_nan</td>\n",
       "      <td>-0.800</td>\n",
       "      <td>(10015.418, 10934.82]</td>\n",
       "      <td>58.900</td>\n",
       "    </tr>\n",
       "  </tbody>\n",
       "</table>\n",
       "<p>2 rows × 45 columns</p>\n",
       "</div>"
      ],
      "text/plain": [
       "   level_0  index                                      name     sp     tc  \\\n",
       "0      246    238    gluts.regressive.50.FAMSA.FAMSA-medoid 89.400 72.100   \n",
       "1      245    192  gluts.regressive.1000.FAMSA.FAMSA-medoid 92.900 76.000   \n",
       "\n",
       "   column family      method  bucket_size master_msa  ... min_length  \\\n",
       "0  77.400  gluts  regressive       50.000      FAMSA  ...         41   \n",
       "1  81.200  gluts  regressive     1000.000      FAMSA  ...         41   \n",
       "\n",
       "  max_length   file size_group perc_ref_total  \\\n",
       "0        224  gluts      large          0.139   \n",
       "1        224  gluts      large          0.139   \n",
       "\n",
       "                          approach                           fam_approach  \\\n",
       "0    regressive_50.0_FAMSA_nan_nan    gluts_regressive_50.0_FAMSA_nan_nan   \n",
       "1  regressive_1000.0_FAMSA_nan_nan  gluts_regressive_1000.0_FAMSA_nan_nan   \n",
       "\n",
       "   diff_tc                seq_bin  tc_binned  \n",
       "0   -4.700  (10015.418, 10934.82]     58.900  \n",
       "1   -0.800  (10015.418, 10934.82]     58.900  \n",
       "\n",
       "[2 rows x 45 columns]"
      ]
     },
     "execution_count": 324,
     "metadata": {},
     "output_type": "execute_result"
    }
   ],
   "source": []
  },
  {
   "cell_type": "code",
   "execution_count": 309,
   "id": "6d6f20b9",
   "metadata": {},
   "outputs": [],
   "source": []
  },
  {
   "cell_type": "markdown",
   "id": "9b1badb0",
   "metadata": {},
   "source": [
    "# Regressive"
   ]
  },
  {
   "cell_type": "code",
   "execution_count": 158,
   "id": "783ce65f",
   "metadata": {},
   "outputs": [],
   "source": [
    "stats_alignments_regressive = stats_alignments_full[stats_alignments_full.method ==\"regressive\"]"
   ]
  },
  {
   "cell_type": "markdown",
   "id": "1467b8f0",
   "metadata": {},
   "source": [
    "#### Which is the bucket size effect? "
   ]
  },
  {
   "cell_type": "code",
   "execution_count": 159,
   "id": "6f0f05bc",
   "metadata": {},
   "outputs": [
    {
     "data": {
      "text/plain": [
       "50.0      94\n",
       "1000.0    94\n",
       "Name: bucket_size, dtype: int64"
      ]
     },
     "execution_count": 159,
     "metadata": {},
     "output_type": "execute_result"
    }
   ],
   "source": [
    "stats_alignments_regressive.bucket_size.value_counts()"
   ]
  },
  {
   "cell_type": "code",
   "execution_count": 218,
   "id": "3500845d",
   "metadata": {},
   "outputs": [],
   "source": []
  },
  {
   "cell_type": "code",
   "execution_count": 250,
   "id": "0cda30b4",
   "metadata": {},
   "outputs": [],
   "source": [
    "\n",
    "stats_alignments_regressive = stats_alignments_regressive.sort_values(by = \"n_sequences\")\n",
    "stats_alignments_regressive[\"binned_seqs\"] = pd.cut(stats_alignments_regressive.sort_values(by = \"n_sequences\")['n_sequences'], n_bins)"
   ]
  },
  {
   "cell_type": "code",
   "execution_count": null,
   "id": "dbc0da1e",
   "metadata": {},
   "outputs": [],
   "source": []
  },
  {
   "cell_type": "markdown",
   "id": "85cf2e50",
   "metadata": {},
   "source": [
    "# ---------------------"
   ]
  },
  {
   "cell_type": "markdown",
   "id": "abb91172",
   "metadata": {},
   "source": [
    "## Plot average and std "
   ]
  },
  {
   "cell_type": "code",
   "execution_count": null,
   "id": "cf735061",
   "metadata": {},
   "outputs": [],
   "source": [
    "nonreg_co_co_full<- nonreg_co_co[nonreg_co_co$tag == 'full',]\n",
    "nonreg_co_co_ref<- nonreg_co_co[nonreg_co_co$tag == 'ref',]\n",
    "nonreg_co_co_full_sorted <- nonreg_co_co_full[order(-nonreg_co_co_full$nseqs),]\n",
    "nonreg_co_co_ref_sorted <- nonreg_co_co_ref[order(-nonreg_co_co_ref$nseqs),]\n",
    "nonreg_co_co_diff <-  nonreg_co_co_full_sorted$tc_score - nonreg_co_co_ref_sorted$tc_score \n",
    "nonreg_co_co_cumsum <- cumsum(nonreg_co_co_diff)\n",
    "nonreg_co_co_cumavg<-nonreg_co_co_cumsum/seq_along(nonreg_co_co_cumsum)\n",
    "nonreg_co_co_cumsd<-sqrt(cum_var(nonreg_co_co_cumavg))\n",
    "nonreg_co_co_cumsd[is.na(nonreg_co_co_cumsd)] <- 0\n",
    "\n",
    "def cumsum(x): \n",
    "    return(list(x).cumsum())\n",
    "def cum_var(x):\n",
    "    ind_na = x.notna()\n",
    "    nn = ind_na.cumsum()\n",
    "    x[x.isna()] = 0\n",
    "    cumsum(x^2) / (nn-1) - (cumsum(x))^2/(nn-1)/nn"
   ]
  }
 ],
 "metadata": {
  "kernelspec": {
   "display_name": "Python 3 (ipykernel)",
   "language": "python",
   "name": "python3"
  },
  "language_info": {
   "codemirror_mode": {
    "name": "ipython",
    "version": 3
   },
   "file_extension": ".py",
   "mimetype": "text/x-python",
   "name": "python",
   "nbconvert_exporter": "python",
   "pygments_lexer": "ipython3",
   "version": "3.8.10"
  }
 },
 "nbformat": 4,
 "nbformat_minor": 5
}
