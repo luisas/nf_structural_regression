{
 "cells": [
  {
   "cell_type": "markdown",
   "id": "e98512af",
   "metadata": {},
   "source": [
    "# COMPACT REG BENCHMARK "
   ]
  },
  {
   "cell_type": "markdown",
   "id": "f49fa68d",
   "metadata": {},
   "source": [
    "### 1. PARSE AND LOAD RESULTS"
   ]
  },
  {
   "cell_type": "code",
   "execution_count": 62,
   "id": "4a7a3707",
   "metadata": {},
   "outputs": [],
   "source": [
    "import os\n",
    "import pandas as pd\n",
    "import numpy as np\n",
    "import seaborn as sns\n",
    "import glob \n",
    "import matplotlib.pyplot as plt\n",
    "\n",
    "sns.set_context(\"talk\")\n",
    "data_dir = \"/home/luisasantus/Desktop/crg_cluster/projects/structural_regression/results/homfam/\"\n",
    "\n",
    "\n",
    "# load families summary\n",
    "summary_homfam_exthomfam = pd.read_csv(\"/home/luisasantus/Desktop/crg_cluster/data/structural_regression/stats/01_summary_homfam_exthomfam.csv\")\n",
    "summary_homfam = summary_homfam_exthomfam[summary_homfam_exthomfam.dataset == \"homfam\"]\n",
    "families = summary_homfam.drop([\"subset\", \"file\", \"min_length\", \"max_length\", \"perc_ref_total\", \"dataset\"], axis = 1)"
   ]
  },
  {
   "cell_type": "code",
   "execution_count": 63,
   "id": "e549c53c",
   "metadata": {},
   "outputs": [],
   "source": [
    "score_files = glob.glob(os.path.join(data_dir, \"evaluation/score/*regressive_comp_analysis*\"))\n",
    "gap_files = glob.glob(os.path.join(data_dir, \"evaluation/gaps/*regressive_comp_analysis*totGap\"))\n",
    "trace_files = glob.glob(os.path.join(data_dir, \"compact_benchmark/*/*/.command.trace\"))"
   ]
  },
  {
   "cell_type": "code",
   "execution_count": 64,
   "id": "a391542b",
   "metadata": {},
   "outputs": [],
   "source": [
    "# 1. PREP SCORES\n",
    "def get_scores(score_files): \n",
    "    def parse_score(score_file): \n",
    "        return(pd.read_csv(score_file,sep = \";\", header = None).drop(4, axis = 1))\n",
    "\n",
    "    scores = pd.concat(list(map(parse_score, score_files)))\n",
    "    scores = scores.iloc[:,0:4]\n",
    "    scores.columns = ['name', 'sp', 'tc', 'column']\n",
    "    #scores.name = scores.name.str.split(\".\", expand = True)[:-1]\n",
    "    scores[[\"family\", \"method\", \"bucket_size\", \"align_method\", \"tree_method\"]] = scores.name.str.split(\".\", expand = True)\n",
    "    scores = scores.drop(\"method\", axis = 1)\n",
    "    return(scores)\n",
    "\n",
    "# 2. PREP GAPS \n",
    "def get_gaps(files): \n",
    "    def parse_gaps(gap_file): \n",
    "        gaps = pd.read_csv(gap_file, header = None)\n",
    "        gaps[\"name\"] = os.path.splitext(os.path.basename(gap_file))[0]\n",
    "        return(gaps)\n",
    "    gaps = pd.concat(list(map(parse_gaps, files)))\n",
    "    gaps.columns = ['gaps', 'name']\n",
    "    return(gaps)\n",
    "\n",
    "# 3. PREP TRACES\n",
    "def get_traces(files): \n",
    "    def parse_trace(trace):\n",
    "        f = os.path.basename(os.path.dirname(trace))\n",
    "        df = pd.read_csv(trace, sep = \"=\").T\n",
    "        df[\"name\"] = f\n",
    "        return(df.reset_index().drop(\"index\", axis = 1))\n",
    "    \n",
    "    df = pd.concat(list(map(parse_trace, files)))\n",
    "    df = df[[\"name\", \"realtime\", \"vmem\"]]\n",
    "    return(df)\n",
    "\n",
    "# COMPUTE\n",
    "scores = get_scores(score_files)\n",
    "gaps = get_gaps(gap_files)\n",
    "traces = get_traces(trace_files)\n",
    "\n",
    "# MERGE ALL STATS\n",
    "stats = scores.merge(gaps, on = \"name\")\n",
    "stats = stats.merge(traces, on = \"name\")\n",
    "\n",
    "# and add families info \n",
    "stats = stats.merge(families, on = \"family\")"
   ]
  },
  {
   "cell_type": "code",
   "execution_count": 65,
   "id": "a93cd578",
   "metadata": {},
   "outputs": [],
   "source": [
    "stats[\"size_group\"] = pd.Categorical(stats.size_group, [\"small\", \"medium\", \"large\", \"xlarge\"])"
   ]
  },
  {
   "cell_type": "code",
   "execution_count": 66,
   "id": "74341f7a",
   "metadata": {},
   "outputs": [],
   "source": [
    "stats[\"bucket_size\"] = stats.bucket_size.astype(int) "
   ]
  },
  {
   "cell_type": "code",
   "execution_count": 67,
   "id": "b7ace89c",
   "metadata": {},
   "outputs": [],
   "source": [
    "stats[\"align_method\"] = pd.Categorical(stats.align_method, [\"expand\", \"compact\", \"quickcompact\"])"
   ]
  },
  {
   "cell_type": "code",
   "execution_count": 68,
   "id": "b6fc279f",
   "metadata": {},
   "outputs": [],
   "source": [
    "stats_filtered = stats[stats.family.isin(list(stats[stats.align_method == \"quickcompact\"].family))]\n",
    "stats_filtered = stats[stats.size_group.isin([\"large\", \"xlarge\"])]"
   ]
  },
  {
   "cell_type": "markdown",
   "id": "c80e5706",
   "metadata": {},
   "source": [
    "### 2. ANALYSIS"
   ]
  },
  {
   "cell_type": "markdown",
   "id": "6adb5be7",
   "metadata": {},
   "source": [
    "#### 1. SANITY CHECK: Does compact produce alignments with fewer gaps? "
   ]
  },
  {
   "cell_type": "code",
   "execution_count": 73,
   "id": "a6be16f6",
   "metadata": {},
   "outputs": [
    {
     "data": {
      "image/png": "[encoded data removed]",
      "text/plain": [
       "<Figure size 432x288 with 1 Axes>"
      ]
     },
     "metadata": {
      "needs_background": "light"
     },
     "output_type": "display_data"
    }
   ],
   "source": [
    "\n",
    "ax = sns.boxplot(data=stats_filtered, x=\"size_group\", y=\"realtime\", hue=\"align_method\")\n",
    "sns.move_legend(ax, \"upper left\", bbox_to_anchor=(1, 1))\n",
    "ax.set(xlabel='family size', ylabel='# of gaps')\n",
    "plt.yscale('log')\n"
   ]
  },
  {
   "cell_type": "code",
   "execution_count": null,
   "id": "cc96beec",
   "metadata": {},
   "outputs": [],
   "source": [
    "ax = sns.boxplot(data=stats_filtered, x=\"size_group\", y=\"gaps\", hue=\"align_method\")\n",
    "sns.move_legend(ax, \"upper left\", bbox_to_anchor=(1, 1))\n",
    "ax.set(xlabel='family size', ylabel='# of gaps')\n",
    "plt.yscale('log')\n"
   ]
  },
  {
   "cell_type": "code",
   "execution_count": 70,
   "id": "4e8c8e23",
   "metadata": {},
   "outputs": [
    {
     "data": {
      "image/png": "[encoded data removed]",
      "text/plain": [
       "<Figure size 720x360 with 1 Axes>"
      ]
     },
     "metadata": {
      "needs_background": "light"
     },
     "output_type": "display_data"
    }
   ],
   "source": [
    "# here on the large only \n",
    "plt.figure(figsize=(10,5))\n",
    "\n",
    "ax = sns.boxplot(data=stats_filtered, x=\"bucket_size\", y=\"gaps\", hue=\"align_method\")\n",
    "sns.move_legend(ax, \"upper left\", bbox_to_anchor=(1, 1))\n",
    "ax.set(xlabel='bucket size', ylabel='# of gaps')\n",
    "plt.yscale('log')"
   ]
  },
  {
   "cell_type": "code",
   "execution_count": 71,
   "id": "f841859a",
   "metadata": {},
   "outputs": [
    {
     "data": {
      "text/plain": [
       "[Text(0.5, 0, 'bucket size')]"
      ]
     },
     "execution_count": 71,
     "metadata": {},
     "output_type": "execute_result"
    },
    {
     "data": {
      "image/png": "[encoded data removed]",
      "text/plain": [
       "<Figure size 720x360 with 1 Axes>"
      ]
     },
     "metadata": {
      "needs_background": "light"
     },
     "output_type": "display_data"
    }
   ],
   "source": [
    "# here on the large only \n",
    "plt.figure(figsize=(10,5))\n",
    "\n",
    "ax = sns.boxplot(data=stats_filtered, x=\"bucket_size\", y=\"sp\", hue=\"align_method\")\n",
    "sns.move_legend(ax, \"upper left\", bbox_to_anchor=(1, 1))\n",
    "ax.set(xlabel='bucket size')\n"
   ]
  },
  {
   "cell_type": "code",
   "execution_count": 72,
   "id": "072d51cc",
   "metadata": {},
   "outputs": [
    {
     "data": {
      "text/plain": [
       "[Text(0.5, 0, 'bucket size')]"
      ]
     },
     "execution_count": 72,
     "metadata": {},
     "output_type": "execute_result"
    },
    {
     "data": {
      "image/png": "[encoded data removed]",
      "text/plain": [
       "<Figure size 720x360 with 1 Axes>"
      ]
     },
     "metadata": {
      "needs_background": "light"
     },
     "output_type": "display_data"
    }
   ],
   "source": [
    "# here on the large only \n",
    "plt.figure(figsize=(10,5))\n",
    "\n",
    "ax = sns.boxplot(data=stats_filtered, x=\"bucket_size\", y=\"realtime\", hue=\"align_method\")\n",
    "sns.move_legend(ax, \"upper left\", bbox_to_anchor=(1, 1))\n",
    "ax.set(xlabel='bucket size')\n"
   ]
  },
  {
   "cell_type": "code",
   "execution_count": 7,
   "id": "934ee24f",
   "metadata": {},
   "outputs": [],
   "source": [
    "# Plot with dots and family size \n",
    "# Number of gaps \n",
    "# Heatmap "
   ]
  },
  {
   "cell_type": "markdown",
   "id": "7ecbcb1f",
   "metadata": {},
   "source": [
    "#### Table with average across families "
   ]
  },
  {
   "cell_type": "code",
   "execution_count": 55,
   "id": "0743bc08",
   "metadata": {},
   "outputs": [
    {
     "data": {
      "text/html": [
       "<div>\n",
       "<style scoped>\n",
       "    .dataframe tbody tr th:only-of-type {\n",
       "        vertical-align: middle;\n",
       "    }\n",
       "\n",
       "    .dataframe tbody tr th {\n",
       "        vertical-align: top;\n",
       "    }\n",
       "\n",
       "    .dataframe thead th {\n",
       "        text-align: right;\n",
       "    }\n",
       "</style>\n",
       "<table border=\"1\" class=\"dataframe\">\n",
       "  <thead>\n",
       "    <tr style=\"text-align: right;\">\n",
       "      <th></th>\n",
       "      <th>align_method</th>\n",
       "      <th>sp_mean</th>\n",
       "      <th>tc_mean</th>\n",
       "      <th>gaps_mean</th>\n",
       "      <th>time_mean</th>\n",
       "    </tr>\n",
       "  </thead>\n",
       "  <tbody>\n",
       "    <tr>\n",
       "      <th>0</th>\n",
       "      <td>expand</td>\n",
       "      <td>71.1910</td>\n",
       "      <td>43.7775</td>\n",
       "      <td>1.301698e+08</td>\n",
       "      <td>140442.405</td>\n",
       "    </tr>\n",
       "    <tr>\n",
       "      <th>1</th>\n",
       "      <td>compact</td>\n",
       "      <td>71.4750</td>\n",
       "      <td>43.4775</td>\n",
       "      <td>5.357586e+07</td>\n",
       "      <td>206043.060</td>\n",
       "    </tr>\n",
       "    <tr>\n",
       "      <th>2</th>\n",
       "      <td>quickcompact</td>\n",
       "      <td>71.4625</td>\n",
       "      <td>43.4990</td>\n",
       "      <td>5.124614e+07</td>\n",
       "      <td>125312.500</td>\n",
       "    </tr>\n",
       "  </tbody>\n",
       "</table>\n",
       "</div>"
      ],
      "text/plain": [
       "   align_method  sp_mean  tc_mean     gaps_mean   time_mean\n",
       "0        expand  71.1910  43.7775  1.301698e+08  140442.405\n",
       "1       compact  71.4750  43.4775  5.357586e+07  206043.060\n",
       "2  quickcompact  71.4625  43.4990  5.124614e+07  125312.500"
      ]
     },
     "execution_count": 55,
     "metadata": {},
     "output_type": "execute_result"
    }
   ],
   "source": [
    "table_pooled = stats_filtered.groupby([ \"align_method\"], as_index = False).agg(\n",
    "    sp_mean=('sp',\"mean\"),\n",
    "    #sp_variance=('sp', \"var\"),    \n",
    "    tc_mean=('tc',\"mean\"),\n",
    "    #tc_variance=('tc', \"var\"), \n",
    "    gaps_mean=('gaps',\"mean\"),\n",
    "    time_mean=('realtime',\"mean\"),\n",
    "    #time_variance=('realtime', \"var\")\n",
    ")\n",
    "table_pooled"
   ]
  },
  {
   "cell_type": "code",
   "execution_count": 56,
   "id": "9e17b13c",
   "metadata": {},
   "outputs": [
    {
     "data": {
      "text/html": [
       "<div>\n",
       "<style scoped>\n",
       "    .dataframe tbody tr th:only-of-type {\n",
       "        vertical-align: middle;\n",
       "    }\n",
       "\n",
       "    .dataframe tbody tr th {\n",
       "        vertical-align: top;\n",
       "    }\n",
       "\n",
       "    .dataframe thead th {\n",
       "        text-align: right;\n",
       "    }\n",
       "</style>\n",
       "<table border=\"1\" class=\"dataframe\">\n",
       "  <thead>\n",
       "    <tr style=\"text-align: right;\">\n",
       "      <th></th>\n",
       "      <th>align_method</th>\n",
       "      <th>sp_mean</th>\n",
       "      <th>tc_mean</th>\n",
       "      <th>gaps_mean</th>\n",
       "      <th>time_mean</th>\n",
       "    </tr>\n",
       "  </thead>\n",
       "  <tbody>\n",
       "    <tr>\n",
       "      <th>0</th>\n",
       "      <td>expand</td>\n",
       "      <td>81.248404</td>\n",
       "      <td>57.916277</td>\n",
       "      <td>3.227990e+07</td>\n",
       "      <td>52974.745745</td>\n",
       "    </tr>\n",
       "    <tr>\n",
       "      <th>1</th>\n",
       "      <td>compact</td>\n",
       "      <td>81.498723</td>\n",
       "      <td>58.058617</td>\n",
       "      <td>1.438022e+07</td>\n",
       "      <td>73780.058511</td>\n",
       "    </tr>\n",
       "    <tr>\n",
       "      <th>2</th>\n",
       "      <td>quickcompact</td>\n",
       "      <td>71.863235</td>\n",
       "      <td>43.977941</td>\n",
       "      <td>5.024812e+07</td>\n",
       "      <td>123079.127451</td>\n",
       "    </tr>\n",
       "  </tbody>\n",
       "</table>\n",
       "</div>"
      ],
      "text/plain": [
       "   align_method    sp_mean    tc_mean     gaps_mean      time_mean\n",
       "0        expand  81.248404  57.916277  3.227990e+07   52974.745745\n",
       "1       compact  81.498723  58.058617  1.438022e+07   73780.058511\n",
       "2  quickcompact  71.863235  43.977941  5.024812e+07  123079.127451"
      ]
     },
     "execution_count": 56,
     "metadata": {},
     "output_type": "execute_result"
    }
   ],
   "source": [
    "table_pooled = stats.groupby([\"align_method\"], as_index = False).agg(\n",
    "    sp_mean=('sp',\"mean\"),\n",
    "    tc_mean=('tc',\"mean\"),\n",
    "    gaps_mean=('gaps',\"mean\"),\n",
    "    time_mean=('realtime',\"mean\"),\n",
    ")\n",
    "table_pooled"
   ]
  },
  {
   "cell_type": "code",
   "execution_count": 20,
   "id": "eb062a01",
   "metadata": {},
   "outputs": [
    {
     "data": {
      "text/html": [
       "<div>\n",
       "<style scoped>\n",
       "    .dataframe tbody tr th:only-of-type {\n",
       "        vertical-align: middle;\n",
       "    }\n",
       "\n",
       "    .dataframe tbody tr th {\n",
       "        vertical-align: top;\n",
       "    }\n",
       "\n",
       "    .dataframe thead th {\n",
       "        text-align: right;\n",
       "    }\n",
       "</style>\n",
       "<table border=\"1\" class=\"dataframe\">\n",
       "  <thead>\n",
       "    <tr style=\"text-align: right;\">\n",
       "      <th></th>\n",
       "      <th>bucket_size</th>\n",
       "      <th>align_method</th>\n",
       "      <th>sp_mean</th>\n",
       "      <th>tc_mean</th>\n",
       "      <th>gaps_mean</th>\n",
       "      <th>time_mean</th>\n",
       "    </tr>\n",
       "  </thead>\n",
       "  <tbody>\n",
       "    <tr>\n",
       "      <th>0</th>\n",
       "      <td>100</td>\n",
       "      <td>compact</td>\n",
       "      <td>64.066667</td>\n",
       "      <td>24.200000</td>\n",
       "      <td>1.158561e+08</td>\n",
       "      <td>362145.166667</td>\n",
       "    </tr>\n",
       "    <tr>\n",
       "      <th>1</th>\n",
       "      <td>100</td>\n",
       "      <td>expand</td>\n",
       "      <td>63.750000</td>\n",
       "      <td>24.100000</td>\n",
       "      <td>3.422154e+08</td>\n",
       "      <td>430318.833333</td>\n",
       "    </tr>\n",
       "    <tr>\n",
       "      <th>2</th>\n",
       "      <td>200</td>\n",
       "      <td>compact</td>\n",
       "      <td>67.733333</td>\n",
       "      <td>27.066667</td>\n",
       "      <td>1.053929e+08</td>\n",
       "      <td>383260.833333</td>\n",
       "    </tr>\n",
       "    <tr>\n",
       "      <th>3</th>\n",
       "      <td>200</td>\n",
       "      <td>expand</td>\n",
       "      <td>67.450000</td>\n",
       "      <td>27.100000</td>\n",
       "      <td>3.029779e+08</td>\n",
       "      <td>208053.666667</td>\n",
       "    </tr>\n",
       "    <tr>\n",
       "      <th>4</th>\n",
       "      <td>300</td>\n",
       "      <td>compact</td>\n",
       "      <td>67.933333</td>\n",
       "      <td>25.233333</td>\n",
       "      <td>1.044262e+08</td>\n",
       "      <td>560472.000000</td>\n",
       "    </tr>\n",
       "    <tr>\n",
       "      <th>5</th>\n",
       "      <td>300</td>\n",
       "      <td>expand</td>\n",
       "      <td>67.750000</td>\n",
       "      <td>25.216667</td>\n",
       "      <td>2.871332e+08</td>\n",
       "      <td>210238.833333</td>\n",
       "    </tr>\n",
       "    <tr>\n",
       "      <th>6</th>\n",
       "      <td>400</td>\n",
       "      <td>compact</td>\n",
       "      <td>68.416667</td>\n",
       "      <td>28.350000</td>\n",
       "      <td>9.569780e+07</td>\n",
       "      <td>304944.333333</td>\n",
       "    </tr>\n",
       "    <tr>\n",
       "      <th>7</th>\n",
       "      <td>400</td>\n",
       "      <td>expand</td>\n",
       "      <td>68.033333</td>\n",
       "      <td>28.700000</td>\n",
       "      <td>2.702615e+08</td>\n",
       "      <td>232372.666667</td>\n",
       "    </tr>\n",
       "    <tr>\n",
       "      <th>8</th>\n",
       "      <td>500</td>\n",
       "      <td>compact</td>\n",
       "      <td>70.733333</td>\n",
       "      <td>30.650000</td>\n",
       "      <td>9.890124e+07</td>\n",
       "      <td>345844.500000</td>\n",
       "    </tr>\n",
       "    <tr>\n",
       "      <th>9</th>\n",
       "      <td>500</td>\n",
       "      <td>expand</td>\n",
       "      <td>70.466667</td>\n",
       "      <td>31.383333</td>\n",
       "      <td>2.621861e+08</td>\n",
       "      <td>232510.666667</td>\n",
       "    </tr>\n",
       "    <tr>\n",
       "      <th>10</th>\n",
       "      <td>600</td>\n",
       "      <td>compact</td>\n",
       "      <td>69.550000</td>\n",
       "      <td>31.000000</td>\n",
       "      <td>9.497723e+07</td>\n",
       "      <td>309204.000000</td>\n",
       "    </tr>\n",
       "    <tr>\n",
       "      <th>11</th>\n",
       "      <td>600</td>\n",
       "      <td>expand</td>\n",
       "      <td>69.216667</td>\n",
       "      <td>30.683333</td>\n",
       "      <td>2.514487e+08</td>\n",
       "      <td>213484.000000</td>\n",
       "    </tr>\n",
       "    <tr>\n",
       "      <th>12</th>\n",
       "      <td>700</td>\n",
       "      <td>compact</td>\n",
       "      <td>70.433333</td>\n",
       "      <td>31.866667</td>\n",
       "      <td>8.977876e+07</td>\n",
       "      <td>330058.500000</td>\n",
       "    </tr>\n",
       "    <tr>\n",
       "      <th>13</th>\n",
       "      <td>700</td>\n",
       "      <td>expand</td>\n",
       "      <td>70.016667</td>\n",
       "      <td>31.583333</td>\n",
       "      <td>2.317987e+08</td>\n",
       "      <td>212135.333333</td>\n",
       "    </tr>\n",
       "    <tr>\n",
       "      <th>14</th>\n",
       "      <td>800</td>\n",
       "      <td>compact</td>\n",
       "      <td>70.600000</td>\n",
       "      <td>29.000000</td>\n",
       "      <td>8.677961e+07</td>\n",
       "      <td>317071.666667</td>\n",
       "    </tr>\n",
       "    <tr>\n",
       "      <th>15</th>\n",
       "      <td>800</td>\n",
       "      <td>expand</td>\n",
       "      <td>70.066667</td>\n",
       "      <td>29.183333</td>\n",
       "      <td>2.216056e+08</td>\n",
       "      <td>197059.666667</td>\n",
       "    </tr>\n",
       "    <tr>\n",
       "      <th>16</th>\n",
       "      <td>900</td>\n",
       "      <td>compact</td>\n",
       "      <td>68.900000</td>\n",
       "      <td>28.150000</td>\n",
       "      <td>8.703990e+07</td>\n",
       "      <td>312034.333333</td>\n",
       "    </tr>\n",
       "    <tr>\n",
       "      <th>17</th>\n",
       "      <td>900</td>\n",
       "      <td>expand</td>\n",
       "      <td>68.850000</td>\n",
       "      <td>27.933333</td>\n",
       "      <td>2.112091e+08</td>\n",
       "      <td>245442.333333</td>\n",
       "    </tr>\n",
       "    <tr>\n",
       "      <th>18</th>\n",
       "      <td>1000</td>\n",
       "      <td>compact</td>\n",
       "      <td>68.033333</td>\n",
       "      <td>23.300000</td>\n",
       "      <td>8.208571e+07</td>\n",
       "      <td>284702.000000</td>\n",
       "    </tr>\n",
       "    <tr>\n",
       "      <th>19</th>\n",
       "      <td>1000</td>\n",
       "      <td>expand</td>\n",
       "      <td>67.733333</td>\n",
       "      <td>23.183333</td>\n",
       "      <td>2.043592e+08</td>\n",
       "      <td>216353.666667</td>\n",
       "    </tr>\n",
       "  </tbody>\n",
       "</table>\n",
       "</div>"
      ],
      "text/plain": [
       "    bucket_size align_method    sp_mean    tc_mean     gaps_mean  \\\n",
       "0           100      compact  64.066667  24.200000  1.158561e+08   \n",
       "1           100       expand  63.750000  24.100000  3.422154e+08   \n",
       "2           200      compact  67.733333  27.066667  1.053929e+08   \n",
       "3           200       expand  67.450000  27.100000  3.029779e+08   \n",
       "4           300      compact  67.933333  25.233333  1.044262e+08   \n",
       "5           300       expand  67.750000  25.216667  2.871332e+08   \n",
       "6           400      compact  68.416667  28.350000  9.569780e+07   \n",
       "7           400       expand  68.033333  28.700000  2.702615e+08   \n",
       "8           500      compact  70.733333  30.650000  9.890124e+07   \n",
       "9           500       expand  70.466667  31.383333  2.621861e+08   \n",
       "10          600      compact  69.550000  31.000000  9.497723e+07   \n",
       "11          600       expand  69.216667  30.683333  2.514487e+08   \n",
       "12          700      compact  70.433333  31.866667  8.977876e+07   \n",
       "13          700       expand  70.016667  31.583333  2.317987e+08   \n",
       "14          800      compact  70.600000  29.000000  8.677961e+07   \n",
       "15          800       expand  70.066667  29.183333  2.216056e+08   \n",
       "16          900      compact  68.900000  28.150000  8.703990e+07   \n",
       "17          900       expand  68.850000  27.933333  2.112091e+08   \n",
       "18         1000      compact  68.033333  23.300000  8.208571e+07   \n",
       "19         1000       expand  67.733333  23.183333  2.043592e+08   \n",
       "\n",
       "        time_mean  \n",
       "0   362145.166667  \n",
       "1   430318.833333  \n",
       "2   383260.833333  \n",
       "3   208053.666667  \n",
       "4   560472.000000  \n",
       "5   210238.833333  \n",
       "6   304944.333333  \n",
       "7   232372.666667  \n",
       "8   345844.500000  \n",
       "9   232510.666667  \n",
       "10  309204.000000  \n",
       "11  213484.000000  \n",
       "12  330058.500000  \n",
       "13  212135.333333  \n",
       "14  317071.666667  \n",
       "15  197059.666667  \n",
       "16  312034.333333  \n",
       "17  245442.333333  \n",
       "18  284702.000000  \n",
       "19  216353.666667  "
      ]
     },
     "execution_count": 20,
     "metadata": {},
     "output_type": "execute_result"
    }
   ],
   "source": [
    "table_pooled = stats_xlarge.groupby([\"bucket_size\", \"align_method\"], as_index = False).agg(\n",
    "    sp_mean=('sp',\"mean\"),\n",
    "    tc_mean=('tc',\"mean\"),\n",
    "    gaps_mean=('gaps',\"mean\"),\n",
    "    time_mean=('realtime',\"mean\"),\n",
    ")\n",
    "table_pooled"
   ]
  },
  {
   "cell_type": "markdown",
   "id": "fa86e498",
   "metadata": {},
   "source": [
    "# Next questions, what about when using different trees? \n",
    "# Is it more resiliant "
   ]
  }
 ],
 "metadata": {
  "kernelspec": {
   "display_name": "Python 3 (ipykernel)",
   "language": "python",
   "name": "python3"
  },
  "language_info": {
   "codemirror_mode": {
    "name": "ipython",
    "version": 3
   },
   "file_extension": ".py",
   "mimetype": "text/x-python",
   "name": "python",
   "nbconvert_exporter": "python",
   "pygments_lexer": "ipython3",
   "version": "3.9.12"
  }
 },
 "nbformat": 4,
 "nbformat_minor": 5
}
