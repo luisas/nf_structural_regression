{
 "cells": [
  {
   "cell_type": "markdown",
   "id": "ecbd8bbe",
   "metadata": {},
   "source": [
    "# COMPACT REG BENCHMARK "
   ]
  },
  {
   "cell_type": "code",
   "execution_count": null,
   "id": "c05bb743",
   "metadata": {},
   "outputs": [],
   "source": [
    "TODO \n",
    "- error computation \n",
    "- evaluation scores same ? \n",
    "- prepare sanity check and evaluation plots and tables "
   ]
  },
  {
   "cell_type": "markdown",
   "id": "1dd18dec",
   "metadata": {},
   "source": [
    "### 1. PARSE AND LOAD RESULTS"
   ]
  },
  {
   "cell_type": "code",
   "execution_count": 28,
   "id": "98897c83",
   "metadata": {},
   "outputs": [],
   "source": [
    "import os\n",
    "import pandas as pd\n",
    "import numpy as np\n",
    "import seaborn as sns\n",
    "import glob \n",
    "sns.set_context(\"talk\")\n",
    "data_dir = \"/home/luisasantus/Desktop/crg_cluster/projects/structural_regression/results/homfam/\"\n",
    "\n",
    "\n",
    "# load families summary\n",
    "summary_homfam_exthomfam = pd.read_csv(\"/home/luisasantus/Desktop/crg_cluster/data/structural_regression/stats/01_summary_homfam_exthomfam.csv\")\n",
    "summary_homfam = summary_homfam_exthomfam[summary_homfam_exthomfam.dataset == \"homfam\"]\n",
    "families = summary_homfam.drop([\"subset\", \"file\", \"min_length\", \"max_length\", \"perc_ref_total\", \"dataset\"], axis = 1)"
   ]
  },
  {
   "cell_type": "code",
   "execution_count": 29,
   "id": "7ba7cb65",
   "metadata": {},
   "outputs": [],
   "source": [
    "score_files = glob.glob(os.path.join(data_dir, \"evaluation/score/*regressive_comp_analysis*\"))\n",
    "gap_files = glob.glob(os.path.join(data_dir, \"evaluation/gaps/*regressive_comp_analysis*totGap\"))\n",
    "trace_files = glob.glob(os.path.join(data_dir, \"compact_benchmark/*/*/.command.trace\"))"
   ]
  },
  {
   "cell_type": "code",
   "execution_count": 30,
   "id": "43278ec6",
   "metadata": {},
   "outputs": [],
   "source": [
    "# 1. PREP SCORES\n",
    "def get_scores(score_files): \n",
    "    def parse_score(score_file): \n",
    "        return(pd.read_csv(score_file,sep = \";\", header = None).drop(4, axis = 1))\n",
    "\n",
    "    scores = pd.concat(list(map(parse_score, score_files)))\n",
    "    scores = scores.iloc[:,0:4]\n",
    "    scores.columns = ['name', 'sp', 'tc', 'column']\n",
    "    #scores.name = scores.name.str.split(\".\", expand = True)[:-1]\n",
    "    scores[[\"family\", \"method\", \"bucket_size\", \"align_method\", \"tree_method\"]] = scores.name.str.split(\".\", expand = True)\n",
    "    scores = scores.drop(\"method\", axis = 1)\n",
    "    return(scores)\n",
    "\n",
    "# 2. PREP GAPS \n",
    "def get_gaps(files): \n",
    "    def parse_gaps(gap_file): \n",
    "        gaps = pd.read_csv(gap_file, header = None)\n",
    "        gaps[\"name\"] = os.path.splitext(os.path.basename(gap_file))[0]\n",
    "        return(gaps)\n",
    "    gaps = pd.concat(list(map(parse_gaps, files)))\n",
    "    gaps.columns = ['gaps', 'name']\n",
    "    return(gaps)\n",
    "\n",
    "# COMPUTE\n",
    "scores = get_scores(score_files)\n",
    "gaps = get_gaps(gap_files)\n",
    "\n",
    "# MERGE ALL STATS\n",
    "stats = scores.merge(gaps, on = \"name\")\n",
    "# and add families info \n",
    "stats = stats.merge(families, on = \"family\")"
   ]
  },
  {
   "cell_type": "code",
   "execution_count": 85,
   "id": "c7a15b33",
   "metadata": {},
   "outputs": [],
   "source": [
    "# Traces\n",
    "### parse trace files\n",
    "def parse_trace(trace):\n",
    "    df = pd.read_csv(trace, sep = \"=\").T\n",
    "    df = df.rename(index={'nextflow.trace/v2': f})\n",
    "    return(df)\n",
    "\n",
    "\n"
   ]
  },
  {
   "cell_type": "code",
   "execution_count": 32,
   "id": "42388ad0",
   "metadata": {},
   "outputs": [
    {
     "data": {
      "text/html": [
       "<div>\n",
       "<style scoped>\n",
       "    .dataframe tbody tr th:only-of-type {\n",
       "        vertical-align: middle;\n",
       "    }\n",
       "\n",
       "    .dataframe tbody tr th {\n",
       "        vertical-align: top;\n",
       "    }\n",
       "\n",
       "    .dataframe thead th {\n",
       "        text-align: right;\n",
       "    }\n",
       "</style>\n",
       "<table border=\"1\" class=\"dataframe\">\n",
       "  <thead>\n",
       "    <tr style=\"text-align: right;\">\n",
       "      <th></th>\n",
       "      <th>name</th>\n",
       "      <th>sp</th>\n",
       "      <th>tc</th>\n",
       "      <th>column</th>\n",
       "      <th>family</th>\n",
       "      <th>bucket_size</th>\n",
       "      <th>align_method</th>\n",
       "      <th>tree_method</th>\n",
       "      <th>gaps</th>\n",
       "      <th>n_sequences</th>\n",
       "      <th>mean_length</th>\n",
       "      <th>size_group</th>\n",
       "    </tr>\n",
       "  </thead>\n",
       "  <tbody>\n",
       "    <tr>\n",
       "      <th>0</th>\n",
       "      <td>rnasemam.regressive_comp_analysis.1000.compact...</td>\n",
       "      <td>93.6</td>\n",
       "      <td>73.1</td>\n",
       "      <td>83.1</td>\n",
       "      <td>rnasemam</td>\n",
       "      <td>1000</td>\n",
       "      <td>compact</td>\n",
       "      <td>MBED</td>\n",
       "      <td>25860</td>\n",
       "      <td>498</td>\n",
       "      <td>120.072289</td>\n",
       "      <td>small</td>\n",
       "    </tr>\n",
       "    <tr>\n",
       "      <th>1</th>\n",
       "      <td>rnasemam.regressive_comp_analysis.1000.expand....</td>\n",
       "      <td>93.6</td>\n",
       "      <td>73.1</td>\n",
       "      <td>83.1</td>\n",
       "      <td>rnasemam</td>\n",
       "      <td>1000</td>\n",
       "      <td>expand</td>\n",
       "      <td>MBED</td>\n",
       "      <td>25860</td>\n",
       "      <td>498</td>\n",
       "      <td>120.072289</td>\n",
       "      <td>small</td>\n",
       "    </tr>\n",
       "    <tr>\n",
       "      <th>2</th>\n",
       "      <td>hip.regressive_comp_analysis.1000.expand.MBED</td>\n",
       "      <td>86.9</td>\n",
       "      <td>65.5</td>\n",
       "      <td>72.4</td>\n",
       "      <td>hip</td>\n",
       "      <td>1000</td>\n",
       "      <td>expand</td>\n",
       "      <td>MBED</td>\n",
       "      <td>5643</td>\n",
       "      <td>167</td>\n",
       "      <td>66.209581</td>\n",
       "      <td>small</td>\n",
       "    </tr>\n",
       "    <tr>\n",
       "      <th>3</th>\n",
       "      <td>hip.regressive_comp_analysis.1000.compact.MBED</td>\n",
       "      <td>86.9</td>\n",
       "      <td>65.5</td>\n",
       "      <td>72.4</td>\n",
       "      <td>hip</td>\n",
       "      <td>1000</td>\n",
       "      <td>compact</td>\n",
       "      <td>MBED</td>\n",
       "      <td>5643</td>\n",
       "      <td>167</td>\n",
       "      <td>66.209581</td>\n",
       "      <td>small</td>\n",
       "    </tr>\n",
       "    <tr>\n",
       "      <th>4</th>\n",
       "      <td>egf.regressive_comp_analysis.1000.expand.MBED</td>\n",
       "      <td>64.2</td>\n",
       "      <td>17.6</td>\n",
       "      <td>30.6</td>\n",
       "      <td>egf</td>\n",
       "      <td>1000</td>\n",
       "      <td>expand</td>\n",
       "      <td>MBED</td>\n",
       "      <td>2090611</td>\n",
       "      <td>7774</td>\n",
       "      <td>32.076537</td>\n",
       "      <td>medium</td>\n",
       "    </tr>\n",
       "    <tr>\n",
       "      <th>5</th>\n",
       "      <td>HMG_box.regressive_comp_analysis.1000.compact....</td>\n",
       "      <td>94.6</td>\n",
       "      <td>81.5</td>\n",
       "      <td>89.7</td>\n",
       "      <td>HMG_box</td>\n",
       "      <td>1000</td>\n",
       "      <td>compact</td>\n",
       "      <td>MBED</td>\n",
       "      <td>778635</td>\n",
       "      <td>4779</td>\n",
       "      <td>66.071563</td>\n",
       "      <td>medium</td>\n",
       "    </tr>\n",
       "    <tr>\n",
       "      <th>6</th>\n",
       "      <td>HMG_box.regressive_comp_analysis.1000.expand.MBED</td>\n",
       "      <td>94.6</td>\n",
       "      <td>81.5</td>\n",
       "      <td>89.7</td>\n",
       "      <td>HMG_box</td>\n",
       "      <td>1000</td>\n",
       "      <td>expand</td>\n",
       "      <td>MBED</td>\n",
       "      <td>974574</td>\n",
       "      <td>4779</td>\n",
       "      <td>66.071563</td>\n",
       "      <td>medium</td>\n",
       "    </tr>\n",
       "    <tr>\n",
       "      <th>7</th>\n",
       "      <td>biotin_lipoyl.regressive_comp_analysis.1000.ex...</td>\n",
       "      <td>92.6</td>\n",
       "      <td>67.1</td>\n",
       "      <td>71.9</td>\n",
       "      <td>biotin_lipoyl</td>\n",
       "      <td>1000</td>\n",
       "      <td>expand</td>\n",
       "      <td>MBED</td>\n",
       "      <td>3432839</td>\n",
       "      <td>11833</td>\n",
       "      <td>71.892758</td>\n",
       "      <td>large</td>\n",
       "    </tr>\n",
       "  </tbody>\n",
       "</table>\n",
       "</div>"
      ],
      "text/plain": [
       "                                                name    sp    tc  column  \\\n",
       "0  rnasemam.regressive_comp_analysis.1000.compact...  93.6  73.1    83.1   \n",
       "1  rnasemam.regressive_comp_analysis.1000.expand....  93.6  73.1    83.1   \n",
       "2      hip.regressive_comp_analysis.1000.expand.MBED  86.9  65.5    72.4   \n",
       "3     hip.regressive_comp_analysis.1000.compact.MBED  86.9  65.5    72.4   \n",
       "4      egf.regressive_comp_analysis.1000.expand.MBED  64.2  17.6    30.6   \n",
       "5  HMG_box.regressive_comp_analysis.1000.compact....  94.6  81.5    89.7   \n",
       "6  HMG_box.regressive_comp_analysis.1000.expand.MBED  94.6  81.5    89.7   \n",
       "7  biotin_lipoyl.regressive_comp_analysis.1000.ex...  92.6  67.1    71.9   \n",
       "\n",
       "          family bucket_size align_method tree_method     gaps  n_sequences  \\\n",
       "0       rnasemam        1000      compact        MBED    25860          498   \n",
       "1       rnasemam        1000       expand        MBED    25860          498   \n",
       "2            hip        1000       expand        MBED     5643          167   \n",
       "3            hip        1000      compact        MBED     5643          167   \n",
       "4            egf        1000       expand        MBED  2090611         7774   \n",
       "5        HMG_box        1000      compact        MBED   778635         4779   \n",
       "6        HMG_box        1000       expand        MBED   974574         4779   \n",
       "7  biotin_lipoyl        1000       expand        MBED  3432839        11833   \n",
       "\n",
       "   mean_length size_group  \n",
       "0   120.072289      small  \n",
       "1   120.072289      small  \n",
       "2    66.209581      small  \n",
       "3    66.209581      small  \n",
       "4    32.076537     medium  \n",
       "5    66.071563     medium  \n",
       "6    66.071563     medium  \n",
       "7    71.892758      large  "
      ]
     },
     "execution_count": 32,
     "metadata": {},
     "output_type": "execute_result"
    }
   ],
   "source": [
    "stats"
   ]
  },
  {
   "cell_type": "markdown",
   "id": "7d27540b",
   "metadata": {},
   "source": [
    "### 2. ANALYSIS"
   ]
  },
  {
   "cell_type": "markdown",
   "id": "a216d0f2",
   "metadata": {},
   "source": [
    "#### 1. SANITY CHECK: Does compact produce alignments with fewer gaps? "
   ]
  },
  {
   "cell_type": "code",
   "execution_count": 31,
   "id": "1f31954b",
   "metadata": {},
   "outputs": [
    {
     "data": {
      "text/plain": [
       "[Text(0.5, 0, 'family size'), Text(0, 0.5, '# of gaps')]"
      ]
     },
     "execution_count": 31,
     "metadata": {},
     "output_type": "execute_result"
    },
    {
     "data": {
      "image/png": "[encoded data removed]",
      "text/plain": [
       "<Figure size 432x288 with 1 Axes>"
      ]
     },
     "metadata": {
      "needs_background": "light"
     },
     "output_type": "display_data"
    }
   ],
   "source": [
    "ax = sns.boxplot(data=stats, x=\"size_group\", y=\"gaps\", hue=\"align_method\")\n",
    "sns.move_legend(ax, \"upper left\", bbox_to_anchor=(1, 1))\n",
    "ax.set(xlabel='family size', ylabel='# of gaps')\n"
   ]
  },
  {
   "cell_type": "code",
   "execution_count": null,
   "id": "693b64ae",
   "metadata": {},
   "outputs": [],
   "source": [
    "# Table with SP, TC and column Score \n",
    "# Plot with dots and family size \n",
    "# Number of gaps \n",
    "# Heatmap "
   ]
  },
  {
   "cell_type": "markdown",
   "id": "d063d44f",
   "metadata": {},
   "source": [
    "#### Table with average across families "
   ]
  },
  {
   "cell_type": "code",
   "execution_count": 77,
   "id": "e03eaf32",
   "metadata": {},
   "outputs": [
    {
     "data": {
      "text/html": [
       "<div>\n",
       "<style scoped>\n",
       "    .dataframe tbody tr th:only-of-type {\n",
       "        vertical-align: middle;\n",
       "    }\n",
       "\n",
       "    .dataframe tbody tr th {\n",
       "        vertical-align: top;\n",
       "    }\n",
       "\n",
       "    .dataframe thead th {\n",
       "        text-align: right;\n",
       "    }\n",
       "</style>\n",
       "<table border=\"1\" class=\"dataframe\">\n",
       "  <thead>\n",
       "    <tr style=\"text-align: right;\">\n",
       "      <th></th>\n",
       "      <th>align_method</th>\n",
       "      <th>sp_mean</th>\n",
       "      <th>sp_variance</th>\n",
       "      <th>tc_mean</th>\n",
       "      <th>tc_variance</th>\n",
       "    </tr>\n",
       "  </thead>\n",
       "  <tbody>\n",
       "    <tr>\n",
       "      <th>0</th>\n",
       "      <td>compact</td>\n",
       "      <td>91.70</td>\n",
       "      <td>17.530</td>\n",
       "      <td>73.366667</td>\n",
       "      <td>64.053333</td>\n",
       "    </tr>\n",
       "    <tr>\n",
       "      <th>1</th>\n",
       "      <td>expand</td>\n",
       "      <td>86.38</td>\n",
       "      <td>162.652</td>\n",
       "      <td>60.960000</td>\n",
       "      <td>626.918000</td>\n",
       "    </tr>\n",
       "  </tbody>\n",
       "</table>\n",
       "</div>"
      ],
      "text/plain": [
       "  align_method  sp_mean  sp_variance    tc_mean  tc_variance\n",
       "0      compact    91.70       17.530  73.366667    64.053333\n",
       "1       expand    86.38      162.652  60.960000   626.918000"
      ]
     },
     "execution_count": 77,
     "metadata": {},
     "output_type": "execute_result"
    }
   ],
   "source": [
    "table_pooled = stats.groupby(\"align_method\", as_index = False).agg(\n",
    "    sp_mean=('sp',\"mean\"),\n",
    "    sp_variance=('sp', \"var\"),    \n",
    "    tc_mean=('tc',\"mean\"),\n",
    "    tc_variance=('tc', \"var\")\n",
    ")\n",
    "table_pooled"
   ]
  }
 ],
 "metadata": {
  "kernelspec": {
   "display_name": "Python 3 (ipykernel)",
   "language": "python",
   "name": "python3"
  },
  "language_info": {
   "codemirror_mode": {
    "name": "ipython",
    "version": 3
   },
   "file_extension": ".py",
   "mimetype": "text/x-python",
   "name": "python",
   "nbconvert_exporter": "python",
   "pygments_lexer": "ipython3",
   "version": "3.9.12"
  }
 },
 "nbformat": 4,
 "nbformat_minor": 5
}
