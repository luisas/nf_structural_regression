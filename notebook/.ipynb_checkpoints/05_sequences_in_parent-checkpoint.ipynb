{
 "cells": [
  {
   "cell_type": "markdown",
   "id": "264cd6ad",
   "metadata": {},
   "source": [
    "# Extract properties of sequences in parent buckets"
   ]
  },
  {
   "cell_type": "code",
   "execution_count": 118,
   "id": "f3d0c6d7",
   "metadata": {},
   "outputs": [],
   "source": [
    "import os\n",
    "import pandas as pd\n",
    "import numpy as np\n",
    "import seaborn as sns\n",
    "import matplotlib.pyplot as plt\n",
    "from os import listdir\n",
    "from os.path import isfile, join\n",
    "import matplotlib.ticker as ticker\n",
    "import sys\n",
    "from Bio import SeqIO\n",
    "from pathlib import Path"
   ]
  },
  {
   "cell_type": "code",
   "execution_count": 84,
   "id": "b0d1174f",
   "metadata": {},
   "outputs": [],
   "source": [
    "seqs_dir = \"/home/luisasantus/Desktop/crg_cluster/projects/structural_regression/results/homfam/seqs_extracted/\""
   ]
  },
  {
   "cell_type": "code",
   "execution_count": 221,
   "id": "181ff765",
   "metadata": {},
   "outputs": [],
   "source": [
    "summary_extracted_sequences = pd.DataFrame()\n",
    "for fam in listdir(seqs_dir):\n",
    "        family_dir=join(seqs_dir, fam)\n",
    "        fam_name = fam.split(\".\")[0]\n",
    "        for f in listdir(family_dir):\n",
    "            if f.endswith(\"fasta\"):\n",
    "                # Parse fasta file of extracted sequences \n",
    "                fasta_sequences = SeqIO.parse(open(os.path.join(family_dir,f)),'fasta')\n",
    "                for fasta in fasta_sequences:\n",
    "                    seq_id = [fasta.id.replace(\"/\",\"_\")]\n",
    "                    entry = pd.DataFrame({'sequence': seq_id, \"name\": [f.replace(\".PARENTS.fasta\",\"\").strip()]})\n",
    "                    summary_extracted_sequences =  pd.concat([summary_extracted_sequences, entry], ignore_index = True)"
   ]
  },
  {
   "cell_type": "code",
   "execution_count": 222,
   "id": "08cd3f78",
   "metadata": {},
   "outputs": [
    {
     "name": "stderr",
     "output_type": "stream",
     "text": [
      "/tmp/ipykernel_151386/3394631019.py:1: FutureWarning: The default value of regex will change from True to False in a future version.\n",
      "  summary_extracted_sequences[[\"family\", \"bucket_size\", \"tree\"]] = summary_extracted_sequences.name.str.replace(\"PARENTS.fasta\",\"\").str.split(\".\", expand =True).drop([3,4], axis = 1)\n"
     ]
    }
   ],
   "source": [
    "summary_extracted_sequences[[\"family\", \"bucket_size\", \"tree\"]] = summary_extracted_sequences.name.str.replace(\"PARENTS.fasta\",\"\").str.split(\".\", expand =True).drop([3,4], axis = 1)\n",
    "summary_extracted_sequences = summary_extracted_sequences[summary_extracted_sequences.bucket_size == \"50\"]"
   ]
  },
  {
   "cell_type": "code",
   "execution_count": 223,
   "id": "5ac12d71",
   "metadata": {},
   "outputs": [],
   "source": [
    "# get af2\n",
    "# Load AF2 scores\n",
    "af2 = pd.read_csv(\"/home/luisasantus/Desktop/crg_cluster/data/structural_regression/stats/02_summary_af2.csv\")\n",
    "af2_grouped = pd.read_csv(\"/home/luisasantus/Desktop/crg_cluster/data/structural_regression/stats/03_summary_af2_grouped.csv\")"
   ]
  },
  {
   "cell_type": "code",
   "execution_count": 224,
   "id": "7dc1d349",
   "metadata": {},
   "outputs": [],
   "source": [
    "summary_extracted_sequences_af2 = summary_extracted_sequences.merge(af2, on = [\"sequence\", \"family\"])\n",
    "summary_extracted_sequences_means = summary_extracted_sequences_af2.groupby(['family',\"benchmarking_dataset\", \"name\"]).agg({'plddt': ['mean', 'min', 'max']}).reset_index().set_axis([\"family\", \"benchmarking_dataset\", \"name\",\"plddt_mean_extracted\", \"plddt_min_extracted\", \"plddt_max_extracted\"], axis=1)\n",
    "summary_extracted_sequences_means.to_csv(os.path.join(\"/home/luisasantus/Desktop/crg_cluster/data/structural_regression/stats/\", \"03_summary_extracted_sequences.csv\"), index = False)"
   ]
  },
  {
   "cell_type": "code",
   "execution_count": 225,
   "id": "cd85e88b",
   "metadata": {},
   "outputs": [
    {
     "data": {
      "text/html": [
       "<div>\n",
       "<style scoped>\n",
       "    .dataframe tbody tr th:only-of-type {\n",
       "        vertical-align: middle;\n",
       "    }\n",
       "\n",
       "    .dataframe tbody tr th {\n",
       "        vertical-align: top;\n",
       "    }\n",
       "\n",
       "    .dataframe thead th {\n",
       "        text-align: right;\n",
       "    }\n",
       "</style>\n",
       "<table border=\"1\" class=\"dataframe\">\n",
       "  <thead>\n",
       "    <tr style=\"text-align: right;\">\n",
       "      <th></th>\n",
       "      <th>sequence</th>\n",
       "      <th>name</th>\n",
       "      <th>family</th>\n",
       "      <th>bucket_size</th>\n",
       "      <th>tree</th>\n",
       "      <th>plddt</th>\n",
       "      <th>benchmarking_dataset</th>\n",
       "    </tr>\n",
       "  </thead>\n",
       "  <tbody>\n",
       "    <tr>\n",
       "      <th>0</th>\n",
       "      <td>D0JGA0_YERPD_1-61</td>\n",
       "      <td>gpdh.50.FAMSA-medoid</td>\n",
       "      <td>gpdh</td>\n",
       "      <td>50</td>\n",
       "      <td>FAMSA-medoid</td>\n",
       "      <td>79.7719</td>\n",
       "      <td>homfam</td>\n",
       "    </tr>\n",
       "    <tr>\n",
       "      <th>1</th>\n",
       "      <td>B0FBT8_9BACI_1-37</td>\n",
       "      <td>gpdh.50.FAMSA-medoid</td>\n",
       "      <td>gpdh</td>\n",
       "      <td>50</td>\n",
       "      <td>FAMSA-medoid</td>\n",
       "      <td>74.1260</td>\n",
       "      <td>homfam</td>\n",
       "    </tr>\n",
       "  </tbody>\n",
       "</table>\n",
       "</div>"
      ],
      "text/plain": [
       "            sequence                  name family bucket_size          tree  \\\n",
       "0  D0JGA0_YERPD_1-61  gpdh.50.FAMSA-medoid   gpdh          50  FAMSA-medoid   \n",
       "1  B0FBT8_9BACI_1-37  gpdh.50.FAMSA-medoid   gpdh          50  FAMSA-medoid   \n",
       "\n",
       "     plddt benchmarking_dataset  \n",
       "0  79.7719               homfam  \n",
       "1  74.1260               homfam  "
      ]
     },
     "execution_count": 225,
     "metadata": {},
     "output_type": "execute_result"
    }
   ],
   "source": [
    "summary_extracted_sequences_af2.head(2)"
   ]
  },
  {
   "cell_type": "markdown",
   "id": "afbd8fbf",
   "metadata": {},
   "source": [
    "# Add % sequences in top bucket "
   ]
  },
  {
   "cell_type": "code",
   "execution_count": 226,
   "id": "1b2c6b2f",
   "metadata": {},
   "outputs": [],
   "source": [
    "# Get reference sequences \n",
    "def get_seq_names(f, extended = False):\n",
    "    fasta_sequences = SeqIO.parse(open(f),'fasta')\n",
    "    seqs = pd.DataFrame()\n",
    "    \n",
    "    for fasta in fasta_sequences:\n",
    "        name, sequence = fasta.id, str(fasta.seq)\n",
    "        entry = pd.DataFrame({'sequence': [fasta.id.replace(\"/\",\"_\")]})\n",
    "        seqs =  pd.concat([seqs, entry], ignore_index = True)\n",
    "    seqs[\"family\"] = Path(f).stem\n",
    "    return(seqs)"
   ]
  },
  {
   "cell_type": "code",
   "execution_count": 239,
   "id": "318db028",
   "metadata": {},
   "outputs": [],
   "source": [
    "homfam_path_ref = \"/home/luisasantus/Desktop/crg_cluster/data/structural_regression/homfam/refs\"\n",
    "ref_seqs = pd.DataFrame()\n",
    "for filename in os.listdir(homfam_path_ref):\n",
    "    f = os.path.join(homfam_path_ref, filename)\n",
    "    seq_names = get_seq_names(f)\n",
    "    seq_names[\"type\"] = \"reference\"\n",
    "    ref_seqs = pd.concat([ref_seqs, seq_names])\n",
    "ref_seqs.to_csv(os.path.join(\"/home/luisasantus/Desktop/crg_cluster/data/structural_regression/stats/\", \"02_summary_reference_sequences.csv\"), index = False)"
   ]
  },
  {
   "cell_type": "code",
   "execution_count": 240,
   "id": "7998298d",
   "metadata": {},
   "outputs": [],
   "source": [
    "# remove references \n",
    "summary_extracted_sequences = summary_extracted_sequences[summary_extracted_sequences.family.str.contains(\"_ref\") == False]\n",
    "summary_extracted_sequences = summary_extracted_sequences[summary_extracted_sequences.family.str.contains(\"test\") == False]\n",
    "summary_extracted_sequences = summary_extracted_sequences[summary_extracted_sequences.family.str.contains(\"_old\") == False]"
   ]
  },
  {
   "cell_type": "code",
   "execution_count": 241,
   "id": "ec0164ba",
   "metadata": {},
   "outputs": [
    {
     "data": {
      "text/html": [
       "<div>\n",
       "<style scoped>\n",
       "    .dataframe tbody tr th:only-of-type {\n",
       "        vertical-align: middle;\n",
       "    }\n",
       "\n",
       "    .dataframe tbody tr th {\n",
       "        vertical-align: top;\n",
       "    }\n",
       "\n",
       "    .dataframe thead th {\n",
       "        text-align: right;\n",
       "    }\n",
       "</style>\n",
       "<table border=\"1\" class=\"dataframe\">\n",
       "  <thead>\n",
       "    <tr style=\"text-align: right;\">\n",
       "      <th></th>\n",
       "      <th>name</th>\n",
       "      <th>bucket_size</th>\n",
       "      <th>type</th>\n",
       "    </tr>\n",
       "  </thead>\n",
       "  <tbody>\n",
       "    <tr>\n",
       "      <th>0</th>\n",
       "      <td>Acetyltransf.50.FAMSA-medoid</td>\n",
       "      <td>50</td>\n",
       "      <td>4</td>\n",
       "    </tr>\n",
       "    <tr>\n",
       "      <th>1</th>\n",
       "      <td>Ald_Xan_dh_2.50.FAMSA-medoid</td>\n",
       "      <td>50</td>\n",
       "      <td>6</td>\n",
       "    </tr>\n",
       "    <tr>\n",
       "      <th>2</th>\n",
       "      <td>ChtBD.50.FAMSA-medoid</td>\n",
       "      <td>50</td>\n",
       "      <td>3</td>\n",
       "    </tr>\n",
       "    <tr>\n",
       "      <th>3</th>\n",
       "      <td>DEATH.50.FAMSA-medoid</td>\n",
       "      <td>50</td>\n",
       "      <td>3</td>\n",
       "    </tr>\n",
       "    <tr>\n",
       "      <th>4</th>\n",
       "      <td>DMRL_synthase.50.FAMSA-medoid</td>\n",
       "      <td>50</td>\n",
       "      <td>3</td>\n",
       "    </tr>\n",
       "    <tr>\n",
       "      <th>...</th>\n",
       "      <td>...</td>\n",
       "      <td>...</td>\n",
       "      <td>...</td>\n",
       "    </tr>\n",
       "    <tr>\n",
       "      <th>91</th>\n",
       "      <td>tms.50.FAMSA-medoid</td>\n",
       "      <td>50</td>\n",
       "      <td>0</td>\n",
       "    </tr>\n",
       "    <tr>\n",
       "      <th>92</th>\n",
       "      <td>toxin.50.FAMSA-medoid</td>\n",
       "      <td>50</td>\n",
       "      <td>3</td>\n",
       "    </tr>\n",
       "    <tr>\n",
       "      <th>93</th>\n",
       "      <td>trfl.50.FAMSA-medoid</td>\n",
       "      <td>50</td>\n",
       "      <td>1</td>\n",
       "    </tr>\n",
       "    <tr>\n",
       "      <th>94</th>\n",
       "      <td>uce.50.FAMSA-medoid</td>\n",
       "      <td>50</td>\n",
       "      <td>1</td>\n",
       "    </tr>\n",
       "    <tr>\n",
       "      <th>95</th>\n",
       "      <td>zf-CCHH.50.FAMSA-medoid</td>\n",
       "      <td>50</td>\n",
       "      <td>3</td>\n",
       "    </tr>\n",
       "  </tbody>\n",
       "</table>\n",
       "<p>96 rows × 3 columns</p>\n",
       "</div>"
      ],
      "text/plain": [
       "                             name bucket_size  type\n",
       "0    Acetyltransf.50.FAMSA-medoid          50     4\n",
       "1    Ald_Xan_dh_2.50.FAMSA-medoid          50     6\n",
       "2           ChtBD.50.FAMSA-medoid          50     3\n",
       "3           DEATH.50.FAMSA-medoid          50     3\n",
       "4   DMRL_synthase.50.FAMSA-medoid          50     3\n",
       "..                            ...         ...   ...\n",
       "91            tms.50.FAMSA-medoid          50     0\n",
       "92          toxin.50.FAMSA-medoid          50     3\n",
       "93           trfl.50.FAMSA-medoid          50     1\n",
       "94            uce.50.FAMSA-medoid          50     1\n",
       "95        zf-CCHH.50.FAMSA-medoid          50     3\n",
       "\n",
       "[96 rows x 3 columns]"
      ]
     },
     "execution_count": 241,
     "metadata": {},
     "output_type": "execute_result"
    }
   ],
   "source": [
    "refs_in_bucket = pd.DataFrame(summary_extracted_sequences.merge(ref_seqs, on = [\"family\",\"sequence\"], how = \"outer\").groupby([\"name\",\"bucket_size\"]).count()[\"type\"]).reset_index()\n",
    "refs_in_bucket"
   ]
  },
  {
   "cell_type": "code",
   "execution_count": 291,
   "id": "93e80ad5",
   "metadata": {},
   "outputs": [],
   "source": [
    "refs_in_bucket = pd.DataFrame(summary_extracted_sequences.merge(ref_seqs, on = [\"family\",\"sequence\"], how = \"outer\").groupby([\"family\",\"bucket_size\"]).count()[\"type\"]).reset_index()\n",
    "refs_in_bucket[\"bucket_size\"] = pd.to_numeric(refs_in_bucket.bucket_size)\n",
    "refs_in_bucket[\"perc_refs_extracted\"] = refs_in_bucket.type*100/(refs_in_bucket.bucket_size)\n",
    "refs_in_bucket.to_csv(os.path.join(\"/home/luisasantus/Desktop/crg_cluster/data/structural_regression/stats/\", \"02_summary_reference_in_bucket.csv\"), index = False)"
   ]
  },
  {
   "cell_type": "markdown",
   "id": "838e00b2",
   "metadata": {},
   "source": [
    "# Distribution of # of sequences in parent bucket ? "
   ]
  },
  {
   "cell_type": "code",
   "execution_count": 252,
   "id": "0326d0f2",
   "metadata": {},
   "outputs": [
    {
     "data": {
      "text/plain": [
       "<seaborn.axisgrid.FacetGrid at 0x7fb9f4eb0dc0>"
      ]
     },
     "execution_count": 252,
     "metadata": {},
     "output_type": "execute_result"
    },
    {
     "data": {
      "image/png": "[encoded data removed]",
      "text/plain": [
       "<Figure size 360x360 with 1 Axes>"
      ]
     },
     "metadata": {
      "needs_background": "light"
     },
     "output_type": "display_data"
    }
   ],
   "source": [
    "sns.set_context(\"talk\")\n",
    "ax = sns.displot(refs_in_bucket, x=\"perc\", color = \"#69d\")\n",
    "ax.set(xlabel=\"% reference sequences in parent bucket\", ylabel = \"count\", title = \"homfam \\n n= \"+ str(len(refs_in_bucket.family.unique())))    "
   ]
  },
  {
   "cell_type": "markdown",
   "id": "bedfce9c",
   "metadata": {},
   "source": [
    "# % in parent bucket vs # seqs"
   ]
  },
  {
   "cell_type": "code",
   "execution_count": 263,
   "id": "358433bc",
   "metadata": {},
   "outputs": [
    {
     "data": {
      "text/html": [
       "<div>\n",
       "<style scoped>\n",
       "    .dataframe tbody tr th:only-of-type {\n",
       "        vertical-align: middle;\n",
       "    }\n",
       "\n",
       "    .dataframe tbody tr th {\n",
       "        vertical-align: top;\n",
       "    }\n",
       "\n",
       "    .dataframe thead th {\n",
       "        text-align: right;\n",
       "    }\n",
       "</style>\n",
       "<table border=\"1\" class=\"dataframe\">\n",
       "  <thead>\n",
       "    <tr style=\"text-align: right;\">\n",
       "      <th></th>\n",
       "      <th>family</th>\n",
       "      <th>subset</th>\n",
       "      <th>n_sequences</th>\n",
       "      <th>mean_length</th>\n",
       "      <th>min_length</th>\n",
       "      <th>max_length</th>\n",
       "      <th>file</th>\n",
       "      <th>size_group</th>\n",
       "      <th>perc_ref_total</th>\n",
       "      <th>benchmarking_dataset</th>\n",
       "    </tr>\n",
       "  </thead>\n",
       "  <tbody>\n",
       "    <tr>\n",
       "      <th>0</th>\n",
       "      <td>rvp</td>\n",
       "      <td>combined</td>\n",
       "      <td>93681</td>\n",
       "      <td>94.288554</td>\n",
       "      <td>22</td>\n",
       "      <td>133</td>\n",
       "      <td>rvp</td>\n",
       "      <td>xlarge</td>\n",
       "      <td>0.006405</td>\n",
       "      <td>homfam</td>\n",
       "    </tr>\n",
       "    <tr>\n",
       "      <th>1</th>\n",
       "      <td>zf-CCHH</td>\n",
       "      <td>combined</td>\n",
       "      <td>88345</td>\n",
       "      <td>23.251265</td>\n",
       "      <td>12</td>\n",
       "      <td>35</td>\n",
       "      <td>zf-CCHH</td>\n",
       "      <td>xlarge</td>\n",
       "      <td>0.016979</td>\n",
       "      <td>homfam</td>\n",
       "    </tr>\n",
       "  </tbody>\n",
       "</table>\n",
       "</div>"
      ],
      "text/plain": [
       "    family    subset  n_sequences  mean_length  min_length  max_length  \\\n",
       "0      rvp  combined        93681    94.288554          22         133   \n",
       "1  zf-CCHH  combined        88345    23.251265          12          35   \n",
       "\n",
       "      file size_group  perc_ref_total benchmarking_dataset  \n",
       "0      rvp     xlarge        0.006405               homfam  \n",
       "1  zf-CCHH     xlarge        0.016979               homfam  "
      ]
     },
     "execution_count": 263,
     "metadata": {},
     "output_type": "execute_result"
    }
   ],
   "source": [
    "#### Load datasets informations (Homfam + extHomfam)\n",
    "summary_homfam_exthomfam = pd.read_csv(\"/home/luisasantus/Desktop/crg_cluster/data/structural_regression/stats/01_summary_homfam_exthomfam.csv\")\n",
    "summary_homfam_exthomfam = summary_homfam_exthomfam.rename(columns={\"dataset\": \"benchmarking_dataset\"})\n",
    "summary_homfam = summary_homfam_exthomfam[summary_homfam_exthomfam.benchmarking_dataset == \"homfam\"]\n",
    "summary_homfam.head(2)"
   ]
  },
  {
   "cell_type": "code",
   "execution_count": 289,
   "id": "f3fae10e",
   "metadata": {},
   "outputs": [
    {
     "data": {
      "text/plain": [
       "[Text(0.5, 0, '% reference sequences in parent bucket'),\n",
       " Text(0, 0.5, '# of sequences'),\n",
       " Text(0.5, 1.0, 'homfam \\n n= 94')]"
      ]
     },
     "execution_count": 289,
     "metadata": {},
     "output_type": "execute_result"
    },
    {
     "data": {
      "image/png": "[encoded data removed]",
      "text/plain": [
       "<Figure size 360x360 with 1 Axes>"
      ]
     },
     "metadata": {
      "needs_background": "light"
     },
     "output_type": "display_data"
    }
   ],
   "source": [
    "df = summary_homfam.merge(refs_in_bucket, on = [\"family\"], how = \"outer\")\n",
    "sns.set_context(\"talk\")\n",
    "f, ax = plt.subplots(figsize=(5, 5))\n",
    "\n",
    "sns.kdeplot(data = df, x=\"perc\", y = \"n_sequences\", fill = True)\n",
    "ax.set_xlim(left=0)\n",
    "ax.set_ylim(bottom=0)\n",
    "ax.set(xlabel=\"% reference sequences in parent bucket\", ylabel = \"# of sequences\", title = \"homfam \\n n= \"+ str(len(df.family.unique())))    "
   ]
  },
  {
   "cell_type": "code",
   "execution_count": null,
   "id": "9fe4dfff",
   "metadata": {},
   "outputs": [],
   "source": []
  },
  {
   "cell_type": "code",
   "execution_count": null,
   "id": "a5d1be52",
   "metadata": {},
   "outputs": [],
   "source": []
  },
  {
   "cell_type": "code",
   "execution_count": null,
   "id": "28a81710",
   "metadata": {},
   "outputs": [],
   "source": []
  }
 ],
 "metadata": {
  "kernelspec": {
   "display_name": "Python 3 (ipykernel)",
   "language": "python",
   "name": "python3"
  },
  "language_info": {
   "codemirror_mode": {
    "name": "ipython",
    "version": 3
   },
   "file_extension": ".py",
   "mimetype": "text/x-python",
   "name": "python",
   "nbconvert_exporter": "python",
   "pygments_lexer": "ipython3",
   "version": "3.8.10"
  }
 },
 "nbformat": 4,
 "nbformat_minor": 5
}
