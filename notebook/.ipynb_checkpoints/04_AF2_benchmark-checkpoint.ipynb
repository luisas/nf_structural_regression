{
 "cells": [
  {
   "cell_type": "markdown",
   "id": "ff73cb53",
   "metadata": {},
   "source": [
    "# AF2 predictions benchmark "
   ]
  },
  {
   "cell_type": "code",
   "execution_count": 45,
   "id": "e8344f01",
   "metadata": {},
   "outputs": [],
   "source": [
    "import json\n",
    "import os\n",
    "import pandas as pd\n",
    "import glob\n",
    "results_dir = \"/home/luisasantus/Desktop/crg_cluster/projects/structural_regression/results/\""
   ]
  },
  {
   "cell_type": "code",
   "execution_count": 88,
   "id": "d88bc587",
   "metadata": {},
   "outputs": [],
   "source": [
    "def get_plddt(results_dir, dataset):\n",
    "    colabfold_dir = results_dir+dataset+\"/structures/colabfold_header/\"\n",
    "    for fam in os.listdir(colabfold_dir):\n",
    "        fam_dir = os.path.join(colabfold_dir,fam)\n",
    "        fam_dir = os.path.join(fam_dir, \"hip_colabfold\")\n",
    "        for f in os.listdir(fam_dir):\n",
    "            if f.endswith('plddt.eval'):\n",
    "                plddts = pd.read_csv(os.path.join(fam_dir,f), sep = \"\\s+\", header = None)\n",
    "                plddts = plddts.set_axis([\"sequence\", \"plddt\"], axis=1)\n",
    "                plddts[\"family\"] = fam\n",
    "                plddts[\"benchmarking_dataset\"] = dataset\n",
    "                return(plddts)"
   ]
  },
  {
   "cell_type": "code",
   "execution_count": 91,
   "id": "88b5757b",
   "metadata": {},
   "outputs": [
    {
     "data": {
      "text/html": [
       "<div>\n",
       "<style scoped>\n",
       "    .dataframe tbody tr th:only-of-type {\n",
       "        vertical-align: middle;\n",
       "    }\n",
       "\n",
       "    .dataframe tbody tr th {\n",
       "        vertical-align: top;\n",
       "    }\n",
       "\n",
       "    .dataframe thead th {\n",
       "        text-align: right;\n",
       "    }\n",
       "</style>\n",
       "<table border=\"1\" class=\"dataframe\">\n",
       "  <thead>\n",
       "    <tr style=\"text-align: right;\">\n",
       "      <th></th>\n",
       "      <th>sequence</th>\n",
       "      <th>plddt</th>\n",
       "      <th>family</th>\n",
       "      <th>benchmarking_dataset</th>\n",
       "    </tr>\n",
       "  </thead>\n",
       "  <tbody>\n",
       "    <tr>\n",
       "      <th>0</th>\n",
       "      <td>1ahl</td>\n",
       "      <td>66.917</td>\n",
       "      <td>hip</td>\n",
       "      <td>homfam</td>\n",
       "    </tr>\n",
       "  </tbody>\n",
       "</table>\n",
       "</div>"
      ],
      "text/plain": [
       "  sequence   plddt family benchmarking_dataset\n",
       "0     1ahl  66.917    hip               homfam"
      ]
     },
     "execution_count": 91,
     "metadata": {},
     "output_type": "execute_result"
    }
   ],
   "source": [
    "# Extract plddt for each sequence in the family\n",
    "af2_homfam = get_plddt(results_dir, \"homfam\")\n",
    "af2_homfam.head(1)"
   ]
  },
  {
   "cell_type": "code",
   "execution_count": 106,
   "id": "62164d1a",
   "metadata": {},
   "outputs": [
    {
     "data": {
      "text/html": [
       "<div>\n",
       "<style scoped>\n",
       "    .dataframe tbody tr th:only-of-type {\n",
       "        vertical-align: middle;\n",
       "    }\n",
       "\n",
       "    .dataframe tbody tr th {\n",
       "        vertical-align: top;\n",
       "    }\n",
       "\n",
       "    .dataframe thead th {\n",
       "        text-align: right;\n",
       "    }\n",
       "</style>\n",
       "<table border=\"1\" class=\"dataframe\">\n",
       "  <thead>\n",
       "    <tr style=\"text-align: right;\">\n",
       "      <th></th>\n",
       "      <th>family</th>\n",
       "      <th>benchmarking_dataset</th>\n",
       "      <th>plddt_mean</th>\n",
       "      <th>plddt_min</th>\n",
       "      <th>plddt_max</th>\n",
       "    </tr>\n",
       "  </thead>\n",
       "  <tbody>\n",
       "    <tr>\n",
       "      <th>0</th>\n",
       "      <td>hip</td>\n",
       "      <td>homfam</td>\n",
       "      <td>71.948558</td>\n",
       "      <td>55.1243</td>\n",
       "      <td>82.6511</td>\n",
       "    </tr>\n",
       "  </tbody>\n",
       "</table>\n",
       "</div>"
      ],
      "text/plain": [
       "  family benchmarking_dataset  plddt_mean  plddt_min  plddt_max\n",
       "0    hip               homfam   71.948558    55.1243    82.6511"
      ]
     },
     "execution_count": 106,
     "metadata": {},
     "output_type": "execute_result"
    }
   ],
   "source": [
    "# Summarize plddt family-wise\n",
    "af2_homfam_summary = af2_homfam.groupby(['family', \"benchmarking_dataset\"]).agg({'plddt': ['mean', 'min', 'max']}).reset_index().set_axis([\"family\", \"benchmarking_dataset\", \"plddt_mean\", \"plddt_min\", \"plddt_max\"], axis=1)\n",
    "af2_homfam_summary.head()"
   ]
  }
 ],
 "metadata": {
  "kernelspec": {
   "display_name": "Python 3 (ipykernel)",
   "language": "python",
   "name": "python3"
  },
  "language_info": {
   "codemirror_mode": {
    "name": "ipython",
    "version": 3
   },
   "file_extension": ".py",
   "mimetype": "text/x-python",
   "name": "python",
   "nbconvert_exporter": "python",
   "pygments_lexer": "ipython3",
   "version": "3.8.10"
  }
 },
 "nbformat": 4,
 "nbformat_minor": 5
}
