{
 "cells": [
  {
   "cell_type": "markdown",
   "id": "272ee916",
   "metadata": {},
   "source": [
    "# Benchmark structural regression "
   ]
  },
  {
   "cell_type": "code",
   "execution_count": 198,
   "id": "7f8c5eba",
   "metadata": {},
   "outputs": [],
   "source": [
    "import os\n",
    "import pandas as pd\n",
    "import numpy as np\n",
    "import seaborn as sns\n",
    "import matplotlib.pyplot as plt\n",
    "from os import listdir\n",
    "from os.path import isfile, join"
   ]
  },
  {
   "cell_type": "code",
   "execution_count": 667,
   "id": "ec5e464c",
   "metadata": {},
   "outputs": [],
   "source": [
    "evaluation_dir = \"/home/luisasantus/Desktop/crg_cluster/projects/structural_regression/results/\""
   ]
  },
  {
   "cell_type": "code",
   "execution_count": 754,
   "id": "6105fd52",
   "metadata": {},
   "outputs": [],
   "source": [
    "### parse trace files\n",
    "def parse_trace(result_dir):\n",
    "    f = os.path.basename(result_dir)\n",
    "    name_trace = \".command.trace\"\n",
    "    trace = join(result_dir, name_trace)\n",
    "    df = pd.read_csv(trace, sep = \"=\").T\n",
    "    df = df.rename(index={'nextflow.trace/v2': f})\n",
    "    return(df)\n",
    "\n",
    "def split_name(df):\n",
    "    df[[\"family\", \"method\", \"bucket_size\", \"dynamicX_label\",\"dynamicX_val\",\n",
    "               \"master_msa\", \"master_batch\",\n",
    "               \"slave_msa\", \"slave_batch\",\"tree\"]] = df.name.str.split(\".\", expand = True)\n",
    "    return(df)\n",
    "\n",
    "\n",
    "### Collect all computation files across directories \n",
    "def get_computation_times(evaluation_dir, dataset, task, extralevel = False):\n",
    "    # Extract trace files w/ corresponding alignments\n",
    "    traces = pd.DataFrame()\n",
    "    alignments_dir = join(evaluation_dir,task)\n",
    "    for fam in listdir(alignments_dir):\n",
    "        family_dir=join(alignments_dir, fam)\n",
    "        \n",
    "        # remove extra level if needed\n",
    "        if extralevel == False:\n",
    "            family_dir = alignments_dir\n",
    "            \n",
    "        for f in listdir(family_dir):\n",
    "            result_dir = join(family_dir,f)\n",
    "            if(os.path.isdir(result_dir)):\n",
    "                df = parse_trace(result_dir)\n",
    "                traces = traces.append(df)\n",
    "        if extralevel == False:\n",
    "            break\n",
    "    print(\"Iteration done\")\n",
    "    # Trace files parsed\n",
    "    traces = traces.reset_index(level=0)\n",
    "    traces = traces.rename(columns={'index': 'name'})\n",
    "    traces[\"benchmarking_dataset\"] = dataset\n",
    "    traces = split_name(traces)\n",
    "    print(\"--\")\n",
    "    traces[\"task\"] = task\n",
    "    return(traces)"
   ]
  },
  {
   "cell_type": "code",
   "execution_count": 325,
   "id": "b67a8649",
   "metadata": {},
   "outputs": [],
   "source": [
    "def add_families(trees_traces):\n",
    "    trees_traces[\"family\"] = trees_traces.name.str.split(\".\",expand=True)[0]\n",
    "    trees_traces[\"tree_method\"] = trees_traces.name.str.split(\".\",expand=True)[1]\n",
    "    return(trees_traces)"
   ]
  },
  {
   "cell_type": "markdown",
   "id": "ee76e76a",
   "metadata": {},
   "source": [
    "#### Load datasets informations (Homfam + extHomfam)"
   ]
  },
  {
   "cell_type": "code",
   "execution_count": 617,
   "id": "1c0dba27",
   "metadata": {},
   "outputs": [
    {
     "data": {
      "text/html": [
       "<div>\n",
       "<style scoped>\n",
       "    .dataframe tbody tr th:only-of-type {\n",
       "        vertical-align: middle;\n",
       "    }\n",
       "\n",
       "    .dataframe tbody tr th {\n",
       "        vertical-align: top;\n",
       "    }\n",
       "\n",
       "    .dataframe thead th {\n",
       "        text-align: right;\n",
       "    }\n",
       "</style>\n",
       "<table border=\"1\" class=\"dataframe\">\n",
       "  <thead>\n",
       "    <tr style=\"text-align: right;\">\n",
       "      <th></th>\n",
       "      <th>family</th>\n",
       "      <th>subset</th>\n",
       "      <th>n_sequences</th>\n",
       "      <th>mean_length</th>\n",
       "      <th>min_length</th>\n",
       "      <th>max_length</th>\n",
       "      <th>file</th>\n",
       "      <th>size_group</th>\n",
       "      <th>perc_ref_total</th>\n",
       "      <th>benchmarking_dataset</th>\n",
       "    </tr>\n",
       "  </thead>\n",
       "  <tbody>\n",
       "    <tr>\n",
       "      <th>0</th>\n",
       "      <td>rvp</td>\n",
       "      <td>combined</td>\n",
       "      <td>93681</td>\n",
       "      <td>94.288554</td>\n",
       "      <td>22</td>\n",
       "      <td>133</td>\n",
       "      <td>rvp</td>\n",
       "      <td>xlarge</td>\n",
       "      <td>0.006405</td>\n",
       "      <td>homfam</td>\n",
       "    </tr>\n",
       "    <tr>\n",
       "      <th>1</th>\n",
       "      <td>zf-CCHH</td>\n",
       "      <td>combined</td>\n",
       "      <td>88345</td>\n",
       "      <td>23.251265</td>\n",
       "      <td>12</td>\n",
       "      <td>35</td>\n",
       "      <td>zf-CCHH</td>\n",
       "      <td>xlarge</td>\n",
       "      <td>0.016979</td>\n",
       "      <td>homfam</td>\n",
       "    </tr>\n",
       "  </tbody>\n",
       "</table>\n",
       "</div>"
      ],
      "text/plain": [
       "    family    subset  n_sequences  mean_length  min_length  max_length  \\\n",
       "0      rvp  combined        93681    94.288554          22         133   \n",
       "1  zf-CCHH  combined        88345    23.251265          12          35   \n",
       "\n",
       "      file size_group  perc_ref_total benchmarking_dataset  \n",
       "0      rvp     xlarge        0.006405               homfam  \n",
       "1  zf-CCHH     xlarge        0.016979               homfam  "
      ]
     },
     "execution_count": 617,
     "metadata": {},
     "output_type": "execute_result"
    }
   ],
   "source": [
    "summary_homfam_exthomfam = pd.read_csv(\"/home/luisasantus/Desktop/crg_cluster/data/structural_regression/stats/01_summary_homfam_exthomfam.csv\")\n",
    "summary_homfam_exthomfam = summary_homfam_exthomfam.rename(columns={\"dataset\": \"benchmarking_dataset\"})\n",
    "summary_homfam_exthomfam.head(2)"
   ]
  },
  {
   "cell_type": "markdown",
   "id": "48ff5e26",
   "metadata": {},
   "source": [
    "# <div style=\"text-align: center;\"> <span align=\"center\" style=\"color:blue\">_________TREES_________</span> </div>\n"
   ]
  },
  {
   "cell_type": "code",
   "execution_count": 755,
   "id": "0bce2f0f",
   "metadata": {},
   "outputs": [
    {
     "name": "stdout",
     "output_type": "stream",
     "text": [
      "Iteration done\n",
      "--\n"
     ]
    },
    {
     "ename": "ValueError",
     "evalue": "Columns must be same length as key",
     "output_type": "error",
     "traceback": [
      "\u001b[0;31m---------------------------------------------------------------------------\u001b[0m",
      "\u001b[0;31mValueError\u001b[0m                                Traceback (most recent call last)",
      "\u001b[0;32m/tmp/ipykernel_384132/2342555026.py\u001b[0m in \u001b[0;36m<module>\u001b[0;34m\u001b[0m\n\u001b[0;32m----> 1\u001b[0;31m \u001b[0mtrees_traces_homfam\u001b[0m \u001b[0;34m=\u001b[0m \u001b[0mget_computation_times\u001b[0m\u001b[0;34m(\u001b[0m\u001b[0mjoin\u001b[0m\u001b[0;34m(\u001b[0m\u001b[0mevaluation_dir\u001b[0m\u001b[0;34m,\u001b[0m \u001b[0;34m\"homfam\"\u001b[0m\u001b[0;34m)\u001b[0m\u001b[0;34m,\u001b[0m \u001b[0;34m\"homfam\"\u001b[0m\u001b[0;34m,\u001b[0m \u001b[0;34m\"trees\"\u001b[0m\u001b[0;34m,\u001b[0m \u001b[0mextralevel\u001b[0m\u001b[0;34m=\u001b[0m\u001b[0;32mTrue\u001b[0m\u001b[0;34m)\u001b[0m\u001b[0;34m\u001b[0m\u001b[0;34m\u001b[0m\u001b[0m\n\u001b[0m",
      "\u001b[0;32m/tmp/ipykernel_384132/2307421227.py\u001b[0m in \u001b[0;36mget_computation_times\u001b[0;34m(evaluation_dir, dataset, task, extralevel)\u001b[0m\n\u001b[1;32m     40\u001b[0m     \u001b[0mprint\u001b[0m\u001b[0;34m(\u001b[0m\u001b[0;34m\"--\"\u001b[0m\u001b[0;34m)\u001b[0m\u001b[0;34m\u001b[0m\u001b[0;34m\u001b[0m\u001b[0m\n\u001b[1;32m     41\u001b[0m     \u001b[0mtraces\u001b[0m\u001b[0;34m[\u001b[0m\u001b[0;34m\"benchmarking_dataset\"\u001b[0m\u001b[0;34m]\u001b[0m \u001b[0;34m=\u001b[0m \u001b[0mdataset\u001b[0m\u001b[0;34m\u001b[0m\u001b[0;34m\u001b[0m\u001b[0m\n\u001b[0;32m---> 42\u001b[0;31m     \u001b[0mtraces\u001b[0m \u001b[0;34m=\u001b[0m \u001b[0msplit_name\u001b[0m\u001b[0;34m(\u001b[0m\u001b[0mtraces\u001b[0m\u001b[0;34m)\u001b[0m\u001b[0;34m\u001b[0m\u001b[0;34m\u001b[0m\u001b[0m\n\u001b[0m\u001b[1;32m     43\u001b[0m     \u001b[0mtraces\u001b[0m\u001b[0;34m[\u001b[0m\u001b[0;34m\"task\"\u001b[0m\u001b[0;34m]\u001b[0m \u001b[0;34m=\u001b[0m \u001b[0mtask\u001b[0m\u001b[0;34m\u001b[0m\u001b[0;34m\u001b[0m\u001b[0m\n\u001b[1;32m     44\u001b[0m     \u001b[0;32mreturn\u001b[0m\u001b[0;34m(\u001b[0m\u001b[0mtraces\u001b[0m\u001b[0;34m)\u001b[0m\u001b[0;34m\u001b[0m\u001b[0;34m\u001b[0m\u001b[0m\n",
      "\u001b[0;32m/tmp/ipykernel_384132/2307421227.py\u001b[0m in \u001b[0;36msplit_name\u001b[0;34m(df)\u001b[0m\n\u001b[1;32m      9\u001b[0m \u001b[0;34m\u001b[0m\u001b[0m\n\u001b[1;32m     10\u001b[0m \u001b[0;32mdef\u001b[0m \u001b[0msplit_name\u001b[0m\u001b[0;34m(\u001b[0m\u001b[0mdf\u001b[0m\u001b[0;34m)\u001b[0m\u001b[0;34m:\u001b[0m\u001b[0;34m\u001b[0m\u001b[0;34m\u001b[0m\u001b[0m\n\u001b[0;32m---> 11\u001b[0;31m     df[[\"family\", \"method\", \"bucket_size\", \"dynamicX_label\",\"dynamicX_val\",\n\u001b[0m\u001b[1;32m     12\u001b[0m                \u001b[0;34m\"master_msa\"\u001b[0m\u001b[0;34m,\u001b[0m \u001b[0;34m\"master_batch\"\u001b[0m\u001b[0;34m,\u001b[0m\u001b[0;34m\u001b[0m\u001b[0;34m\u001b[0m\u001b[0m\n\u001b[1;32m     13\u001b[0m                \"slave_msa\", \"slave_batch\",\"tree\"]] = df.name.str.split(\".\", expand = True)\n",
      "\u001b[0;32m~/.local/lib/python3.8/site-packages/pandas/core/frame.py\u001b[0m in \u001b[0;36m__setitem__\u001b[0;34m(self, key, value)\u001b[0m\n\u001b[1;32m   3598\u001b[0m             \u001b[0mself\u001b[0m\u001b[0;34m.\u001b[0m\u001b[0m_setitem_frame\u001b[0m\u001b[0;34m(\u001b[0m\u001b[0mkey\u001b[0m\u001b[0;34m,\u001b[0m \u001b[0mvalue\u001b[0m\u001b[0;34m)\u001b[0m\u001b[0;34m\u001b[0m\u001b[0;34m\u001b[0m\u001b[0m\n\u001b[1;32m   3599\u001b[0m         \u001b[0;32melif\u001b[0m \u001b[0misinstance\u001b[0m\u001b[0;34m(\u001b[0m\u001b[0mkey\u001b[0m\u001b[0;34m,\u001b[0m \u001b[0;34m(\u001b[0m\u001b[0mSeries\u001b[0m\u001b[0;34m,\u001b[0m \u001b[0mnp\u001b[0m\u001b[0;34m.\u001b[0m\u001b[0mndarray\u001b[0m\u001b[0;34m,\u001b[0m \u001b[0mlist\u001b[0m\u001b[0;34m,\u001b[0m \u001b[0mIndex\u001b[0m\u001b[0;34m)\u001b[0m\u001b[0;34m)\u001b[0m\u001b[0;34m:\u001b[0m\u001b[0;34m\u001b[0m\u001b[0;34m\u001b[0m\u001b[0m\n\u001b[0;32m-> 3600\u001b[0;31m             \u001b[0mself\u001b[0m\u001b[0;34m.\u001b[0m\u001b[0m_setitem_array\u001b[0m\u001b[0;34m(\u001b[0m\u001b[0mkey\u001b[0m\u001b[0;34m,\u001b[0m \u001b[0mvalue\u001b[0m\u001b[0;34m)\u001b[0m\u001b[0;34m\u001b[0m\u001b[0;34m\u001b[0m\u001b[0m\n\u001b[0m\u001b[1;32m   3601\u001b[0m         \u001b[0;32melif\u001b[0m \u001b[0misinstance\u001b[0m\u001b[0;34m(\u001b[0m\u001b[0mvalue\u001b[0m\u001b[0;34m,\u001b[0m \u001b[0mDataFrame\u001b[0m\u001b[0;34m)\u001b[0m\u001b[0;34m:\u001b[0m\u001b[0;34m\u001b[0m\u001b[0;34m\u001b[0m\u001b[0m\n\u001b[1;32m   3602\u001b[0m             \u001b[0mself\u001b[0m\u001b[0;34m.\u001b[0m\u001b[0m_set_item_frame_value\u001b[0m\u001b[0;34m(\u001b[0m\u001b[0mkey\u001b[0m\u001b[0;34m,\u001b[0m \u001b[0mvalue\u001b[0m\u001b[0;34m)\u001b[0m\u001b[0;34m\u001b[0m\u001b[0;34m\u001b[0m\u001b[0m\n",
      "\u001b[0;32m~/.local/lib/python3.8/site-packages/pandas/core/frame.py\u001b[0m in \u001b[0;36m_setitem_array\u001b[0;34m(self, key, value)\u001b[0m\n\u001b[1;32m   3637\u001b[0m         \u001b[0;32melse\u001b[0m\u001b[0;34m:\u001b[0m\u001b[0;34m\u001b[0m\u001b[0;34m\u001b[0m\u001b[0m\n\u001b[1;32m   3638\u001b[0m             \u001b[0;32mif\u001b[0m \u001b[0misinstance\u001b[0m\u001b[0;34m(\u001b[0m\u001b[0mvalue\u001b[0m\u001b[0;34m,\u001b[0m \u001b[0mDataFrame\u001b[0m\u001b[0;34m)\u001b[0m\u001b[0;34m:\u001b[0m\u001b[0;34m\u001b[0m\u001b[0;34m\u001b[0m\u001b[0m\n\u001b[0;32m-> 3639\u001b[0;31m                 \u001b[0mcheck_key_length\u001b[0m\u001b[0;34m(\u001b[0m\u001b[0mself\u001b[0m\u001b[0;34m.\u001b[0m\u001b[0mcolumns\u001b[0m\u001b[0;34m,\u001b[0m \u001b[0mkey\u001b[0m\u001b[0;34m,\u001b[0m \u001b[0mvalue\u001b[0m\u001b[0;34m)\u001b[0m\u001b[0;34m\u001b[0m\u001b[0;34m\u001b[0m\u001b[0m\n\u001b[0m\u001b[1;32m   3640\u001b[0m                 \u001b[0;32mfor\u001b[0m \u001b[0mk1\u001b[0m\u001b[0;34m,\u001b[0m \u001b[0mk2\u001b[0m \u001b[0;32min\u001b[0m \u001b[0mzip\u001b[0m\u001b[0;34m(\u001b[0m\u001b[0mkey\u001b[0m\u001b[0;34m,\u001b[0m \u001b[0mvalue\u001b[0m\u001b[0;34m.\u001b[0m\u001b[0mcolumns\u001b[0m\u001b[0;34m)\u001b[0m\u001b[0;34m:\u001b[0m\u001b[0;34m\u001b[0m\u001b[0;34m\u001b[0m\u001b[0m\n\u001b[1;32m   3641\u001b[0m                     \u001b[0mself\u001b[0m\u001b[0;34m[\u001b[0m\u001b[0mk1\u001b[0m\u001b[0;34m]\u001b[0m \u001b[0;34m=\u001b[0m \u001b[0mvalue\u001b[0m\u001b[0;34m[\u001b[0m\u001b[0mk2\u001b[0m\u001b[0;34m]\u001b[0m\u001b[0;34m\u001b[0m\u001b[0;34m\u001b[0m\u001b[0m\n",
      "\u001b[0;32m~/.local/lib/python3.8/site-packages/pandas/core/indexers.py\u001b[0m in \u001b[0;36mcheck_key_length\u001b[0;34m(columns, key, value)\u001b[0m\n\u001b[1;32m    426\u001b[0m     \u001b[0;32mif\u001b[0m \u001b[0mcolumns\u001b[0m\u001b[0;34m.\u001b[0m\u001b[0mis_unique\u001b[0m\u001b[0;34m:\u001b[0m\u001b[0;34m\u001b[0m\u001b[0;34m\u001b[0m\u001b[0m\n\u001b[1;32m    427\u001b[0m         \u001b[0;32mif\u001b[0m \u001b[0mlen\u001b[0m\u001b[0;34m(\u001b[0m\u001b[0mvalue\u001b[0m\u001b[0;34m.\u001b[0m\u001b[0mcolumns\u001b[0m\u001b[0;34m)\u001b[0m \u001b[0;34m!=\u001b[0m \u001b[0mlen\u001b[0m\u001b[0;34m(\u001b[0m\u001b[0mkey\u001b[0m\u001b[0;34m)\u001b[0m\u001b[0;34m:\u001b[0m\u001b[0;34m\u001b[0m\u001b[0;34m\u001b[0m\u001b[0m\n\u001b[0;32m--> 428\u001b[0;31m             \u001b[0;32mraise\u001b[0m \u001b[0mValueError\u001b[0m\u001b[0;34m(\u001b[0m\u001b[0;34m\"Columns must be same length as key\"\u001b[0m\u001b[0;34m)\u001b[0m\u001b[0;34m\u001b[0m\u001b[0;34m\u001b[0m\u001b[0m\n\u001b[0m\u001b[1;32m    429\u001b[0m     \u001b[0;32melse\u001b[0m\u001b[0;34m:\u001b[0m\u001b[0;34m\u001b[0m\u001b[0;34m\u001b[0m\u001b[0m\n\u001b[1;32m    430\u001b[0m         \u001b[0;31m# Missing keys in columns are represented as -1\u001b[0m\u001b[0;34m\u001b[0m\u001b[0;34m\u001b[0m\u001b[0;34m\u001b[0m\u001b[0m\n",
      "\u001b[0;31mValueError\u001b[0m: Columns must be same length as key"
     ]
    }
   ],
   "source": [
    "trees_traces_homfam = get_computation_times(join(evaluation_dir, \"homfam\"), \"homfam\", \"trees\", extralevel=True)\n"
   ]
  },
  {
   "cell_type": "code",
   "execution_count": 746,
   "id": "315dab96",
   "metadata": {},
   "outputs": [
    {
     "ename": "ValueError",
     "evalue": "Columns must be same length as key",
     "output_type": "error",
     "traceback": [
      "\u001b[0;31m---------------------------------------------------------------------------\u001b[0m",
      "\u001b[0;31mValueError\u001b[0m                                Traceback (most recent call last)",
      "\u001b[0;32m/tmp/ipykernel_384132/288990960.py\u001b[0m in \u001b[0;36m<module>\u001b[0;34m\u001b[0m\n\u001b[0;32m----> 1\u001b[0;31m \u001b[0mtrees_traces_homfam\u001b[0m \u001b[0;34m=\u001b[0m \u001b[0mget_computation_times\u001b[0m\u001b[0;34m(\u001b[0m\u001b[0mjoin\u001b[0m\u001b[0;34m(\u001b[0m\u001b[0mevaluation_dir\u001b[0m\u001b[0;34m,\u001b[0m \u001b[0;34m\"homfam\"\u001b[0m\u001b[0;34m)\u001b[0m\u001b[0;34m,\u001b[0m \u001b[0;34m\"homfam\"\u001b[0m\u001b[0;34m,\u001b[0m \u001b[0;34m\"trees\"\u001b[0m\u001b[0;34m,\u001b[0m \u001b[0mextralevel\u001b[0m\u001b[0;34m=\u001b[0m\u001b[0;32mTrue\u001b[0m\u001b[0;34m)\u001b[0m\u001b[0;34m\u001b[0m\u001b[0;34m\u001b[0m\u001b[0m\n\u001b[0m\u001b[1;32m      2\u001b[0m \u001b[0mtrees_traces_homfam\u001b[0m \u001b[0;34m=\u001b[0m \u001b[0madd_families\u001b[0m\u001b[0;34m(\u001b[0m\u001b[0mtrees_traces_homfam\u001b[0m\u001b[0;34m)\u001b[0m\u001b[0;34m\u001b[0m\u001b[0;34m\u001b[0m\u001b[0m\n\u001b[1;32m      3\u001b[0m \u001b[0;34m\u001b[0m\u001b[0m\n\u001b[1;32m      4\u001b[0m \u001b[0mtrees_traces_exthomfam_v35\u001b[0m \u001b[0;34m=\u001b[0m \u001b[0mget_computation_times\u001b[0m\u001b[0;34m(\u001b[0m\u001b[0mjoin\u001b[0m\u001b[0;34m(\u001b[0m\u001b[0mevaluation_dir\u001b[0m\u001b[0;34m,\u001b[0m \u001b[0;34m\"extHomfam_v35-uniprot\"\u001b[0m\u001b[0;34m)\u001b[0m\u001b[0;34m,\u001b[0m \u001b[0;34m\"extHomfam_v35-uniprot\"\u001b[0m\u001b[0;34m,\u001b[0m \u001b[0;34m\"trees\"\u001b[0m\u001b[0;34m,\u001b[0m \u001b[0mextralevel\u001b[0m\u001b[0;34m=\u001b[0m\u001b[0;32mTrue\u001b[0m\u001b[0;34m)\u001b[0m\u001b[0;34m\u001b[0m\u001b[0;34m\u001b[0m\u001b[0m\n\u001b[1;32m      5\u001b[0m \u001b[0mtrees_traces_exthomfam_v35\u001b[0m \u001b[0;34m=\u001b[0m \u001b[0madd_families\u001b[0m\u001b[0;34m(\u001b[0m\u001b[0mtrees_traces_exthomfam_v35\u001b[0m\u001b[0;34m)\u001b[0m\u001b[0;34m\u001b[0m\u001b[0;34m\u001b[0m\u001b[0m\n",
      "\u001b[0;32m/tmp/ipykernel_384132/3364907974.py\u001b[0m in \u001b[0;36mget_computation_times\u001b[0;34m(evaluation_dir, dataset, task, extralevel)\u001b[0m\n\u001b[1;32m     39\u001b[0m     \u001b[0mtraces\u001b[0m \u001b[0;34m=\u001b[0m \u001b[0mtraces\u001b[0m\u001b[0;34m.\u001b[0m\u001b[0mrename\u001b[0m\u001b[0;34m(\u001b[0m\u001b[0mcolumns\u001b[0m\u001b[0;34m=\u001b[0m\u001b[0;34m{\u001b[0m\u001b[0;34m'index'\u001b[0m\u001b[0;34m:\u001b[0m \u001b[0;34m'name'\u001b[0m\u001b[0;34m}\u001b[0m\u001b[0;34m)\u001b[0m\u001b[0;34m\u001b[0m\u001b[0;34m\u001b[0m\u001b[0m\n\u001b[1;32m     40\u001b[0m     \u001b[0mtraces\u001b[0m\u001b[0;34m[\u001b[0m\u001b[0;34m\"benchmarking_dataset\"\u001b[0m\u001b[0;34m]\u001b[0m \u001b[0;34m=\u001b[0m \u001b[0mdataset\u001b[0m\u001b[0;34m\u001b[0m\u001b[0;34m\u001b[0m\u001b[0m\n\u001b[0;32m---> 41\u001b[0;31m     \u001b[0mtraces\u001b[0m \u001b[0;34m=\u001b[0m \u001b[0msplit_name\u001b[0m\u001b[0;34m(\u001b[0m\u001b[0mtraces\u001b[0m\u001b[0;34m)\u001b[0m\u001b[0;34m\u001b[0m\u001b[0;34m\u001b[0m\u001b[0m\n\u001b[0m\u001b[1;32m     42\u001b[0m     \u001b[0mtraces\u001b[0m\u001b[0;34m[\u001b[0m\u001b[0;34m\"task\"\u001b[0m\u001b[0;34m]\u001b[0m \u001b[0;34m=\u001b[0m \u001b[0mtask\u001b[0m\u001b[0;34m\u001b[0m\u001b[0;34m\u001b[0m\u001b[0m\n\u001b[1;32m     43\u001b[0m     \u001b[0;32mreturn\u001b[0m\u001b[0;34m(\u001b[0m\u001b[0mtraces\u001b[0m\u001b[0;34m)\u001b[0m\u001b[0;34m\u001b[0m\u001b[0;34m\u001b[0m\u001b[0m\n",
      "\u001b[0;32m/tmp/ipykernel_384132/3364907974.py\u001b[0m in \u001b[0;36msplit_name\u001b[0;34m(df)\u001b[0m\n\u001b[1;32m      9\u001b[0m \u001b[0;34m\u001b[0m\u001b[0m\n\u001b[1;32m     10\u001b[0m \u001b[0;32mdef\u001b[0m \u001b[0msplit_name\u001b[0m\u001b[0;34m(\u001b[0m\u001b[0mdf\u001b[0m\u001b[0;34m)\u001b[0m\u001b[0;34m:\u001b[0m\u001b[0;34m\u001b[0m\u001b[0;34m\u001b[0m\u001b[0m\n\u001b[0;32m---> 11\u001b[0;31m     df[[\"family\", \"method\", \"bucket_size\", \"dynamicX_label\",\"dynamicX_val\",\n\u001b[0m\u001b[1;32m     12\u001b[0m                \u001b[0;34m\"master_msa\"\u001b[0m\u001b[0;34m,\u001b[0m \u001b[0;34m\"master_batch\"\u001b[0m\u001b[0;34m,\u001b[0m\u001b[0;34m\u001b[0m\u001b[0;34m\u001b[0m\u001b[0m\n\u001b[1;32m     13\u001b[0m                \"slave_msa\", \"slave_batch\",\"tree\"]] = df.name.str.split(\".\", expand = True)\n",
      "\u001b[0;32m~/.local/lib/python3.8/site-packages/pandas/core/frame.py\u001b[0m in \u001b[0;36m__setitem__\u001b[0;34m(self, key, value)\u001b[0m\n\u001b[1;32m   3598\u001b[0m             \u001b[0mself\u001b[0m\u001b[0;34m.\u001b[0m\u001b[0m_setitem_frame\u001b[0m\u001b[0;34m(\u001b[0m\u001b[0mkey\u001b[0m\u001b[0;34m,\u001b[0m \u001b[0mvalue\u001b[0m\u001b[0;34m)\u001b[0m\u001b[0;34m\u001b[0m\u001b[0;34m\u001b[0m\u001b[0m\n\u001b[1;32m   3599\u001b[0m         \u001b[0;32melif\u001b[0m \u001b[0misinstance\u001b[0m\u001b[0;34m(\u001b[0m\u001b[0mkey\u001b[0m\u001b[0;34m,\u001b[0m \u001b[0;34m(\u001b[0m\u001b[0mSeries\u001b[0m\u001b[0;34m,\u001b[0m \u001b[0mnp\u001b[0m\u001b[0;34m.\u001b[0m\u001b[0mndarray\u001b[0m\u001b[0;34m,\u001b[0m \u001b[0mlist\u001b[0m\u001b[0;34m,\u001b[0m \u001b[0mIndex\u001b[0m\u001b[0;34m)\u001b[0m\u001b[0;34m)\u001b[0m\u001b[0;34m:\u001b[0m\u001b[0;34m\u001b[0m\u001b[0;34m\u001b[0m\u001b[0m\n\u001b[0;32m-> 3600\u001b[0;31m             \u001b[0mself\u001b[0m\u001b[0;34m.\u001b[0m\u001b[0m_setitem_array\u001b[0m\u001b[0;34m(\u001b[0m\u001b[0mkey\u001b[0m\u001b[0;34m,\u001b[0m \u001b[0mvalue\u001b[0m\u001b[0;34m)\u001b[0m\u001b[0;34m\u001b[0m\u001b[0;34m\u001b[0m\u001b[0m\n\u001b[0m\u001b[1;32m   3601\u001b[0m         \u001b[0;32melif\u001b[0m \u001b[0misinstance\u001b[0m\u001b[0;34m(\u001b[0m\u001b[0mvalue\u001b[0m\u001b[0;34m,\u001b[0m \u001b[0mDataFrame\u001b[0m\u001b[0;34m)\u001b[0m\u001b[0;34m:\u001b[0m\u001b[0;34m\u001b[0m\u001b[0;34m\u001b[0m\u001b[0m\n\u001b[1;32m   3602\u001b[0m             \u001b[0mself\u001b[0m\u001b[0;34m.\u001b[0m\u001b[0m_set_item_frame_value\u001b[0m\u001b[0;34m(\u001b[0m\u001b[0mkey\u001b[0m\u001b[0;34m,\u001b[0m \u001b[0mvalue\u001b[0m\u001b[0;34m)\u001b[0m\u001b[0;34m\u001b[0m\u001b[0;34m\u001b[0m\u001b[0m\n",
      "\u001b[0;32m~/.local/lib/python3.8/site-packages/pandas/core/frame.py\u001b[0m in \u001b[0;36m_setitem_array\u001b[0;34m(self, key, value)\u001b[0m\n\u001b[1;32m   3637\u001b[0m         \u001b[0;32melse\u001b[0m\u001b[0;34m:\u001b[0m\u001b[0;34m\u001b[0m\u001b[0;34m\u001b[0m\u001b[0m\n\u001b[1;32m   3638\u001b[0m             \u001b[0;32mif\u001b[0m \u001b[0misinstance\u001b[0m\u001b[0;34m(\u001b[0m\u001b[0mvalue\u001b[0m\u001b[0;34m,\u001b[0m \u001b[0mDataFrame\u001b[0m\u001b[0;34m)\u001b[0m\u001b[0;34m:\u001b[0m\u001b[0;34m\u001b[0m\u001b[0;34m\u001b[0m\u001b[0m\n\u001b[0;32m-> 3639\u001b[0;31m                 \u001b[0mcheck_key_length\u001b[0m\u001b[0;34m(\u001b[0m\u001b[0mself\u001b[0m\u001b[0;34m.\u001b[0m\u001b[0mcolumns\u001b[0m\u001b[0;34m,\u001b[0m \u001b[0mkey\u001b[0m\u001b[0;34m,\u001b[0m \u001b[0mvalue\u001b[0m\u001b[0;34m)\u001b[0m\u001b[0;34m\u001b[0m\u001b[0;34m\u001b[0m\u001b[0m\n\u001b[0m\u001b[1;32m   3640\u001b[0m                 \u001b[0;32mfor\u001b[0m \u001b[0mk1\u001b[0m\u001b[0;34m,\u001b[0m \u001b[0mk2\u001b[0m \u001b[0;32min\u001b[0m \u001b[0mzip\u001b[0m\u001b[0;34m(\u001b[0m\u001b[0mkey\u001b[0m\u001b[0;34m,\u001b[0m \u001b[0mvalue\u001b[0m\u001b[0;34m.\u001b[0m\u001b[0mcolumns\u001b[0m\u001b[0;34m)\u001b[0m\u001b[0;34m:\u001b[0m\u001b[0;34m\u001b[0m\u001b[0;34m\u001b[0m\u001b[0m\n\u001b[1;32m   3641\u001b[0m                     \u001b[0mself\u001b[0m\u001b[0;34m[\u001b[0m\u001b[0mk1\u001b[0m\u001b[0;34m]\u001b[0m \u001b[0;34m=\u001b[0m \u001b[0mvalue\u001b[0m\u001b[0;34m[\u001b[0m\u001b[0mk2\u001b[0m\u001b[0;34m]\u001b[0m\u001b[0;34m\u001b[0m\u001b[0;34m\u001b[0m\u001b[0m\n",
      "\u001b[0;32m~/.local/lib/python3.8/site-packages/pandas/core/indexers.py\u001b[0m in \u001b[0;36mcheck_key_length\u001b[0;34m(columns, key, value)\u001b[0m\n\u001b[1;32m    426\u001b[0m     \u001b[0;32mif\u001b[0m \u001b[0mcolumns\u001b[0m\u001b[0;34m.\u001b[0m\u001b[0mis_unique\u001b[0m\u001b[0;34m:\u001b[0m\u001b[0;34m\u001b[0m\u001b[0;34m\u001b[0m\u001b[0m\n\u001b[1;32m    427\u001b[0m         \u001b[0;32mif\u001b[0m \u001b[0mlen\u001b[0m\u001b[0;34m(\u001b[0m\u001b[0mvalue\u001b[0m\u001b[0;34m.\u001b[0m\u001b[0mcolumns\u001b[0m\u001b[0;34m)\u001b[0m \u001b[0;34m!=\u001b[0m \u001b[0mlen\u001b[0m\u001b[0;34m(\u001b[0m\u001b[0mkey\u001b[0m\u001b[0;34m)\u001b[0m\u001b[0;34m:\u001b[0m\u001b[0;34m\u001b[0m\u001b[0;34m\u001b[0m\u001b[0m\n\u001b[0;32m--> 428\u001b[0;31m             \u001b[0;32mraise\u001b[0m \u001b[0mValueError\u001b[0m\u001b[0;34m(\u001b[0m\u001b[0;34m\"Columns must be same length as key\"\u001b[0m\u001b[0;34m)\u001b[0m\u001b[0;34m\u001b[0m\u001b[0;34m\u001b[0m\u001b[0m\n\u001b[0m\u001b[1;32m    429\u001b[0m     \u001b[0;32melse\u001b[0m\u001b[0;34m:\u001b[0m\u001b[0;34m\u001b[0m\u001b[0;34m\u001b[0m\u001b[0m\n\u001b[1;32m    430\u001b[0m         \u001b[0;31m# Missing keys in columns are represented as -1\u001b[0m\u001b[0;34m\u001b[0m\u001b[0;34m\u001b[0m\u001b[0;34m\u001b[0m\u001b[0m\n",
      "\u001b[0;31mValueError\u001b[0m: Columns must be same length as key"
     ]
    }
   ],
   "source": [
    "trees_traces_homfam = get_computation_times(join(evaluation_dir, \"homfam\"), \"homfam\", \"trees\", extralevel=True)\n",
    "trees_traces_homfam = add_families(trees_traces_homfam)\n",
    "\n",
    "trees_traces_exthomfam_v35 = get_computation_times(join(evaluation_dir, \"extHomfam_v35-uniprot\"), \"extHomfam_v35-uniprot\", \"trees\", extralevel=True)\n",
    "trees_traces_exthomfam_v35 = add_families(trees_traces_exthomfam_v35)\n",
    "\n",
    "trees_traces = pd.concat([trees_traces_homfam, trees_traces_exthomfam_v35])\n",
    "\n",
    "stat_trees = pd.merge(trees_traces, summary_homfam_exthomfam, on =[\"family\",\"benchmarking_dataset\"])\n",
    "stat_trees.head(2)"
   ]
  },
  {
   "cell_type": "code",
   "execution_count": 745,
   "id": "419dfef1",
   "metadata": {},
   "outputs": [],
   "source": [
    "\n",
    "stat_trees_nooutlier = stat_trees.sort_values(by=['realtime']).iloc[3:]\n"
   ]
  },
  {
   "cell_type": "code",
   "execution_count": 734,
   "id": "692a7e2a",
   "metadata": {},
   "outputs": [
    {
     "ename": "ValueError",
     "evalue": "The truth value of a Series is ambiguous. Use a.empty, a.bool(), a.item(), a.any() or a.all().",
     "output_type": "error",
     "traceback": [
      "\u001b[0;31m---------------------------------------------------------------------------\u001b[0m",
      "\u001b[0;31mValueError\u001b[0m                                Traceback (most recent call last)",
      "\u001b[0;32m/tmp/ipykernel_384132/3144718829.py\u001b[0m in \u001b[0;36m<module>\u001b[0;34m\u001b[0m\n\u001b[1;32m      2\u001b[0m \u001b[0mmax\u001b[0m\u001b[0;34m(\u001b[0m\u001b[0mstat_trees\u001b[0m\u001b[0;34m[\u001b[0m\u001b[0mstat_trees\u001b[0m\u001b[0;34m.\u001b[0m\u001b[0mrealtime\u001b[0m \u001b[0;34m<\u001b[0m \u001b[0;36m765852\u001b[0m\u001b[0;34m]\u001b[0m\u001b[0;34m.\u001b[0m\u001b[0mrealtime\u001b[0m\u001b[0;34m)\u001b[0m\u001b[0;34m\u001b[0m\u001b[0;34m\u001b[0m\u001b[0m\n\u001b[1;32m      3\u001b[0m \u001b[0mstat_trees\u001b[0m \u001b[0;34m=\u001b[0m \u001b[0mstat_trees\u001b[0m\u001b[0;34m[\u001b[0m\u001b[0mstat_trees\u001b[0m\u001b[0;34m.\u001b[0m\u001b[0mrealtime\u001b[0m \u001b[0;34m<\u001b[0m \u001b[0;36m765852\u001b[0m\u001b[0;34m]\u001b[0m\u001b[0;34m\u001b[0m\u001b[0;34m\u001b[0m\u001b[0m\n\u001b[0;32m----> 4\u001b[0;31m \u001b[0mstat_trees\u001b[0m\u001b[0;34m[\u001b[0m\u001b[0;34m(\u001b[0m\u001b[0mstat_trees\u001b[0m\u001b[0;34m.\u001b[0m\u001b[0mname\u001b[0m \u001b[0;32mnot\u001b[0m \u001b[0;32min\u001b[0m \u001b[0mlist\u001b[0m\u001b[0;34m(\u001b[0m\u001b[0mstat_trees\u001b[0m\u001b[0;34m.\u001b[0m\u001b[0msort_values\u001b[0m\u001b[0;34m(\u001b[0m\u001b[0mby\u001b[0m\u001b[0;34m=\u001b[0m\u001b[0;34m[\u001b[0m\u001b[0;34m'realtime'\u001b[0m\u001b[0;34m]\u001b[0m\u001b[0;34m)\u001b[0m\u001b[0;34m[\u001b[0m\u001b[0;36m1\u001b[0m\u001b[0;34m:\u001b[0m\u001b[0;36m5\u001b[0m\u001b[0;34m]\u001b[0m\u001b[0;34m.\u001b[0m\u001b[0mname\u001b[0m\u001b[0;34m)\u001b[0m\u001b[0;34m)\u001b[0m\u001b[0;34m]\u001b[0m\u001b[0;34m\u001b[0m\u001b[0;34m\u001b[0m\u001b[0m\n\u001b[0m",
      "\u001b[0;32m~/.local/lib/python3.8/site-packages/pandas/core/generic.py\u001b[0m in \u001b[0;36m__nonzero__\u001b[0;34m(self)\u001b[0m\n\u001b[1;32m   1535\u001b[0m     \u001b[0;34m@\u001b[0m\u001b[0mfinal\u001b[0m\u001b[0;34m\u001b[0m\u001b[0;34m\u001b[0m\u001b[0m\n\u001b[1;32m   1536\u001b[0m     \u001b[0;32mdef\u001b[0m \u001b[0m__nonzero__\u001b[0m\u001b[0;34m(\u001b[0m\u001b[0mself\u001b[0m\u001b[0;34m)\u001b[0m\u001b[0;34m:\u001b[0m\u001b[0;34m\u001b[0m\u001b[0;34m\u001b[0m\u001b[0m\n\u001b[0;32m-> 1537\u001b[0;31m         raise ValueError(\n\u001b[0m\u001b[1;32m   1538\u001b[0m             \u001b[0;34mf\"The truth value of a {type(self).__name__} is ambiguous. \"\u001b[0m\u001b[0;34m\u001b[0m\u001b[0;34m\u001b[0m\u001b[0m\n\u001b[1;32m   1539\u001b[0m             \u001b[0;34m\"Use a.empty, a.bool(), a.item(), a.any() or a.all().\"\u001b[0m\u001b[0;34m\u001b[0m\u001b[0;34m\u001b[0m\u001b[0m\n",
      "\u001b[0;31mValueError\u001b[0m: The truth value of a Series is ambiguous. Use a.empty, a.bool(), a.item(), a.any() or a.all()."
     ]
    }
   ],
   "source": [
    "max(stat_trees.realtime)\n",
    "max(stat_trees[stat_trees.realtime < 765852].realtime)\n",
    "stat_trees = stat_trees[stat_trees.realtime < 765852]\n",
    "stat_trees[(stat_trees.name not in list(stat_trees.sort_values(by=['realtime'])[1:5].name))]"
   ]
  },
  {
   "cell_type": "code",
   "execution_count": 723,
   "id": "557e1a23",
   "metadata": {},
   "outputs": [
    {
     "data": {
      "image/png": "[encoded data removed]",
      "text/plain": [
       "<Figure size 504x360 with 1 Axes>"
      ]
     },
     "metadata": {},
     "output_type": "display_data"
    }
   ],
   "source": [
    "\n",
    "sns.set_theme(style=\"ticks\")\n",
    "sns.set_context(\"talk\")\n",
    "\n",
    "# Load the example tips dataset\n",
    "f, ax = plt.subplots(figsize=(7, 5))\n",
    "df = stat_trees\n",
    "# Draw a nested boxplot to show bills by day and time\n",
    "sns.boxplot(x=\"size_group\", y=\"realtime\",\n",
    "            hue=\"tree_method\", palette = \"magma\",\n",
    "            data=df, linewidth=1.5, fliersize = 1.5, dodge = True)\n",
    "\n",
    "# Calculate number of obs per group & median to position labels\n",
    "nobs = df['size_group'].value_counts().values\n",
    "nobs = [str(x) for x in nobs.tolist()]\n",
    "nobs = [\"n: \" + i for i in nobs]\n",
    " \n",
    "# Add it to the plot\n",
    "pos = range(len(nobs))\n",
    "for tick,label in zip(pos,ax.get_xticklabels()):\n",
    "    ax.text(pos[tick],\n",
    "            -250000,\n",
    "            nobs[tick],\n",
    "            horizontalalignment='center',\n",
    "            size='small',\n",
    "            color='b')\n",
    " \n",
    "\n",
    "\n",
    "ax.set(ylabel='CPU time (ms)', xlabel='', title = \"Both on homfam and extHomfam_v35-uniprot\")\n",
    "plt.legend(bbox_to_anchor=(1.05, 0.8), loc=2, borderaxespad=0.)\n",
    "\n",
    "sns.despine(offset=10, trim=True)\n",
    "#f, ax = plt.subplots(figsize=(7, 7))\n",
    "#sns.scatterplot(data=stat_trees, y=\"realtime\", x=\"n_sequences\", hue=\"tree_method\",\n",
    "#                palette = \"magma\",style = \"benchmarking_dataset\", s = 30)\n",
    "#plt.legend(bbox_to_anchor=(1.05, 1), loc=2, borderaxespad=0.)\n",
    "#ax.set(ylabel='CPU time (ms)', xlabel='number of sequences')\n"
   ]
  },
  {
   "cell_type": "markdown",
   "id": "4fc7362b",
   "metadata": {},
   "source": [
    "# <div style=\"text-align: center;\"> <span align=\"center\" style=\"color:red\">_________Computation times_________</span> </div>"
   ]
  },
  {
   "cell_type": "code",
   "execution_count": null,
   "id": "8a3b52c6",
   "metadata": {},
   "outputs": [],
   "source": [
    "# Load AF2"
   ]
  },
  {
   "cell_type": "code",
   "execution_count": 641,
   "id": "97eabf71",
   "metadata": {},
   "outputs": [],
   "source": [
    "# ---------- EXTRACT SEQUENCES ---------------\n",
    "traces_extracted_sequences_homfam = get_computation_times(join(evaluation_dir, \"homfam\"), \"homfam\", \"seqs_extracted\")"
   ]
  },
  {
   "cell_type": "code",
   "execution_count": null,
   "id": "793a5707",
   "metadata": {},
   "outputs": [],
   "source": [
    "# ---------- AF2 PREDICTIONS -------------------------\n"
   ]
  },
  {
   "cell_type": "code",
   "execution_count": 642,
   "id": "4efc0cf1",
   "metadata": {},
   "outputs": [],
   "source": [
    "# ---------- ALIGNMENTS -------------------------\n",
    "traces_alignments_homfam = get_computation_times(join(evaluation_dir, \"homfam\"), \"homfam\", \"alignments\", extralevel=True)"
   ]
  },
  {
   "cell_type": "code",
   "execution_count": 648,
   "id": "b6be1cc3",
   "metadata": {},
   "outputs": [],
   "source": [
    "# ---------- CONCATENATE AL OF THEM IN ONE ---------------\n",
    "traces = pd.concat([traces_extracted_sequences_homfam,traces_alignments_homfam], ignore_index=True)"
   ]
  },
  {
   "cell_type": "code",
   "execution_count": 649,
   "id": "278bf0a8",
   "metadata": {},
   "outputs": [
    {
     "data": {
      "text/html": [
       "<div>\n",
       "<style scoped>\n",
       "    .dataframe tbody tr th:only-of-type {\n",
       "        vertical-align: middle;\n",
       "    }\n",
       "\n",
       "    .dataframe tbody tr th {\n",
       "        vertical-align: top;\n",
       "    }\n",
       "\n",
       "    .dataframe thead th {\n",
       "        text-align: right;\n",
       "    }\n",
       "</style>\n",
       "<table border=\"1\" class=\"dataframe\">\n",
       "  <thead>\n",
       "    <tr style=\"text-align: right;\">\n",
       "      <th></th>\n",
       "      <th>name</th>\n",
       "      <th>realtime</th>\n",
       "      <th>%cpu</th>\n",
       "      <th>rchar</th>\n",
       "      <th>wchar</th>\n",
       "      <th>syscr</th>\n",
       "      <th>syscw</th>\n",
       "      <th>read_bytes</th>\n",
       "      <th>write_bytes</th>\n",
       "      <th>%mem</th>\n",
       "      <th>...</th>\n",
       "      <th>method</th>\n",
       "      <th>bucket_size</th>\n",
       "      <th>dynamicX_label</th>\n",
       "      <th>dynamicX_val</th>\n",
       "      <th>master_msa</th>\n",
       "      <th>master_batch</th>\n",
       "      <th>slave_msa</th>\n",
       "      <th>slave_batch</th>\n",
       "      <th>tree</th>\n",
       "      <th>task</th>\n",
       "    </tr>\n",
       "  </thead>\n",
       "  <tbody>\n",
       "    <tr>\n",
       "      <th>0</th>\n",
       "      <td>seatoxin.dynamic.100.dynamicX.100000.tcoffee_m...</td>\n",
       "      <td>1426</td>\n",
       "      <td>72</td>\n",
       "      <td>127181</td>\n",
       "      <td>21249</td>\n",
       "      <td>223</td>\n",
       "      <td>33</td>\n",
       "      <td>1553408</td>\n",
       "      <td>40960</td>\n",
       "      <td>0</td>\n",
       "      <td>...</td>\n",
       "      <td>dynamic</td>\n",
       "      <td>100</td>\n",
       "      <td>dynamicX</td>\n",
       "      <td>100000</td>\n",
       "      <td>tcoffee_msa</td>\n",
       "      <td>100</td>\n",
       "      <td>famsa_msa</td>\n",
       "      <td>100000000</td>\n",
       "      <td>FAMSA-parttree</td>\n",
       "      <td>seqs_extracted</td>\n",
       "    </tr>\n",
       "    <tr>\n",
       "      <th>1</th>\n",
       "      <td>seatoxin.dynamic.100.dynamicX.100000.tcoffee_m...</td>\n",
       "      <td>1166</td>\n",
       "      <td>68</td>\n",
       "      <td>127390</td>\n",
       "      <td>21261</td>\n",
       "      <td>223</td>\n",
       "      <td>33</td>\n",
       "      <td>1502208</td>\n",
       "      <td>40960</td>\n",
       "      <td>0</td>\n",
       "      <td>...</td>\n",
       "      <td>dynamic</td>\n",
       "      <td>100</td>\n",
       "      <td>dynamicX</td>\n",
       "      <td>100000</td>\n",
       "      <td>tcoffee_msa</td>\n",
       "      <td>100</td>\n",
       "      <td>famsa_msa</td>\n",
       "      <td>100000000</td>\n",
       "      <td>FAMSA-medoid</td>\n",
       "      <td>seqs_extracted</td>\n",
       "    </tr>\n",
       "    <tr>\n",
       "      <th>2</th>\n",
       "      <td>hip.dynamic.100.dynamicX.100000.tcoffee_msa.10...</td>\n",
       "      <td>391</td>\n",
       "      <td>203</td>\n",
       "      <td>224710</td>\n",
       "      <td>48025</td>\n",
       "      <td>298</td>\n",
       "      <td>56</td>\n",
       "      <td>1565696</td>\n",
       "      <td>106496</td>\n",
       "      <td>0</td>\n",
       "      <td>...</td>\n",
       "      <td>dynamic</td>\n",
       "      <td>100</td>\n",
       "      <td>dynamicX</td>\n",
       "      <td>100000</td>\n",
       "      <td>tcoffee_msa</td>\n",
       "      <td>100</td>\n",
       "      <td>famsa_msa</td>\n",
       "      <td>100000000</td>\n",
       "      <td>FAMSA-medoid</td>\n",
       "      <td>seqs_extracted</td>\n",
       "    </tr>\n",
       "    <tr>\n",
       "      <th>3</th>\n",
       "      <td>seatoxin.dynamic.100.dynamicX.100000.tcoffee_m...</td>\n",
       "      <td>40147</td>\n",
       "      <td>983</td>\n",
       "      <td>29025073</td>\n",
       "      <td>28470094</td>\n",
       "      <td>8900</td>\n",
       "      <td>8648</td>\n",
       "      <td>3715072</td>\n",
       "      <td>29429760</td>\n",
       "      <td>1</td>\n",
       "      <td>...</td>\n",
       "      <td>dynamic</td>\n",
       "      <td>100</td>\n",
       "      <td>dynamicX</td>\n",
       "      <td>100000</td>\n",
       "      <td>tcoffee_msa</td>\n",
       "      <td>100</td>\n",
       "      <td>famsa_msa</td>\n",
       "      <td>100000000</td>\n",
       "      <td>FAMSA-medoid</td>\n",
       "      <td>alignments</td>\n",
       "    </tr>\n",
       "    <tr>\n",
       "      <th>4</th>\n",
       "      <td>hip.dynamic.100.dynamicX.100000.tcoffee_msa.10...</td>\n",
       "      <td>119812</td>\n",
       "      <td>1300</td>\n",
       "      <td>105171115</td>\n",
       "      <td>103375045</td>\n",
       "      <td>29658</td>\n",
       "      <td>29873</td>\n",
       "      <td>3870720</td>\n",
       "      <td>105443328</td>\n",
       "      <td>3</td>\n",
       "      <td>...</td>\n",
       "      <td>dynamic</td>\n",
       "      <td>100</td>\n",
       "      <td>dynamicX</td>\n",
       "      <td>100000</td>\n",
       "      <td>tcoffee_msa</td>\n",
       "      <td>100</td>\n",
       "      <td>famsa_msa</td>\n",
       "      <td>100000000</td>\n",
       "      <td>FAMSA-medoid</td>\n",
       "      <td>alignments</td>\n",
       "    </tr>\n",
       "  </tbody>\n",
       "</table>\n",
       "<p>5 rows × 28 columns</p>\n",
       "</div>"
      ],
      "text/plain": [
       "                                                name  realtime  %cpu  \\\n",
       "0  seatoxin.dynamic.100.dynamicX.100000.tcoffee_m...      1426    72   \n",
       "1  seatoxin.dynamic.100.dynamicX.100000.tcoffee_m...      1166    68   \n",
       "2  hip.dynamic.100.dynamicX.100000.tcoffee_msa.10...       391   203   \n",
       "3  seatoxin.dynamic.100.dynamicX.100000.tcoffee_m...     40147   983   \n",
       "4  hip.dynamic.100.dynamicX.100000.tcoffee_msa.10...    119812  1300   \n",
       "\n",
       "       rchar      wchar  syscr  syscw  read_bytes  write_bytes  %mem  ...  \\\n",
       "0     127181      21249    223     33     1553408        40960     0  ...   \n",
       "1     127390      21261    223     33     1502208        40960     0  ...   \n",
       "2     224710      48025    298     56     1565696       106496     0  ...   \n",
       "3   29025073   28470094   8900   8648     3715072     29429760     1  ...   \n",
       "4  105171115  103375045  29658  29873     3870720    105443328     3  ...   \n",
       "\n",
       "    method  bucket_size  dynamicX_label  dynamicX_val   master_msa  \\\n",
       "0  dynamic          100        dynamicX        100000  tcoffee_msa   \n",
       "1  dynamic          100        dynamicX        100000  tcoffee_msa   \n",
       "2  dynamic          100        dynamicX        100000  tcoffee_msa   \n",
       "3  dynamic          100        dynamicX        100000  tcoffee_msa   \n",
       "4  dynamic          100        dynamicX        100000  tcoffee_msa   \n",
       "\n",
       "   master_batch  slave_msa slave_batch            tree            task  \n",
       "0           100  famsa_msa   100000000  FAMSA-parttree  seqs_extracted  \n",
       "1           100  famsa_msa   100000000    FAMSA-medoid  seqs_extracted  \n",
       "2           100  famsa_msa   100000000    FAMSA-medoid  seqs_extracted  \n",
       "3           100  famsa_msa   100000000    FAMSA-medoid      alignments  \n",
       "4           100  famsa_msa   100000000    FAMSA-medoid      alignments  \n",
       "\n",
       "[5 rows x 28 columns]"
      ]
     },
     "execution_count": 649,
     "metadata": {},
     "output_type": "execute_result"
    }
   ],
   "source": [
    "traces.head()"
   ]
  },
  {
   "cell_type": "markdown",
   "id": "4d576637",
   "metadata": {},
   "source": [
    "# <div style=\"text-align: center;\"> <span align=\"center\" style=\"color:pink\">_________Evaluation_________</span> </div>"
   ]
  },
  {
   "cell_type": "code",
   "execution_count": 635,
   "id": "579331f3",
   "metadata": {},
   "outputs": [],
   "source": [
    "# Load AF2 scores\n",
    "af2 = pd.read_csv(\"/home/luisasantus/Desktop/crg_cluster/data/structural_regression/stats/02_summary_af2.csv\")\n",
    "af2_grouped = pd.read_csv(\"/home/luisasantus/Desktop/crg_cluster/data/structural_regression/stats/03_summary_af2_grouped.csv\")"
   ]
  },
  {
   "cell_type": "code",
   "execution_count": 689,
   "id": "de6aaf2c",
   "metadata": {},
   "outputs": [],
   "source": [
    "def get_evaluation(evaluation_dir, dataset, splitname = False):\n",
    "    scores = evaluation_dir + \"/evaluation/CSV/dynamic.scores.csv\"\n",
    "    scores_df = pd.read_csv(scores, sep=\";\", header = None).iloc[: , :-1]\n",
    "    scores_df.set_axis(list([\"name\", \"sp\",\"tc\", \"column\"]), axis=1, inplace=True)\n",
    "    if splitname: \n",
    "        scores_df[[\"family\", \"method\", \"bucket_size\", \"dynamicX_label\",\"dynamicX_val\",\n",
    "                   \"master_msa\", \"master_batch\",\n",
    "                   \"slave_msa\", \"slave_batch\",\"tree\"]] = scores_df.name.str.split(\".\", expand = True)\n",
    "    scores_df[\"benchmarking_dataset\"] = dataset\n",
    "    return(scores_df)"
   ]
  },
  {
   "cell_type": "code",
   "execution_count": 694,
   "id": "900a70da",
   "metadata": {},
   "outputs": [
    {
     "data": {
      "text/html": [
       "<div>\n",
       "<style scoped>\n",
       "    .dataframe tbody tr th:only-of-type {\n",
       "        vertical-align: middle;\n",
       "    }\n",
       "\n",
       "    .dataframe tbody tr th {\n",
       "        vertical-align: top;\n",
       "    }\n",
       "\n",
       "    .dataframe thead th {\n",
       "        text-align: right;\n",
       "    }\n",
       "</style>\n",
       "<table border=\"1\" class=\"dataframe\">\n",
       "  <thead>\n",
       "    <tr style=\"text-align: right;\">\n",
       "      <th></th>\n",
       "      <th>name</th>\n",
       "      <th>sp</th>\n",
       "      <th>tc</th>\n",
       "      <th>column</th>\n",
       "      <th>benchmarking_dataset</th>\n",
       "    </tr>\n",
       "  </thead>\n",
       "  <tbody>\n",
       "    <tr>\n",
       "      <th>0</th>\n",
       "      <td>hip.dynamic.100.dynamicX.100000.tcoffee_msa.10...</td>\n",
       "      <td>80.1</td>\n",
       "      <td>48.8</td>\n",
       "      <td>61.3</td>\n",
       "      <td>homfam</td>\n",
       "    </tr>\n",
       "  </tbody>\n",
       "</table>\n",
       "</div>"
      ],
      "text/plain": [
       "                                                name    sp    tc  column  \\\n",
       "0  hip.dynamic.100.dynamicX.100000.tcoffee_msa.10...  80.1  48.8    61.3   \n",
       "\n",
       "  benchmarking_dataset  \n",
       "0               homfam  "
      ]
     },
     "execution_count": 694,
     "metadata": {},
     "output_type": "execute_result"
    }
   ],
   "source": [
    "scores_df_homfam = get_evaluation(join(evaluation_dir,dataset), dataset)\n",
    "scores_df_homfam.head(1)"
   ]
  },
  {
   "cell_type": "markdown",
   "id": "1e13a234",
   "metadata": {},
   "source": [
    "# <div style=\"text-align: center;\"> <span align=\"center\" style=\"color:lightgrey\">_________MERGE_________</span> </div>"
   ]
  },
  {
   "cell_type": "code",
   "execution_count": 700,
   "id": "64d36ad8",
   "metadata": {},
   "outputs": [],
   "source": [
    "stats = pd.merge(scores_df, traces, on = [\"name\",\"benchmarking_dataset\"])"
   ]
  },
  {
   "cell_type": "code",
   "execution_count": 701,
   "id": "4ff54330",
   "metadata": {},
   "outputs": [
    {
     "data": {
      "text/html": [
       "<div>\n",
       "<style scoped>\n",
       "    .dataframe tbody tr th:only-of-type {\n",
       "        vertical-align: middle;\n",
       "    }\n",
       "\n",
       "    .dataframe tbody tr th {\n",
       "        vertical-align: top;\n",
       "    }\n",
       "\n",
       "    .dataframe thead th {\n",
       "        text-align: right;\n",
       "    }\n",
       "</style>\n",
       "<table border=\"1\" class=\"dataframe\">\n",
       "  <thead>\n",
       "    <tr style=\"text-align: right;\">\n",
       "      <th></th>\n",
       "      <th>name</th>\n",
       "      <th>sp</th>\n",
       "      <th>tc</th>\n",
       "      <th>column</th>\n",
       "      <th>benchmarking_dataset</th>\n",
       "      <th>realtime</th>\n",
       "      <th>%cpu</th>\n",
       "      <th>rchar</th>\n",
       "      <th>wchar</th>\n",
       "      <th>syscr</th>\n",
       "      <th>...</th>\n",
       "      <th>tree</th>\n",
       "      <th>task</th>\n",
       "      <th>subset</th>\n",
       "      <th>n_sequences</th>\n",
       "      <th>mean_length</th>\n",
       "      <th>min_length</th>\n",
       "      <th>max_length</th>\n",
       "      <th>file</th>\n",
       "      <th>size_group</th>\n",
       "      <th>perc_ref_total</th>\n",
       "    </tr>\n",
       "  </thead>\n",
       "  <tbody>\n",
       "    <tr>\n",
       "      <th>0</th>\n",
       "      <td>hip.dynamic.100.dynamicX.100000.tcoffee_msa.10...</td>\n",
       "      <td>80.1</td>\n",
       "      <td>48.8</td>\n",
       "      <td>61.3</td>\n",
       "      <td>homfam</td>\n",
       "      <td>391</td>\n",
       "      <td>203</td>\n",
       "      <td>224710</td>\n",
       "      <td>48025</td>\n",
       "      <td>298</td>\n",
       "      <td>...</td>\n",
       "      <td>FAMSA-medoid</td>\n",
       "      <td>seqs_extracted</td>\n",
       "      <td>combined</td>\n",
       "      <td>167</td>\n",
       "      <td>66.209581</td>\n",
       "      <td>54</td>\n",
       "      <td>85</td>\n",
       "      <td>hip</td>\n",
       "      <td>small</td>\n",
       "      <td>2.994012</td>\n",
       "    </tr>\n",
       "    <tr>\n",
       "      <th>1</th>\n",
       "      <td>hip.dynamic.100.dynamicX.100000.tcoffee_msa.10...</td>\n",
       "      <td>80.1</td>\n",
       "      <td>48.8</td>\n",
       "      <td>61.3</td>\n",
       "      <td>homfam</td>\n",
       "      <td>119812</td>\n",
       "      <td>1300</td>\n",
       "      <td>105171115</td>\n",
       "      <td>103375045</td>\n",
       "      <td>29658</td>\n",
       "      <td>...</td>\n",
       "      <td>FAMSA-medoid</td>\n",
       "      <td>alignments</td>\n",
       "      <td>combined</td>\n",
       "      <td>167</td>\n",
       "      <td>66.209581</td>\n",
       "      <td>54</td>\n",
       "      <td>85</td>\n",
       "      <td>hip</td>\n",
       "      <td>small</td>\n",
       "      <td>2.994012</td>\n",
       "    </tr>\n",
       "  </tbody>\n",
       "</table>\n",
       "<p>2 rows × 39 columns</p>\n",
       "</div>"
      ],
      "text/plain": [
       "                                                name    sp    tc  column  \\\n",
       "0  hip.dynamic.100.dynamicX.100000.tcoffee_msa.10...  80.1  48.8    61.3   \n",
       "1  hip.dynamic.100.dynamicX.100000.tcoffee_msa.10...  80.1  48.8    61.3   \n",
       "\n",
       "  benchmarking_dataset  realtime  %cpu      rchar      wchar  syscr  ...  \\\n",
       "0               homfam       391   203     224710      48025    298  ...   \n",
       "1               homfam    119812  1300  105171115  103375045  29658  ...   \n",
       "\n",
       "           tree            task    subset  n_sequences  mean_length  \\\n",
       "0  FAMSA-medoid  seqs_extracted  combined          167    66.209581   \n",
       "1  FAMSA-medoid      alignments  combined          167    66.209581   \n",
       "\n",
       "   min_length  max_length  file  size_group  perc_ref_total  \n",
       "0          54          85   hip       small        2.994012  \n",
       "1          54          85   hip       small        2.994012  \n",
       "\n",
       "[2 rows x 39 columns]"
      ]
     },
     "execution_count": 701,
     "metadata": {},
     "output_type": "execute_result"
    }
   ],
   "source": [
    "stats = pd.merge(stats, summary_homfam_exthomfam, on =[\"family\",\"benchmarking_dataset\"])\n",
    "stats.head()"
   ]
  },
  {
   "cell_type": "code",
   "execution_count": 703,
   "id": "4cdb01a0",
   "metadata": {},
   "outputs": [],
   "source": [
    "summary = pd.merge(scores_df, traces, on = \"name\")"
   ]
  },
  {
   "cell_type": "markdown",
   "id": "224396d2",
   "metadata": {},
   "source": [
    "# <div style=\"text-align: center;\"> <span align=\"center\" style=\"color:blue\">_________VISUALIZE_________</span> </div>"
   ]
  },
  {
   "cell_type": "code",
   "execution_count": 650,
   "id": "3ab41a05",
   "metadata": {},
   "outputs": [],
   "source": [
    "# --------------   TODO -----------------\n",
    "# 1 - Does the dynamic improve accuracy ? \n",
    "# a. plot all 3 metrics (SUM etc) vs the number of sequences (Dynamic + Regressive on FAMSA)\n",
    "# 2 - At which computational loss? \n",
    "# b. plot all 3 metrics (SUM etc) vs the CPU time (aligner only) (Dynamic + Regressive on FAMSA)\n",
    "# c. plot all 3 metrics (SUM etc) vs the CPU time (aligner only AND aligner + extract + prediction) (Dynamic + Regressive on FAMSA)\n",
    "# 3 - confront gain in accuracy? Accuracy Dynamic vs Accuracy regressive\n",
    "# 4 - cnfront loss in speed - cpu time dynamic vs regressive"
   ]
  },
  {
   "cell_type": "code",
   "execution_count": null,
   "id": "2d565171",
   "metadata": {},
   "outputs": [],
   "source": [
    "# 1 - Does the dynamic improve accuracy ? \n",
    "# a. plot all 3 metrics (SUM etc) vs the number of sequences (Dynamic + Regressive on FAMSA)\n",
    "\n",
    "summary"
   ]
  }
 ],
 "metadata": {
  "kernelspec": {
   "display_name": "Python 3 (ipykernel)",
   "language": "python",
   "name": "python3"
  },
  "language_info": {
   "codemirror_mode": {
    "name": "ipython",
    "version": 3
   },
   "file_extension": ".py",
   "mimetype": "text/x-python",
   "name": "python",
   "nbconvert_exporter": "python",
   "pygments_lexer": "ipython3",
   "version": "3.8.10"
  }
 },
 "nbformat": 4,
 "nbformat_minor": 5
}
