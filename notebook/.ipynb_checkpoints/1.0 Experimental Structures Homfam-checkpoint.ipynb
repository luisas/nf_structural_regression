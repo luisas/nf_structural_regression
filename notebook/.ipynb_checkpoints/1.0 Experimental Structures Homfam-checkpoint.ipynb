{
 "cells": [
  {
   "cell_type": "code",
   "execution_count": 2,
   "id": "e4bb9264",
   "metadata": {},
   "outputs": [],
   "source": [
    "import os\n",
    "import pandas as pd\n",
    "import numpy as np\n",
    "import seaborn as sns\n",
    "import matplotlib.pyplot as plt\n",
    "from os import listdir\n",
    "from os.path import isfile, join\n",
    "import matplotlib.ticker as ticker\n",
    "import matplotlib as mpl\n",
    "import sys\n",
    "from math import *\n",
    "from scipy.stats import binned_statistic\n",
    "import inspect\n",
    "from Bio import SeqIO\n",
    "from pathlib import Path\n",
    "sns.set_theme(style=\"white\", context=\"talk\")\n",
    "import glob\n",
    "import matplotlib.pyplot as plt\n",
    "from matplotlib_venn import venn2\n",
    "import itertools\n",
    "from scipy import stats\n",
    "from utils_benchmark import * \n",
    "sns.set_context(\"talk\")"
   ]
  },
  {
   "cell_type": "code",
   "execution_count": 3,
   "id": "975dc2f9",
   "metadata": {},
   "outputs": [],
   "source": [
    "# CHECK WHICH STRUCTURES WE HAVE RETRIEVED"
   ]
  },
  {
   "cell_type": "code",
   "execution_count": 50,
   "id": "ea78e553",
   "metadata": {},
   "outputs": [
    {
     "ename": "KeyError",
     "evalue": "'family'",
     "output_type": "error",
     "traceback": [
      "\u001b[0;31m---------------------------------------------------------------------------\u001b[0m",
      "\u001b[0;31mKeyError\u001b[0m                                  Traceback (most recent call last)",
      "Input \u001b[0;32mIn [50]\u001b[0m, in \u001b[0;36m<cell line: 13>\u001b[0;34m()\u001b[0m\n\u001b[1;32m     11\u001b[0m     entry \u001b[38;5;241m=\u001b[39m pd\u001b[38;5;241m.\u001b[39mDataFrame({\u001b[38;5;124m'\u001b[39m\u001b[38;5;124mfamily\u001b[39m\u001b[38;5;124m'\u001b[39m:[family], \u001b[38;5;124m'\u001b[39m\u001b[38;5;124mstructure\u001b[39m\u001b[38;5;124m'\u001b[39m: structure})\n\u001b[1;32m     12\u001b[0m     str_summary \u001b[38;5;241m=\u001b[39m  pd\u001b[38;5;241m.\u001b[39mconcat([str_summary, entry], ignore_index \u001b[38;5;241m=\u001b[39m \u001b[38;5;28;01mTrue\u001b[39;00m)\n\u001b[0;32m---> 13\u001b[0m summary_nstr \u001b[38;5;241m=\u001b[39m \u001b[43mstr_summary\u001b[49m\u001b[38;5;241;43m.\u001b[39;49m\u001b[43mgroupby\u001b[49m\u001b[43m(\u001b[49m\u001b[38;5;124;43m\"\u001b[39;49m\u001b[38;5;124;43mfamily\u001b[39;49m\u001b[38;5;124;43m\"\u001b[39;49m\u001b[43m)\u001b[49m\u001b[38;5;241m.\u001b[39mcount()\u001b[38;5;241m.\u001b[39mreset_index()\n\u001b[1;32m     14\u001b[0m summary_nstr \u001b[38;5;241m=\u001b[39m summary_nstr\u001b[38;5;241m.\u001b[39mrename(columns \u001b[38;5;241m=\u001b[39m{\u001b[38;5;124m\"\u001b[39m\u001b[38;5;124mstructure\u001b[39m\u001b[38;5;124m\"\u001b[39m:\u001b[38;5;124m\"\u001b[39m\u001b[38;5;124mtot_n_structures\u001b[39m\u001b[38;5;124m\"\u001b[39m})\n",
      "File \u001b[0;32m~/anaconda3/lib/python3.9/site-packages/pandas/core/frame.py:7712\u001b[0m, in \u001b[0;36mDataFrame.groupby\u001b[0;34m(self, by, axis, level, as_index, sort, group_keys, squeeze, observed, dropna)\u001b[0m\n\u001b[1;32m   7707\u001b[0m axis \u001b[38;5;241m=\u001b[39m \u001b[38;5;28mself\u001b[39m\u001b[38;5;241m.\u001b[39m_get_axis_number(axis)\n\u001b[1;32m   7709\u001b[0m \u001b[38;5;66;03m# https://github.com/python/mypy/issues/7642\u001b[39;00m\n\u001b[1;32m   7710\u001b[0m \u001b[38;5;66;03m# error: Argument \"squeeze\" to \"DataFrameGroupBy\" has incompatible type\u001b[39;00m\n\u001b[1;32m   7711\u001b[0m \u001b[38;5;66;03m# \"Union[bool, NoDefault]\"; expected \"bool\"\u001b[39;00m\n\u001b[0;32m-> 7712\u001b[0m \u001b[38;5;28;01mreturn\u001b[39;00m \u001b[43mDataFrameGroupBy\u001b[49m\u001b[43m(\u001b[49m\n\u001b[1;32m   7713\u001b[0m \u001b[43m    \u001b[49m\u001b[43mobj\u001b[49m\u001b[38;5;241;43m=\u001b[39;49m\u001b[38;5;28;43mself\u001b[39;49m\u001b[43m,\u001b[49m\n\u001b[1;32m   7714\u001b[0m \u001b[43m    \u001b[49m\u001b[43mkeys\u001b[49m\u001b[38;5;241;43m=\u001b[39;49m\u001b[43mby\u001b[49m\u001b[43m,\u001b[49m\n\u001b[1;32m   7715\u001b[0m \u001b[43m    \u001b[49m\u001b[43maxis\u001b[49m\u001b[38;5;241;43m=\u001b[39;49m\u001b[43maxis\u001b[49m\u001b[43m,\u001b[49m\n\u001b[1;32m   7716\u001b[0m \u001b[43m    \u001b[49m\u001b[43mlevel\u001b[49m\u001b[38;5;241;43m=\u001b[39;49m\u001b[43mlevel\u001b[49m\u001b[43m,\u001b[49m\n\u001b[1;32m   7717\u001b[0m \u001b[43m    \u001b[49m\u001b[43mas_index\u001b[49m\u001b[38;5;241;43m=\u001b[39;49m\u001b[43mas_index\u001b[49m\u001b[43m,\u001b[49m\n\u001b[1;32m   7718\u001b[0m \u001b[43m    \u001b[49m\u001b[43msort\u001b[49m\u001b[38;5;241;43m=\u001b[39;49m\u001b[43msort\u001b[49m\u001b[43m,\u001b[49m\n\u001b[1;32m   7719\u001b[0m \u001b[43m    \u001b[49m\u001b[43mgroup_keys\u001b[49m\u001b[38;5;241;43m=\u001b[39;49m\u001b[43mgroup_keys\u001b[49m\u001b[43m,\u001b[49m\n\u001b[1;32m   7720\u001b[0m \u001b[43m    \u001b[49m\u001b[43msqueeze\u001b[49m\u001b[38;5;241;43m=\u001b[39;49m\u001b[43msqueeze\u001b[49m\u001b[43m,\u001b[49m\u001b[43m  \u001b[49m\u001b[38;5;66;43;03m# type: ignore[arg-type]\u001b[39;49;00m\n\u001b[1;32m   7721\u001b[0m \u001b[43m    \u001b[49m\u001b[43mobserved\u001b[49m\u001b[38;5;241;43m=\u001b[39;49m\u001b[43mobserved\u001b[49m\u001b[43m,\u001b[49m\n\u001b[1;32m   7722\u001b[0m \u001b[43m    \u001b[49m\u001b[43mdropna\u001b[49m\u001b[38;5;241;43m=\u001b[39;49m\u001b[43mdropna\u001b[49m\u001b[43m,\u001b[49m\n\u001b[1;32m   7723\u001b[0m \u001b[43m\u001b[49m\u001b[43m)\u001b[49m\n",
      "File \u001b[0;32m~/anaconda3/lib/python3.9/site-packages/pandas/core/groupby/groupby.py:882\u001b[0m, in \u001b[0;36mGroupBy.__init__\u001b[0;34m(self, obj, keys, axis, level, grouper, exclusions, selection, as_index, sort, group_keys, squeeze, observed, mutated, dropna)\u001b[0m\n\u001b[1;32m    879\u001b[0m \u001b[38;5;28;01mif\u001b[39;00m grouper \u001b[38;5;129;01mis\u001b[39;00m \u001b[38;5;28;01mNone\u001b[39;00m:\n\u001b[1;32m    880\u001b[0m     \u001b[38;5;28;01mfrom\u001b[39;00m \u001b[38;5;21;01mpandas\u001b[39;00m\u001b[38;5;21;01m.\u001b[39;00m\u001b[38;5;21;01mcore\u001b[39;00m\u001b[38;5;21;01m.\u001b[39;00m\u001b[38;5;21;01mgroupby\u001b[39;00m\u001b[38;5;21;01m.\u001b[39;00m\u001b[38;5;21;01mgrouper\u001b[39;00m \u001b[38;5;28;01mimport\u001b[39;00m get_grouper\n\u001b[0;32m--> 882\u001b[0m     grouper, exclusions, obj \u001b[38;5;241m=\u001b[39m \u001b[43mget_grouper\u001b[49m\u001b[43m(\u001b[49m\n\u001b[1;32m    883\u001b[0m \u001b[43m        \u001b[49m\u001b[43mobj\u001b[49m\u001b[43m,\u001b[49m\n\u001b[1;32m    884\u001b[0m \u001b[43m        \u001b[49m\u001b[43mkeys\u001b[49m\u001b[43m,\u001b[49m\n\u001b[1;32m    885\u001b[0m \u001b[43m        \u001b[49m\u001b[43maxis\u001b[49m\u001b[38;5;241;43m=\u001b[39;49m\u001b[43maxis\u001b[49m\u001b[43m,\u001b[49m\n\u001b[1;32m    886\u001b[0m \u001b[43m        \u001b[49m\u001b[43mlevel\u001b[49m\u001b[38;5;241;43m=\u001b[39;49m\u001b[43mlevel\u001b[49m\u001b[43m,\u001b[49m\n\u001b[1;32m    887\u001b[0m \u001b[43m        \u001b[49m\u001b[43msort\u001b[49m\u001b[38;5;241;43m=\u001b[39;49m\u001b[43msort\u001b[49m\u001b[43m,\u001b[49m\n\u001b[1;32m    888\u001b[0m \u001b[43m        \u001b[49m\u001b[43mobserved\u001b[49m\u001b[38;5;241;43m=\u001b[39;49m\u001b[43mobserved\u001b[49m\u001b[43m,\u001b[49m\n\u001b[1;32m    889\u001b[0m \u001b[43m        \u001b[49m\u001b[43mmutated\u001b[49m\u001b[38;5;241;43m=\u001b[39;49m\u001b[38;5;28;43mself\u001b[39;49m\u001b[38;5;241;43m.\u001b[39;49m\u001b[43mmutated\u001b[49m\u001b[43m,\u001b[49m\n\u001b[1;32m    890\u001b[0m \u001b[43m        \u001b[49m\u001b[43mdropna\u001b[49m\u001b[38;5;241;43m=\u001b[39;49m\u001b[38;5;28;43mself\u001b[39;49m\u001b[38;5;241;43m.\u001b[39;49m\u001b[43mdropna\u001b[49m\u001b[43m,\u001b[49m\n\u001b[1;32m    891\u001b[0m \u001b[43m    \u001b[49m\u001b[43m)\u001b[49m\n\u001b[1;32m    893\u001b[0m \u001b[38;5;28mself\u001b[39m\u001b[38;5;241m.\u001b[39mobj \u001b[38;5;241m=\u001b[39m obj\n\u001b[1;32m    894\u001b[0m \u001b[38;5;28mself\u001b[39m\u001b[38;5;241m.\u001b[39maxis \u001b[38;5;241m=\u001b[39m obj\u001b[38;5;241m.\u001b[39m_get_axis_number(axis)\n",
      "File \u001b[0;32m~/anaconda3/lib/python3.9/site-packages/pandas/core/groupby/grouper.py:882\u001b[0m, in \u001b[0;36mget_grouper\u001b[0;34m(obj, key, axis, level, sort, observed, mutated, validate, dropna)\u001b[0m\n\u001b[1;32m    880\u001b[0m         in_axis, level, gpr \u001b[38;5;241m=\u001b[39m \u001b[38;5;28;01mFalse\u001b[39;00m, gpr, \u001b[38;5;28;01mNone\u001b[39;00m\n\u001b[1;32m    881\u001b[0m     \u001b[38;5;28;01melse\u001b[39;00m:\n\u001b[0;32m--> 882\u001b[0m         \u001b[38;5;28;01mraise\u001b[39;00m \u001b[38;5;167;01mKeyError\u001b[39;00m(gpr)\n\u001b[1;32m    883\u001b[0m \u001b[38;5;28;01melif\u001b[39;00m \u001b[38;5;28misinstance\u001b[39m(gpr, Grouper) \u001b[38;5;129;01mand\u001b[39;00m gpr\u001b[38;5;241m.\u001b[39mkey \u001b[38;5;129;01mis\u001b[39;00m \u001b[38;5;129;01mnot\u001b[39;00m \u001b[38;5;28;01mNone\u001b[39;00m:\n\u001b[1;32m    884\u001b[0m     \u001b[38;5;66;03m# Add key to exclusions\u001b[39;00m\n\u001b[1;32m    885\u001b[0m     exclusions\u001b[38;5;241m.\u001b[39madd(gpr\u001b[38;5;241m.\u001b[39mkey)\n",
      "\u001b[0;31mKeyError\u001b[0m: 'family'"
     ]
    }
   ],
   "source": [
    "# How many sequences we have per family\n",
    "summary_homfam = pd.read_csv(os.path.join(\"/home/luisasantus/Desktop/crg_cluster/data/structural_regression/stats/\", \"02_summary_homfam_with_refs.csv\"))\n",
    "summary_nseq = summary_homfam[[\"file_combined\",\"n_sequences_combined\"]]\n",
    "summary_nseq = summary_nseq.rename(columns ={\"file_combined\": \"family\", \"n_sequences_combined\":\"tot_n_sequences\"})\n",
    "\n",
    "# How many structures we find per family \n",
    "str_summary = pd.DataFrame()\n",
    "for file in glob.glob(\"/home/luisasantus/Desktop/crg_cluster/data/structural_regression/homfam/pdbs/structures/ready/*/*.pdb\"):\n",
    "    family = os.path.basename(os.path.dirname(file))\n",
    "    structure = os.path.basename(os.path.basename(file)).replace(\".pdb\", \"\")\n",
    "    entry = pd.DataFrame({'family':[family], 'structure': structure})\n",
    "    str_summary =  pd.concat([str_summary, entry], ignore_index = True)\n",
    "summary_nstr = str_summary.groupby(\"family\").count().reset_index()\n",
    "summary_nstr = summary_nstr.rename(columns ={\"structure\":\"tot_n_structures\"})\n"
   ]
  },
  {
   "cell_type": "code",
   "execution_count": 51,
   "id": "24377314",
   "metadata": {},
   "outputs": [
    {
     "data": {
      "text/html": [
       "<div>\n",
       "<style scoped>\n",
       "    .dataframe tbody tr th:only-of-type {\n",
       "        vertical-align: middle;\n",
       "    }\n",
       "\n",
       "    .dataframe tbody tr th {\n",
       "        vertical-align: top;\n",
       "    }\n",
       "\n",
       "    .dataframe thead th {\n",
       "        text-align: right;\n",
       "    }\n",
       "</style>\n",
       "<table border=\"1\" class=\"dataframe\">\n",
       "  <thead>\n",
       "    <tr style=\"text-align: right;\">\n",
       "      <th></th>\n",
       "      <th>family</th>\n",
       "      <th>tot_n_sequences</th>\n",
       "      <th>tot_n_structures</th>\n",
       "      <th>missing</th>\n",
       "    </tr>\n",
       "  </thead>\n",
       "  <tbody>\n",
       "    <tr>\n",
       "      <th>70</th>\n",
       "      <td>Acetyltransf</td>\n",
       "      <td>46285</td>\n",
       "      <td>6</td>\n",
       "      <td>46279</td>\n",
       "    </tr>\n",
       "    <tr>\n",
       "      <th>74</th>\n",
       "      <td>Ald_Xan_dh_2</td>\n",
       "      <td>2589</td>\n",
       "      <td>6</td>\n",
       "      <td>2583</td>\n",
       "    </tr>\n",
       "    <tr>\n",
       "      <th>79</th>\n",
       "      <td>ChtBD</td>\n",
       "      <td>774</td>\n",
       "      <td>2</td>\n",
       "      <td>772</td>\n",
       "    </tr>\n",
       "    <tr>\n",
       "      <th>73</th>\n",
       "      <td>DEATH</td>\n",
       "      <td>1183</td>\n",
       "      <td>7</td>\n",
       "      <td>1176</td>\n",
       "    </tr>\n",
       "    <tr>\n",
       "      <th>29</th>\n",
       "      <td>DMRL_synthase</td>\n",
       "      <td>2099</td>\n",
       "      <td>4</td>\n",
       "      <td>2095</td>\n",
       "    </tr>\n",
       "    <tr>\n",
       "      <th>...</th>\n",
       "      <td>...</td>\n",
       "      <td>...</td>\n",
       "      <td>...</td>\n",
       "      <td>...</td>\n",
       "    </tr>\n",
       "    <tr>\n",
       "      <th>49</th>\n",
       "      <td>tms</td>\n",
       "      <td>2118</td>\n",
       "      <td>5</td>\n",
       "      <td>2113</td>\n",
       "    </tr>\n",
       "    <tr>\n",
       "      <th>78</th>\n",
       "      <td>toxin</td>\n",
       "      <td>508</td>\n",
       "      <td>20</td>\n",
       "      <td>488</td>\n",
       "    </tr>\n",
       "    <tr>\n",
       "      <th>31</th>\n",
       "      <td>trfl</td>\n",
       "      <td>837</td>\n",
       "      <td>7</td>\n",
       "      <td>830</td>\n",
       "    </tr>\n",
       "    <tr>\n",
       "      <th>61</th>\n",
       "      <td>uce</td>\n",
       "      <td>4558</td>\n",
       "      <td>13</td>\n",
       "      <td>4545</td>\n",
       "    </tr>\n",
       "    <tr>\n",
       "      <th>47</th>\n",
       "      <td>zf-CCHH</td>\n",
       "      <td>88345</td>\n",
       "      <td>10</td>\n",
       "      <td>88335</td>\n",
       "    </tr>\n",
       "  </tbody>\n",
       "</table>\n",
       "<p>93 rows × 4 columns</p>\n",
       "</div>"
      ],
      "text/plain": [
       "           family  tot_n_sequences  tot_n_structures  missing\n",
       "70   Acetyltransf            46285                 6    46279\n",
       "74   Ald_Xan_dh_2             2589                 6     2583\n",
       "79          ChtBD              774                 2      772\n",
       "73          DEATH             1183                 7     1176\n",
       "29  DMRL_synthase             2099                 4     2095\n",
       "..            ...              ...               ...      ...\n",
       "49            tms             2118                 5     2113\n",
       "78          toxin              508                20      488\n",
       "31           trfl              837                 7      830\n",
       "61            uce             4558                13     4545\n",
       "47        zf-CCHH            88345                10    88335\n",
       "\n",
       "[93 rows x 4 columns]"
      ]
     },
     "execution_count": 51,
     "metadata": {},
     "output_type": "execute_result"
    }
   ],
   "source": [
    "# Check how many structures we are missing per family \n",
    "summary_n = pd.merge(summary_nseq, summary_nstr, on = \"family\")\n",
    "summary_n[\"missing\"] = summary_n[\"tot_n_sequences\"] - summary_n[\"tot_n_structures\"]\n",
    "summary_n.sort_values(by = \"family\")"
   ]
  },
  {
   "cell_type": "code",
   "execution_count": 52,
   "id": "926d31ed",
   "metadata": {},
   "outputs": [
    {
     "data": {
      "text/html": [
       "<div>\n",
       "<style scoped>\n",
       "    .dataframe tbody tr th:only-of-type {\n",
       "        vertical-align: middle;\n",
       "    }\n",
       "\n",
       "    .dataframe tbody tr th {\n",
       "        vertical-align: top;\n",
       "    }\n",
       "\n",
       "    .dataframe thead th {\n",
       "        text-align: right;\n",
       "    }\n",
       "</style>\n",
       "<table border=\"1\" class=\"dataframe\">\n",
       "  <thead>\n",
       "    <tr style=\"text-align: right;\">\n",
       "      <th></th>\n",
       "      <th>family</th>\n",
       "      <th>tot_n_sequences</th>\n",
       "      <th>tot_n_structures</th>\n",
       "      <th>missing</th>\n",
       "    </tr>\n",
       "  </thead>\n",
       "  <tbody>\n",
       "    <tr>\n",
       "      <th>17</th>\n",
       "      <td>hip</td>\n",
       "      <td>167</td>\n",
       "      <td>5</td>\n",
       "      <td>162</td>\n",
       "    </tr>\n",
       "  </tbody>\n",
       "</table>\n",
       "</div>"
      ],
      "text/plain": [
       "   family  tot_n_sequences  tot_n_structures  missing\n",
       "17    hip              167                 5      162"
      ]
     },
     "execution_count": 52,
     "metadata": {},
     "output_type": "execute_result"
    }
   ],
   "source": [
    "summary_n[summary_n.family.isin([\"hip\"])]"
   ]
  },
  {
   "cell_type": "code",
   "execution_count": null,
   "id": "09c61ccc",
   "metadata": {},
   "outputs": [],
   "source": [
    "# Then take all the structures we can and run fold seek on all "
   ]
  },
  {
   "cell_type": "code",
   "execution_count": 4,
   "id": "06340156",
   "metadata": {},
   "outputs": [
    {
     "data": {
      "text/plain": [
       "['/home/luisasantus/Desktop/crg_cluster/data/structural_regression/homfam/pdbs/structures/search_hits/mmseqs/annexin/annexin.UniProtKB/hits.m8',\n",
       " '/home/luisasantus/Desktop/crg_cluster/data/structural_regression/homfam/pdbs/structures/search_hits/mmseqs/ghf11/ghf11.UniProtKB/hits.m8',\n",
       " '/home/luisasantus/Desktop/crg_cluster/data/structural_regression/homfam/pdbs/structures/search_hits/mmseqs/Ald_Xan_dh_2/Ald_Xan_dh_2.UniProtKB/hits.m8',\n",
       " '/home/luisasantus/Desktop/crg_cluster/data/structural_regression/homfam/pdbs/structures/search_hits/mmseqs/hr/hr.UniProtKB/hits.m8',\n",
       " '/home/luisasantus/Desktop/crg_cluster/data/structural_regression/homfam/pdbs/structures/search_hits/mmseqs/rnasemam/rnasemam.UniProtKB/hits.m8',\n",
       " '/home/luisasantus/Desktop/crg_cluster/data/structural_regression/homfam/pdbs/structures/search_hits/mmseqs/profilin/profilin.UniProtKB/hits.m8',\n",
       " '/home/luisasantus/Desktop/crg_cluster/data/structural_regression/homfam/pdbs/structures/search_hits/mmseqs/tim/tim.UniProtKB/hits.m8',\n",
       " '/home/luisasantus/Desktop/crg_cluster/data/structural_regression/homfam/pdbs/structures/search_hits/mmseqs/tgfb/tgfb.UniProtKB/hits.m8',\n",
       " '/home/luisasantus/Desktop/crg_cluster/data/structural_regression/homfam/pdbs/structures/search_hits/mmseqs/ins/ins.UniProtKB/hits.m8',\n",
       " '/home/luisasantus/Desktop/crg_cluster/data/structural_regression/homfam/pdbs/structures/search_hits/mmseqs/KAS/KAS.UniProtKB/hits.m8',\n",
       " '/home/luisasantus/Desktop/crg_cluster/data/structural_regression/homfam/pdbs/structures/search_hits/mmseqs/ghf22/ghf22.UniProtKB/hits.m8',\n",
       " '/home/luisasantus/Desktop/crg_cluster/data/structural_regression/homfam/pdbs/structures/search_hits/mmseqs/aadh/aadh.UniProtKB/hits.m8',\n",
       " '/home/luisasantus/Desktop/crg_cluster/data/structural_regression/homfam/pdbs/structures/search_hits/mmseqs/trfl/trfl.UniProtKB/hits.m8',\n",
       " '/home/luisasantus/Desktop/crg_cluster/data/structural_regression/homfam/pdbs/structures/search_hits/mmseqs/sti/sti.UniProtKB/hits.m8',\n",
       " '/home/luisasantus/Desktop/crg_cluster/data/structural_regression/homfam/pdbs/structures/search_hits/mmseqs/phoslip/phoslip.UniProtKB/hits.m8',\n",
       " '/home/luisasantus/Desktop/crg_cluster/data/structural_regression/homfam/pdbs/structures/search_hits/mmseqs/scorptoxin/scorptoxin.UniProtKB/hits.m8',\n",
       " '/home/luisasantus/Desktop/crg_cluster/data/structural_regression/homfam/pdbs/structures/search_hits/mmseqs/TNF/TNF.UniProtKB/hits.m8',\n",
       " '/home/luisasantus/Desktop/crg_cluster/data/structural_regression/homfam/pdbs/structures/search_hits/mmseqs/DMRL_synthase/DMRL_synthase.UniProtKB/hits.m8',\n",
       " '/home/luisasantus/Desktop/crg_cluster/data/structural_regression/homfam/pdbs/structures/search_hits/mmseqs/seatoxin/seatoxin.UniProtKB/hits.m8',\n",
       " '/home/luisasantus/Desktop/crg_cluster/data/structural_regression/homfam/pdbs/structures/search_hits/mmseqs/hip/hip.UniProtKB/hits.m8']"
      ]
     },
     "execution_count": 4,
     "metadata": {},
     "output_type": "execute_result"
    }
   ],
   "source": [
    " glob.glob(\"/home/luisasantus/Desktop/crg_cluster/data/structural_regression/homfam/pdbs/structures/search_hits/mmseqs/*/*.UniProtKB/hits.m8\")"
   ]
  },
  {
   "cell_type": "code",
   "execution_count": 5,
   "id": "ee158db2",
   "metadata": {},
   "outputs": [],
   "source": [
    "\n",
    "# Check the amount of matches after filtering mmseqs\n",
    "mmseqs_summary = pd.DataFrame()\n",
    "for file in glob.glob(\"/home/luisasantus/Desktop/crg_cluster/data/structural_regression/homfam/pdbs/structures/search_hits/mmseqs/ins/*.UniProtKB/hits.m8\"):\n",
    "    family = os.path.basename(os.path.dirname(file)).replace(\"-ref.PDB\", \"\")\n",
    "    with open(file, 'r') as fp:\n",
    "        nhits = len(fp.readlines())\n",
    "    entry = pd.DataFrame({'family':[family], 'nhits': nhits})\n",
    "    mmseqs_summary =  pd.concat([mmseqs_summary, entry], ignore_index = True)"
   ]
  },
  {
   "cell_type": "code",
   "execution_count": 6,
   "id": "37a5790c",
   "metadata": {},
   "outputs": [
    {
     "data": {
      "text/html": [
       "<div>\n",
       "<style scoped>\n",
       "    .dataframe tbody tr th:only-of-type {\n",
       "        vertical-align: middle;\n",
       "    }\n",
       "\n",
       "    .dataframe tbody tr th {\n",
       "        vertical-align: top;\n",
       "    }\n",
       "\n",
       "    .dataframe thead th {\n",
       "        text-align: right;\n",
       "    }\n",
       "</style>\n",
       "<table border=\"1\" class=\"dataframe\">\n",
       "  <thead>\n",
       "    <tr style=\"text-align: right;\">\n",
       "      <th></th>\n",
       "      <th>family</th>\n",
       "      <th>nhits</th>\n",
       "    </tr>\n",
       "  </thead>\n",
       "  <tbody>\n",
       "    <tr>\n",
       "      <th>0</th>\n",
       "      <td>ins.UniProtKB</td>\n",
       "      <td>94870</td>\n",
       "    </tr>\n",
       "  </tbody>\n",
       "</table>\n",
       "</div>"
      ],
      "text/plain": [
       "          family  nhits\n",
       "0  ins.UniProtKB  94870"
      ]
     },
     "execution_count": 6,
     "metadata": {},
     "output_type": "execute_result"
    }
   ],
   "source": [
    "mmseqs_summary"
   ]
  },
  {
   "cell_type": "code",
   "execution_count": null,
   "id": "bcefe640",
   "metadata": {},
   "outputs": [],
   "source": [
    "def get_stats_search(hits):\n",
    "    #file = \"/home/luisasantus/Desktop/crg_cluster/data/tf/cisbp/data_pbm_train/F323_2.00/blast/PDB/2022-10-01/F323_2.00_2022-10-01-blastp.out\"\n",
    "    df_summary = pd.DataFrame()\n",
    "    # Collect all blast output files\n",
    "    for file in list(glob.glob(hits)):\n",
    "                print(file)\n",
    "                # Read each of the blast output file and retrieve family name\n",
    "                if os.path.getsize(file) > 0:\n",
    "                    df = pd.read_csv(file, sep='\\t', header = None)\n",
    "                    # Bring coverages to percentages\n",
    "                    df[2] = df[12]*100\n",
    "                    df[12] = df[12]*100\n",
    "                    df[13] = df[13]*100\n",
    "                    fam = file.split(sep = \"/\")[-5]\n",
    "                    # Try each identity thresholds and coverage thresholds\n",
    "                    for min_identity in min_identity_list: \n",
    "                        for min_cov in min_cov_list: \n",
    "                            # Store how many hits we find\n",
    "                            newrow = collect_nhits(df_summary, df, fam, min_identity, min_cov, col_cov=13)\n",
    "                            df_summary = pd.concat([df_summary,newrow])\n",
    "\n",
    "\n",
    "    # Prep format for plotting                         \n",
    "    df_summary = df_summary.reset_index(drop=True)\n",
    "    df_summary = pd.merge(df_summary, families_summary, on = \"family\")\n",
    "    df_summary[\"perc_hits\"] = df_summary.nhits *100 / df_summary.nseq\n",
    "    df_plot = df_summary.groupby([\"min_cov\", \"min_identity\"]).mean([\"perc_hits\"]).reset_index()\n",
    "    tab_plot = df_plot.pivot_table(index='min_cov', columns='min_identity', values='perc_hits')\n",
    "    return([df_summary,tab_plot])"
   ]
  }
 ],
 "metadata": {
  "kernelspec": {
   "display_name": "Python 3 (ipykernel)",
   "language": "python",
   "name": "python3"
  },
  "language_info": {
   "codemirror_mode": {
    "name": "ipython",
    "version": 3
   },
   "file_extension": ".py",
   "mimetype": "text/x-python",
   "name": "python",
   "nbconvert_exporter": "python",
   "pygments_lexer": "ipython3",
   "version": "3.9.12"
  }
 },
 "nbformat": 4,
 "nbformat_minor": 5
}
