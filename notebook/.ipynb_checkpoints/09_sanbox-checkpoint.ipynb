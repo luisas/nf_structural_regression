{
 "cells": [
  {
   "cell_type": "code",
   "execution_count": 1,
   "id": "a3a9319b",
   "metadata": {},
   "outputs": [],
   "source": [
    "import os\n",
    "import pandas as pd\n",
    "import numpy as np\n",
    "import seaborn as sns\n",
    "import matplotlib.pyplot as plt\n",
    "from os import listdir\n",
    "from os.path import isfile, join\n",
    "import matplotlib.ticker as ticker\n",
    "import matplotlib as mpl\n",
    "import sys\n",
    "from math import *\n",
    "from scipy.stats import binned_statistic\n",
    "import inspect\n",
    "from Bio import SeqIO\n",
    "from pathlib import Path\n",
    "sns.set_theme(style=\"white\", context=\"talk\")\n",
    "import glob\n",
    "import matplotlib.pyplot as plt\n",
    "from matplotlib_venn import venn2\n",
    "import itertools\n",
    "from scipy import stats\n",
    "from scipy.stats import pearsonr\n",
    "\n",
    "\n",
    "\n",
    "from utils_benchmark import * \n",
    "#test()\n",
    "\n",
    "sns.set_context(\"talk\")\n",
    "\n",
    "\n",
    "def get_stats(scores_df, summary_homfam_exthomfam):\n",
    "    stats_alignments = pd.merge(scores_df, summary_homfam_exthomfam, on =[\"family\",\"benchmarking_dataset\"])\n",
    "    stats_alignments[\"approach\"] = stats_alignments[[\"method\", \"bucket_size\", \"master_msa\", \"slave_msa\", \"dynamicX_val\", \"align_method\", \"tree_method\"]].apply(lambda row: '_'.join(row.values.astype(str)), axis=1)\n",
    "    stats_alignments[\"approach\"] = stats_alignments.approach.apply(lambda val: val.replace(\"_nan\",\"\"))\n",
    "    stats_alignments[\"fam_approach\"] = stats_alignments[\"family\"]+\"_\"+stats_alignments[\"approach\"]\n",
    "    stats_alignments.tc = pd.to_numeric(stats_alignments.tc)\n",
    "    return(stats_alignments)\n",
    "# Create an array with the colors you want to use\n",
    "colors = [\"grey\", \"#E13A3A\"]\n",
    "# Set your custom color palette\n",
    "sns.set_palette(sns.color_palette(colors))"
   ]
  },
  {
   "cell_type": "code",
   "execution_count": 2,
   "id": "f5928740",
   "metadata": {},
   "outputs": [],
   "source": [
    "evaluation_dir = \"/home/luisasantus/Desktop/crg_cluster/projects/structural_regression/results/\"\n",
    "outdir = \"../../../data/structural_regression/plots/02_benchmarkCPU/\"\n",
    "seqs_dir = \"/home/luisasantus/Desktop/crg_cluster/data/structural_regression/homfam/refs/\"\n",
    "# Load reference stats \n",
    "stats_alignments_ref= pd.read_csv(os.path.join(\"/home/luisasantus/Desktop/crg_cluster/data/structural_regression/stats/\", \"stats_alignments_refs.csv\"))\n",
    "summary_homfam_merged_tosave = pd.read_csv(os.path.join(\"/home/luisasantus/Desktop/crg_cluster/data/structural_regression/stats/\", \"02_summary_homfam_with_refs.csv\"))\n",
    "\n",
    "# Extract AF2 info for references only # Load AF2 scores\n",
    "af2 = pd.read_csv(\"/home/luisasantus/Desktop/crg_cluster/data/structural_regression/stats/02_summary_af2.csv\")\n",
    "# Load datasets informations (Homfam + extHomfam)\n",
    "summary_homfam_exthomfam = pd.read_csv(\"/home/luisasantus/Desktop/crg_cluster/data/structural_regression/stats/01_summary_homfam_exthomfam.csv\")\n",
    "summary_homfam_exthomfam = summary_homfam_exthomfam.rename(columns={\"dataset\": \"benchmarking_dataset\"})\n"
   ]
  },
  {
   "cell_type": "code",
   "execution_count": 3,
   "id": "bdf42df8",
   "metadata": {},
   "outputs": [],
   "source": [
    "# Extract all sequences in reference \n",
    "summary_ref_af2 = pd.DataFrame()\n",
    "for f in listdir(seqs_dir):\n",
    "     if f.endswith(\"fa\"):\n",
    "        fasta_sequences = SeqIO.parse(open(os.path.join(seqs_dir,f)),'fasta')\n",
    "        for fasta in fasta_sequences:\n",
    "            seq_id = [fasta.id.replace(\"/\",\"_\")]\n",
    "            l = len(fasta.seq.replace(\"-\", \"\"))\n",
    "            entry = pd.DataFrame({'sequence': seq_id,\"length\":l, \"name\": [f.replace(\"-ref.fa\",\"\").strip()]})\n",
    "            summary_ref_af2 =  pd.concat([summary_ref_af2, entry], ignore_index = True)\n",
    "summary_ref_af2[\"subset\"] = \"ref\"\n",
    "summary_ref_af2[\"family\"] = summary_ref_af2.name\n",
    "summary_ref_af2 = summary_ref_af2.merge(af2, on = [\"sequence\", \"family\"])\n",
    "af2_homfam_summary = summary_ref_af2.groupby(['family',\"benchmarking_dataset\"]).agg({'plddt': ['mean', 'min', 'max']}).reset_index().set_axis([\"family\", \"benchmarking_dataset\", \"plddt_mean\", \"plddt_min\", \"plddt_max\"], axis=1)\n",
    "\n",
    "summary_homfam_merged_tosave[\"family\"] = summary_homfam_merged_tosave.familcombined\n",
    "summary_ref = pd.merge(summary_homfam_merged_tosave,af2_homfam_summary)"
   ]
  },
  {
   "cell_type": "code",
   "execution_count": 4,
   "id": "5af8217b",
   "metadata": {},
   "outputs": [],
   "source": [
    "# Define dataset \n",
    "dataset = \"homfam\"\n",
    "scores_dir = join(\"/home/luisasantus/Desktop/crg_cluster/projects/structural_regression/results/\",dataset,\"evaluation/score/\")\n",
    "\n",
    "scores = pd.DataFrame()\n",
    "for score_name in os.listdir(scores_dir):\n",
    "    score_file = os.path.join(scores_dir,score_name)\n",
    "    # Parse file\n",
    "    if score_file.endswith(\".scores\"):\n",
    "        # only keep references\n",
    "        if \"-ref\" in score_file:\n",
    "            score_df = pd.read_csv(score_file,sep = \";\", header = None).drop(4, axis = 1)\n",
    "            scores = pd.concat([scores, score_df])\n",
    "scores = scores.iloc[:,0:4]\n",
    "scores.columns = ['name', 'sp', 'tc', 'column']"
   ]
  },
  {
   "cell_type": "code",
   "execution_count": 5,
   "id": "d55380a5",
   "metadata": {},
   "outputs": [
    {
     "name": "stderr",
     "output_type": "stream",
     "text": [
      "/tmp/ipykernel_36585/3451490122.py:5: SettingWithCopyWarning: \n",
      "A value is trying to be set on a copy of a slice from a DataFrame.\n",
      "Try using .loc[row_indexer,col_indexer] = value instead\n",
      "\n",
      "See the caveats in the documentation: https://pandas.pydata.org/pandas-docs/stable/user_guide/indexing.html#returning-a-view-versus-a-copy\n",
      "  regressive_scores[[\"family\", \"method\", \"bucket_size\", \"align_method\", \"tree_method\"]] = regressive_scores.name.str.split(\".\", expand = True)\n",
      "/tmp/ipykernel_36585/3451490122.py:5: SettingWithCopyWarning: \n",
      "A value is trying to be set on a copy of a slice from a DataFrame.\n",
      "Try using .loc[row_indexer,col_indexer] = value instead\n",
      "\n",
      "See the caveats in the documentation: https://pandas.pydata.org/pandas-docs/stable/user_guide/indexing.html#returning-a-view-versus-a-copy\n",
      "  regressive_scores[[\"family\", \"method\", \"bucket_size\", \"align_method\", \"tree_method\"]] = regressive_scores.name.str.split(\".\", expand = True)\n",
      "/tmp/ipykernel_36585/3451490122.py:5: SettingWithCopyWarning: \n",
      "A value is trying to be set on a copy of a slice from a DataFrame.\n",
      "Try using .loc[row_indexer,col_indexer] = value instead\n",
      "\n",
      "See the caveats in the documentation: https://pandas.pydata.org/pandas-docs/stable/user_guide/indexing.html#returning-a-view-versus-a-copy\n",
      "  regressive_scores[[\"family\", \"method\", \"bucket_size\", \"align_method\", \"tree_method\"]] = regressive_scores.name.str.split(\".\", expand = True)\n",
      "/tmp/ipykernel_36585/3451490122.py:5: SettingWithCopyWarning: \n",
      "A value is trying to be set on a copy of a slice from a DataFrame.\n",
      "Try using .loc[row_indexer,col_indexer] = value instead\n",
      "\n",
      "See the caveats in the documentation: https://pandas.pydata.org/pandas-docs/stable/user_guide/indexing.html#returning-a-view-versus-a-copy\n",
      "  regressive_scores[[\"family\", \"method\", \"bucket_size\", \"align_method\", \"tree_method\"]] = regressive_scores.name.str.split(\".\", expand = True)\n",
      "/tmp/ipykernel_36585/3451490122.py:5: SettingWithCopyWarning: \n",
      "A value is trying to be set on a copy of a slice from a DataFrame.\n",
      "Try using .loc[row_indexer,col_indexer] = value instead\n",
      "\n",
      "See the caveats in the documentation: https://pandas.pydata.org/pandas-docs/stable/user_guide/indexing.html#returning-a-view-versus-a-copy\n",
      "  regressive_scores[[\"family\", \"method\", \"bucket_size\", \"align_method\", \"tree_method\"]] = regressive_scores.name.str.split(\".\", expand = True)\n",
      "/tmp/ipykernel_36585/3451490122.py:11: SettingWithCopyWarning: \n",
      "A value is trying to be set on a copy of a slice from a DataFrame.\n",
      "Try using .loc[row_indexer,col_indexer] = value instead\n",
      "\n",
      "See the caveats in the documentation: https://pandas.pydata.org/pandas-docs/stable/user_guide/indexing.html#returning-a-view-versus-a-copy\n",
      "  progressive_scores[[\"family\", \"method\", \"align_method\", \"tree_method\"]] = progressive_scores.name.str.split(\".\", expand = True)\n",
      "/tmp/ipykernel_36585/3451490122.py:11: SettingWithCopyWarning: \n",
      "A value is trying to be set on a copy of a slice from a DataFrame.\n",
      "Try using .loc[row_indexer,col_indexer] = value instead\n",
      "\n",
      "See the caveats in the documentation: https://pandas.pydata.org/pandas-docs/stable/user_guide/indexing.html#returning-a-view-versus-a-copy\n",
      "  progressive_scores[[\"family\", \"method\", \"align_method\", \"tree_method\"]] = progressive_scores.name.str.split(\".\", expand = True)\n",
      "/tmp/ipykernel_36585/3451490122.py:11: SettingWithCopyWarning: \n",
      "A value is trying to be set on a copy of a slice from a DataFrame.\n",
      "Try using .loc[row_indexer,col_indexer] = value instead\n",
      "\n",
      "See the caveats in the documentation: https://pandas.pydata.org/pandas-docs/stable/user_guide/indexing.html#returning-a-view-versus-a-copy\n",
      "  progressive_scores[[\"family\", \"method\", \"align_method\", \"tree_method\"]] = progressive_scores.name.str.split(\".\", expand = True)\n",
      "/tmp/ipykernel_36585/3451490122.py:11: SettingWithCopyWarning: \n",
      "A value is trying to be set on a copy of a slice from a DataFrame.\n",
      "Try using .loc[row_indexer,col_indexer] = value instead\n",
      "\n",
      "See the caveats in the documentation: https://pandas.pydata.org/pandas-docs/stable/user_guide/indexing.html#returning-a-view-versus-a-copy\n",
      "  progressive_scores[[\"family\", \"method\", \"align_method\", \"tree_method\"]] = progressive_scores.name.str.split(\".\", expand = True)\n",
      "/tmp/ipykernel_36585/3451490122.py:17: SettingWithCopyWarning: \n",
      "A value is trying to be set on a copy of a slice from a DataFrame.\n",
      "Try using .loc[row_indexer,col_indexer] = value instead\n",
      "\n",
      "See the caveats in the documentation: https://pandas.pydata.org/pandas-docs/stable/user_guide/indexing.html#returning-a-view-versus-a-copy\n",
      "  dynamic_scores[[\"family\", \"method\", \"bucket_size\", \"dynamicX_label\",\"dynamicX_val\",\"master_msa\", \"slave_msa\", \"tree_method\"]] = dynamic_scores.name.str.split(\".\", expand = True)\n",
      "/tmp/ipykernel_36585/3451490122.py:17: SettingWithCopyWarning: \n",
      "A value is trying to be set on a copy of a slice from a DataFrame.\n",
      "Try using .loc[row_indexer,col_indexer] = value instead\n",
      "\n",
      "See the caveats in the documentation: https://pandas.pydata.org/pandas-docs/stable/user_guide/indexing.html#returning-a-view-versus-a-copy\n",
      "  dynamic_scores[[\"family\", \"method\", \"bucket_size\", \"dynamicX_label\",\"dynamicX_val\",\"master_msa\", \"slave_msa\", \"tree_method\"]] = dynamic_scores.name.str.split(\".\", expand = True)\n",
      "/tmp/ipykernel_36585/3451490122.py:17: SettingWithCopyWarning: \n",
      "A value is trying to be set on a copy of a slice from a DataFrame.\n",
      "Try using .loc[row_indexer,col_indexer] = value instead\n",
      "\n",
      "See the caveats in the documentation: https://pandas.pydata.org/pandas-docs/stable/user_guide/indexing.html#returning-a-view-versus-a-copy\n",
      "  dynamic_scores[[\"family\", \"method\", \"bucket_size\", \"dynamicX_label\",\"dynamicX_val\",\"master_msa\", \"slave_msa\", \"tree_method\"]] = dynamic_scores.name.str.split(\".\", expand = True)\n",
      "/tmp/ipykernel_36585/3451490122.py:17: SettingWithCopyWarning: \n",
      "A value is trying to be set on a copy of a slice from a DataFrame.\n",
      "Try using .loc[row_indexer,col_indexer] = value instead\n",
      "\n",
      "See the caveats in the documentation: https://pandas.pydata.org/pandas-docs/stable/user_guide/indexing.html#returning-a-view-versus-a-copy\n",
      "  dynamic_scores[[\"family\", \"method\", \"bucket_size\", \"dynamicX_label\",\"dynamicX_val\",\"master_msa\", \"slave_msa\", \"tree_method\"]] = dynamic_scores.name.str.split(\".\", expand = True)\n",
      "/tmp/ipykernel_36585/3451490122.py:17: SettingWithCopyWarning: \n",
      "A value is trying to be set on a copy of a slice from a DataFrame.\n",
      "Try using .loc[row_indexer,col_indexer] = value instead\n",
      "\n",
      "See the caveats in the documentation: https://pandas.pydata.org/pandas-docs/stable/user_guide/indexing.html#returning-a-view-versus-a-copy\n",
      "  dynamic_scores[[\"family\", \"method\", \"bucket_size\", \"dynamicX_label\",\"dynamicX_val\",\"master_msa\", \"slave_msa\", \"tree_method\"]] = dynamic_scores.name.str.split(\".\", expand = True)\n",
      "/tmp/ipykernel_36585/3451490122.py:17: SettingWithCopyWarning: \n",
      "A value is trying to be set on a copy of a slice from a DataFrame.\n",
      "Try using .loc[row_indexer,col_indexer] = value instead\n",
      "\n",
      "See the caveats in the documentation: https://pandas.pydata.org/pandas-docs/stable/user_guide/indexing.html#returning-a-view-versus-a-copy\n",
      "  dynamic_scores[[\"family\", \"method\", \"bucket_size\", \"dynamicX_label\",\"dynamicX_val\",\"master_msa\", \"slave_msa\", \"tree_method\"]] = dynamic_scores.name.str.split(\".\", expand = True)\n",
      "/tmp/ipykernel_36585/3451490122.py:17: SettingWithCopyWarning: \n",
      "A value is trying to be set on a copy of a slice from a DataFrame.\n",
      "Try using .loc[row_indexer,col_indexer] = value instead\n",
      "\n",
      "See the caveats in the documentation: https://pandas.pydata.org/pandas-docs/stable/user_guide/indexing.html#returning-a-view-versus-a-copy\n",
      "  dynamic_scores[[\"family\", \"method\", \"bucket_size\", \"dynamicX_label\",\"dynamicX_val\",\"master_msa\", \"slave_msa\", \"tree_method\"]] = dynamic_scores.name.str.split(\".\", expand = True)\n",
      "/tmp/ipykernel_36585/3451490122.py:17: SettingWithCopyWarning: \n",
      "A value is trying to be set on a copy of a slice from a DataFrame.\n",
      "Try using .loc[row_indexer,col_indexer] = value instead\n",
      "\n",
      "See the caveats in the documentation: https://pandas.pydata.org/pandas-docs/stable/user_guide/indexing.html#returning-a-view-versus-a-copy\n",
      "  dynamic_scores[[\"family\", \"method\", \"bucket_size\", \"dynamicX_label\",\"dynamicX_val\",\"master_msa\", \"slave_msa\", \"tree_method\"]] = dynamic_scores.name.str.split(\".\", expand = True)\n",
      "/tmp/ipykernel_36585/3451490122.py:29: UserWarning: Pandas doesn't allow columns to be created via a new attribute name - see https://pandas.pydata.org/pandas-docs/stable/indexing.html#attribute-access\n",
      "  df.nref = df.n_sequences * df.perc_ref_total /100\n"
     ]
    }
   ],
   "source": [
    "# -------------------------\n",
    "#      Regressive\n",
    "# -------------------------\n",
    "regressive_scores = scores[scores.name.str.contains(\"regressive\")]\n",
    "regressive_scores[[\"family\", \"method\", \"bucket_size\", \"align_method\", \"tree_method\"]] = regressive_scores.name.str.split(\".\", expand = True)\n",
    "\n",
    "# -------------------------\n",
    "#      Progressive\n",
    "# -------------------------\n",
    "progressive_scores = scores[scores.name.str.contains(\"progressive\")]\n",
    "progressive_scores[[\"family\", \"method\", \"align_method\", \"tree_method\"]] = progressive_scores.name.str.split(\".\", expand = True)\n",
    "\n",
    "# -------------------------\n",
    "#      Dyanmic\n",
    "# -------------------------\n",
    "dynamic_scores = scores[scores.name.str.contains(\"dynamic\")]\n",
    "dynamic_scores[[\"family\", \"method\", \"bucket_size\", \"dynamicX_label\",\"dynamicX_val\",\"master_msa\", \"slave_msa\", \"tree_method\"]] = dynamic_scores.name.str.split(\".\", expand = True)\n",
    "\n",
    "\n",
    "# --------------   summary all -----------------\n",
    "scores_df = pd.concat([regressive_scores, progressive_scores, dynamic_scores], ignore_index=True, sort=False)\n",
    "\n",
    "scores_df.family = scores_df.family.str.replace(\"-ref\",\"\")\n",
    "scores_df[\"benchmarking_dataset\"] = dataset\n",
    "\n",
    "stats_alignments_ref = get_stats(scores_df, summary_homfam_exthomfam)\n",
    "\n",
    "df = stats_alignments_ref\n",
    "df.nref = df.n_sequences * df.perc_ref_total /100 \n",
    "\n",
    "df = pd.merge(df, summary_ref, on = \"family\")"
   ]
  },
  {
   "cell_type": "code",
   "execution_count": 6,
   "id": "be485870",
   "metadata": {},
   "outputs": [],
   "source": [
    "# Comparison 1: DYNAMIC w/ 3D\n",
    "df_dyn_3d = df[df.approach == \"dynamic_50_tcoffee_msa_famsa_msa_100000000_FAMSA-medoid\"]\n",
    "#df_dyn_3d[\"nref\"] = df_dyn_3d.n_sequences * df_dyn_3d.perc_ref_total /100 \n",
    "\n",
    "# Comparison 2: DYNAMIC w/ FAMSA \n",
    "df_dyn_famsa = df[df.approach == \"dynamic_50_famsa_msa_famsa_msa_100000000_FAMSA-medoid\"]\n",
    "\n",
    "# Comparison 3: PROGRESSIVE w/ 3D \n",
    "df_prog_3d = df[df.approach == \"progressive_3DCOFFEE_FAMSA-medoid\"]\n",
    "df_prog_3d_mbed = df[df.approach == \"progressive_3DCOFFEE_MBED\"]\n",
    "\n",
    "# Comparison 3: PROGRESSIVE w/ 3D \n",
    "df_prog_3d_probapair = df[df.approach == \"progressive_PROBAPAIR_FAMSA-medoid\"]\n",
    "df_prog_3d_probapair_mbed = df[df.approach == \"progressive_PROBAPAIR_MBED\"]\n",
    "\n",
    "# For sanity checks, MBED \n",
    "# df_prog_3d_expresso = df[df.approach == \"progressive_EXPRESSOREAL_MBED\"]\n",
    "df_prog_3d_expresso = df[df.approach == \"progressive_3DCOFFEEEXPERIMENTAL_MBED\"]\n",
    "df_prog_3dcoffee = df[df.approach == \"progressive_3DCOFFEE_MBED\"]\n",
    "df_prog_famsa = df[df.approach == \"progressive_FAMSA_MBED\"]\n",
    "\n",
    "\n",
    "# Comparison 4: PROGRESSIVE w/ FAMSA\n",
    "df_prog_famsa_medoid = df[df.approach == \"progressive_FAMSA_FAMSA-medoid\"]\n",
    "\n",
    "\n",
    "df_d_r = pd.merge(df_prog_3dcoffee, df_prog_3d_probapair_mbed, on = [\"family\"] )\n",
    "df_d_r[\"diff_tc\"] = df_d_r.tc_x - df_d_r.tc_y \n",
    "df_d_r[\"diff_sp\"] = df_d_r.sp_x - df_d_r.sp_y \n",
    "df_d_r[\"perc_change_tc\"]= df_d_r.diff_tc *100/ abs(df_d_r.tc_y) \n",
    "df_d_r.columns = [c.replace(\"_x\", \"_3D\") for c in list(df_d_r.columns)]\n",
    "df_d_r.columns = [c.replace(\"_y\", \"_FAMSA\") for c in list(df_d_r.columns)]\n",
    "\n",
    "\n",
    "\n",
    "df_d_r_exp = pd.merge(df_prog_3d_expresso, df_prog_3d_probapair_mbed, on = [\"family\"] )\n",
    "df_d_r_exp[\"diff_tc\"] = df_d_r_exp.tc_x - df_d_r_exp.tc_y \n",
    "df_d_r_exp[\"diff_sp\"] = df_d_r_exp.sp_x - df_d_r_exp.sp_y \n",
    "df_d_r_exp[\"perc_change_tc\"]= df_d_r.diff_tc *100/ abs(df_d_r_exp.tc_y) \n",
    "df_d_r_exp.columns = [c.replace(\"_x\", \"_3D\") for c in list(df_d_r_exp.columns)]\n",
    "df_d_r_exp.columns = [c.replace(\"_y\", \"_FAMSA\") for c in list(df_d_r_exp.columns)]"
   ]
  },
  {
   "cell_type": "code",
   "execution_count": 7,
   "id": "87085d25",
   "metadata": {},
   "outputs": [
    {
     "data": {
      "image/png": "[encoded data removed]",
      "text/plain": [
       "<Figure size 1080x504 with 1 Axes>"
      ]
     },
     "metadata": {},
     "output_type": "display_data"
    }
   ],
   "source": [
    "f, (ax1) = plt.subplots(1, 1, figsize=(15, 7), sharex=True)\n",
    "# Center the data to make it diverging\n",
    "sns.barplot(x=df_d_r.diff_sp, y=df_d_r.diff_sp, color =\"grey\", ax=ax1)\n",
    "ax1.axhline(0, color=\"k\", clip_on=False)\n",
    "ax1.set(ylabel=\"3D+AF2 - PROBAPAIR\", xlabel = \"\", xticklabels=\"\")\n",
    "plt.show()"
   ]
  },
  {
   "cell_type": "code",
   "execution_count": null,
   "id": "7e45df28",
   "metadata": {},
   "outputs": [],
   "source": []
  },
  {
   "cell_type": "markdown",
   "id": "51b23d51",
   "metadata": {},
   "source": [
    "# Which is the degree of similarity in each family? "
   ]
  },
  {
   "cell_type": "code",
   "execution_count": 26,
   "id": "3f42d184",
   "metadata": {},
   "outputs": [
    {
     "data": {
      "text/html": [
       "<div>\n",
       "<style scoped>\n",
       "    .dataframe tbody tr th:only-of-type {\n",
       "        vertical-align: middle;\n",
       "    }\n",
       "\n",
       "    .dataframe tbody tr th {\n",
       "        vertical-align: top;\n",
       "    }\n",
       "\n",
       "    .dataframe thead th {\n",
       "        text-align: right;\n",
       "    }\n",
       "</style>\n",
       "<table border=\"1\" class=\"dataframe\">\n",
       "  <thead>\n",
       "    <tr style=\"text-align: right;\">\n",
       "      <th></th>\n",
       "      <th>name</th>\n",
       "      <th>sim_tot</th>\n",
       "    </tr>\n",
       "  </thead>\n",
       "  <tbody>\n",
       "    <tr>\n",
       "      <th>0</th>\n",
       "      <td>adh-ref.progressive.FAMSA.MBED</td>\n",
       "      <td>64.09</td>\n",
       "    </tr>\n",
       "    <tr>\n",
       "      <th>1</th>\n",
       "      <td>ghf13-ref.progressive.FAMSA.MBED</td>\n",
       "      <td>26.88</td>\n",
       "    </tr>\n",
       "    <tr>\n",
       "      <th>2</th>\n",
       "      <td>gluts-ref.progressive.FAMSA.MBED</td>\n",
       "      <td>39.50</td>\n",
       "    </tr>\n",
       "    <tr>\n",
       "      <th>3</th>\n",
       "      <td>kunitz-ref.progressive.FAMSA.MBED</td>\n",
       "      <td>38.47</td>\n",
       "    </tr>\n",
       "    <tr>\n",
       "      <th>4</th>\n",
       "      <td>subt-ref.progressive.FAMSA.MBED</td>\n",
       "      <td>39.78</td>\n",
       "    </tr>\n",
       "  </tbody>\n",
       "</table>\n",
       "</div>"
      ],
      "text/plain": [
       "                                name sim_tot\n",
       "0     adh-ref.progressive.FAMSA.MBED   64.09\n",
       "1   ghf13-ref.progressive.FAMSA.MBED   26.88\n",
       "2   gluts-ref.progressive.FAMSA.MBED   39.50\n",
       "3  kunitz-ref.progressive.FAMSA.MBED   38.47\n",
       "4    subt-ref.progressive.FAMSA.MBED   39.78"
      ]
     },
     "execution_count": 26,
     "metadata": {},
     "output_type": "execute_result"
    }
   ],
   "source": [
    "# ---------------------------------------------------------\n",
    "# Get SIMILARITY per family \n",
    "# Get number of sequences per family (and store for future notebooks)\n",
    "# ---------------------------------------------------------\n",
    "\n",
    "sims = os.path.join(evaluation_dir,\"homfam/evaluation/sim/*FAMSA.MBED.sim\")\n",
    "sim_df = pd.DataFrame()\n",
    "\n",
    "for file in list(glob.glob(sims)):\n",
    "    full_name = file.split(sep = \"/\")[-1].replace(\".sim\", \"\")\n",
    "    file_opened = open(file, \"r\")\n",
    "    tot_line = [line.split() for line in file_opened if line.startswith('TOT')]\n",
    "    entry = pd.DataFrame({'name': [full_name],\"sim_tot\": tot_line[0][3]})\n",
    "    sim_df =  pd.concat([sim_df, entry], ignore_index = True)\n",
    "# sim_df.head()"
   ]
  },
  {
   "cell_type": "code",
   "execution_count": 27,
   "id": "4bef33b4",
   "metadata": {},
   "outputs": [],
   "source": [
    "sim_df[[\"family_extended\", \"general_method\", \"method\", \"tree\"]] = sim_df.name.str.split(\".\",expand = True)\n",
    "sim_df[\"family\"] = sim_df.family_extended.str.split(\"-ref\",expand=True)[0]\n",
    "sim_df.sim_tot = sim_df.sim_tot.astype(float)"
   ]
  },
  {
   "cell_type": "code",
   "execution_count": 28,
   "id": "5ec8ff1a",
   "metadata": {},
   "outputs": [],
   "source": [
    "references = sim_df[sim_df.family_extended.str.contains(\"-ref\")]\n",
    "full = sim_df[ ~sim_df.family_extended.str.contains(\"-ref\")]"
   ]
  },
  {
   "cell_type": "code",
   "execution_count": 30,
   "id": "d8a291c8",
   "metadata": {},
   "outputs": [
    {
     "data": {
      "text/plain": [
       "<AxesSubplot:xlabel='sim_tot', ylabel='Count'>"
      ]
     },
     "execution_count": 30,
     "metadata": {},
     "output_type": "execute_result"
    },
    {
     "data": {
      "image/png": "[encoded data removed]",
      "text/plain": [
       "<Figure size 432x288 with 1 Axes>"
      ]
     },
     "metadata": {},
     "output_type": "display_data"
    }
   ],
   "source": [
    "sns.histplot(references, x = \"sim_tot\")"
   ]
  },
  {
   "cell_type": "markdown",
   "id": "3cf25a8c",
   "metadata": {},
   "source": [
    "# Now same lot as above but color with binned similarity "
   ]
  },
  {
   "cell_type": "code",
   "execution_count": null,
   "id": "5e98f53f",
   "metadata": {},
   "outputs": [],
   "source": [
    "df_d_r = df_d_r.merge(references, on = \"family\")"
   ]
  },
  {
   "cell_type": "code",
   "execution_count": null,
   "id": "24518a8f",
   "metadata": {},
   "outputs": [],
   "source": [
    "bins = [0, 20,40,60,70,90,100]\n",
    "df_d_r[\"sim\"] = pd.cut(df_d_r['sim_tot'], bins)\n",
    "df_d_r.sim_tot = df_d_r.sim_tot.astype(float)"
   ]
  },
  {
   "cell_type": "code",
   "execution_count": null,
   "id": "ea0862ac",
   "metadata": {},
   "outputs": [],
   "source": [
    "df_d_r_neg = df_d_r[df_d_r.diff_sp < 0]\n",
    "df_d_r_neg = df_d_r\n",
    "\n",
    "f, (ax1) = plt.subplots(1, 1, figsize=(15, 7), sharex=True)\n",
    "# Center the data to make it diverging\n",
    "cm = sns.color_palette(\"dark:salmon_r\", as_cmap=True)\n",
    "sns.barplot(x=df_d_r_neg.diff_tc, y=df_d_r_neg.diff_tc, ax=ax1, hue = df_d_r_neg.sim, dodge=False, palette = \"Blues_d\")\n",
    "\n",
    "ax1.axhline(0, color=\"k\", clip_on=False)\n",
    "ax1.set(ylabel=\"3D+AF2 - PROBAPAIR\", xlabel = \"\", xticklabels=\"\")\n",
    "plt.show()"
   ]
  },
  {
   "cell_type": "code",
   "execution_count": null,
   "id": "62da2492",
   "metadata": {},
   "outputs": [],
   "source": [
    "plt.figure(figsize=(7,7))\n",
    "ax = sns.scatterplot(data=df_d_r_neg, x=\"diff_sp\", y=\"sim_tot\", s = 70)\n",
    "ax.set(ylabel = \"% similarity\", xlabel = \"sp difference\")\n",
    "#.set(xlim=(0,100),ylim=(0,1))\n",
    "plt.axvline(0, color='red', linewidth = 0.8)\n"
   ]
  },
  {
   "cell_type": "code",
   "execution_count": null,
   "id": "ae415e1d",
   "metadata": {},
   "outputs": [],
   "source": [
    "SIMILARITY_THRESHOLD = 40\n",
    "dissimilar_references = df_d_r[df_d_r_neg.sim_tot < SIMILARITY_THRESHOLD]"
   ]
  },
  {
   "cell_type": "code",
   "execution_count": null,
   "id": "3eb705ae",
   "metadata": {},
   "outputs": [],
   "source": [
    "plt.figure(figsize=(7,7))\n",
    "ax = sns.scatterplot(data=dissimilar_references, x=\"diff_sp\", y=\"sim_tot\", s = 70, hue = \"family\")\n",
    "ax.set(ylabel = \"% similarity\", xlabel = \"sp difference\")\n",
    "#.set(xlim=(0,100),ylim=(0,1))\n",
    "plt.axvline(0, color='red', linewidth = 0.8)"
   ]
  },
  {
   "cell_type": "code",
   "execution_count": null,
   "id": "42e5097c",
   "metadata": {},
   "outputs": [],
   "source": [
    "dissimilar_references.loc[:,[\"family\",\"diff_sp\",\"sim_tot\", \"sp_3D\", \"sp_FAMSA\"]]"
   ]
  },
  {
   "cell_type": "code",
   "execution_count": null,
   "id": "05f6a65a",
   "metadata": {},
   "outputs": [],
   "source": [
    "dissimilar_references"
   ]
  }
 ],
 "metadata": {
  "kernelspec": {
   "display_name": "Python 3 (ipykernel)",
   "language": "python",
   "name": "python3"
  },
  "language_info": {
   "codemirror_mode": {
    "name": "ipython",
    "version": 3
   },
   "file_extension": ".py",
   "mimetype": "text/x-python",
   "name": "python",
   "nbconvert_exporter": "python",
   "pygments_lexer": "ipython3",
   "version": "3.9.12"
  }
 },
 "nbformat": 4,
 "nbformat_minor": 5
}
