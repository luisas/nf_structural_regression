{
 "cells": [
  {
   "cell_type": "markdown",
   "id": "272ee916",
   "metadata": {},
   "source": [
    "# Benchmark structural regression "
   ]
  },
  {
   "cell_type": "code",
   "execution_count": 198,
   "id": "7f8c5eba",
   "metadata": {},
   "outputs": [],
   "source": [
    "import os\n",
    "import pandas as pd\n",
    "import numpy as np\n",
    "import seaborn as sns\n",
    "import matplotlib.pyplot as plt\n",
    "from os import listdir\n",
    "from os.path import isfile, join"
   ]
  },
  {
   "cell_type": "code",
   "execution_count": 204,
   "id": "ec5e464c",
   "metadata": {},
   "outputs": [],
   "source": [
    "evaluation_dir = \"/home/luisasantus/Desktop/crg_cluster/projects/structural_regression/results/\""
   ]
  },
  {
   "cell_type": "code",
   "execution_count": 510,
   "id": "353024e7",
   "metadata": {},
   "outputs": [
    {
     "name": "stdout",
     "output_type": "stream",
     "text": [
      "1\n"
     ]
    }
   ],
   "source": [
    "for i in range(1):\n",
    "    print(i+1)"
   ]
  },
  {
   "cell_type": "code",
   "execution_count": 615,
   "id": "9d4b0fc0",
   "metadata": {},
   "outputs": [],
   "source": [
    "### parse trace files\n",
    "def parse_trace(result_dir):\n",
    "    f = os.path.basename(result_dir)\n",
    "    name_trace = \".command.trace\"\n",
    "    trace = join(result_dir, name_trace)\n",
    "    df = pd.read_csv(trace, sep = \"=\").T\n",
    "    df = df.rename(index={'nextflow.trace/v2': f})\n",
    "    return(df)\n",
    "\n",
    "def split_name(df):\n",
    "    df[[\"family\", \"method\", \"bucket_size\", \"dynamicX_label\",\"dynamicX_val\",\n",
    "               \"master_msa\", \"master_batch\",\n",
    "               \"slave_msa\", \"slave_batch\",\"tree\"]] = df.name.str.split(\".\", expand = True)\n",
    "    return(df)\n",
    "\n",
    "\n",
    "### Collect all computation files across directories \n",
    "def get_computation_times(evaluation_dir, dataset, task, extralevel = False):\n",
    "    # Extract trace files w/ corresponding alignments\n",
    "    traces = pd.DataFrame()\n",
    "    alignments_dir = join(evaluation_dir,task)\n",
    "    for fam in listdir(alignments_dir):\n",
    "        family_dir=join(alignments_dir, fam)\n",
    "        \n",
    "        \n",
    "        # remove extra level if needed\n",
    "        if extralevel == False:\n",
    "            family_dir = alignments_dir\n",
    "            \n",
    "        for f in listdir(family_dir):\n",
    "            result_dir = join(family_dir,f)\n",
    "            if(os.path.isdir(result_dir)):\n",
    "                df = parse_trace(result_dir)\n",
    "                traces = traces.append(df)\n",
    "        if extralevel == False:\n",
    "            break\n",
    "    # Trace files parsed\n",
    "    traces = traces.reset_index(level=0)\n",
    "    traces = traces.rename(columns={'index': 'name'})\n",
    "    traces[\"benchmarking_dataset\"] = dataset\n",
    "    traces = split_name(traces)\n",
    "    traces[\"task\"] = task\n",
    "    return(traces)"
   ]
  },
  {
   "cell_type": "code",
   "execution_count": 325,
   "id": "3fea96c9",
   "metadata": {},
   "outputs": [],
   "source": [
    "def add_families(trees_traces):\n",
    "    trees_traces[\"family\"] = trees_traces.name.str.split(\".\",expand=True)[0]\n",
    "    trees_traces[\"tree_method\"] = trees_traces.name.str.split(\".\",expand=True)[1]\n",
    "    return(trees_traces)"
   ]
  },
  {
   "cell_type": "markdown",
   "id": "ee76e76a",
   "metadata": {},
   "source": [
    "#### Load datasets informations (Homfam + extHomfam)"
   ]
  },
  {
   "cell_type": "code",
   "execution_count": 617,
   "id": "1c0dba27",
   "metadata": {},
   "outputs": [
    {
     "data": {
      "text/html": [
       "<div>\n",
       "<style scoped>\n",
       "    .dataframe tbody tr th:only-of-type {\n",
       "        vertical-align: middle;\n",
       "    }\n",
       "\n",
       "    .dataframe tbody tr th {\n",
       "        vertical-align: top;\n",
       "    }\n",
       "\n",
       "    .dataframe thead th {\n",
       "        text-align: right;\n",
       "    }\n",
       "</style>\n",
       "<table border=\"1\" class=\"dataframe\">\n",
       "  <thead>\n",
       "    <tr style=\"text-align: right;\">\n",
       "      <th></th>\n",
       "      <th>family</th>\n",
       "      <th>subset</th>\n",
       "      <th>n_sequences</th>\n",
       "      <th>mean_length</th>\n",
       "      <th>min_length</th>\n",
       "      <th>max_length</th>\n",
       "      <th>file</th>\n",
       "      <th>size_group</th>\n",
       "      <th>perc_ref_total</th>\n",
       "      <th>benchmarking_dataset</th>\n",
       "    </tr>\n",
       "  </thead>\n",
       "  <tbody>\n",
       "    <tr>\n",
       "      <th>0</th>\n",
       "      <td>rvp</td>\n",
       "      <td>combined</td>\n",
       "      <td>93681</td>\n",
       "      <td>94.288554</td>\n",
       "      <td>22</td>\n",
       "      <td>133</td>\n",
       "      <td>rvp</td>\n",
       "      <td>xlarge</td>\n",
       "      <td>0.006405</td>\n",
       "      <td>homfam</td>\n",
       "    </tr>\n",
       "    <tr>\n",
       "      <th>1</th>\n",
       "      <td>zf-CCHH</td>\n",
       "      <td>combined</td>\n",
       "      <td>88345</td>\n",
       "      <td>23.251265</td>\n",
       "      <td>12</td>\n",
       "      <td>35</td>\n",
       "      <td>zf-CCHH</td>\n",
       "      <td>xlarge</td>\n",
       "      <td>0.016979</td>\n",
       "      <td>homfam</td>\n",
       "    </tr>\n",
       "  </tbody>\n",
       "</table>\n",
       "</div>"
      ],
      "text/plain": [
       "    family    subset  n_sequences  mean_length  min_length  max_length  \\\n",
       "0      rvp  combined        93681    94.288554          22         133   \n",
       "1  zf-CCHH  combined        88345    23.251265          12          35   \n",
       "\n",
       "      file size_group  perc_ref_total benchmarking_dataset  \n",
       "0      rvp     xlarge        0.006405               homfam  \n",
       "1  zf-CCHH     xlarge        0.016979               homfam  "
      ]
     },
     "execution_count": 617,
     "metadata": {},
     "output_type": "execute_result"
    }
   ],
   "source": [
    "summary_homfam_exthomfam = pd.read_csv(\"/home/luisasantus/Desktop/crg_cluster/data/structural_regression/stats/01_summary_homfam_exthomfam.csv\")\n",
    "summary_homfam_exthomfam = summary_homfam_exthomfam.rename(columns={\"dataset\": \"benchmarking_dataset\"})\n",
    "summary_homfam_exthomfam.head(2)"
   ]
  },
  {
   "cell_type": "markdown",
   "id": "cad6d625",
   "metadata": {},
   "source": [
    "# <div style=\"text-align: center;\"> <span align=\"center\" style=\"color:blue\">_________TREES_________</span> </div>\n"
   ]
  },
  {
   "cell_type": "code",
   "execution_count": 570,
   "id": "d93f8f17",
   "metadata": {},
   "outputs": [
    {
     "data": {
      "text/html": [
       "<div>\n",
       "<style scoped>\n",
       "    .dataframe tbody tr th:only-of-type {\n",
       "        vertical-align: middle;\n",
       "    }\n",
       "\n",
       "    .dataframe tbody tr th {\n",
       "        vertical-align: top;\n",
       "    }\n",
       "\n",
       "    .dataframe thead th {\n",
       "        text-align: right;\n",
       "    }\n",
       "</style>\n",
       "<table border=\"1\" class=\"dataframe\">\n",
       "  <thead>\n",
       "    <tr style=\"text-align: right;\">\n",
       "      <th></th>\n",
       "      <th>name</th>\n",
       "      <th>realtime</th>\n",
       "      <th>%cpu</th>\n",
       "      <th>rchar</th>\n",
       "      <th>wchar</th>\n",
       "      <th>syscr</th>\n",
       "      <th>syscw</th>\n",
       "      <th>read_bytes</th>\n",
       "      <th>write_bytes</th>\n",
       "      <th>%mem</th>\n",
       "      <th>...</th>\n",
       "      <th>family</th>\n",
       "      <th>tree_method</th>\n",
       "      <th>subset</th>\n",
       "      <th>n_sequences</th>\n",
       "      <th>mean_length</th>\n",
       "      <th>min_length</th>\n",
       "      <th>max_length</th>\n",
       "      <th>file</th>\n",
       "      <th>size_group</th>\n",
       "      <th>perc_ref_total</th>\n",
       "    </tr>\n",
       "  </thead>\n",
       "  <tbody>\n",
       "    <tr>\n",
       "      <th>0</th>\n",
       "      <td>il8.FAMSA-parttree</td>\n",
       "      <td>81</td>\n",
       "      <td>600</td>\n",
       "      <td>138715</td>\n",
       "      <td>30817</td>\n",
       "      <td>142</td>\n",
       "      <td>22</td>\n",
       "      <td>1024000</td>\n",
       "      <td>32768</td>\n",
       "      <td>0</td>\n",
       "      <td>...</td>\n",
       "      <td>il8</td>\n",
       "      <td>FAMSA-parttree</td>\n",
       "      <td>combined</td>\n",
       "      <td>1073</td>\n",
       "      <td>63.762349</td>\n",
       "      <td>18</td>\n",
       "      <td>82</td>\n",
       "      <td>il8</td>\n",
       "      <td>small</td>\n",
       "      <td>1.025163</td>\n",
       "    </tr>\n",
       "    <tr>\n",
       "      <th>1</th>\n",
       "      <td>il8.FAMSA-medoid</td>\n",
       "      <td>379</td>\n",
       "      <td>829</td>\n",
       "      <td>138725</td>\n",
       "      <td>30822</td>\n",
       "      <td>142</td>\n",
       "      <td>22</td>\n",
       "      <td>1024000</td>\n",
       "      <td>32768</td>\n",
       "      <td>0</td>\n",
       "      <td>...</td>\n",
       "      <td>il8</td>\n",
       "      <td>FAMSA-medoid</td>\n",
       "      <td>combined</td>\n",
       "      <td>1073</td>\n",
       "      <td>63.762349</td>\n",
       "      <td>18</td>\n",
       "      <td>82</td>\n",
       "      <td>il8</td>\n",
       "      <td>small</td>\n",
       "      <td>1.025163</td>\n",
       "    </tr>\n",
       "  </tbody>\n",
       "</table>\n",
       "<p>2 rows × 27 columns</p>\n",
       "</div>"
      ],
      "text/plain": [
       "                 name  realtime  %cpu   rchar  wchar  syscr  syscw  \\\n",
       "0  il8.FAMSA-parttree        81   600  138715  30817    142     22   \n",
       "1    il8.FAMSA-medoid       379   829  138725  30822    142     22   \n",
       "\n",
       "   read_bytes  write_bytes  %mem  ...  family     tree_method    subset  \\\n",
       "0     1024000        32768     0  ...     il8  FAMSA-parttree  combined   \n",
       "1     1024000        32768     0  ...     il8    FAMSA-medoid  combined   \n",
       "\n",
       "   n_sequences  mean_length  min_length max_length file size_group  \\\n",
       "0         1073    63.762349          18         82  il8      small   \n",
       "1         1073    63.762349          18         82  il8      small   \n",
       "\n",
       "  perc_ref_total  \n",
       "0       1.025163  \n",
       "1       1.025163  \n",
       "\n",
       "[2 rows x 27 columns]"
      ]
     },
     "execution_count": 570,
     "metadata": {},
     "output_type": "execute_result"
    }
   ],
   "source": [
    "trees_traces_homfam = get_computation_times(join(evaluation_dir, \"homfam\"), \"homfam\", \"trees\", extralevel=True)\n",
    "trees_traces_homfam = add_families(trees_traces_homfam)\n",
    "\n",
    "trees_traces_exthomfam_v35 = get_computation_times(join(evaluation_dir, \"extHomfam_v35-uniprot\"), \"extHomfam_v35-uniprot\", \"trees\", extralevel=True)\n",
    "trees_traces_exthomfam_v35 = add_families(trees_traces_exthomfam_v35)\n",
    "\n",
    "trees_traces = pd.concat([trees_traces_homfam, trees_traces_exthomfam_v35])\n",
    "\n",
    "stat_trees = pd.merge(trees_traces, summary_homfam_exthomfam, on =[\"family\",\"benchmarking_dataset\"])\n",
    "stat_trees.head(2)"
   ]
  },
  {
   "cell_type": "code",
   "execution_count": 581,
   "id": "080be860",
   "metadata": {},
   "outputs": [
    {
     "data": {
      "image/png": "[encoded data removed]",
      "text/plain": [
       "<Figure size 504x360 with 1 Axes>"
      ]
     },
     "metadata": {},
     "output_type": "display_data"
    }
   ],
   "source": [
    "\n",
    "sns.set_theme(style=\"ticks\")\n",
    "sns.set_context(\"talk\")\n",
    "\n",
    "# Load the example tips dataset\n",
    "f, ax = plt.subplots(figsize=(7, 5))\n",
    "df = stat_trees\n",
    "# Draw a nested boxplot to show bills by day and time\n",
    "sns.boxplot(x=\"size_group\", y=\"realtime\",\n",
    "            hue=\"tree_method\", palette = \"magma\",\n",
    "            data=df, linewidth=1.5, fliersize = 1.5, dodge = True)\n",
    "\n",
    "# Calculate number of obs per group & median to position labels\n",
    "nobs = df['size_group'].value_counts().values\n",
    "nobs = [str(x) for x in nobs.tolist()]\n",
    "nobs = [\"n: \" + i for i in nobs]\n",
    " \n",
    "# Add it to the plot\n",
    "pos = range(len(nobs))\n",
    "for tick,label in zip(pos,ax.get_xticklabels()):\n",
    "    ax.text(pos[tick],\n",
    "            -10050000,\n",
    "            nobs[tick],\n",
    "            horizontalalignment='center',\n",
    "            size='small',\n",
    "            color='b')\n",
    " \n",
    "\n",
    "\n",
    "ax.set(ylabel='CPU time (ms)', xlabel='', title = \"Both on homfam and extHomfam_v35-uniprot\")\n",
    "plt.legend(bbox_to_anchor=(1.05, 0.8), loc=2, borderaxespad=0.)\n",
    "\n",
    "sns.despine(offset=10, trim=True)\n",
    "#f, ax = plt.subplots(figsize=(7, 7))\n",
    "#sns.scatterplot(data=stat_trees, y=\"realtime\", x=\"n_sequences\", hue=\"tree_method\",\n",
    "#                palette = \"magma\",style = \"benchmarking_dataset\", s = 30)\n",
    "#plt.legend(bbox_to_anchor=(1.05, 1), loc=2, borderaxespad=0.)\n",
    "#ax.set(ylabel='CPU time (ms)', xlabel='number of sequences')"
   ]
  },
  {
   "cell_type": "markdown",
   "id": "d9fda653",
   "metadata": {},
   "source": [
    "# <div style=\"text-align: center;\"> <span align=\"center\" style=\"color:red\">_________Computation times_________</span> </div>"
   ]
  },
  {
   "cell_type": "code",
   "execution_count": null,
   "id": "8ea3b19d",
   "metadata": {},
   "outputs": [],
   "source": [
    "# Load AF2"
   ]
  },
  {
   "cell_type": "code",
   "execution_count": 632,
   "id": "954efbb7",
   "metadata": {},
   "outputs": [],
   "source": [
    "# ---------- EXTRACT SEQUENCES ---------------\n",
    "traces_extracted_sequences_homfam = get_computation_times(join(evaluation_dir, \"homfam\"), \"homfam\", \"seqs_extracted\")"
   ]
  },
  {
   "cell_type": "code",
   "execution_count": null,
   "id": "860c0711",
   "metadata": {},
   "outputs": [],
   "source": [
    "# ---------- AF2 PREDICTIONS -------------------------\n"
   ]
  },
  {
   "cell_type": "code",
   "execution_count": 595,
   "id": "ec361846",
   "metadata": {},
   "outputs": [],
   "source": [
    "# ---------- ALIGNMENTS -------------------------\n",
    "traces_alignments_homfam = get_computation_times(join(evaluation_dir, \"homfam\"), \"homfam\", \"alignments\")"
   ]
  },
  {
   "cell_type": "code",
   "execution_count": 605,
   "id": "f03513be",
   "metadata": {},
   "outputs": [],
   "source": [
    "# ---------- CONCATENATE AL OF THEM IN ONE ---------------\n",
    "traces = traces_extracted_sequences_homfam"
   ]
  },
  {
   "cell_type": "code",
   "execution_count": 634,
   "id": "7d6b52b2",
   "metadata": {},
   "outputs": [
    {
     "data": {
      "text/html": [
       "<div>\n",
       "<style scoped>\n",
       "    .dataframe tbody tr th:only-of-type {\n",
       "        vertical-align: middle;\n",
       "    }\n",
       "\n",
       "    .dataframe tbody tr th {\n",
       "        vertical-align: top;\n",
       "    }\n",
       "\n",
       "    .dataframe thead th {\n",
       "        text-align: right;\n",
       "    }\n",
       "</style>\n",
       "<table border=\"1\" class=\"dataframe\">\n",
       "  <thead>\n",
       "    <tr style=\"text-align: right;\">\n",
       "      <th></th>\n",
       "      <th>name</th>\n",
       "      <th>realtime</th>\n",
       "      <th>%cpu</th>\n",
       "      <th>rchar</th>\n",
       "      <th>wchar</th>\n",
       "      <th>syscr</th>\n",
       "      <th>syscw</th>\n",
       "      <th>read_bytes</th>\n",
       "      <th>write_bytes</th>\n",
       "      <th>%mem</th>\n",
       "      <th>...</th>\n",
       "      <th>family</th>\n",
       "      <th>method</th>\n",
       "      <th>bucket_size</th>\n",
       "      <th>dynamicX_label</th>\n",
       "      <th>dynamicX_val</th>\n",
       "      <th>master_msa</th>\n",
       "      <th>master_batch</th>\n",
       "      <th>slave_msa</th>\n",
       "      <th>slave_batch</th>\n",
       "      <th>tree</th>\n",
       "    </tr>\n",
       "  </thead>\n",
       "  <tbody>\n",
       "    <tr>\n",
       "      <th>0</th>\n",
       "      <td>seatoxin.dynamic.100.dynamicX.100000.tcoffee_m...</td>\n",
       "      <td>1426</td>\n",
       "      <td>72</td>\n",
       "      <td>127181</td>\n",
       "      <td>21249</td>\n",
       "      <td>223</td>\n",
       "      <td>33</td>\n",
       "      <td>1553408</td>\n",
       "      <td>40960</td>\n",
       "      <td>0</td>\n",
       "      <td>...</td>\n",
       "      <td>seatoxin</td>\n",
       "      <td>dynamic</td>\n",
       "      <td>100</td>\n",
       "      <td>dynamicX</td>\n",
       "      <td>100000</td>\n",
       "      <td>tcoffee_msa</td>\n",
       "      <td>100</td>\n",
       "      <td>famsa_msa</td>\n",
       "      <td>100000000</td>\n",
       "      <td>FAMSA-parttree</td>\n",
       "    </tr>\n",
       "  </tbody>\n",
       "</table>\n",
       "<p>1 rows × 27 columns</p>\n",
       "</div>"
      ],
      "text/plain": [
       "                                                name  realtime  %cpu   rchar  \\\n",
       "0  seatoxin.dynamic.100.dynamicX.100000.tcoffee_m...      1426    72  127181   \n",
       "\n",
       "   wchar  syscr  syscw  read_bytes  write_bytes  %mem  ...    family   method  \\\n",
       "0  21249    223     33     1553408        40960     0  ...  seatoxin  dynamic   \n",
       "\n",
       "   bucket_size  dynamicX_label  dynamicX_val   master_msa master_batch  \\\n",
       "0          100        dynamicX        100000  tcoffee_msa          100   \n",
       "\n",
       "   slave_msa slave_batch            tree  \n",
       "0  famsa_msa   100000000  FAMSA-parttree  \n",
       "\n",
       "[1 rows x 27 columns]"
      ]
     },
     "execution_count": 634,
     "metadata": {},
     "output_type": "execute_result"
    }
   ],
   "source": [
    "traces.head(1)"
   ]
  },
  {
   "cell_type": "markdown",
   "id": "4d576637",
   "metadata": {},
   "source": [
    "# <div style=\"text-align: center;\"> <span align=\"center\" style=\"color:pink\">_________Evaluation_________</span> </div>"
   ]
  },
  {
   "cell_type": "code",
   "execution_count": 635,
   "id": "5f3d5c07",
   "metadata": {},
   "outputs": [],
   "source": [
    "# Load AF2 scores\n",
    "af2 = pd.read_csv(\"/home/luisasantus/Desktop/crg_cluster/data/structural_regression/stats/02_summary_af2.csv\")\n",
    "af2_grouped = pd.read_csv(\"/home/luisasantus/Desktop/crg_cluster/data/structural_regression/stats/03_summary_af2_grouped.csv\")"
   ]
  },
  {
   "cell_type": "code",
   "execution_count": 636,
   "id": "9d42495a",
   "metadata": {},
   "outputs": [
    {
     "data": {
      "text/html": [
       "<div>\n",
       "<style scoped>\n",
       "    .dataframe tbody tr th:only-of-type {\n",
       "        vertical-align: middle;\n",
       "    }\n",
       "\n",
       "    .dataframe tbody tr th {\n",
       "        vertical-align: top;\n",
       "    }\n",
       "\n",
       "    .dataframe thead th {\n",
       "        text-align: right;\n",
       "    }\n",
       "</style>\n",
       "<table border=\"1\" class=\"dataframe\">\n",
       "  <thead>\n",
       "    <tr style=\"text-align: right;\">\n",
       "      <th></th>\n",
       "      <th>family</th>\n",
       "      <th>benchmarking_dataset</th>\n",
       "      <th>plddt_mean</th>\n",
       "      <th>plddt_min</th>\n",
       "      <th>plddt_max</th>\n",
       "    </tr>\n",
       "  </thead>\n",
       "  <tbody>\n",
       "    <tr>\n",
       "      <th>0</th>\n",
       "      <td>hip</td>\n",
       "      <td>homfam</td>\n",
       "      <td>71.948558</td>\n",
       "      <td>55.1243</td>\n",
       "      <td>82.6511</td>\n",
       "    </tr>\n",
       "  </tbody>\n",
       "</table>\n",
       "</div>"
      ],
      "text/plain": [
       "  family benchmarking_dataset  plddt_mean  plddt_min  plddt_max\n",
       "0    hip               homfam   71.948558    55.1243    82.6511"
      ]
     },
     "execution_count": 636,
     "metadata": {},
     "output_type": "execute_result"
    }
   ],
   "source": []
  },
  {
   "cell_type": "code",
   "execution_count": 606,
   "id": "de6aaf2c",
   "metadata": {},
   "outputs": [],
   "source": [
    "def get_evaluation(evaluation_dir, dataset):\n",
    "    scores = evaluation_dir + \"/CSV/dynamic.scores.csv\"\n",
    "    scores_df = pd.read_csv(scores, sep=\";\", header = None).iloc[: , :-1]\n",
    "    scores_df.set_axis(list([\"name\", \"sp\",\"tc\", \"column\"]), axis=1, inplace=True)\n",
    "    scores_df[[\"family\", \"method\", \"bucket_size\", \"dynamicX_label\",\"dynamicX_val\",\n",
    "               \"master_msa\", \"master_batch\",\n",
    "               \"slave_msa\", \"slave_batch\",\"tree\"]] = scores_df.name.str.split(\".\", expand = True)\n",
    "    scores_df[\"benchmarking_dataset\"] = dataset\n",
    "    return(scores_df)"
   ]
  },
  {
   "cell_type": "code",
   "execution_count": 607,
   "id": "900a70da",
   "metadata": {},
   "outputs": [],
   "source": [
    "scores_df_homfam = get_evaluation(join(evaluation_dir,dataset), dataset)"
   ]
  },
  {
   "cell_type": "code",
   "execution_count": 611,
   "id": "85c469e7",
   "metadata": {},
   "outputs": [
    {
     "data": {
      "text/html": [
       "<div>\n",
       "<style scoped>\n",
       "    .dataframe tbody tr th:only-of-type {\n",
       "        vertical-align: middle;\n",
       "    }\n",
       "\n",
       "    .dataframe tbody tr th {\n",
       "        vertical-align: top;\n",
       "    }\n",
       "\n",
       "    .dataframe thead th {\n",
       "        text-align: right;\n",
       "    }\n",
       "</style>\n",
       "<table border=\"1\" class=\"dataframe\">\n",
       "  <thead>\n",
       "    <tr style=\"text-align: right;\">\n",
       "      <th></th>\n",
       "      <th>name</th>\n",
       "      <th>sp</th>\n",
       "      <th>tc</th>\n",
       "      <th>column</th>\n",
       "      <th>family</th>\n",
       "      <th>method</th>\n",
       "      <th>bucket_size</th>\n",
       "      <th>dynamicX_label</th>\n",
       "      <th>dynamicX_val</th>\n",
       "      <th>master_msa</th>\n",
       "      <th>master_batch</th>\n",
       "      <th>slave_msa</th>\n",
       "      <th>slave_batch</th>\n",
       "      <th>tree</th>\n",
       "      <th>benchmarking_dataset</th>\n",
       "    </tr>\n",
       "  </thead>\n",
       "  <tbody>\n",
       "    <tr>\n",
       "      <th>0</th>\n",
       "      <td>hip.dynamic.100.dynamicX.100000.tcoffee_msa.10...</td>\n",
       "      <td>80.1</td>\n",
       "      <td>50.0</td>\n",
       "      <td>61.5</td>\n",
       "      <td>hip</td>\n",
       "      <td>dynamic</td>\n",
       "      <td>100</td>\n",
       "      <td>dynamicX</td>\n",
       "      <td>100000</td>\n",
       "      <td>tcoffee_msa</td>\n",
       "      <td>100</td>\n",
       "      <td>famsa_msa</td>\n",
       "      <td>100000000</td>\n",
       "      <td>FAMSA</td>\n",
       "      <td>homfam</td>\n",
       "    </tr>\n",
       "    <tr>\n",
       "      <th>1</th>\n",
       "      <td>seatoxin.dynamic.100.dynamicX.100000.tcoffee_m...</td>\n",
       "      <td>70.8</td>\n",
       "      <td>26.5</td>\n",
       "      <td>25.7</td>\n",
       "      <td>seatoxin</td>\n",
       "      <td>dynamic</td>\n",
       "      <td>100</td>\n",
       "      <td>dynamicX</td>\n",
       "      <td>100000</td>\n",
       "      <td>tcoffee_msa</td>\n",
       "      <td>100</td>\n",
       "      <td>famsa_msa</td>\n",
       "      <td>100000000</td>\n",
       "      <td>FAMSA</td>\n",
       "      <td>homfam</td>\n",
       "    </tr>\n",
       "  </tbody>\n",
       "</table>\n",
       "</div>"
      ],
      "text/plain": [
       "                                                name    sp    tc  column  \\\n",
       "0  hip.dynamic.100.dynamicX.100000.tcoffee_msa.10...  80.1  50.0    61.5   \n",
       "1  seatoxin.dynamic.100.dynamicX.100000.tcoffee_m...  70.8  26.5    25.7   \n",
       "\n",
       "     family   method bucket_size dynamicX_label dynamicX_val   master_msa  \\\n",
       "0       hip  dynamic         100       dynamicX       100000  tcoffee_msa   \n",
       "1  seatoxin  dynamic         100       dynamicX       100000  tcoffee_msa   \n",
       "\n",
       "  master_batch  slave_msa slave_batch   tree benchmarking_dataset  \n",
       "0          100  famsa_msa   100000000  FAMSA               homfam  \n",
       "1          100  famsa_msa   100000000  FAMSA               homfam  "
      ]
     },
     "execution_count": 611,
     "metadata": {},
     "output_type": "execute_result"
    }
   ],
   "source": [
    "## TODO -- add exthomfam\n",
    "scores_df = scores_df_homfam\n",
    "scores_df"
   ]
  },
  {
   "cell_type": "markdown",
   "id": "1e13a234",
   "metadata": {},
   "source": [
    "# <div style=\"text-align: center;\"> <span align=\"center\" style=\"color:lightgrey\">_________MERGE_________</span> </div>"
   ]
  },
  {
   "cell_type": "code",
   "execution_count": 619,
   "id": "64d36ad8",
   "metadata": {},
   "outputs": [
    {
     "ename": "KeyError",
     "evalue": "'family'",
     "output_type": "error",
     "traceback": [
      "\u001b[0;31m---------------------------------------------------------------------------\u001b[0m",
      "\u001b[0;31mKeyError\u001b[0m                                  Traceback (most recent call last)",
      "\u001b[0;32m/tmp/ipykernel_384132/2667155923.py\u001b[0m in \u001b[0;36m<module>\u001b[0;34m\u001b[0m\n\u001b[1;32m      1\u001b[0m \u001b[0mstats\u001b[0m \u001b[0;34m=\u001b[0m \u001b[0mpd\u001b[0m\u001b[0;34m.\u001b[0m\u001b[0mmerge\u001b[0m\u001b[0;34m(\u001b[0m\u001b[0mscores_df\u001b[0m\u001b[0;34m,\u001b[0m \u001b[0mtraces\u001b[0m\u001b[0;34m,\u001b[0m \u001b[0mon\u001b[0m \u001b[0;34m=\u001b[0m \u001b[0;34m\"name\"\u001b[0m\u001b[0;34m)\u001b[0m\u001b[0;34m\u001b[0m\u001b[0;34m\u001b[0m\u001b[0m\n\u001b[0;32m----> 2\u001b[0;31m \u001b[0mstats\u001b[0m \u001b[0;34m=\u001b[0m \u001b[0mpd\u001b[0m\u001b[0;34m.\u001b[0m\u001b[0mmerge\u001b[0m\u001b[0;34m(\u001b[0m\u001b[0mstats\u001b[0m\u001b[0;34m,\u001b[0m \u001b[0msummary_homfam_exthomfam\u001b[0m\u001b[0;34m,\u001b[0m \u001b[0mon\u001b[0m \u001b[0;34m=\u001b[0m\u001b[0;34m[\u001b[0m\u001b[0;34m\"family\"\u001b[0m\u001b[0;34m,\u001b[0m\u001b[0;34m\"benchmarking_dataset\"\u001b[0m\u001b[0;34m]\u001b[0m\u001b[0;34m)\u001b[0m\u001b[0;34m\u001b[0m\u001b[0;34m\u001b[0m\u001b[0m\n\u001b[0m\u001b[1;32m      3\u001b[0m \u001b[0mstats\u001b[0m\u001b[0;34m.\u001b[0m\u001b[0mhead\u001b[0m\u001b[0;34m(\u001b[0m\u001b[0;34m)\u001b[0m\u001b[0;34m\u001b[0m\u001b[0;34m\u001b[0m\u001b[0m\n",
      "\u001b[0;32m~/.local/lib/python3.8/site-packages/pandas/core/reshape/merge.py\u001b[0m in \u001b[0;36mmerge\u001b[0;34m(left, right, how, on, left_on, right_on, left_index, right_index, sort, suffixes, copy, indicator, validate)\u001b[0m\n\u001b[1;32m    104\u001b[0m     \u001b[0mvalidate\u001b[0m\u001b[0;34m:\u001b[0m \u001b[0mstr\u001b[0m \u001b[0;34m|\u001b[0m \u001b[0;32mNone\u001b[0m \u001b[0;34m=\u001b[0m \u001b[0;32mNone\u001b[0m\u001b[0;34m,\u001b[0m\u001b[0;34m\u001b[0m\u001b[0;34m\u001b[0m\u001b[0m\n\u001b[1;32m    105\u001b[0m ) -> DataFrame:\n\u001b[0;32m--> 106\u001b[0;31m     op = _MergeOperation(\n\u001b[0m\u001b[1;32m    107\u001b[0m         \u001b[0mleft\u001b[0m\u001b[0;34m,\u001b[0m\u001b[0;34m\u001b[0m\u001b[0;34m\u001b[0m\u001b[0m\n\u001b[1;32m    108\u001b[0m         \u001b[0mright\u001b[0m\u001b[0;34m,\u001b[0m\u001b[0;34m\u001b[0m\u001b[0;34m\u001b[0m\u001b[0m\n",
      "\u001b[0;32m~/.local/lib/python3.8/site-packages/pandas/core/reshape/merge.py\u001b[0m in \u001b[0;36m__init__\u001b[0;34m(self, left, right, how, on, left_on, right_on, axis, left_index, right_index, sort, suffixes, copy, indicator, validate)\u001b[0m\n\u001b[1;32m    697\u001b[0m             \u001b[0mself\u001b[0m\u001b[0;34m.\u001b[0m\u001b[0mright_join_keys\u001b[0m\u001b[0;34m,\u001b[0m\u001b[0;34m\u001b[0m\u001b[0;34m\u001b[0m\u001b[0m\n\u001b[1;32m    698\u001b[0m             \u001b[0mself\u001b[0m\u001b[0;34m.\u001b[0m\u001b[0mjoin_names\u001b[0m\u001b[0;34m,\u001b[0m\u001b[0;34m\u001b[0m\u001b[0;34m\u001b[0m\u001b[0m\n\u001b[0;32m--> 699\u001b[0;31m         ) = self._get_merge_keys()\n\u001b[0m\u001b[1;32m    700\u001b[0m \u001b[0;34m\u001b[0m\u001b[0m\n\u001b[1;32m    701\u001b[0m         \u001b[0;31m# validate the merge keys dtypes. We may need to coerce\u001b[0m\u001b[0;34m\u001b[0m\u001b[0;34m\u001b[0m\u001b[0;34m\u001b[0m\u001b[0m\n",
      "\u001b[0;32m~/.local/lib/python3.8/site-packages/pandas/core/reshape/merge.py\u001b[0m in \u001b[0;36m_get_merge_keys\u001b[0;34m(self)\u001b[0m\n\u001b[1;32m   1107\u001b[0m                         \u001b[0mright_keys\u001b[0m\u001b[0;34m.\u001b[0m\u001b[0mappend\u001b[0m\u001b[0;34m(\u001b[0m\u001b[0mrk\u001b[0m\u001b[0;34m)\u001b[0m\u001b[0;34m\u001b[0m\u001b[0;34m\u001b[0m\u001b[0m\n\u001b[1;32m   1108\u001b[0m                     \u001b[0;32mif\u001b[0m \u001b[0mlk\u001b[0m \u001b[0;32mis\u001b[0m \u001b[0;32mnot\u001b[0m \u001b[0;32mNone\u001b[0m\u001b[0;34m:\u001b[0m\u001b[0;34m\u001b[0m\u001b[0;34m\u001b[0m\u001b[0m\n\u001b[0;32m-> 1109\u001b[0;31m                         \u001b[0mleft_keys\u001b[0m\u001b[0;34m.\u001b[0m\u001b[0mappend\u001b[0m\u001b[0;34m(\u001b[0m\u001b[0mleft\u001b[0m\u001b[0;34m.\u001b[0m\u001b[0m_get_label_or_level_values\u001b[0m\u001b[0;34m(\u001b[0m\u001b[0mlk\u001b[0m\u001b[0;34m)\u001b[0m\u001b[0;34m)\u001b[0m\u001b[0;34m\u001b[0m\u001b[0;34m\u001b[0m\u001b[0m\n\u001b[0m\u001b[1;32m   1110\u001b[0m                         \u001b[0mjoin_names\u001b[0m\u001b[0;34m.\u001b[0m\u001b[0mappend\u001b[0m\u001b[0;34m(\u001b[0m\u001b[0mlk\u001b[0m\u001b[0;34m)\u001b[0m\u001b[0;34m\u001b[0m\u001b[0;34m\u001b[0m\u001b[0m\n\u001b[1;32m   1111\u001b[0m                     \u001b[0;32melse\u001b[0m\u001b[0;34m:\u001b[0m\u001b[0;34m\u001b[0m\u001b[0;34m\u001b[0m\u001b[0m\n",
      "\u001b[0;32m~/.local/lib/python3.8/site-packages/pandas/core/generic.py\u001b[0m in \u001b[0;36m_get_label_or_level_values\u001b[0;34m(self, key, axis)\u001b[0m\n\u001b[1;32m   1777\u001b[0m             \u001b[0mvalues\u001b[0m \u001b[0;34m=\u001b[0m \u001b[0mself\u001b[0m\u001b[0;34m.\u001b[0m\u001b[0maxes\u001b[0m\u001b[0;34m[\u001b[0m\u001b[0maxis\u001b[0m\u001b[0;34m]\u001b[0m\u001b[0;34m.\u001b[0m\u001b[0mget_level_values\u001b[0m\u001b[0;34m(\u001b[0m\u001b[0mkey\u001b[0m\u001b[0;34m)\u001b[0m\u001b[0;34m.\u001b[0m\u001b[0m_values\u001b[0m\u001b[0;34m\u001b[0m\u001b[0;34m\u001b[0m\u001b[0m\n\u001b[1;32m   1778\u001b[0m         \u001b[0;32melse\u001b[0m\u001b[0;34m:\u001b[0m\u001b[0;34m\u001b[0m\u001b[0;34m\u001b[0m\u001b[0m\n\u001b[0;32m-> 1779\u001b[0;31m             \u001b[0;32mraise\u001b[0m \u001b[0mKeyError\u001b[0m\u001b[0;34m(\u001b[0m\u001b[0mkey\u001b[0m\u001b[0;34m)\u001b[0m\u001b[0;34m\u001b[0m\u001b[0;34m\u001b[0m\u001b[0m\n\u001b[0m\u001b[1;32m   1780\u001b[0m \u001b[0;34m\u001b[0m\u001b[0m\n\u001b[1;32m   1781\u001b[0m         \u001b[0;31m# Check for duplicates\u001b[0m\u001b[0;34m\u001b[0m\u001b[0;34m\u001b[0m\u001b[0;34m\u001b[0m\u001b[0m\n",
      "\u001b[0;31mKeyError\u001b[0m: 'family'"
     ]
    }
   ],
   "source": [
    "stats = pd.merge(scores_df, traces, on = \"name\")\n",
    "stats = pd.merge(stats, summary_homfam_exthomfam, on =[\"family\",\"benchmarking_dataset\"])\n",
    "stats.head()"
   ]
  },
  {
   "cell_type": "markdown",
   "id": "482a82ec",
   "metadata": {},
   "source": [
    "summary_homfam_exthomfam"
   ]
  },
  {
   "cell_type": "code",
   "execution_count": 626,
   "id": "4cdb01a0",
   "metadata": {},
   "outputs": [
    {
     "data": {
      "text/html": [
       "<div>\n",
       "<style scoped>\n",
       "    .dataframe tbody tr th:only-of-type {\n",
       "        vertical-align: middle;\n",
       "    }\n",
       "\n",
       "    .dataframe tbody tr th {\n",
       "        vertical-align: top;\n",
       "    }\n",
       "\n",
       "    .dataframe thead th {\n",
       "        text-align: right;\n",
       "    }\n",
       "</style>\n",
       "<table border=\"1\" class=\"dataframe\">\n",
       "  <thead>\n",
       "    <tr style=\"text-align: right;\">\n",
       "      <th></th>\n",
       "      <th>name</th>\n",
       "      <th>sp</th>\n",
       "      <th>tc</th>\n",
       "      <th>column</th>\n",
       "      <th>family_x</th>\n",
       "      <th>method_x</th>\n",
       "      <th>bucket_size_x</th>\n",
       "      <th>dynamicX_label_x</th>\n",
       "      <th>dynamicX_val_x</th>\n",
       "      <th>master_msa_x</th>\n",
       "      <th>...</th>\n",
       "      <th>family_y</th>\n",
       "      <th>method_y</th>\n",
       "      <th>bucket_size_y</th>\n",
       "      <th>dynamicX_label_y</th>\n",
       "      <th>dynamicX_val_y</th>\n",
       "      <th>master_msa_y</th>\n",
       "      <th>master_batch_y</th>\n",
       "      <th>slave_msa_y</th>\n",
       "      <th>slave_batch_y</th>\n",
       "      <th>tree_y</th>\n",
       "    </tr>\n",
       "  </thead>\n",
       "  <tbody>\n",
       "  </tbody>\n",
       "</table>\n",
       "<p>0 rows × 41 columns</p>\n",
       "</div>"
      ],
      "text/plain": [
       "Empty DataFrame\n",
       "Columns: [name, sp, tc, column, family_x, method_x, bucket_size_x, dynamicX_label_x, dynamicX_val_x, master_msa_x, master_batch_x, slave_msa_x, slave_batch_x, tree_x, benchmarking_dataset_x, realtime, %cpu, rchar, wchar, syscr, syscw, read_bytes, write_bytes, %mem, vmem, rss, peak_vmem, peak_rss, vol_ctxt, inv_ctxt, benchmarking_dataset_y, family_y, method_y, bucket_size_y, dynamicX_label_y, dynamicX_val_y, master_msa_y, master_batch_y, slave_msa_y, slave_batch_y, tree_y]\n",
       "Index: []\n",
       "\n",
       "[0 rows x 41 columns]"
      ]
     },
     "execution_count": 626,
     "metadata": {},
     "output_type": "execute_result"
    }
   ],
   "source": [
    "pd.merge(scores_df, traces, on = \"name\")"
   ]
  },
  {
   "cell_type": "code",
   "execution_count": 629,
   "id": "c811c078",
   "metadata": {},
   "outputs": [
    {
     "data": {
      "text/plain": [
       "'seatoxin.dynamic.100.dynamicX.100000.tcoffee_msa.100.famsa_msa.100000000.FAMSA'"
      ]
     },
     "execution_count": 629,
     "metadata": {},
     "output_type": "execute_result"
    }
   ],
   "source": [
    "scores_df.name[1]"
   ]
  },
  {
   "cell_type": "code",
   "execution_count": 630,
   "id": "3ab41a05",
   "metadata": {},
   "outputs": [
    {
     "data": {
      "text/plain": [
       "'seatoxin.dynamic.100.dynamicX.100000.tcoffee_msa.100.famsa_msa.100000000.FAMSA-medoid'"
      ]
     },
     "execution_count": 630,
     "metadata": {},
     "output_type": "execute_result"
    }
   ],
   "source": [
    "traces.name[1]"
   ]
  }
 ],
 "metadata": {
  "kernelspec": {
   "display_name": "Python 3 (ipykernel)",
   "language": "python",
   "name": "python3"
  },
  "language_info": {
   "codemirror_mode": {
    "name": "ipython",
    "version": 3
   },
   "file_extension": ".py",
   "mimetype": "text/x-python",
   "name": "python",
   "nbconvert_exporter": "python",
   "pygments_lexer": "ipython3",
   "version": "3.8.10"
  }
 },
 "nbformat": 4,
 "nbformat_minor": 5
}
