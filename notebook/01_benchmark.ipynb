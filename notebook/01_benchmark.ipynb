{
 "cells": [
  {
   "cell_type": "markdown",
   "id": "272ee916",
   "metadata": {},
   "source": [
    "# Benchmark structural regression "
   ]
  },
  {
   "cell_type": "code",
   "execution_count": 1,
   "id": "7f8c5eba",
   "metadata": {},
   "outputs": [],
   "source": [
    "import os\n",
    "import pandas as pd\n",
    "import numpy as np\n",
    "import seaborn as sns\n",
    "import matplotlib.pyplot as plt"
   ]
  },
  {
   "cell_type": "code",
   "execution_count": 87,
   "id": "d520cd88",
   "metadata": {},
   "outputs": [],
   "source": [
    "evaluation_dir = \"/home/luisasantus/Desktop/crg_cluster/projects/structural_regression/results/evaluation\""
   ]
  },
  {
   "cell_type": "markdown",
   "id": "0659eab7",
   "metadata": {},
   "source": [
    "### EVALUATION scores "
   ]
  },
  {
   "cell_type": "code",
   "execution_count": 94,
   "id": "b8e10130",
   "metadata": {},
   "outputs": [
    {
     "data": {
      "text/html": [
       "<div>\n",
       "<style scoped>\n",
       "    .dataframe tbody tr th:only-of-type {\n",
       "        vertical-align: middle;\n",
       "    }\n",
       "\n",
       "    .dataframe tbody tr th {\n",
       "        vertical-align: top;\n",
       "    }\n",
       "\n",
       "    .dataframe thead th {\n",
       "        text-align: right;\n",
       "    }\n",
       "</style>\n",
       "<table border=\"1\" class=\"dataframe\">\n",
       "  <thead>\n",
       "    <tr style=\"text-align: right;\">\n",
       "      <th></th>\n",
       "      <th>name</th>\n",
       "      <th>sp</th>\n",
       "      <th>tc</th>\n",
       "      <th>column</th>\n",
       "      <th>family</th>\n",
       "      <th>method</th>\n",
       "      <th>bucket_size</th>\n",
       "      <th>dynamicX_label</th>\n",
       "      <th>dynamicX_val</th>\n",
       "      <th>master_msa</th>\n",
       "      <th>master_batch</th>\n",
       "      <th>slave_msa</th>\n",
       "      <th>slave_batch</th>\n",
       "      <th>tree</th>\n",
       "    </tr>\n",
       "  </thead>\n",
       "  <tbody>\n",
       "    <tr>\n",
       "      <th>0</th>\n",
       "      <td>hip.dynamic.100.dynamicX.100000.tcoffee_msa.10...</td>\n",
       "      <td>80.1</td>\n",
       "      <td>50.0</td>\n",
       "      <td>61.5</td>\n",
       "      <td>hip</td>\n",
       "      <td>dynamic</td>\n",
       "      <td>100</td>\n",
       "      <td>dynamicX</td>\n",
       "      <td>100000</td>\n",
       "      <td>tcoffee_msa</td>\n",
       "      <td>100</td>\n",
       "      <td>famsa_msa</td>\n",
       "      <td>100000000</td>\n",
       "      <td>FAMSA</td>\n",
       "    </tr>\n",
       "    <tr>\n",
       "      <th>1</th>\n",
       "      <td>seatoxin.dynamic.100.dynamicX.100000.tcoffee_m...</td>\n",
       "      <td>70.8</td>\n",
       "      <td>26.5</td>\n",
       "      <td>25.7</td>\n",
       "      <td>seatoxin</td>\n",
       "      <td>dynamic</td>\n",
       "      <td>100</td>\n",
       "      <td>dynamicX</td>\n",
       "      <td>100000</td>\n",
       "      <td>tcoffee_msa</td>\n",
       "      <td>100</td>\n",
       "      <td>famsa_msa</td>\n",
       "      <td>100000000</td>\n",
       "      <td>FAMSA</td>\n",
       "    </tr>\n",
       "  </tbody>\n",
       "</table>\n",
       "</div>"
      ],
      "text/plain": [
       "                                                name    sp    tc  column  \\\n",
       "0  hip.dynamic.100.dynamicX.100000.tcoffee_msa.10...  80.1  50.0    61.5   \n",
       "1  seatoxin.dynamic.100.dynamicX.100000.tcoffee_m...  70.8  26.5    25.7   \n",
       "\n",
       "     family   method bucket_size dynamicX_label dynamicX_val   master_msa  \\\n",
       "0       hip  dynamic         100       dynamicX       100000  tcoffee_msa   \n",
       "1  seatoxin  dynamic         100       dynamicX       100000  tcoffee_msa   \n",
       "\n",
       "  master_batch  slave_msa slave_batch   tree  \n",
       "0          100  famsa_msa   100000000  FAMSA  \n",
       "1          100  famsa_msa   100000000  FAMSA  "
      ]
     },
     "execution_count": 94,
     "metadata": {},
     "output_type": "execute_result"
    }
   ],
   "source": [
    "scores = evaluation_dir + \"/CSV/dynamic.scores.csv\"\n",
    "scores_df = pd.read_csv(scores, sep=\";\", header = None).iloc[: , :-1]\n",
    "scores_df.set_axis(list([\"name\", \"sp\",\"tc\", \"column\"]), axis=1, inplace=True)\n",
    "scores_df[[\"family\", \"method\", \"bucket_size\", \"dynamicX_label\",\"dynamicX_val\",\n",
    "           \"master_msa\", \"master_batch\",\n",
    "           \"slave_msa\", \"slave_batch\",\"tree\"]] = scores_df.name.str.split(\".\", expand = True)\n",
    "scores_df.head(2)"
   ]
  },
  {
   "cell_type": "markdown",
   "id": "157c0891",
   "metadata": {},
   "source": [
    "### COMPUTATION time"
   ]
  },
  {
   "cell_type": "code",
   "execution_count": 182,
   "id": "d3607d8e",
   "metadata": {},
   "outputs": [
    {
     "data": {
      "text/html": [
       "<div>\n",
       "<style scoped>\n",
       "    .dataframe tbody tr th:only-of-type {\n",
       "        vertical-align: middle;\n",
       "    }\n",
       "\n",
       "    .dataframe tbody tr th {\n",
       "        vertical-align: top;\n",
       "    }\n",
       "\n",
       "    .dataframe thead th {\n",
       "        text-align: right;\n",
       "    }\n",
       "</style>\n",
       "<table border=\"1\" class=\"dataframe\">\n",
       "  <thead>\n",
       "    <tr style=\"text-align: right;\">\n",
       "      <th></th>\n",
       "      <th>name</th>\n",
       "      <th>duration</th>\n",
       "      <th>aligner</th>\n",
       "      <th>tree</th>\n",
       "      <th>family</th>\n",
       "    </tr>\n",
       "  </thead>\n",
       "  <tbody>\n",
       "    <tr>\n",
       "      <th>1</th>\n",
       "      <td>pipeline:DYNAMIC_ANALYSIS:DYNAMIC_ALIGNER (CON...</td>\n",
       "      <td>6s</td>\n",
       "      <td>tcoffee-100</td>\n",
       "      <td>famsa-100000000</td>\n",
       "      <td>seatoxin</td>\n",
       "    </tr>\n",
       "    <tr>\n",
       "      <th>3</th>\n",
       "      <td>pipeline:DYNAMIC_ANALYSIS:DYNAMIC_ALIGNER (CON...</td>\n",
       "      <td>20.7s</td>\n",
       "      <td>tcoffee-100</td>\n",
       "      <td>famsa-100000000</td>\n",
       "      <td>hip</td>\n",
       "    </tr>\n",
       "  </tbody>\n",
       "</table>\n",
       "</div>"
      ],
      "text/plain": [
       "                                                name duration       aligner  \\\n",
       "1  pipeline:DYNAMIC_ANALYSIS:DYNAMIC_ALIGNER (CON...       6s   tcoffee-100   \n",
       "3  pipeline:DYNAMIC_ANALYSIS:DYNAMIC_ALIGNER (CON...    20.7s   tcoffee-100   \n",
       "\n",
       "              tree     family  \n",
       "1  famsa-100000000   seatoxin  \n",
       "3  famsa-100000000        hip  "
      ]
     },
     "execution_count": 182,
     "metadata": {},
     "output_type": "execute_result"
    }
   ],
   "source": [
    "# Parse computational time\n",
    "tracks = \"/home/luisasantus/Desktop/crg_cluster/projects/structural_regression/metainfo/pipeline_info/execution_trace.txt\"\n",
    "tracks_df = pd.read_csv(tracks,sep = \"\\t\")\n",
    "tracks_df = tracks_df[list([\"name\", \"duration\"])]\n",
    "tracks_df = tracks_df[tracks_df.name.str.contains(\"DYNAMIC_ALIGNER\")]\n",
    "tracks_df[\"aligner\"] = tracks_df.name.str.split(\";\", expand = True)[1].str.replace(\")\", \"\", regex = False).str.replace(\"_msa\", \"\").str.split(\":\", expand = True)[0]\n",
    "tracks_df[\"tree\"] = tracks_df.name.str.split(\";\", expand = True)[1].str.replace(\")\", \"\",  regex = False).str.replace(\"_msa\", \"\").str.split(\":\", expand = True)[1]\n",
    "tracks_df[\"family\"] = tracks_df.name.str.split(\"on\", expand = True)[1].str.split(\";\", expand = True)[0]\n",
    "tracks_df.head()"
   ]
  },
  {
   "cell_type": "code",
   "execution_count": null,
   "id": "0e559b6b",
   "metadata": {},
   "outputs": [],
   "source": []
  },
  {
   "cell_type": "code",
   "execution_count": null,
   "id": "759d29bd",
   "metadata": {},
   "outputs": [],
   "source": []
  }
 ],
 "metadata": {
  "kernelspec": {
   "display_name": "Python 3 (ipykernel)",
   "language": "python",
   "name": "python3"
  },
  "language_info": {
   "codemirror_mode": {
    "name": "ipython",
    "version": 3
   },
   "file_extension": ".py",
   "mimetype": "text/x-python",
   "name": "python",
   "nbconvert_exporter": "python",
   "pygments_lexer": "ipython3",
   "version": "3.8.10"
  }
 },
 "nbformat": 4,
 "nbformat_minor": 5
}
