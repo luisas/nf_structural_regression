{
 "cells": [
  {
   "cell_type": "markdown",
   "id": "272ee916",
   "metadata": {},
   "source": [
    "# Benchmark structural regression "
   ]
  },
  {
   "cell_type": "code",
   "execution_count": 3,
   "id": "7f8c5eba",
   "metadata": {},
   "outputs": [],
   "source": [
    "import os\n",
    "import pandas as pd\n",
    "import numpy as np\n",
    "import seaborn as sns\n",
    "import matplotlib.pyplot as plt"
   ]
  },
  {
   "cell_type": "code",
   "execution_count": 185,
   "id": "4ff62170",
   "metadata": {},
   "outputs": [
    {
     "ename": "AttributeError",
     "evalue": "'DataFrame' object has no attribute 'name'",
     "output_type": "error",
     "traceback": [
      "\u001b[0;31m---------------------------------------------------------------------------\u001b[0m",
      "\u001b[0;31mAttributeError\u001b[0m                            Traceback (most recent call last)",
      "\u001b[0;32m/tmp/ipykernel_52325/3821829046.py\u001b[0m in \u001b[0;36m<module>\u001b[0;34m\u001b[0m\n\u001b[1;32m      7\u001b[0m \u001b[0;34m\u001b[0m\u001b[0m\n\u001b[1;32m      8\u001b[0m \u001b[0;34m\u001b[0m\u001b[0m\n\u001b[0;32m----> 9\u001b[0;31m \u001b[0mscores_df\u001b[0m\u001b[0;34m[\u001b[0m\u001b[0;34m\"aligner\"\u001b[0m\u001b[0;34m]\u001b[0m \u001b[0;34m=\u001b[0m \u001b[0mscores_df\u001b[0m\u001b[0;34m.\u001b[0m\u001b[0mname\u001b[0m\u001b[0;34m.\u001b[0m\u001b[0mstr\u001b[0m\u001b[0;34m.\u001b[0m\u001b[0msplit\u001b[0m\u001b[0;34m(\u001b[0m\u001b[0;34m\";\"\u001b[0m\u001b[0;34m,\u001b[0m \u001b[0mexpand\u001b[0m \u001b[0;34m=\u001b[0m \u001b[0;32mTrue\u001b[0m\u001b[0;34m)\u001b[0m\u001b[0;34m[\u001b[0m\u001b[0;36m1\u001b[0m\u001b[0;34m]\u001b[0m\u001b[0;34m.\u001b[0m\u001b[0mstr\u001b[0m\u001b[0;34m.\u001b[0m\u001b[0mreplace\u001b[0m\u001b[0;34m(\u001b[0m\u001b[0;34m\")\"\u001b[0m\u001b[0;34m,\u001b[0m \u001b[0;34m\"\"\u001b[0m\u001b[0;34m,\u001b[0m \u001b[0mregex\u001b[0m \u001b[0;34m=\u001b[0m \u001b[0;32mFalse\u001b[0m\u001b[0;34m)\u001b[0m\u001b[0;34m.\u001b[0m\u001b[0mstr\u001b[0m\u001b[0;34m.\u001b[0m\u001b[0mreplace\u001b[0m\u001b[0;34m(\u001b[0m\u001b[0;34m\"_msa\"\u001b[0m\u001b[0;34m,\u001b[0m \u001b[0;34m\"\"\u001b[0m\u001b[0;34m)\u001b[0m\u001b[0;34m.\u001b[0m\u001b[0mstr\u001b[0m\u001b[0;34m.\u001b[0m\u001b[0msplit\u001b[0m\u001b[0;34m(\u001b[0m\u001b[0;34m\":\"\u001b[0m\u001b[0;34m,\u001b[0m \u001b[0mexpand\u001b[0m \u001b[0;34m=\u001b[0m \u001b[0;32mTrue\u001b[0m\u001b[0;34m)\u001b[0m\u001b[0;34m[\u001b[0m\u001b[0;36m0\u001b[0m\u001b[0;34m]\u001b[0m\u001b[0;34m\u001b[0m\u001b[0;34m\u001b[0m\u001b[0m\n\u001b[0m\u001b[1;32m     10\u001b[0m \u001b[0;34m\u001b[0m\u001b[0m\n\u001b[1;32m     11\u001b[0m \u001b[0mscores_df\u001b[0m\u001b[0;34m.\u001b[0m\u001b[0mhead\u001b[0m\u001b[0;34m(\u001b[0m\u001b[0;36m2\u001b[0m\u001b[0;34m)\u001b[0m\u001b[0;34m\u001b[0m\u001b[0;34m\u001b[0m\u001b[0m\n",
      "\u001b[0;32m~/.local/lib/python3.8/site-packages/pandas/core/generic.py\u001b[0m in \u001b[0;36m__getattr__\u001b[0;34m(self, name)\u001b[0m\n\u001b[1;32m   5485\u001b[0m         ):\n\u001b[1;32m   5486\u001b[0m             \u001b[0;32mreturn\u001b[0m \u001b[0mself\u001b[0m\u001b[0;34m[\u001b[0m\u001b[0mname\u001b[0m\u001b[0;34m]\u001b[0m\u001b[0;34m\u001b[0m\u001b[0;34m\u001b[0m\u001b[0m\n\u001b[0;32m-> 5487\u001b[0;31m         \u001b[0;32mreturn\u001b[0m \u001b[0mobject\u001b[0m\u001b[0;34m.\u001b[0m\u001b[0m__getattribute__\u001b[0m\u001b[0;34m(\u001b[0m\u001b[0mself\u001b[0m\u001b[0;34m,\u001b[0m \u001b[0mname\u001b[0m\u001b[0;34m)\u001b[0m\u001b[0;34m\u001b[0m\u001b[0;34m\u001b[0m\u001b[0m\n\u001b[0m\u001b[1;32m   5488\u001b[0m \u001b[0;34m\u001b[0m\u001b[0m\n\u001b[1;32m   5489\u001b[0m     \u001b[0;32mdef\u001b[0m \u001b[0m__setattr__\u001b[0m\u001b[0;34m(\u001b[0m\u001b[0mself\u001b[0m\u001b[0;34m,\u001b[0m \u001b[0mname\u001b[0m\u001b[0;34m:\u001b[0m \u001b[0mstr\u001b[0m\u001b[0;34m,\u001b[0m \u001b[0mvalue\u001b[0m\u001b[0;34m)\u001b[0m \u001b[0;34m->\u001b[0m \u001b[0;32mNone\u001b[0m\u001b[0;34m:\u001b[0m\u001b[0;34m\u001b[0m\u001b[0;34m\u001b[0m\u001b[0m\n",
      "\u001b[0;31mAttributeError\u001b[0m: 'DataFrame' object has no attribute 'name'"
     ]
    }
   ],
   "source": [
    "# Parse scores\n",
    "tc_scores = \"/home/luisasantus/Desktop/crg_cluster/projects/structural_regression/results/CSV/friendly_poitras/friendly_poitras.dynamic.tcScore.csv\"\n",
    "header = list([\"family\", \"type\", \"batches\", \"full\", \"aligner\", \"score\"])\n",
    "scores_df = pd.read_csv(tc_scores, sep = \";\", header = None)\n",
    "scores_df.set_axis(header, axis=1, inplace=True)\n",
    "\n",
    "\n",
    "\n",
    "\n",
    "scores_df.head(2)"
   ]
  },
  {
   "cell_type": "code",
   "execution_count": null,
   "id": "9587fff7",
   "metadata": {},
   "outputs": [],
   "source": [
    "scores_df.full.str.split(\";\", expand = True)[1].str.replace(\")\", \"\", regex = False).str.replace(\"_msa\", \"\").str.split(\":\", expand = True)[0]\n"
   ]
  },
  {
   "cell_type": "code",
   "execution_count": 202,
   "id": "b6a0aaae",
   "metadata": {},
   "outputs": [
    {
     "data": {
      "text/html": [
       "<div>\n",
       "<style scoped>\n",
       "    .dataframe tbody tr th:only-of-type {\n",
       "        vertical-align: middle;\n",
       "    }\n",
       "\n",
       "    .dataframe tbody tr th {\n",
       "        vertical-align: top;\n",
       "    }\n",
       "\n",
       "    .dataframe thead th {\n",
       "        text-align: right;\n",
       "    }\n",
       "</style>\n",
       "<table border=\"1\" class=\"dataframe\">\n",
       "  <thead>\n",
       "    <tr style=\"text-align: right;\">\n",
       "      <th></th>\n",
       "      <th>0</th>\n",
       "      <th>1</th>\n",
       "      <th>2</th>\n",
       "      <th>3</th>\n",
       "      <th>4</th>\n",
       "    </tr>\n",
       "  </thead>\n",
       "  <tbody>\n",
       "    <tr>\n",
       "      <th>0</th>\n",
       "      <td>tcoffee</td>\n",
       "      <td>msa.100</td>\n",
       "      <td>famsa</td>\n",
       "      <td>msa.100000000</td>\n",
       "      <td>uniref50</td>\n",
       "    </tr>\n",
       "    <tr>\n",
       "      <th>1</th>\n",
       "      <td>tcoffee</td>\n",
       "      <td>msa.100</td>\n",
       "      <td>famsa</td>\n",
       "      <td>msa.100000000</td>\n",
       "      <td>uniref50</td>\n",
       "    </tr>\n",
       "  </tbody>\n",
       "</table>\n",
       "</div>"
      ],
      "text/plain": [
       "         0        1      2              3         4\n",
       "0  tcoffee  msa.100  famsa  msa.100000000  uniref50\n",
       "1  tcoffee  msa.100  famsa  msa.100000000  uniref50"
      ]
     },
     "execution_count": 202,
     "metadata": {},
     "output_type": "execute_result"
    }
   ],
   "source": [
    "scores_df.full.str.split(\"_\", expand = True)"
   ]
  },
  {
   "cell_type": "code",
   "execution_count": 182,
   "id": "d3607d8e",
   "metadata": {},
   "outputs": [
    {
     "data": {
      "text/html": [
       "<div>\n",
       "<style scoped>\n",
       "    .dataframe tbody tr th:only-of-type {\n",
       "        vertical-align: middle;\n",
       "    }\n",
       "\n",
       "    .dataframe tbody tr th {\n",
       "        vertical-align: top;\n",
       "    }\n",
       "\n",
       "    .dataframe thead th {\n",
       "        text-align: right;\n",
       "    }\n",
       "</style>\n",
       "<table border=\"1\" class=\"dataframe\">\n",
       "  <thead>\n",
       "    <tr style=\"text-align: right;\">\n",
       "      <th></th>\n",
       "      <th>name</th>\n",
       "      <th>duration</th>\n",
       "      <th>aligner</th>\n",
       "      <th>tree</th>\n",
       "      <th>family</th>\n",
       "    </tr>\n",
       "  </thead>\n",
       "  <tbody>\n",
       "    <tr>\n",
       "      <th>1</th>\n",
       "      <td>pipeline:DYNAMIC_ANALYSIS:DYNAMIC_ALIGNER (CON...</td>\n",
       "      <td>6s</td>\n",
       "      <td>tcoffee-100</td>\n",
       "      <td>famsa-100000000</td>\n",
       "      <td>seatoxin</td>\n",
       "    </tr>\n",
       "    <tr>\n",
       "      <th>3</th>\n",
       "      <td>pipeline:DYNAMIC_ANALYSIS:DYNAMIC_ALIGNER (CON...</td>\n",
       "      <td>20.7s</td>\n",
       "      <td>tcoffee-100</td>\n",
       "      <td>famsa-100000000</td>\n",
       "      <td>hip</td>\n",
       "    </tr>\n",
       "  </tbody>\n",
       "</table>\n",
       "</div>"
      ],
      "text/plain": [
       "                                                name duration       aligner  \\\n",
       "1  pipeline:DYNAMIC_ANALYSIS:DYNAMIC_ALIGNER (CON...       6s   tcoffee-100   \n",
       "3  pipeline:DYNAMIC_ANALYSIS:DYNAMIC_ALIGNER (CON...    20.7s   tcoffee-100   \n",
       "\n",
       "              tree     family  \n",
       "1  famsa-100000000   seatoxin  \n",
       "3  famsa-100000000        hip  "
      ]
     },
     "execution_count": 182,
     "metadata": {},
     "output_type": "execute_result"
    }
   ],
   "source": [
    "# Parse computational time\n",
    "tracks = \"/home/luisasantus/Desktop/crg_cluster/projects/structural_regression/metainfo/pipeline_info/execution_trace.txt\"\n",
    "tracks_df = pd.read_csv(tracks,sep = \"\\t\")\n",
    "tracks_df = tracks_df[list([\"name\", \"duration\"])]\n",
    "tracks_df = tracks_df[tracks_df.name.str.contains(\"DYNAMIC_ALIGNER\")]\n",
    "tracks_df[\"aligner\"] = tracks_df.name.str.split(\";\", expand = True)[1].str.replace(\")\", \"\", regex = False).str.replace(\"_msa\", \"\").str.split(\":\", expand = True)[0]\n",
    "tracks_df[\"tree\"] = tracks_df.name.str.split(\";\", expand = True)[1].str.replace(\")\", \"\",  regex = False).str.replace(\"_msa\", \"\").str.split(\":\", expand = True)[1]\n",
    "tracks_df[\"family\"] = tracks_df.name.str.split(\"on\", expand = True)[1].str.split(\";\", expand = True)[0]\n",
    "tracks_df.head()"
   ]
  },
  {
   "cell_type": "code",
   "execution_count": 203,
   "id": "b8f57ee9",
   "metadata": {},
   "outputs": [],
   "source": [
    "df = pd.merge(tracks_df, tracks_df,  on = list([\"family\", \"aligner\", \"tree\"]))\n",
    "df.head()"
   ]
  },
  {
   "cell_type": "code",
   "execution_count": 170,
   "id": "de9bf390",
   "metadata": {},
   "outputs": [
    {
     "data": {
      "text/html": [
       "<div>\n",
       "<style scoped>\n",
       "    .dataframe tbody tr th:only-of-type {\n",
       "        vertical-align: middle;\n",
       "    }\n",
       "\n",
       "    .dataframe tbody tr th {\n",
       "        vertical-align: top;\n",
       "    }\n",
       "\n",
       "    .dataframe thead th {\n",
       "        text-align: right;\n",
       "    }\n",
       "</style>\n",
       "<table border=\"1\" class=\"dataframe\">\n",
       "  <thead>\n",
       "    <tr style=\"text-align: right;\">\n",
       "      <th></th>\n",
       "      <th>name</th>\n",
       "      <th>duration</th>\n",
       "      <th>aligner</th>\n",
       "      <th>tree</th>\n",
       "    </tr>\n",
       "  </thead>\n",
       "  <tbody>\n",
       "    <tr>\n",
       "      <th>1</th>\n",
       "      <td>pipeline:DYNAMIC_ANALYSIS:DYNAMIC_ALIGNER (CON...</td>\n",
       "      <td>6s</td>\n",
       "      <td>tcoffee-100</td>\n",
       "      <td>famsa-100000000</td>\n",
       "    </tr>\n",
       "    <tr>\n",
       "      <th>3</th>\n",
       "      <td>pipeline:DYNAMIC_ANALYSIS:DYNAMIC_ALIGNER (CON...</td>\n",
       "      <td>20.7s</td>\n",
       "      <td>tcoffee-100</td>\n",
       "      <td>famsa-100000000</td>\n",
       "    </tr>\n",
       "  </tbody>\n",
       "</table>\n",
       "</div>"
      ],
      "text/plain": [
       "                                                name duration       aligner  \\\n",
       "1  pipeline:DYNAMIC_ANALYSIS:DYNAMIC_ALIGNER (CON...       6s   tcoffee-100   \n",
       "3  pipeline:DYNAMIC_ANALYSIS:DYNAMIC_ALIGNER (CON...    20.7s   tcoffee-100   \n",
       "\n",
       "              tree  \n",
       "1  famsa-100000000  \n",
       "3  famsa-100000000  "
      ]
     },
     "execution_count": 170,
     "metadata": {},
     "output_type": "execute_result"
    }
   ],
   "source": [
    "tracks_df"
   ]
  },
  {
   "cell_type": "code",
   "execution_count": 204,
   "id": "b0b40bf5",
   "metadata": {},
   "outputs": [
    {
     "data": {
      "text/html": [
       "<div>\n",
       "<style scoped>\n",
       "    .dataframe tbody tr th:only-of-type {\n",
       "        vertical-align: middle;\n",
       "    }\n",
       "\n",
       "    .dataframe tbody tr th {\n",
       "        vertical-align: top;\n",
       "    }\n",
       "\n",
       "    .dataframe thead th {\n",
       "        text-align: right;\n",
       "    }\n",
       "</style>\n",
       "<table border=\"1\" class=\"dataframe\">\n",
       "  <thead>\n",
       "    <tr style=\"text-align: right;\">\n",
       "      <th></th>\n",
       "      <th>family</th>\n",
       "      <th>type</th>\n",
       "      <th>batches</th>\n",
       "      <th>full</th>\n",
       "      <th>aligner</th>\n",
       "      <th>score</th>\n",
       "    </tr>\n",
       "  </thead>\n",
       "  <tbody>\n",
       "    <tr>\n",
       "      <th>0</th>\n",
       "      <td>seatoxin</td>\n",
       "      <td>dynamic</td>\n",
       "      <td>100_100000</td>\n",
       "      <td>tcoffee_msa.100_famsa_msa.100000000_uniref50</td>\n",
       "      <td>FAMSA</td>\n",
       "      <td>26.5</td>\n",
       "    </tr>\n",
       "    <tr>\n",
       "      <th>1</th>\n",
       "      <td>hip</td>\n",
       "      <td>dynamic</td>\n",
       "      <td>100_100000</td>\n",
       "      <td>tcoffee_msa.100_famsa_msa.100000000_uniref50</td>\n",
       "      <td>FAMSA</td>\n",
       "      <td>50.0</td>\n",
       "    </tr>\n",
       "  </tbody>\n",
       "</table>\n",
       "</div>"
      ],
      "text/plain": [
       "     family     type     batches  \\\n",
       "0  seatoxin  dynamic  100_100000   \n",
       "1       hip  dynamic  100_100000   \n",
       "\n",
       "                                           full aligner  score  \n",
       "0  tcoffee_msa.100_famsa_msa.100000000_uniref50   FAMSA   26.5  \n",
       "1  tcoffee_msa.100_famsa_msa.100000000_uniref50   FAMSA   50.0  "
      ]
     },
     "execution_count": 204,
     "metadata": {},
     "output_type": "execute_result"
    }
   ],
   "source": [
    "scores_df"
   ]
  },
  {
   "cell_type": "code",
   "execution_count": 206,
   "id": "1b45f023",
   "metadata": {},
   "outputs": [],
   "source": [
    "x = \"tcoffee_msa.100_famsa_msa.100000000_uniref50\""
   ]
  },
  {
   "cell_type": "code",
   "execution_count": null,
   "id": "0e559b6b",
   "metadata": {},
   "outputs": [],
   "source": []
  },
  {
   "cell_type": "code",
   "execution_count": null,
   "id": "759d29bd",
   "metadata": {},
   "outputs": [],
   "source": []
  }
 ],
 "metadata": {
  "kernelspec": {
   "display_name": "Python 3 (ipykernel)",
   "language": "python",
   "name": "python3"
  },
  "language_info": {
   "codemirror_mode": {
    "name": "ipython",
    "version": 3
   },
   "file_extension": ".py",
   "mimetype": "text/x-python",
   "name": "python",
   "nbconvert_exporter": "python",
   "pygments_lexer": "ipython3",
   "version": "3.8.10"
  }
 },
 "nbformat": 4,
 "nbformat_minor": 5
}
