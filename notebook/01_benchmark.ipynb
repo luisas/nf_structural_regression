{
 "cells": [
  {
   "cell_type": "markdown",
   "id": "272ee916",
   "metadata": {},
   "source": [
    "# Benchmark structural regression "
   ]
  },
  {
   "cell_type": "code",
   "execution_count": 198,
   "id": "7f8c5eba",
   "metadata": {},
   "outputs": [],
   "source": [
    "import os\n",
    "import pandas as pd\n",
    "import numpy as np\n",
    "import seaborn as sns\n",
    "import matplotlib.pyplot as plt\n",
    "from os import listdir\n",
    "from os.path import isfile, join"
   ]
  },
  {
   "cell_type": "code",
   "execution_count": 204,
   "id": "ec5e464c",
   "metadata": {},
   "outputs": [],
   "source": [
    "evaluation_dir = \"/home/luisasantus/Desktop/crg_cluster/projects/structural_regression/results/\""
   ]
  },
  {
   "cell_type": "code",
   "execution_count": 200,
   "id": "f6ac725d",
   "metadata": {},
   "outputs": [],
   "source": [
    "dataset = \"homfam\""
   ]
  },
  {
   "cell_type": "code",
   "execution_count": 324,
   "id": "a4920259",
   "metadata": {},
   "outputs": [],
   "source": [
    "### parse trace files\n",
    "def get_computation_times(evaluation_dir, dataset, task):\n",
    "    # Extract trace files w/ corresponding alignments\n",
    "    traces = pd.DataFrame()\n",
    "    alignments_dir = join(evaluation_dir,task)\n",
    "    for fam in listdir(alignments_dir):\n",
    "        family_dir=join(alignments_dir, fam)\n",
    "        # For each family\n",
    "        for f in listdir(family_dir):\n",
    "            # Extract trace file \n",
    "            if(os.path.isdir(join(family_dir,f))): \n",
    "                # parse trace\n",
    "                name_trace = \".command.trace\"\n",
    "                trace = join(join(family_dir,f), name_trace)\n",
    "                df = pd.read_csv(trace, sep = \"=\").T\n",
    "                df = df.rename(index={'nextflow.trace/v2': f})\n",
    "                traces = traces.append(df)\n",
    "\n",
    "    # Trace files parsed\n",
    "    traces = traces.reset_index(level=0)\n",
    "    traces = traces.rename(columns={'index': 'name'})\n",
    "    traces[\"benchmarking_dataset\"] = dataset\n",
    "    return(traces)"
   ]
  },
  {
   "cell_type": "code",
   "execution_count": 325,
   "id": "6085ad7e",
   "metadata": {},
   "outputs": [],
   "source": [
    "def add_families(trees_traces):\n",
    "    trees_traces[\"family\"] = trees_traces.name.str.split(\".\",expand=True)[0]\n",
    "    trees_traces[\"tree_method\"] = trees_traces.name.str.split(\".\",expand=True)[1]\n",
    "    return(trees_traces)"
   ]
  },
  {
   "cell_type": "markdown",
   "id": "ee76e76a",
   "metadata": {},
   "source": [
    "#### Load datasets informations (Homfam + extHomfam)"
   ]
  },
  {
   "cell_type": "code",
   "execution_count": 352,
   "id": "1c0dba27",
   "metadata": {},
   "outputs": [
    {
     "data": {
      "text/html": [
       "<div>\n",
       "<style scoped>\n",
       "    .dataframe tbody tr th:only-of-type {\n",
       "        vertical-align: middle;\n",
       "    }\n",
       "\n",
       "    .dataframe tbody tr th {\n",
       "        vertical-align: top;\n",
       "    }\n",
       "\n",
       "    .dataframe thead th {\n",
       "        text-align: right;\n",
       "    }\n",
       "</style>\n",
       "<table border=\"1\" class=\"dataframe\">\n",
       "  <thead>\n",
       "    <tr style=\"text-align: right;\">\n",
       "      <th></th>\n",
       "      <th>family</th>\n",
       "      <th>subset</th>\n",
       "      <th>n_sequences</th>\n",
       "      <th>mean_length</th>\n",
       "      <th>min_length</th>\n",
       "      <th>max_length</th>\n",
       "      <th>file</th>\n",
       "      <th>size_group</th>\n",
       "      <th>perc_ref_total</th>\n",
       "      <th>benchmarking_dataset</th>\n",
       "    </tr>\n",
       "  </thead>\n",
       "  <tbody>\n",
       "    <tr>\n",
       "      <th>0</th>\n",
       "      <td>rvp</td>\n",
       "      <td>combined</td>\n",
       "      <td>93681</td>\n",
       "      <td>94.288554</td>\n",
       "      <td>22</td>\n",
       "      <td>133</td>\n",
       "      <td>rvp</td>\n",
       "      <td>xlarge</td>\n",
       "      <td>0.006405</td>\n",
       "      <td>homfam</td>\n",
       "    </tr>\n",
       "    <tr>\n",
       "      <th>1</th>\n",
       "      <td>zf-CCHH</td>\n",
       "      <td>combined</td>\n",
       "      <td>88345</td>\n",
       "      <td>23.251265</td>\n",
       "      <td>12</td>\n",
       "      <td>35</td>\n",
       "      <td>zf-CCHH</td>\n",
       "      <td>xlarge</td>\n",
       "      <td>0.016979</td>\n",
       "      <td>homfam</td>\n",
       "    </tr>\n",
       "  </tbody>\n",
       "</table>\n",
       "</div>"
      ],
      "text/plain": [
       "    family    subset  n_sequences  mean_length  min_length  max_length  \\\n",
       "0      rvp  combined        93681    94.288554          22         133   \n",
       "1  zf-CCHH  combined        88345    23.251265          12          35   \n",
       "\n",
       "      file size_group  perc_ref_total benchmarking_dataset  \n",
       "0      rvp     xlarge        0.006405               homfam  \n",
       "1  zf-CCHH     xlarge        0.016979               homfam  "
      ]
     },
     "execution_count": 352,
     "metadata": {},
     "output_type": "execute_result"
    }
   ],
   "source": [
    "summary_homfam_exthomfam = pd.read_csv(\"/home/luisasantus/Desktop/crg_cluster/data/structural_regression/stats/01_summary_homfam_exthomfam.csv\")\n",
    "summary_homfam_exthomfam = summary_homfam_exthomfam.rename(columns={\"dataset\": \"benchmarking_dataset\"})\n",
    "summary_homfam_exthomfam.head(2)"
   ]
  },
  {
   "cell_type": "markdown",
   "id": "0f4a9e2d",
   "metadata": {},
   "source": [
    "# <div style=\"text-align: center;\"> <span align=\"center\" style=\"color:blue\">_________TREES_________</span> </div>\n"
   ]
  },
  {
   "cell_type": "code",
   "execution_count": 488,
   "id": "481ae17f",
   "metadata": {},
   "outputs": [
    {
     "data": {
      "text/html": [
       "<div>\n",
       "<style scoped>\n",
       "    .dataframe tbody tr th:only-of-type {\n",
       "        vertical-align: middle;\n",
       "    }\n",
       "\n",
       "    .dataframe tbody tr th {\n",
       "        vertical-align: top;\n",
       "    }\n",
       "\n",
       "    .dataframe thead th {\n",
       "        text-align: right;\n",
       "    }\n",
       "</style>\n",
       "<table border=\"1\" class=\"dataframe\">\n",
       "  <thead>\n",
       "    <tr style=\"text-align: right;\">\n",
       "      <th></th>\n",
       "      <th>name</th>\n",
       "      <th>realtime</th>\n",
       "      <th>%cpu</th>\n",
       "      <th>rchar</th>\n",
       "      <th>wchar</th>\n",
       "      <th>syscr</th>\n",
       "      <th>syscw</th>\n",
       "      <th>read_bytes</th>\n",
       "      <th>write_bytes</th>\n",
       "      <th>%mem</th>\n",
       "      <th>...</th>\n",
       "      <th>family</th>\n",
       "      <th>tree_method</th>\n",
       "      <th>subset</th>\n",
       "      <th>n_sequences</th>\n",
       "      <th>mean_length</th>\n",
       "      <th>min_length</th>\n",
       "      <th>max_length</th>\n",
       "      <th>file</th>\n",
       "      <th>size_group</th>\n",
       "      <th>perc_ref_total</th>\n",
       "    </tr>\n",
       "  </thead>\n",
       "  <tbody>\n",
       "    <tr>\n",
       "      <th>0</th>\n",
       "      <td>il8.FAMSA-parttree</td>\n",
       "      <td>81</td>\n",
       "      <td>600</td>\n",
       "      <td>138715</td>\n",
       "      <td>30817</td>\n",
       "      <td>142</td>\n",
       "      <td>22</td>\n",
       "      <td>1024000</td>\n",
       "      <td>32768</td>\n",
       "      <td>0</td>\n",
       "      <td>...</td>\n",
       "      <td>il8</td>\n",
       "      <td>FAMSA-parttree</td>\n",
       "      <td>combined</td>\n",
       "      <td>1073</td>\n",
       "      <td>63.762349</td>\n",
       "      <td>18</td>\n",
       "      <td>82</td>\n",
       "      <td>il8</td>\n",
       "      <td>small</td>\n",
       "      <td>1.025163</td>\n",
       "    </tr>\n",
       "    <tr>\n",
       "      <th>1</th>\n",
       "      <td>il8.FAMSA-medoid</td>\n",
       "      <td>379</td>\n",
       "      <td>829</td>\n",
       "      <td>138725</td>\n",
       "      <td>30822</td>\n",
       "      <td>142</td>\n",
       "      <td>22</td>\n",
       "      <td>1024000</td>\n",
       "      <td>32768</td>\n",
       "      <td>0</td>\n",
       "      <td>...</td>\n",
       "      <td>il8</td>\n",
       "      <td>FAMSA-medoid</td>\n",
       "      <td>combined</td>\n",
       "      <td>1073</td>\n",
       "      <td>63.762349</td>\n",
       "      <td>18</td>\n",
       "      <td>82</td>\n",
       "      <td>il8</td>\n",
       "      <td>small</td>\n",
       "      <td>1.025163</td>\n",
       "    </tr>\n",
       "  </tbody>\n",
       "</table>\n",
       "<p>2 rows × 27 columns</p>\n",
       "</div>"
      ],
      "text/plain": [
       "                 name  realtime  %cpu   rchar  wchar  syscr  syscw  \\\n",
       "0  il8.FAMSA-parttree        81   600  138715  30817    142     22   \n",
       "1    il8.FAMSA-medoid       379   829  138725  30822    142     22   \n",
       "\n",
       "   read_bytes  write_bytes  %mem  ...  family     tree_method    subset  \\\n",
       "0     1024000        32768     0  ...     il8  FAMSA-parttree  combined   \n",
       "1     1024000        32768     0  ...     il8    FAMSA-medoid  combined   \n",
       "\n",
       "   n_sequences  mean_length  min_length max_length file size_group  \\\n",
       "0         1073    63.762349          18         82  il8      small   \n",
       "1         1073    63.762349          18         82  il8      small   \n",
       "\n",
       "  perc_ref_total  \n",
       "0       1.025163  \n",
       "1       1.025163  \n",
       "\n",
       "[2 rows x 27 columns]"
      ]
     },
     "execution_count": 488,
     "metadata": {},
     "output_type": "execute_result"
    }
   ],
   "source": [
    "trees_traces_homfam = get_computation_times(join(evaluation_dir, \"homfam\"), \"homfam\", \"trees\")\n",
    "trees_traces_homfam = add_families(trees_traces_homfam)\n",
    "\n",
    "trees_traces_exthomfam_v35 = get_computation_times(join(evaluation_dir, \"extHomfam_v35-uniprot\"), \"extHomfam_v35-uniprot\", \"trees\")\n",
    "trees_traces_exthomfam_v35 = add_families(trees_traces_exthomfam_v35)\n",
    "\n",
    "trees_traces = pd.concat([trees_traces_homfam, trees_traces_exthomfam_v35])\n",
    "\n",
    "stat_trees = pd.merge(trees_traces, summary_homfam_exthomfam, on =[\"family\",\"benchmarking_dataset\"])\n",
    "stat_trees.head(2)"
   ]
  },
  {
   "cell_type": "code",
   "execution_count": 495,
   "id": "2069ceb8",
   "metadata": {},
   "outputs": [
    {
     "data": {
      "image/png": "[encoded data removed]",
      "text/plain": [
       "<Figure size 504x360 with 1 Axes>"
      ]
     },
     "metadata": {},
     "output_type": "display_data"
    }
   ],
   "source": [
    "\n",
    "sns.set_theme(style=\"ticks\")\n",
    "sns.set_context(\"talk\")\n",
    "\n",
    "# Load the example tips dataset\n",
    "f, ax = plt.subplots(figsize=(7, 5))\n",
    "df = stat_trees\n",
    "# Draw a nested boxplot to show bills by day and time\n",
    "sns.boxplot(x=\"size_group\", y=\"realtime\",\n",
    "            hue=\"tree_method\", palette = \"magma\",\n",
    "            data=df, linewidth=1.5, fliersize = 1.5, dodge = True)\n",
    "\n",
    "# Calculate number of obs per group & median to position labels\n",
    "nobs = df['size_group'].value_counts().values\n",
    "nobs = [str(x) for x in nobs.tolist()]\n",
    "nobs = [\"n: \" + i for i in nobs]\n",
    " \n",
    "# Add it to the plot\n",
    "pos = range(len(nobs))\n",
    "for tick,label in zip(pos,ax.get_xticklabels()):\n",
    "    ax.text(pos[tick],\n",
    "            -10050000,\n",
    "            nobs[tick],\n",
    "            horizontalalignment='center',\n",
    "            size='small',\n",
    "            color='b')\n",
    " \n",
    "\n",
    "\n",
    "ax.set(ylabel='CPU time (ms)', xlabel='', title = \"Both on homfam and extHomfam_v35-uniprot\")\n",
    "plt.legend(bbox_to_anchor=(1.05, 0.8), loc=2, borderaxespad=0.)\n",
    "\n",
    "sns.despine(offset=10, trim=True)\n",
    "#f, ax = plt.subplots(figsize=(7, 7))\n",
    "#sns.scatterplot(data=stat_trees, y=\"realtime\", x=\"n_sequences\", hue=\"tree_method\",\n",
    "#                palette = \"magma\",style = \"benchmarking_dataset\", s = 30)\n",
    "#plt.legend(bbox_to_anchor=(1.05, 1), loc=2, borderaxespad=0.)\n",
    "#ax.set(ylabel='CPU time (ms)', xlabel='number of sequences')"
   ]
  },
  {
   "cell_type": "markdown",
   "id": "4d576637",
   "metadata": {},
   "source": [
    "### EVALUATION scores "
   ]
  },
  {
   "cell_type": "code",
   "execution_count": 177,
   "id": "de6aaf2c",
   "metadata": {},
   "outputs": [],
   "source": [
    "def get_evaluation(evaluation_dir, dataset):\n",
    "    scores = evaluation_dir + \"/CSV/dynamic.scores.csv\"\n",
    "    scores_df = pd.read_csv(scores, sep=\";\", header = None).iloc[: , :-1]\n",
    "    scores_df.set_axis(list([\"name\", \"sp\",\"tc\", \"column\"]), axis=1, inplace=True)\n",
    "    scores_df[[\"family\", \"method\", \"bucket_size\", \"dynamicX_label\",\"dynamicX_val\",\n",
    "               \"master_msa\", \"master_batch\",\n",
    "               \"slave_msa\", \"slave_batch\",\"tree\"]] = scores_df.name.str.split(\".\", expand = True)\n",
    "    scores_df[\"benchmarking_dataset\"] = dataset\n",
    "    return(scores_df)"
   ]
  },
  {
   "cell_type": "code",
   "execution_count": 179,
   "id": "900a70da",
   "metadata": {},
   "outputs": [],
   "source": [
    "scores_df_homfam = get_evaluation(join(evaluation_dir,dataset), dataset)"
   ]
  },
  {
   "cell_type": "code",
   "execution_count": 181,
   "id": "85c469e7",
   "metadata": {},
   "outputs": [],
   "source": [
    "## TODO -- add exthomfam\n",
    "scores_df = scores_df_homfam"
   ]
  },
  {
   "cell_type": "markdown",
   "id": "8786b51b",
   "metadata": {},
   "source": [
    "### COMPUTATION time"
   ]
  },
  {
   "cell_type": "code",
   "execution_count": 213,
   "id": "9c7aa6d9",
   "metadata": {},
   "outputs": [],
   "source": []
  },
  {
   "cell_type": "code",
   "execution_count": 209,
   "id": "abda6b4b",
   "metadata": {},
   "outputs": [
    {
     "ename": "FileNotFoundError",
     "evalue": "[Errno 2] No such file or directory: '/home/luisasantus/Desktop/crg_cluster/projects/structural_regression/results/homfam/alignments'",
     "output_type": "error",
     "traceback": [
      "\u001b[0;31m---------------------------------------------------------------------------\u001b[0m",
      "\u001b[0;31mFileNotFoundError\u001b[0m                         Traceback (most recent call last)",
      "\u001b[0;32m/tmp/ipykernel_384132/1862080263.py\u001b[0m in \u001b[0;36m<module>\u001b[0;34m\u001b[0m\n\u001b[0;32m----> 1\u001b[0;31m \u001b[0mtraces_homfam\u001b[0m \u001b[0;34m=\u001b[0m \u001b[0mget_computation_times\u001b[0m\u001b[0;34m(\u001b[0m\u001b[0mjoin\u001b[0m\u001b[0;34m(\u001b[0m\u001b[0mevaluation_dir\u001b[0m\u001b[0;34m,\u001b[0m \u001b[0;34m\"homfam\"\u001b[0m\u001b[0;34m)\u001b[0m\u001b[0;34m,\u001b[0m \u001b[0;34m\"homfam\"\u001b[0m\u001b[0;34m,\u001b[0m \u001b[0;34m\"alignments\"\u001b[0m\u001b[0;34m)\u001b[0m\u001b[0;34m\u001b[0m\u001b[0;34m\u001b[0m\u001b[0m\n\u001b[0m",
      "\u001b[0;32m/tmp/ipykernel_384132/3062098341.py\u001b[0m in \u001b[0;36mget_computation_times\u001b[0;34m(evaluation_dir, dataset, task)\u001b[0m\n\u001b[1;32m      3\u001b[0m     \u001b[0mtraces\u001b[0m \u001b[0;34m=\u001b[0m \u001b[0mpd\u001b[0m\u001b[0;34m.\u001b[0m\u001b[0mDataFrame\u001b[0m\u001b[0;34m(\u001b[0m\u001b[0;34m)\u001b[0m\u001b[0;34m\u001b[0m\u001b[0;34m\u001b[0m\u001b[0m\n\u001b[1;32m      4\u001b[0m     \u001b[0malignments_dir\u001b[0m \u001b[0;34m=\u001b[0m \u001b[0mjoin\u001b[0m\u001b[0;34m(\u001b[0m\u001b[0mevaluation_dir\u001b[0m\u001b[0;34m,\u001b[0m\u001b[0mtask\u001b[0m\u001b[0;34m)\u001b[0m\u001b[0;34m\u001b[0m\u001b[0;34m\u001b[0m\u001b[0m\n\u001b[0;32m----> 5\u001b[0;31m     \u001b[0;32mfor\u001b[0m \u001b[0mfam\u001b[0m \u001b[0;32min\u001b[0m \u001b[0mlistdir\u001b[0m\u001b[0;34m(\u001b[0m\u001b[0malignments_dir\u001b[0m\u001b[0;34m)\u001b[0m\u001b[0;34m:\u001b[0m\u001b[0;34m\u001b[0m\u001b[0;34m\u001b[0m\u001b[0m\n\u001b[0m\u001b[1;32m      6\u001b[0m         \u001b[0mprint\u001b[0m\u001b[0;34m(\u001b[0m\u001b[0mfam\u001b[0m\u001b[0;34m)\u001b[0m\u001b[0;34m\u001b[0m\u001b[0;34m\u001b[0m\u001b[0m\n\u001b[1;32m      7\u001b[0m         \u001b[0mfamily_dir\u001b[0m\u001b[0;34m=\u001b[0m\u001b[0mjoin\u001b[0m\u001b[0;34m(\u001b[0m\u001b[0malignments_dir\u001b[0m\u001b[0;34m,\u001b[0m \u001b[0mfam\u001b[0m\u001b[0;34m)\u001b[0m\u001b[0;34m\u001b[0m\u001b[0;34m\u001b[0m\u001b[0m\n",
      "\u001b[0;31mFileNotFoundError\u001b[0m: [Errno 2] No such file or directory: '/home/luisasantus/Desktop/crg_cluster/projects/structural_regression/results/homfam/alignments'"
     ]
    }
   ],
   "source": [
    "traces_homfam = get_computation_times(join(evaluation_dir, \"homfam\"), \"homfam\", \"alignments\")"
   ]
  },
  {
   "cell_type": "code",
   "execution_count": null,
   "id": "19106b02",
   "metadata": {},
   "outputs": [],
   "source": [
    "traces = traces_homfam"
   ]
  },
  {
   "cell_type": "markdown",
   "id": "1e13a234",
   "metadata": {},
   "source": [
    "## Merge stats"
   ]
  },
  {
   "cell_type": "code",
   "execution_count": 168,
   "id": "64d36ad8",
   "metadata": {},
   "outputs": [],
   "source": [
    "stats = pd.merge(scores_df, traces, on = \"name\")"
   ]
  },
  {
   "cell_type": "code",
   "execution_count": 170,
   "id": "76600d2c",
   "metadata": {},
   "outputs": [],
   "source": [
    "stats = pd.merge(stats, summary_homfam_exthomfam, on =[\"family\",\"benchmarking_dataset\"])"
   ]
  },
  {
   "cell_type": "code",
   "execution_count": 173,
   "id": "32de6143",
   "metadata": {},
   "outputs": [
    {
     "data": {
      "text/html": [
       "<div>\n",
       "<style scoped>\n",
       "    .dataframe tbody tr th:only-of-type {\n",
       "        vertical-align: middle;\n",
       "    }\n",
       "\n",
       "    .dataframe tbody tr th {\n",
       "        vertical-align: top;\n",
       "    }\n",
       "\n",
       "    .dataframe thead th {\n",
       "        text-align: right;\n",
       "    }\n",
       "</style>\n",
       "<table border=\"1\" class=\"dataframe\">\n",
       "  <thead>\n",
       "    <tr style=\"text-align: right;\">\n",
       "      <th></th>\n",
       "      <th>name</th>\n",
       "      <th>sp</th>\n",
       "      <th>tc</th>\n",
       "      <th>column</th>\n",
       "      <th>family</th>\n",
       "      <th>method</th>\n",
       "      <th>bucket_size</th>\n",
       "      <th>dynamicX_label</th>\n",
       "      <th>dynamicX_val</th>\n",
       "      <th>master_msa</th>\n",
       "      <th>...</th>\n",
       "      <th>inv_ctxt</th>\n",
       "      <th>subset</th>\n",
       "      <th>n_sequences</th>\n",
       "      <th>mean_length</th>\n",
       "      <th>min_length</th>\n",
       "      <th>max_length</th>\n",
       "      <th>file</th>\n",
       "      <th>size_group</th>\n",
       "      <th>perc_ref_total</th>\n",
       "      <th>dataset</th>\n",
       "    </tr>\n",
       "  </thead>\n",
       "  <tbody>\n",
       "    <tr>\n",
       "      <th>0</th>\n",
       "      <td>hip.dynamic.100.dynamicX.100000.tcoffee_msa.10...</td>\n",
       "      <td>80.1</td>\n",
       "      <td>50.0</td>\n",
       "      <td>61.5</td>\n",
       "      <td>hip</td>\n",
       "      <td>dynamic</td>\n",
       "      <td>100</td>\n",
       "      <td>dynamicX</td>\n",
       "      <td>100000</td>\n",
       "      <td>tcoffee_msa</td>\n",
       "      <td>...</td>\n",
       "      <td>4487</td>\n",
       "      <td>combined</td>\n",
       "      <td>167</td>\n",
       "      <td>66.209581</td>\n",
       "      <td>54</td>\n",
       "      <td>85</td>\n",
       "      <td>hip</td>\n",
       "      <td>small</td>\n",
       "      <td>2.994012</td>\n",
       "      <td>homfam</td>\n",
       "    </tr>\n",
       "    <tr>\n",
       "      <th>1</th>\n",
       "      <td>hip.dynamic.100.dynamicX.100000.tcoffee_msa.10...</td>\n",
       "      <td>80.1</td>\n",
       "      <td>50.0</td>\n",
       "      <td>61.5</td>\n",
       "      <td>hip</td>\n",
       "      <td>dynamic</td>\n",
       "      <td>100</td>\n",
       "      <td>dynamicX</td>\n",
       "      <td>100000</td>\n",
       "      <td>tcoffee_msa</td>\n",
       "      <td>...</td>\n",
       "      <td>4487</td>\n",
       "      <td>combined</td>\n",
       "      <td>627</td>\n",
       "      <td>63.488038</td>\n",
       "      <td>42</td>\n",
       "      <td>85</td>\n",
       "      <td>hip</td>\n",
       "      <td>small</td>\n",
       "      <td>0.797448</td>\n",
       "      <td>exthomfam</td>\n",
       "    </tr>\n",
       "    <tr>\n",
       "      <th>2</th>\n",
       "      <td>seatoxin.dynamic.100.dynamicX.100000.tcoffee_m...</td>\n",
       "      <td>70.8</td>\n",
       "      <td>26.5</td>\n",
       "      <td>25.7</td>\n",
       "      <td>seatoxin</td>\n",
       "      <td>dynamic</td>\n",
       "      <td>100</td>\n",
       "      <td>dynamicX</td>\n",
       "      <td>100000</td>\n",
       "      <td>tcoffee_msa</td>\n",
       "      <td>...</td>\n",
       "      <td>1416</td>\n",
       "      <td>combined</td>\n",
       "      <td>93</td>\n",
       "      <td>43.634409</td>\n",
       "      <td>34</td>\n",
       "      <td>50</td>\n",
       "      <td>seatoxin</td>\n",
       "      <td>small</td>\n",
       "      <td>5.376344</td>\n",
       "      <td>homfam</td>\n",
       "    </tr>\n",
       "  </tbody>\n",
       "</table>\n",
       "<p>3 rows × 38 columns</p>\n",
       "</div>"
      ],
      "text/plain": [
       "                                                name    sp    tc  column  \\\n",
       "0  hip.dynamic.100.dynamicX.100000.tcoffee_msa.10...  80.1  50.0    61.5   \n",
       "1  hip.dynamic.100.dynamicX.100000.tcoffee_msa.10...  80.1  50.0    61.5   \n",
       "2  seatoxin.dynamic.100.dynamicX.100000.tcoffee_m...  70.8  26.5    25.7   \n",
       "\n",
       "     family   method bucket_size dynamicX_label dynamicX_val   master_msa  \\\n",
       "0       hip  dynamic         100       dynamicX       100000  tcoffee_msa   \n",
       "1       hip  dynamic         100       dynamicX       100000  tcoffee_msa   \n",
       "2  seatoxin  dynamic         100       dynamicX       100000  tcoffee_msa   \n",
       "\n",
       "   ... inv_ctxt    subset n_sequences mean_length  min_length  max_length  \\\n",
       "0  ...     4487  combined         167   66.209581          54          85   \n",
       "1  ...     4487  combined         627   63.488038          42          85   \n",
       "2  ...     1416  combined          93   43.634409          34          50   \n",
       "\n",
       "       file  size_group  perc_ref_total    dataset  \n",
       "0       hip       small        2.994012     homfam  \n",
       "1       hip       small        0.797448  exthomfam  \n",
       "2  seatoxin       small        5.376344     homfam  \n",
       "\n",
       "[3 rows x 38 columns]"
      ]
     },
     "execution_count": 173,
     "metadata": {},
     "output_type": "execute_result"
    }
   ],
   "source": [
    "stats.head()"
   ]
  },
  {
   "cell_type": "markdown",
   "id": "482a82ec",
   "metadata": {},
   "source": [
    "## Visualization "
   ]
  },
  {
   "cell_type": "code",
   "execution_count": null,
   "id": "4cdb01a0",
   "metadata": {},
   "outputs": [],
   "source": []
  },
  {
   "cell_type": "code",
   "execution_count": null,
   "id": "c811c078",
   "metadata": {},
   "outputs": [],
   "source": []
  },
  {
   "cell_type": "code",
   "execution_count": null,
   "id": "3ab41a05",
   "metadata": {},
   "outputs": [],
   "source": []
  }
 ],
 "metadata": {
  "kernelspec": {
   "display_name": "Python 3 (ipykernel)",
   "language": "python",
   "name": "python3"
  },
  "language_info": {
   "codemirror_mode": {
    "name": "ipython",
    "version": 3
   },
   "file_extension": ".py",
   "mimetype": "text/x-python",
   "name": "python",
   "nbconvert_exporter": "python",
   "pygments_lexer": "ipython3",
   "version": "3.8.10"
  }
 },
 "nbformat": 4,
 "nbformat_minor": 5
}
