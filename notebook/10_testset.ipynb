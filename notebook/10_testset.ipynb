{
 "cells": [
  {
   "cell_type": "code",
   "execution_count": 1,
   "id": "e6c24c18",
   "metadata": {},
   "outputs": [],
   "source": [
    "import os\n",
    "import pandas as pd\n",
    "import numpy as np\n",
    "import seaborn as sns\n",
    "import matplotlib.pyplot as plt\n",
    "from os import listdir\n",
    "from os.path import isfile, join\n",
    "import matplotlib.ticker as ticker\n",
    "import matplotlib as mpl\n",
    "import sys\n",
    "from math import *\n",
    "from scipy.stats import binned_statistic\n",
    "import inspect\n",
    "from Bio import SeqIO\n",
    "from pathlib import Path\n",
    "sns.set_theme(style=\"white\", context=\"talk\")\n",
    "import glob\n",
    "import matplotlib.pyplot as plt\n",
    "from matplotlib_venn import venn2\n",
    "import itertools\n",
    "from scipy import stats\n",
    "from scipy.stats import pearsonr\n",
    "from utils_benchmark import * \n",
    "sns.set_context(\"talk\")"
   ]
  },
  {
   "cell_type": "code",
   "execution_count": 3,
   "id": "d91d429c",
   "metadata": {},
   "outputs": [],
   "source": [
    "evaluation_dir = \"/home/luisasantus/Desktop/crg_cluster/projects/structural_regression/results/\""
   ]
  },
  {
   "cell_type": "code",
   "execution_count": 5,
   "id": "a3d56102",
   "metadata": {},
   "outputs": [
    {
     "name": "stdout",
     "output_type": "stream",
     "text": [
      "/home/luisasantus/Desktop/crg_cluster/projects/structural_regression/results/homfam/evaluation/sim/sodfe.dynamic.50.dynamicX.100000000.tcoffee_msa.famsa_msa.FAMSA-medoid.sim\n",
      "/home/luisasantus/Desktop/crg_cluster/projects/structural_regression/results/homfam/evaluation/sim/ghf11.dynamic.50.dynamicX.100000000.tcoffee_msa.famsa_msa.FAMSA-medoid.sim\n",
      "/home/luisasantus/Desktop/crg_cluster/projects/structural_regression/results/homfam/evaluation/sim/proteasome.dynamic.50.dynamicX.100000000.tcoffee_msa.famsa_msa.FAMSA-medoid.sim\n",
      "/home/luisasantus/Desktop/crg_cluster/projects/structural_regression/results/homfam/evaluation/sim/peroxidase.dynamic.50.dynamicX.100000000.tcoffee_msa.famsa_msa.FAMSA-medoid.sim\n",
      "/home/luisasantus/Desktop/crg_cluster/projects/structural_regression/results/homfam/evaluation/sim/ghf1.dynamic.50.dynamicX.100000000.tcoffee_msa.famsa_msa.FAMSA-medoid.sim\n",
      "/home/luisasantus/Desktop/crg_cluster/projects/structural_regression/results/homfam/evaluation/sim/gpdh.dynamic.50.dynamicX.100000000.tcoffee_msa.famsa_msa.FAMSA-medoid.sim\n",
      "/home/luisasantus/Desktop/crg_cluster/projects/structural_regression/results/homfam/evaluation/sim/hormone_rec.dynamic.50.dynamicX.100000000.tcoffee_msa.famsa_msa.FAMSA-medoid.sim\n",
      "/home/luisasantus/Desktop/crg_cluster/projects/structural_regression/results/homfam/evaluation/sim/test.dynamic.50.dynamicX.100000000.tcoffee_msa.famsa_msa.FAMSA-medoid.sim\n",
      "/home/luisasantus/Desktop/crg_cluster/projects/structural_regression/results/homfam/evaluation/sim/myb_DNA-binding.dynamic.50.dynamicX.100000000.tcoffee_msa.famsa_msa.FAMSA-medoid.sim\n",
      "/home/luisasantus/Desktop/crg_cluster/projects/structural_regression/results/homfam/evaluation/sim/mmp.dynamic.50.dynamicX.100000000.tcoffee_msa.famsa_msa.FAMSA-medoid.sim\n",
      "/home/luisasantus/Desktop/crg_cluster/projects/structural_regression/results/homfam/evaluation/sim/sodcu.dynamic.50.dynamicX.100000000.tcoffee_msa.famsa_msa.FAMSA-medoid.sim\n",
      "/home/luisasantus/Desktop/crg_cluster/projects/structural_regression/results/homfam/evaluation/sim/biotin_lipoyl.dynamic.50.dynamicX.100000000.tcoffee_msa.famsa_msa.FAMSA-medoid.sim\n",
      "/home/luisasantus/Desktop/crg_cluster/projects/structural_regression/results/homfam/evaluation/sim/Sulfotransfer.dynamic.50.dynamicX.100000000.tcoffee_msa.famsa_msa.FAMSA-medoid.sim\n",
      "/home/luisasantus/Desktop/crg_cluster/projects/structural_regression/results/homfam/evaluation/sim/Stap_Strp_toxin.dynamic.50.dynamicX.100000000.tcoffee_msa.famsa_msa.FAMSA-medoid.sim\n",
      "/home/luisasantus/Desktop/crg_cluster/projects/structural_regression/results/homfam/evaluation/sim/mofe.dynamic.50.dynamicX.100000000.tcoffee_msa.famsa_msa.FAMSA-medoid.sim\n",
      "/home/luisasantus/Desktop/crg_cluster/projects/structural_regression/results/homfam/evaluation/sim/sti.dynamic.50.dynamicX.100000000.tcoffee_msa.famsa_msa.FAMSA-medoid.sim\n",
      "/home/luisasantus/Desktop/crg_cluster/projects/structural_regression/results/homfam/evaluation/sim/ins.dynamic.50.dynamicX.100000000.tcoffee_msa.famsa_msa.FAMSA-medoid.sim\n",
      "/home/luisasantus/Desktop/crg_cluster/projects/structural_regression/results/homfam/evaluation/sim/kunitz.dynamic.50.dynamicX.100000000.tcoffee_msa.famsa_msa.FAMSA-medoid.sim\n",
      "/home/luisasantus/Desktop/crg_cluster/projects/structural_regression/results/homfam/evaluation/sim/toxin.dynamic.50.dynamicX.100000000.tcoffee_msa.famsa_msa.FAMSA-medoid.sim\n",
      "/home/luisasantus/Desktop/crg_cluster/projects/structural_regression/results/homfam/evaluation/sim/egf.dynamic.50.dynamicX.100000000.tcoffee_msa.famsa_msa.FAMSA-medoid.sim\n",
      "/home/luisasantus/Desktop/crg_cluster/projects/structural_regression/results/homfam/evaluation/sim/ricin.dynamic.50.dynamicX.100000000.tcoffee_msa.famsa_msa.FAMSA-medoid.sim\n",
      "/home/luisasantus/Desktop/crg_cluster/projects/structural_regression/results/homfam/evaluation/sim/glob.dynamic.50.dynamicX.100000000.tcoffee_msa.famsa_msa.FAMSA-medoid.sim\n",
      "/home/luisasantus/Desktop/crg_cluster/projects/structural_regression/results/homfam/evaluation/sim/profilin.dynamic.50.dynamicX.100000000.tcoffee_msa.famsa_msa.FAMSA-medoid.sim\n",
      "/home/luisasantus/Desktop/crg_cluster/projects/structural_regression/results/homfam/evaluation/sim/DMRL_synthase.dynamic.50.dynamicX.100000000.tcoffee_msa.famsa_msa.FAMSA-medoid.sim\n",
      "/home/luisasantus/Desktop/crg_cluster/projects/structural_regression/results/homfam/evaluation/sim/Ald_Xan_dh_2.dynamic.50.dynamicX.100000000.tcoffee_msa.famsa_msa.FAMSA-medoid.sim\n",
      "/home/luisasantus/Desktop/crg_cluster/projects/structural_regression/results/homfam/evaluation/sim/slectin.dynamic.50.dynamicX.100000000.tcoffee_msa.famsa_msa.FAMSA-medoid.sim\n",
      "/home/luisasantus/Desktop/crg_cluster/projects/structural_regression/results/homfam/evaluation/sim/tim.dynamic.50.dynamicX.100000000.tcoffee_msa.famsa_msa.FAMSA-medoid.sim\n",
      "/home/luisasantus/Desktop/crg_cluster/projects/structural_regression/results/homfam/evaluation/sim/LIM.dynamic.50.dynamicX.100000000.tcoffee_msa.famsa_msa.FAMSA-medoid.sim\n",
      "/home/luisasantus/Desktop/crg_cluster/projects/structural_regression/results/homfam/evaluation/sim/ghf10.dynamic.50.dynamicX.100000000.tcoffee_msa.famsa_msa.FAMSA-medoid.sim\n",
      "/home/luisasantus/Desktop/crg_cluster/projects/structural_regression/results/homfam/evaluation/sim/msb.dynamic.50.dynamicX.100000000.tcoffee_msa.famsa_msa.FAMSA-medoid.sim\n",
      "/home/luisasantus/Desktop/crg_cluster/projects/structural_regression/results/homfam/evaluation/sim/tms.dynamic.50.dynamicX.100000000.tcoffee_msa.famsa_msa.FAMSA-medoid.sim\n",
      "/home/luisasantus/Desktop/crg_cluster/projects/structural_regression/results/homfam/evaluation/sim/bowman.dynamic.50.dynamicX.100000000.tcoffee_msa.famsa_msa.FAMSA-medoid.sim\n",
      "/home/luisasantus/Desktop/crg_cluster/projects/structural_regression/results/homfam/evaluation/sim/ghf5.dynamic.50.dynamicX.100000000.tcoffee_msa.famsa_msa.FAMSA-medoid.sim\n",
      "/home/luisasantus/Desktop/crg_cluster/projects/structural_regression/results/homfam/evaluation/sim/ChtBD.dynamic.50.dynamicX.100000000.tcoffee_msa.famsa_msa.FAMSA-medoid.sim\n",
      "/home/luisasantus/Desktop/crg_cluster/projects/structural_regression/results/homfam/evaluation/sim/OTCace.dynamic.50.dynamicX.100000000.tcoffee_msa.famsa_msa.FAMSA-medoid.sim\n",
      "/home/luisasantus/Desktop/crg_cluster/projects/structural_regression/results/homfam/evaluation/sim/serpin.dynamic.50.dynamicX.100000000.tcoffee_msa.famsa_msa.FAMSA-medoid.sim\n",
      "/home/luisasantus/Desktop/crg_cluster/projects/structural_regression/results/homfam/evaluation/sim/rnasemam.dynamic.50.dynamicX.100000000.tcoffee_msa.famsa_msa.FAMSA-medoid.sim\n",
      "/home/luisasantus/Desktop/crg_cluster/projects/structural_regression/results/homfam/evaluation/sim/hr.dynamic.50.dynamicX.100000000.tcoffee_msa.famsa_msa.FAMSA-medoid.sim\n",
      "/home/luisasantus/Desktop/crg_cluster/projects/structural_regression/results/homfam/evaluation/sim/cys.dynamic.50.dynamicX.100000000.tcoffee_msa.famsa_msa.FAMSA-medoid.sim\n",
      "/home/luisasantus/Desktop/crg_cluster/projects/structural_regression/results/homfam/evaluation/sim/ghf22.dynamic.50.dynamicX.100000000.tcoffee_msa.famsa_msa.FAMSA-medoid.sim\n",
      "/home/luisasantus/Desktop/crg_cluster/projects/structural_regression/results/homfam/evaluation/sim/flav.dynamic.50.dynamicX.100000000.tcoffee_msa.famsa_msa.FAMSA-medoid.sim\n",
      "/home/luisasantus/Desktop/crg_cluster/projects/structural_regression/results/homfam/evaluation/sim/cah.dynamic.50.dynamicX.100000000.tcoffee_msa.famsa_msa.FAMSA-medoid.sim\n",
      "/home/luisasantus/Desktop/crg_cluster/projects/structural_regression/results/homfam/evaluation/sim/TNF.dynamic.50.dynamicX.100000000.tcoffee_msa.famsa_msa.FAMSA-medoid.sim\n",
      "/home/luisasantus/Desktop/crg_cluster/projects/structural_regression/results/homfam/evaluation/sim/phoslip.dynamic.50.dynamicX.100000000.tcoffee_msa.famsa_msa.FAMSA-medoid.sim\n",
      "/home/luisasantus/Desktop/crg_cluster/projects/structural_regression/results/homfam/evaluation/sim/hpr.dynamic.50.dynamicX.100000000.tcoffee_msa.famsa_msa.FAMSA-medoid.sim\n",
      "/home/luisasantus/Desktop/crg_cluster/projects/structural_regression/results/homfam/evaluation/sim/cyt3.dynamic.50.dynamicX.100000000.tcoffee_msa.famsa_msa.FAMSA-medoid.sim\n",
      "/home/luisasantus/Desktop/crg_cluster/projects/structural_regression/results/homfam/evaluation/sim/seatoxin.dynamic.50.dynamicX.100000000.tcoffee_msa.famsa_msa.FAMSA-medoid.sim\n"
     ]
    },
    {
     "name": "stdout",
     "output_type": "stream",
     "text": [
      "/home/luisasantus/Desktop/crg_cluster/projects/structural_regression/results/homfam/evaluation/sim/rub.dynamic.50.dynamicX.100000000.tcoffee_msa.famsa_msa.FAMSA-medoid.sim\n",
      "/home/luisasantus/Desktop/crg_cluster/projects/structural_regression/results/homfam/evaluation/sim/ltn.dynamic.50.dynamicX.100000000.tcoffee_msa.famsa_msa.FAMSA-medoid.sim\n",
      "/home/luisasantus/Desktop/crg_cluster/projects/structural_regression/results/homfam/evaluation/sim/cytb.dynamic.50.dynamicX.100000000.tcoffee_msa.famsa_msa.FAMSA-medoid.sim\n",
      "/home/luisasantus/Desktop/crg_cluster/projects/structural_regression/results/homfam/evaluation/sim/aadh.dynamic.50.dynamicX.100000000.tcoffee_msa.famsa_msa.FAMSA-medoid.sim\n",
      "/home/luisasantus/Desktop/crg_cluster/projects/structural_regression/results/homfam/evaluation/sim/KAS.dynamic.50.dynamicX.100000000.tcoffee_msa.famsa_msa.FAMSA-medoid.sim\n",
      "/home/luisasantus/Desktop/crg_cluster/projects/structural_regression/results/homfam/evaluation/sim/annexin.dynamic.50.dynamicX.100000000.tcoffee_msa.famsa_msa.FAMSA-medoid.sim\n",
      "/home/luisasantus/Desktop/crg_cluster/projects/structural_regression/results/homfam/evaluation/sim/DEATH.dynamic.50.dynamicX.100000000.tcoffee_msa.famsa_msa.FAMSA-medoid.sim\n",
      "/home/luisasantus/Desktop/crg_cluster/projects/structural_regression/results/homfam/evaluation/sim/lyase_1.dynamic.50.dynamicX.100000000.tcoffee_msa.famsa_msa.FAMSA-medoid.sim\n",
      "/home/luisasantus/Desktop/crg_cluster/projects/structural_regression/results/homfam/evaluation/sim/phc.dynamic.50.dynamicX.100000000.tcoffee_msa.famsa_msa.FAMSA-medoid.sim\n",
      "/home/luisasantus/Desktop/crg_cluster/projects/structural_regression/results/homfam/evaluation/sim/icd.dynamic.50.dynamicX.100000000.tcoffee_msa.famsa_msa.FAMSA-medoid.sim\n",
      "/home/luisasantus/Desktop/crg_cluster/projects/structural_regression/results/homfam/evaluation/sim/ldh.dynamic.50.dynamicX.100000000.tcoffee_msa.famsa_msa.FAMSA-medoid.sim\n",
      "/home/luisasantus/Desktop/crg_cluster/projects/structural_regression/results/homfam/evaluation/sim/HMG_box.dynamic.50.dynamicX.100000000.tcoffee_msa.famsa_msa.FAMSA-medoid.sim\n",
      "/home/luisasantus/Desktop/crg_cluster/projects/structural_regression/results/homfam/evaluation/sim/asp.dynamic.50.dynamicX.100000000.tcoffee_msa.famsa_msa.FAMSA-medoid.sim\n",
      "/home/luisasantus/Desktop/crg_cluster/projects/structural_regression/results/homfam/evaluation/sim/az.dynamic.50.dynamicX.100000000.tcoffee_msa.famsa_msa.FAMSA-medoid.sim\n",
      "/home/luisasantus/Desktop/crg_cluster/projects/structural_regression/results/homfam/evaluation/sim/il8.dynamic.50.dynamicX.100000000.tcoffee_msa.famsa_msa.FAMSA-medoid.sim\n",
      "/home/luisasantus/Desktop/crg_cluster/projects/structural_regression/results/homfam/evaluation/sim/GEL.dynamic.50.dynamicX.100000000.tcoffee_msa.famsa_msa.FAMSA-medoid.sim\n",
      "/home/luisasantus/Desktop/crg_cluster/projects/structural_regression/results/homfam/evaluation/sim/hom.dynamic.50.dynamicX.100000000.tcoffee_msa.famsa_msa.FAMSA-medoid.sim\n",
      "/home/luisasantus/Desktop/crg_cluster/projects/structural_regression/results/homfam/evaluation/sim/cryst.dynamic.50.dynamicX.100000000.tcoffee_msa.famsa_msa.FAMSA-medoid.sim\n",
      "/home/luisasantus/Desktop/crg_cluster/projects/structural_regression/results/homfam/evaluation/sim/uce.dynamic.50.dynamicX.100000000.tcoffee_msa.famsa_msa.FAMSA-medoid.sim\n",
      "/home/luisasantus/Desktop/crg_cluster/projects/structural_regression/results/homfam/evaluation/sim/kringle.dynamic.50.dynamicX.100000000.tcoffee_msa.famsa_msa.FAMSA-medoid.sim\n",
      "/home/luisasantus/Desktop/crg_cluster/projects/structural_regression/results/homfam/evaluation/sim/tgfb.dynamic.50.dynamicX.100000000.tcoffee_msa.famsa_msa.FAMSA-medoid.sim\n",
      "/home/luisasantus/Desktop/crg_cluster/projects/structural_regression/results/homfam/evaluation/sim/hip.dynamic.50.dynamicX.100000000.tcoffee_msa.famsa_msa.FAMSA-medoid.sim\n",
      "/home/luisasantus/Desktop/crg_cluster/projects/structural_regression/results/homfam/evaluation/sim/HLH.dynamic.50.dynamicX.100000000.tcoffee_msa.famsa_msa.FAMSA-medoid.sim\n",
      "/home/luisasantus/Desktop/crg_cluster/projects/structural_regression/results/homfam/evaluation/sim/scorptoxin.dynamic.50.dynamicX.100000000.tcoffee_msa.famsa_msa.FAMSA-medoid.sim\n",
      "/home/luisasantus/Desktop/crg_cluster/projects/structural_regression/results/homfam/evaluation/sim/oxidored_q6.dynamic.50.dynamicX.100000000.tcoffee_msa.famsa_msa.FAMSA-medoid.sim\n",
      "/home/luisasantus/Desktop/crg_cluster/projects/structural_regression/results/homfam/evaluation/sim/trfl.dynamic.50.dynamicX.100000000.tcoffee_msa.famsa_msa.FAMSA-medoid.sim\n"
     ]
    }
   ],
   "source": [
    "# ---------------------------------------------------------\n",
    "# Get SIMILARITY per family \n",
    "# Get number of sequences per family (and store for future notebooks)\n",
    "# ---------------------------------------------------------\n",
    "\n",
    "sims = os.path.join(evaluation_dir,\"homfam/evaluation/sim/*dynamic*.sim\")\n",
    "sim_df = pd.DataFrame()\n",
    "\n",
    "for file in list(glob.glob(sims)):\n",
    "    full_name = file.split(sep = \"/\")[-1].replace(\".sim\", \"\")\n",
    "    file_opened = open(file, \"r\")\n",
    "    tot_line = [line.split() for line in file_opened if line.startswith('TOT')]\n",
    "    entry = pd.DataFrame({'name': [full_name],\"sim_tot\": tot_line[0][3]})\n",
    "    sim_df =  pd.concat([sim_df, entry], ignore_index = True)\n",
    "    print(file)\n",
    "# sim_df.head()"
   ]
  }
 ],
 "metadata": {
  "kernelspec": {
   "display_name": "Python 3 (ipykernel)",
   "language": "python",
   "name": "python3"
  },
  "language_info": {
   "codemirror_mode": {
    "name": "ipython",
    "version": 3
   },
   "file_extension": ".py",
   "mimetype": "text/x-python",
   "name": "python",
   "nbconvert_exporter": "python",
   "pygments_lexer": "ipython3",
   "version": "3.9.12"
  }
 },
 "nbformat": 4,
 "nbformat_minor": 5
}
