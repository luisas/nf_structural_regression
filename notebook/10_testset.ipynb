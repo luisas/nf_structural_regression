{
 "cells": [
  {
   "cell_type": "code",
   "execution_count": 6,
   "id": "e6c24c18",
   "metadata": {},
   "outputs": [],
   "source": [
    "import os\n",
    "import pandas as pd\n",
    "import numpy as np\n",
    "import seaborn as sns"
   ]
  },
  {
   "cell_type": "code",
   "execution_count": 45,
   "id": "d91d429c",
   "metadata": {},
   "outputs": [],
   "source": [
    "evaluation_dir = \"/home/luisasantus/Desktop/crg_cluster/projects/structural_regression/results/\"\n",
    "summary = os.path.join(\"/home/luisasantus/Desktop/crg_cluster/data/structural_regression/stats/\", \"02_summary_homfam_with_refs.csv\")\n",
    "# Load family summary\n",
    "family_summary = pd.read_csv(summary)\n",
    "family_summary = family_summary.rename(columns = { \"familcombined\": \"family\"})"
   ]
  },
  {
   "cell_type": "code",
   "execution_count": 25,
   "id": "a3d56102",
   "metadata": {},
   "outputs": [],
   "source": [
    "# Parse similarity files \n",
    "sims_file = os.path.join(evaluation_dir,\"/homfam/sim/homfam_similarities_summary.csv\")\n",
    "sims = pd.read_csv(sims, header = None)\n",
    "sims = sims.drop(6,axis = 1)\n",
    "sims.columns = [\"family\", \"dataset\", \"tot\", \"avg\", \"var\", \"std\"]"
   ]
  },
  {
   "cell_type": "code",
   "execution_count": 48,
   "id": "1baf57de",
   "metadata": {},
   "outputs": [],
   "source": [
    "summary = family_summary.merge(sims, on = \"family\")\n",
    "summary = summary[[\"family\", \"n_sequences_ref\", \"n_sequences_combined\", \"tot\", \"avg\", \"var\", \"std\"]]"
   ]
  },
  {
   "cell_type": "code",
   "execution_count": 69,
   "id": "b4140574",
   "metadata": {},
   "outputs": [
    {
     "data": {
      "text/html": [
       "<div>\n",
       "<style scoped>\n",
       "    .dataframe tbody tr th:only-of-type {\n",
       "        vertical-align: middle;\n",
       "    }\n",
       "\n",
       "    .dataframe tbody tr th {\n",
       "        vertical-align: top;\n",
       "    }\n",
       "\n",
       "    .dataframe thead th {\n",
       "        text-align: right;\n",
       "    }\n",
       "</style>\n",
       "<table border=\"1\" class=\"dataframe\">\n",
       "  <thead>\n",
       "    <tr style=\"text-align: right;\">\n",
       "      <th></th>\n",
       "      <th>family</th>\n",
       "      <th>n_sequences_ref</th>\n",
       "      <th>n_sequences_combined</th>\n",
       "      <th>tot</th>\n",
       "      <th>avg</th>\n",
       "      <th>var</th>\n",
       "      <th>std</th>\n",
       "    </tr>\n",
       "  </thead>\n",
       "  <tbody>\n",
       "    <tr>\n",
       "      <th>0</th>\n",
       "      <td>Stap_Strp_toxin</td>\n",
       "      <td>6</td>\n",
       "      <td>640.0</td>\n",
       "      <td>13.88</td>\n",
       "      <td>13.88</td>\n",
       "      <td>338.39</td>\n",
       "      <td>18.40</td>\n",
       "    </tr>\n",
       "    <tr>\n",
       "      <th>1</th>\n",
       "      <td>sodfe</td>\n",
       "      <td>8</td>\n",
       "      <td>4455.0</td>\n",
       "      <td>18.35</td>\n",
       "      <td>18.35</td>\n",
       "      <td>304.40</td>\n",
       "      <td>17.45</td>\n",
       "    </tr>\n",
       "    <tr>\n",
       "      <th>2</th>\n",
       "      <td>ghf5</td>\n",
       "      <td>6</td>\n",
       "      <td>2717.0</td>\n",
       "      <td>6.51</td>\n",
       "      <td>6.51</td>\n",
       "      <td>45.23</td>\n",
       "      <td>6.73</td>\n",
       "    </tr>\n",
       "    <tr>\n",
       "      <th>3</th>\n",
       "      <td>cys</td>\n",
       "      <td>13</td>\n",
       "      <td>4316.0</td>\n",
       "      <td>11.42</td>\n",
       "      <td>11.42</td>\n",
       "      <td>107.24</td>\n",
       "      <td>10.36</td>\n",
       "    </tr>\n",
       "    <tr>\n",
       "      <th>4</th>\n",
       "      <td>hla</td>\n",
       "      <td>5</td>\n",
       "      <td>13465.0</td>\n",
       "      <td>22.90</td>\n",
       "      <td>22.90</td>\n",
       "      <td>931.96</td>\n",
       "      <td>30.53</td>\n",
       "    </tr>\n",
       "    <tr>\n",
       "      <th>...</th>\n",
       "      <td>...</td>\n",
       "      <td>...</td>\n",
       "      <td>...</td>\n",
       "      <td>...</td>\n",
       "      <td>...</td>\n",
       "      <td>...</td>\n",
       "      <td>...</td>\n",
       "    </tr>\n",
       "    <tr>\n",
       "      <th>85</th>\n",
       "      <td>mofe</td>\n",
       "      <td>6</td>\n",
       "      <td>2567.0</td>\n",
       "      <td>9.54</td>\n",
       "      <td>9.54</td>\n",
       "      <td>108.24</td>\n",
       "      <td>10.40</td>\n",
       "    </tr>\n",
       "    <tr>\n",
       "      <th>86</th>\n",
       "      <td>KAS</td>\n",
       "      <td>6</td>\n",
       "      <td>2070.0</td>\n",
       "      <td>16.11</td>\n",
       "      <td>16.11</td>\n",
       "      <td>629.45</td>\n",
       "      <td>25.09</td>\n",
       "    </tr>\n",
       "    <tr>\n",
       "      <th>87</th>\n",
       "      <td>rub</td>\n",
       "      <td>5</td>\n",
       "      <td>1435.0</td>\n",
       "      <td>40.10</td>\n",
       "      <td>40.10</td>\n",
       "      <td>360.67</td>\n",
       "      <td>18.99</td>\n",
       "    </tr>\n",
       "    <tr>\n",
       "      <th>88</th>\n",
       "      <td>hormone_rec</td>\n",
       "      <td>5</td>\n",
       "      <td>3509.0</td>\n",
       "      <td>7.43</td>\n",
       "      <td>7.43</td>\n",
       "      <td>39.51</td>\n",
       "      <td>6.29</td>\n",
       "    </tr>\n",
       "    <tr>\n",
       "      <th>89</th>\n",
       "      <td>ghf22</td>\n",
       "      <td>12</td>\n",
       "      <td>760.0</td>\n",
       "      <td>17.44</td>\n",
       "      <td>17.44</td>\n",
       "      <td>330.54</td>\n",
       "      <td>18.18</td>\n",
       "    </tr>\n",
       "  </tbody>\n",
       "</table>\n",
       "<p>90 rows × 7 columns</p>\n",
       "</div>"
      ],
      "text/plain": [
       "             family  n_sequences_ref  n_sequences_combined    tot    avg  \\\n",
       "0   Stap_Strp_toxin                6                 640.0  13.88  13.88   \n",
       "1             sodfe                8                4455.0  18.35  18.35   \n",
       "2              ghf5                6                2717.0   6.51   6.51   \n",
       "3               cys               13                4316.0  11.42  11.42   \n",
       "4               hla                5               13465.0  22.90  22.90   \n",
       "..              ...              ...                   ...    ...    ...   \n",
       "85             mofe                6                2567.0   9.54   9.54   \n",
       "86              KAS                6                2070.0  16.11  16.11   \n",
       "87              rub                5                1435.0  40.10  40.10   \n",
       "88      hormone_rec                5                3509.0   7.43   7.43   \n",
       "89            ghf22               12                 760.0  17.44  17.44   \n",
       "\n",
       "       var    std  \n",
       "0   338.39  18.40  \n",
       "1   304.40  17.45  \n",
       "2    45.23   6.73  \n",
       "3   107.24  10.36  \n",
       "4   931.96  30.53  \n",
       "..     ...    ...  \n",
       "85  108.24  10.40  \n",
       "86  629.45  25.09  \n",
       "87  360.67  18.99  \n",
       "88   39.51   6.29  \n",
       "89  330.54  18.18  \n",
       "\n",
       "[90 rows x 7 columns]"
      ]
     },
     "execution_count": 69,
     "metadata": {},
     "output_type": "execute_result"
    }
   ],
   "source": [
    "summary"
   ]
  },
  {
   "cell_type": "code",
   "execution_count": 111,
   "id": "b4502d04",
   "metadata": {
    "scrolled": true
   },
   "outputs": [
    {
     "data": {
      "image/png": "[encoded data removed]",
      "text/plain": [
       "<Figure size 432x432 with 1 Axes>"
      ]
     },
     "metadata": {},
     "output_type": "display_data"
    }
   ],
   "source": [
    "f, ax = plt.subplots(1, 1, figsize=(6, 6), sharex=True)\n",
    "ax = sns.scatterplot(data = summary, x = \"avg\", y = \"std\" )\n",
    "#ax.set(xlabel = \"similarity\", ylabel = \"# of sequences\")"
   ]
  },
  {
   "cell_type": "code",
   "execution_count": 72,
   "id": "15674da2",
   "metadata": {},
   "outputs": [],
   "source": [
    "# Explore similarity scores on one family"
   ]
  },
  {
   "cell_type": "code",
   "execution_count": 105,
   "id": "fc06a716",
   "metadata": {},
   "outputs": [],
   "source": [
    "file = \"/home/luisasantus/Desktop/crg_cluster/projects/structural_regression/results/homfam/similarity/homfam/bowman.sim_all\"\n",
    "sim = pd.read_csv(file,header = None)\n",
    "sim = sim.transpose()\n",
    "sim = sim.dropna()"
   ]
  },
  {
   "cell_type": "code",
   "execution_count": 106,
   "id": "ae4ae31d",
   "metadata": {},
   "outputs": [],
   "source": [
    "sim_summary = sim[sim[0].str.contains(\":\")][0].str.split(\":\",expand = True)\n",
    "sim_summary.columns = [\"id\", \"similarity\"]\n",
    "sim_summary.similarity = sim_summary.similarity.astype(float)"
   ]
  },
  {
   "cell_type": "code",
   "execution_count": 110,
   "id": "771020a0",
   "metadata": {},
   "outputs": [
    {
     "data": {
      "text/plain": [
       "<seaborn.axisgrid.FacetGrid at 0x7f7163c61cd0>"
      ]
     },
     "execution_count": 110,
     "metadata": {},
     "output_type": "execute_result"
    },
    {
     "data": {
      "image/png": "[encoded data removed]",
      "text/plain": [
       "<Figure size 360x360 with 1 Axes>"
      ]
     },
     "metadata": {},
     "output_type": "display_data"
    }
   ],
   "source": [
    "ax = sns.displot(sim_summary, x = \"similarity\")\n",
    "title = \"N = \"+str(len(sim_summary))\n",
    "ax.set( title = title, ylabel = \"count\")"
   ]
  },
  {
   "cell_type": "code",
   "execution_count": 116,
   "id": "dd23a8aa",
   "metadata": {},
   "outputs": [],
   "source": [
    "# Load scores \n",
    "stats_dir = \"/home/luisasantus/Desktop/crg_cluster/data/structural_regression/stats/\"\n",
    "scores_file = os.path.join(stats_dir, \"03_scores_df.csv\") "
   ]
  },
  {
   "cell_type": "code",
   "execution_count": 131,
   "id": "965bfa08",
   "metadata": {},
   "outputs": [
    {
     "name": "stderr",
     "output_type": "stream",
     "text": [
      "/tmp/ipykernel_83858/1182853648.py:7: SettingWithCopyWarning: \n",
      "A value is trying to be set on a copy of a slice from a DataFrame.\n",
      "Try using .loc[row_indexer,col_indexer] = value instead\n",
      "\n",
      "See the caveats in the documentation: https://pandas.pydata.org/pandas-docs/stable/user_guide/indexing.html#returning-a-view-versus-a-copy\n",
      "  progressive_scores[[\"family\", \"method\", \"align_method\", \"tree_method\"]] = progressive_scores.name.str.split(\".\", expand = True)\n",
      "/tmp/ipykernel_83858/1182853648.py:8: SettingWithCopyWarning: \n",
      "A value is trying to be set on a copy of a slice from a DataFrame.\n",
      "Try using .loc[row_indexer,col_indexer] = value instead\n",
      "\n",
      "See the caveats in the documentation: https://pandas.pydata.org/pandas-docs/stable/user_guide/indexing.html#returning-a-view-versus-a-copy\n",
      "  progressive_scores[\"benchmarking_dataset\"] = \"homfam\"\n",
      "/tmp/ipykernel_83858/1182853648.py:14: SettingWithCopyWarning: \n",
      "A value is trying to be set on a copy of a slice from a DataFrame.\n",
      "Try using .loc[row_indexer,col_indexer] = value instead\n",
      "\n",
      "See the caveats in the documentation: https://pandas.pydata.org/pandas-docs/stable/user_guide/indexing.html#returning-a-view-versus-a-copy\n",
      "  dynamic_scores[[\"family\", \"method\", \"bucket_size\", \"dynamicX_label\",\"dynamicX_val\",\"master_msa\", \"slave_msa\", \"tree_method\"]] = dynamic_scores.name.str.split(\".\", expand = True)\n"
     ]
    }
   ],
   "source": [
    "scores = pd.read_csv(scores_file)\n",
    "\n",
    "# -------------------------\n",
    "#      Progressive\n",
    "# -------------------------\n",
    "progressive_scores = scores[scores.name.str.contains(\"progressive\")]\n",
    "progressive_scores[[\"family\", \"method\", \"align_method\", \"tree_method\"]] = progressive_scores.name.str.split(\".\", expand = True)\n",
    "progressive_scores[\"benchmarking_dataset\"] = \"homfam\"\n",
    "progressive_scores= progressive_scores[progressive_scores.tree_method == \"MBED\"]\n",
    "# -------------------------\n",
    "#      Dyanmic\n",
    "# -------------------------\n",
    "dynamic_scores = scores[scores.name.str.contains(\"dynamic\")]\n",
    "dynamic_scores[[\"family\", \"method\", \"bucket_size\", \"dynamicX_label\",\"dynamicX_val\",\"master_msa\", \"slave_msa\", \"tree_method\"]] = dynamic_scores.name.str.split(\".\", expand = True)\n",
    "dynamic_scores = dynamic_scores[dynamic_scores.tree_method == \"MBED\"]\n",
    "\n",
    "scores_df = pd.concat([progressive_scores, dynamic_scores], ignore_index=True, sort=False)\n",
    "\n",
    "df_d_r = pd.merge(dynamic_scores, progressive_scores, on = [\"family\"],suffixes=('_3D', '_SEQ') )\n",
    "df_d_r[\"diff_sp\"] = df_d_r.sp_3D - df_d_r.sp_SEQ / abs(df_d_r.sp_SEQ * 100)\n",
    "df_scores_summary = df_d_r[[\"family\", \"sp_3D\", \"sp_SEQ\"]]"
   ]
  },
  {
   "cell_type": "code",
   "execution_count": 138,
   "id": "c9590f4b",
   "metadata": {},
   "outputs": [
    {
     "data": {
      "text/html": [
       "<div>\n",
       "<style scoped>\n",
       "    .dataframe tbody tr th:only-of-type {\n",
       "        vertical-align: middle;\n",
       "    }\n",
       "\n",
       "    .dataframe tbody tr th {\n",
       "        vertical-align: top;\n",
       "    }\n",
       "\n",
       "    .dataframe thead th {\n",
       "        text-align: right;\n",
       "    }\n",
       "</style>\n",
       "<table border=\"1\" class=\"dataframe\">\n",
       "  <thead>\n",
       "    <tr style=\"text-align: right;\">\n",
       "      <th></th>\n",
       "      <th>id</th>\n",
       "      <th>similarity</th>\n",
       "    </tr>\n",
       "  </thead>\n",
       "  <tbody>\n",
       "    <tr>\n",
       "      <th>0</th>\n",
       "      <td>A0JKC9_9FABA/56-81</td>\n",
       "      <td>45.77</td>\n",
       "    </tr>\n",
       "    <tr>\n",
       "      <th>1</th>\n",
       "      <td>C5Y7Y4_SORBI/31-57</td>\n",
       "      <td>15.40</td>\n",
       "    </tr>\n",
       "    <tr>\n",
       "      <th>2</th>\n",
       "      <td>Q84X87_DOLBI/72-96</td>\n",
       "      <td>43.33</td>\n",
       "    </tr>\n",
       "    <tr>\n",
       "      <th>3</th>\n",
       "      <td>Q39806_SOYBN/4-28</td>\n",
       "      <td>41.52</td>\n",
       "    </tr>\n",
       "    <tr>\n",
       "      <th>4</th>\n",
       "      <td>B2RG94_9FABA/83-107</td>\n",
       "      <td>44.92</td>\n",
       "    </tr>\n",
       "    <tr>\n",
       "      <th>...</th>\n",
       "      <td>...</td>\n",
       "      <td>...</td>\n",
       "    </tr>\n",
       "    <tr>\n",
       "      <th>494</th>\n",
       "      <td>Q8VX21_PEA/76-100</td>\n",
       "      <td>41.77</td>\n",
       "    </tr>\n",
       "    <tr>\n",
       "      <th>495</th>\n",
       "      <td>Q8W4Y2_LENCU/76-100</td>\n",
       "      <td>40.94</td>\n",
       "    </tr>\n",
       "    <tr>\n",
       "      <th>496</th>\n",
       "      <td>B8QYA9_ZEAMP/70-99</td>\n",
       "      <td>18.59</td>\n",
       "    </tr>\n",
       "    <tr>\n",
       "      <th>497</th>\n",
       "      <td>A0JKC2_9FABA/83-107</td>\n",
       "      <td>44.84</td>\n",
       "    </tr>\n",
       "    <tr>\n",
       "      <th>498</th>\n",
       "      <td>IBB_PHAAT/19-36</td>\n",
       "      <td>52.08</td>\n",
       "    </tr>\n",
       "  </tbody>\n",
       "</table>\n",
       "<p>499 rows × 2 columns</p>\n",
       "</div>"
      ],
      "text/plain": [
       "                        id  similarity\n",
       "0       A0JKC9_9FABA/56-81       45.77\n",
       "1       C5Y7Y4_SORBI/31-57       15.40\n",
       "2       Q84X87_DOLBI/72-96       43.33\n",
       "3        Q39806_SOYBN/4-28       41.52\n",
       "4      B2RG94_9FABA/83-107       44.92\n",
       "..                     ...         ...\n",
       "494      Q8VX21_PEA/76-100       41.77\n",
       "495    Q8W4Y2_LENCU/76-100       40.94\n",
       "496     B8QYA9_ZEAMP/70-99       18.59\n",
       "497    A0JKC2_9FABA/83-107       44.84\n",
       "498        IBB_PHAAT/19-36       52.08\n",
       "\n",
       "[499 rows x 2 columns]"
      ]
     },
     "execution_count": 138,
     "metadata": {},
     "output_type": "execute_result"
    }
   ],
   "source": [
    "sim_summary"
   ]
  },
  {
   "cell_type": "code",
   "execution_count": 141,
   "id": "c42588d0",
   "metadata": {},
   "outputs": [
    {
     "data": {
      "text/plain": [
       "<seaborn.axisgrid.FacetGrid at 0x7f7163949190>"
      ]
     },
     "execution_count": 141,
     "metadata": {},
     "output_type": "execute_result"
    },
    {
     "data": {
      "image/png": "[encoded data removed]",
      "text/plain": [
       "<Figure size 360x360 with 1 Axes>"
      ]
     },
     "metadata": {},
     "output_type": "display_data"
    }
   ],
   "source": [
    "sns.displot(df_scores_summary, x = \"sp_3D\")"
   ]
  },
  {
   "cell_type": "code",
   "execution_count": null,
   "id": "2a82b966",
   "metadata": {},
   "outputs": [],
   "source": []
  },
  {
   "cell_type": "code",
   "execution_count": null,
   "id": "bc1e84dd",
   "metadata": {},
   "outputs": [],
   "source": []
  },
  {
   "cell_type": "code",
   "execution_count": null,
   "id": "472a979e",
   "metadata": {},
   "outputs": [],
   "source": []
  }
 ],
 "metadata": {
  "kernelspec": {
   "display_name": "Python 3 (ipykernel)",
   "language": "python",
   "name": "python3"
  },
  "language_info": {
   "codemirror_mode": {
    "name": "ipython",
    "version": 3
   },
   "file_extension": ".py",
   "mimetype": "text/x-python",
   "name": "python",
   "nbconvert_exporter": "python",
   "pygments_lexer": "ipython3",
   "version": "3.9.12"
  }
 },
 "nbformat": 4,
 "nbformat_minor": 5
}
