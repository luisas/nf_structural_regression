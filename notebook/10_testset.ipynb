{
 "cells": [
  {
   "cell_type": "code",
   "execution_count": 1,
   "id": "e6c24c18",
   "metadata": {},
   "outputs": [],
   "source": [
    "import os\n",
    "import pandas as pd\n",
    "import numpy as np\n",
    "import seaborn as sns\n",
    "import matplotlib.pyplot as plt\n",
    "from os import listdir\n",
    "from os.path import isfile, join\n",
    "import matplotlib.ticker as ticker\n",
    "import matplotlib as mpl\n",
    "import sys\n",
    "from math import *\n",
    "from scipy.stats import binned_statistic\n",
    "import inspect\n",
    "from Bio import SeqIO\n",
    "from pathlib import Path\n",
    "sns.set_theme(style=\"white\", context=\"talk\")\n",
    "import glob\n",
    "import matplotlib.pyplot as plt\n",
    "from matplotlib_venn import venn2\n",
    "import itertools\n",
    "from scipy import stats\n",
    "from scipy.stats import pearsonr\n",
    "from utils_benchmark import * \n",
    "sns.set_context(\"talk\")"
   ]
  },
  {
   "cell_type": "code",
   "execution_count": 2,
   "id": "d91d429c",
   "metadata": {},
   "outputs": [],
   "source": [
    "evaluation_dir = \"/home/luisasantus/Desktop/crg_cluster/projects/structural_regression/results/\""
   ]
  },
  {
   "cell_type": "code",
   "execution_count": 3,
   "id": "a3d56102",
   "metadata": {},
   "outputs": [],
   "source": [
    "# ---------------------------------------------------------\n",
    "# Get SIMILARITY per family \n",
    "# Get number of sequences per family (and store for future notebooks)\n",
    "# ---------------------------------------------------------\n",
    "\n",
    "sims = os.path.join(evaluation_dir,\"homfam/evaluation/sim/*dynamic*.sim\")\n",
    "sim_df = pd.DataFrame()\n",
    "\n",
    "files = list()\n",
    "for file in list(glob.glob(sims)):\n",
    "    files.append(file)\n",
    "# sim_df.head()"
   ]
  },
  {
   "cell_type": "code",
   "execution_count": 5,
   "id": "ac55f6f7",
   "metadata": {},
   "outputs": [
    {
     "data": {
      "text/plain": [
       "73"
      ]
     },
     "execution_count": 5,
     "metadata": {},
     "output_type": "execute_result"
    }
   ],
   "source": [
    "len(files)"
   ]
  },
  {
   "cell_type": "code",
   "execution_count": null,
   "id": "1f428137",
   "metadata": {},
   "outputs": [],
   "source": [
    "for file in list(glob.glob(sims)):\n",
    "    full_name = file.split(sep = \"/\")[-1].replace(\".sim\", \"\")\n",
    "    file_opened = open(file, \"r\")\n",
    "    tot_line = [line.split() for line in file_opened if line.startswith('TOT')]\n",
    "    entry = pd.DataFrame({'name': [full_name],\"sim_tot\": tot_line[0][3]})"
   ]
  }
 ],
 "metadata": {
  "kernelspec": {
   "display_name": "Python 3 (ipykernel)",
   "language": "python",
   "name": "python3"
  },
  "language_info": {
   "codemirror_mode": {
    "name": "ipython",
    "version": 3
   },
   "file_extension": ".py",
   "mimetype": "text/x-python",
   "name": "python",
   "nbconvert_exporter": "python",
   "pygments_lexer": "ipython3",
   "version": "3.9.12"
  }
 },
 "nbformat": 4,
 "nbformat_minor": 5
}
