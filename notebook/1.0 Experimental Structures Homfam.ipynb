{
 "cells": [
  {
   "cell_type": "code",
   "execution_count": 1,
   "id": "e4bb9264",
   "metadata": {},
   "outputs": [],
   "source": [
    "import os\n",
    "import pandas as pd\n",
    "import numpy as np\n",
    "import seaborn as sns\n",
    "import glob\n",
    "import matplotlib.pyplot as plt\n",
    "sns.set_context(\"talk\")"
   ]
  },
  {
   "cell_type": "markdown",
   "id": "a2ed15b3",
   "metadata": {},
   "source": [
    "# CHECK HOW MANY STRUCTURES WE HAVE RETRIEVED"
   ]
  },
  {
   "cell_type": "markdown",
   "id": "505d5bb0",
   "metadata": {},
   "source": [
    "Per family, collect how many sequences it has, how many have been found with mmseqs, and how many structures we have downloaded. This will allow to see how much we loose in each step. "
   ]
  },
  {
   "cell_type": "code",
   "execution_count": 2,
   "id": "bb7a4c8e",
   "metadata": {},
   "outputs": [],
   "source": [
    "# Load sequence summary \n",
    "summary_homfam = pd.read_csv(os.path.join(\"/home/luisasantus/Desktop/crg_cluster/data/structural_regression/stats/\", \"02_summary_homfam_with_refs.csv\"))\n",
    "summary_nseq = summary_homfam[[\"file_combined\",\"n_sequences_combined\"]]\n",
    "summary_nseq = summary_nseq.rename(columns ={\"file_combined\": \"family\", \"n_sequences_combined\":\"tot_n_sequences\"})"
   ]
  },
  {
   "cell_type": "code",
   "execution_count": 3,
   "id": "745104a8",
   "metadata": {},
   "outputs": [],
   "source": [
    "# Load mmseqs summary \n",
    "mmseqs_summary = pd.DataFrame()\n",
    "hits_path=\"/home/luisasantus/Desktop/crg_cluster/data/structural_regression/homfam/pdbs/structures/search_hits/mmseqs/*/*.UniProtKB/filtered_hits.m8\"\n",
    "hits_path=\"/home/luisasantus/Desktop/crg_cluster/data/structures_collections/homfam/filtered_ids/UniProtKB/id_0.9_cov_1.0/*/*filtered_hits.m8\"\n",
    "for file in glob.glob(hits_path):\n",
    "    family = os.path.basename(os.path.dirname(file))\n",
    "    hits_df = str_seatoxin = pd.read_csv(file, sep='\\t', header = None)\n",
    "    hits_df[\"family\"] = family\n",
    "    hits_df = hits_df.rename(columns = { 0: \"mmseqs_found\"})\n",
    "    summary=summary = hits_df[[\"family\", \"mmseqs_found\"]]\n",
    "    mmseqs_summary = pd.concat([mmseqs_summary, summary])\n",
    "mmseqs_summary_n = mmseqs_summary.groupby(\"family\").count().reset_index()\n",
    "#mmseqs_summary_n.head(2)"
   ]
  },
  {
   "cell_type": "code",
   "execution_count": 4,
   "id": "e5899243",
   "metadata": {},
   "outputs": [],
   "source": [
    "# Load structures summary \n",
    "str_summary = pd.DataFrame()\n",
    "str_path = \"/home/luisasantus/Desktop/crg_cluster/data/structures_collections/homfam/DB/structures/UniProtKB/*/*.pdb\"\n",
    "for file in glob.glob(str_path):\n",
    "    family = os.path.basename(os.path.dirname(file))\n",
    "    structure = os.path.basename(os.path.basename(file)).replace(\".pdb\", \"\")\n",
    "    entry = pd.DataFrame({'family':[family], 'structure': structure})\n",
    "    str_summary =  pd.concat([str_summary, entry], ignore_index = True)\n",
    "summary_nstr = str_summary.groupby(\"family\").count().reset_index()\n",
    "summary_nstr = summary_nstr.rename(columns ={\"structure\":\"structures_found\"})"
   ]
  },
  {
   "cell_type": "code",
   "execution_count": 5,
   "id": "f0a5b064",
   "metadata": {},
   "outputs": [
    {
     "data": {
      "text/html": [
       "<div>\n",
       "<style scoped>\n",
       "    .dataframe tbody tr th:only-of-type {\n",
       "        vertical-align: middle;\n",
       "    }\n",
       "\n",
       "    .dataframe tbody tr th {\n",
       "        vertical-align: top;\n",
       "    }\n",
       "\n",
       "    .dataframe thead th {\n",
       "        text-align: right;\n",
       "    }\n",
       "</style>\n",
       "<table border=\"1\" class=\"dataframe\">\n",
       "  <thead>\n",
       "    <tr style=\"text-align: right;\">\n",
       "      <th></th>\n",
       "      <th>family</th>\n",
       "      <th>tot_n_sequences</th>\n",
       "      <th>structures_found</th>\n",
       "      <th>structures_missing</th>\n",
       "      <th>structures_perc_missing</th>\n",
       "    </tr>\n",
       "  </thead>\n",
       "  <tbody>\n",
       "    <tr>\n",
       "      <th>3</th>\n",
       "      <td>Acetyltransf</td>\n",
       "      <td>46285</td>\n",
       "      <td>23333</td>\n",
       "      <td>22952</td>\n",
       "      <td>49.588420</td>\n",
       "    </tr>\n",
       "    <tr>\n",
       "      <th>5</th>\n",
       "      <td>az</td>\n",
       "      <td>1086</td>\n",
       "      <td>1012</td>\n",
       "      <td>74</td>\n",
       "      <td>6.813996</td>\n",
       "    </tr>\n",
       "    <tr>\n",
       "      <th>2</th>\n",
       "      <td>blmb</td>\n",
       "      <td>17200</td>\n",
       "      <td>13319</td>\n",
       "      <td>3881</td>\n",
       "      <td>22.563953</td>\n",
       "    </tr>\n",
       "    <tr>\n",
       "      <th>4</th>\n",
       "      <td>cryst</td>\n",
       "      <td>1160</td>\n",
       "      <td>1061</td>\n",
       "      <td>99</td>\n",
       "      <td>8.534483</td>\n",
       "    </tr>\n",
       "    <tr>\n",
       "      <th>0</th>\n",
       "      <td>hip</td>\n",
       "      <td>167</td>\n",
       "      <td>167</td>\n",
       "      <td>0</td>\n",
       "      <td>0.000000</td>\n",
       "    </tr>\n",
       "    <tr>\n",
       "      <th>1</th>\n",
       "      <td>seatoxin</td>\n",
       "      <td>93</td>\n",
       "      <td>89</td>\n",
       "      <td>4</td>\n",
       "      <td>4.301075</td>\n",
       "    </tr>\n",
       "  </tbody>\n",
       "</table>\n",
       "</div>"
      ],
      "text/plain": [
       "         family  tot_n_sequences  structures_found  structures_missing  \\\n",
       "3  Acetyltransf            46285             23333               22952   \n",
       "5            az             1086              1012                  74   \n",
       "2          blmb            17200             13319                3881   \n",
       "4         cryst             1160              1061                  99   \n",
       "0           hip              167               167                   0   \n",
       "1      seatoxin               93                89                   4   \n",
       "\n",
       "   structures_perc_missing  \n",
       "3                49.588420  \n",
       "5                 6.813996  \n",
       "2                22.563953  \n",
       "4                 8.534483  \n",
       "0                 0.000000  \n",
       "1                 4.301075  "
      ]
     },
     "execution_count": 5,
     "metadata": {},
     "output_type": "execute_result"
    }
   ],
   "source": [
    "# Merge all results\n",
    "#summary_n = pd.merge(summary_nseq, mmseqs_summary_n, on = \"family\")\n",
    "summary_n = pd.merge(summary_nseq, summary_nstr, on = \"family\")\n",
    "\n",
    "#summary_n[\"mmseqs_missing\"] = summary_n[\"tot_n_sequences\"] - summary_n[\"mmseqs_found\"]\n",
    "#summary_n[\"mmseqs_perc_missing\"] = summary_n[\"mmseqs_missing\"] * 100 / summary_n[\"tot_n_sequences\"]\n",
    "\n",
    "summary_n[\"structures_missing\"] = summary_n[\"tot_n_sequences\"] - summary_n[\"structures_found\"]\n",
    "summary_n[\"structures_perc_missing\"] = summary_n[\"structures_missing\"] * 100 / summary_n[\"tot_n_sequences\"]\n",
    "\n",
    "summary_n.sort_values(by = \"family\")"
   ]
  },
  {
   "cell_type": "code",
   "execution_count": 6,
   "id": "4ab2baba",
   "metadata": {},
   "outputs": [
    {
     "ename": "KeyError",
     "evalue": "\"['mmseqs_found'] not in index\"",
     "output_type": "error",
     "traceback": [
      "\u001b[0;31m---------------------------------------------------------------------------\u001b[0m",
      "\u001b[0;31mKeyError\u001b[0m                                  Traceback (most recent call last)",
      "Input \u001b[0;32mIn [6]\u001b[0m, in \u001b[0;36m<cell line: 2>\u001b[0;34m()\u001b[0m\n\u001b[1;32m      1\u001b[0m summary_n \u001b[38;5;241m=\u001b[39m summary_n\u001b[38;5;241m.\u001b[39msort_values(\u001b[38;5;124m\"\u001b[39m\u001b[38;5;124mtot_n_sequences\u001b[39m\u001b[38;5;124m\"\u001b[39m)\n\u001b[0;32m----> 2\u001b[0m melted_summary \u001b[38;5;241m=\u001b[39m pd\u001b[38;5;241m.\u001b[39mmelt(\u001b[43msummary_n\u001b[49m\u001b[43m[\u001b[49m\u001b[43m[\u001b[49m\u001b[38;5;124;43m\"\u001b[39;49m\u001b[38;5;124;43mfamily\u001b[39;49m\u001b[38;5;124;43m\"\u001b[39;49m\u001b[43m,\u001b[49m\u001b[43m \u001b[49m\u001b[38;5;124;43m\"\u001b[39;49m\u001b[38;5;124;43mtot_n_sequences\u001b[39;49m\u001b[38;5;124;43m\"\u001b[39;49m\u001b[43m,\u001b[49m\u001b[43m \u001b[49m\u001b[38;5;124;43m\"\u001b[39;49m\u001b[38;5;124;43mmmseqs_found\u001b[39;49m\u001b[38;5;124;43m\"\u001b[39;49m\u001b[43m,\u001b[49m\u001b[43m \u001b[49m\u001b[38;5;124;43m\"\u001b[39;49m\u001b[38;5;124;43mstructures_found\u001b[39;49m\u001b[38;5;124;43m\"\u001b[39;49m\u001b[43m]\u001b[49m\u001b[43m]\u001b[49m,  id_vars\u001b[38;5;241m=\u001b[39m[\u001b[38;5;124m'\u001b[39m\u001b[38;5;124mfamily\u001b[39m\u001b[38;5;124m'\u001b[39m], value_name\u001b[38;5;241m=\u001b[39m\u001b[38;5;124m'\u001b[39m\u001b[38;5;124mN\u001b[39m\u001b[38;5;124m'\u001b[39m)\n",
      "File \u001b[0;32m~/anaconda3/lib/python3.9/site-packages/pandas/core/frame.py:3511\u001b[0m, in \u001b[0;36mDataFrame.__getitem__\u001b[0;34m(self, key)\u001b[0m\n\u001b[1;32m   3509\u001b[0m     \u001b[38;5;28;01mif\u001b[39;00m is_iterator(key):\n\u001b[1;32m   3510\u001b[0m         key \u001b[38;5;241m=\u001b[39m \u001b[38;5;28mlist\u001b[39m(key)\n\u001b[0;32m-> 3511\u001b[0m     indexer \u001b[38;5;241m=\u001b[39m \u001b[38;5;28;43mself\u001b[39;49m\u001b[38;5;241;43m.\u001b[39;49m\u001b[43mcolumns\u001b[49m\u001b[38;5;241;43m.\u001b[39;49m\u001b[43m_get_indexer_strict\u001b[49m\u001b[43m(\u001b[49m\u001b[43mkey\u001b[49m\u001b[43m,\u001b[49m\u001b[43m \u001b[49m\u001b[38;5;124;43m\"\u001b[39;49m\u001b[38;5;124;43mcolumns\u001b[39;49m\u001b[38;5;124;43m\"\u001b[39;49m\u001b[43m)\u001b[49m[\u001b[38;5;241m1\u001b[39m]\n\u001b[1;32m   3513\u001b[0m \u001b[38;5;66;03m# take() does not accept boolean indexers\u001b[39;00m\n\u001b[1;32m   3514\u001b[0m \u001b[38;5;28;01mif\u001b[39;00m \u001b[38;5;28mgetattr\u001b[39m(indexer, \u001b[38;5;124m\"\u001b[39m\u001b[38;5;124mdtype\u001b[39m\u001b[38;5;124m\"\u001b[39m, \u001b[38;5;28;01mNone\u001b[39;00m) \u001b[38;5;241m==\u001b[39m \u001b[38;5;28mbool\u001b[39m:\n",
      "File \u001b[0;32m~/anaconda3/lib/python3.9/site-packages/pandas/core/indexes/base.py:5782\u001b[0m, in \u001b[0;36mIndex._get_indexer_strict\u001b[0;34m(self, key, axis_name)\u001b[0m\n\u001b[1;32m   5779\u001b[0m \u001b[38;5;28;01melse\u001b[39;00m:\n\u001b[1;32m   5780\u001b[0m     keyarr, indexer, new_indexer \u001b[38;5;241m=\u001b[39m \u001b[38;5;28mself\u001b[39m\u001b[38;5;241m.\u001b[39m_reindex_non_unique(keyarr)\n\u001b[0;32m-> 5782\u001b[0m \u001b[38;5;28;43mself\u001b[39;49m\u001b[38;5;241;43m.\u001b[39;49m\u001b[43m_raise_if_missing\u001b[49m\u001b[43m(\u001b[49m\u001b[43mkeyarr\u001b[49m\u001b[43m,\u001b[49m\u001b[43m \u001b[49m\u001b[43mindexer\u001b[49m\u001b[43m,\u001b[49m\u001b[43m \u001b[49m\u001b[43maxis_name\u001b[49m\u001b[43m)\u001b[49m\n\u001b[1;32m   5784\u001b[0m keyarr \u001b[38;5;241m=\u001b[39m \u001b[38;5;28mself\u001b[39m\u001b[38;5;241m.\u001b[39mtake(indexer)\n\u001b[1;32m   5785\u001b[0m \u001b[38;5;28;01mif\u001b[39;00m \u001b[38;5;28misinstance\u001b[39m(key, Index):\n\u001b[1;32m   5786\u001b[0m     \u001b[38;5;66;03m# GH 42790 - Preserve name from an Index\u001b[39;00m\n",
      "File \u001b[0;32m~/anaconda3/lib/python3.9/site-packages/pandas/core/indexes/base.py:5845\u001b[0m, in \u001b[0;36mIndex._raise_if_missing\u001b[0;34m(self, key, indexer, axis_name)\u001b[0m\n\u001b[1;32m   5842\u001b[0m     \u001b[38;5;28;01mraise\u001b[39;00m \u001b[38;5;167;01mKeyError\u001b[39;00m(\u001b[38;5;124mf\u001b[39m\u001b[38;5;124m\"\u001b[39m\u001b[38;5;124mNone of [\u001b[39m\u001b[38;5;132;01m{\u001b[39;00mkey\u001b[38;5;132;01m}\u001b[39;00m\u001b[38;5;124m] are in the [\u001b[39m\u001b[38;5;132;01m{\u001b[39;00maxis_name\u001b[38;5;132;01m}\u001b[39;00m\u001b[38;5;124m]\u001b[39m\u001b[38;5;124m\"\u001b[39m)\n\u001b[1;32m   5844\u001b[0m not_found \u001b[38;5;241m=\u001b[39m \u001b[38;5;28mlist\u001b[39m(ensure_index(key)[missing_mask\u001b[38;5;241m.\u001b[39mnonzero()[\u001b[38;5;241m0\u001b[39m]]\u001b[38;5;241m.\u001b[39munique())\n\u001b[0;32m-> 5845\u001b[0m \u001b[38;5;28;01mraise\u001b[39;00m \u001b[38;5;167;01mKeyError\u001b[39;00m(\u001b[38;5;124mf\u001b[39m\u001b[38;5;124m\"\u001b[39m\u001b[38;5;132;01m{\u001b[39;00mnot_found\u001b[38;5;132;01m}\u001b[39;00m\u001b[38;5;124m not in index\u001b[39m\u001b[38;5;124m\"\u001b[39m)\n",
      "\u001b[0;31mKeyError\u001b[0m: \"['mmseqs_found'] not in index\""
     ]
    }
   ],
   "source": [
    "summary_n = summary_n.sort_values(\"tot_n_sequences\")\n",
    "melted_summary = pd.melt(summary_n[[\"family\", \"tot_n_sequences\", \"mmseqs_found\", \"structures_found\"]],  id_vars=['family'], value_name='N')"
   ]
  },
  {
   "cell_type": "code",
   "execution_count": null,
   "id": "510ee418",
   "metadata": {},
   "outputs": [],
   "source": [
    "plt.figure(figsize=(15,8))\n",
    "ax = sns.barplot(x=\"N\", y=\"family\", data=melted_summary, hue = \"variable\",palette=\"rocket\")\n",
    "plt.legend(bbox_to_anchor=(1.05, 1), loc='upper left', borderaxespad=0)\n"
   ]
  },
  {
   "cell_type": "markdown",
   "id": "febeca13",
   "metadata": {},
   "source": [
    "# Investigate why we don't retrieve all structures"
   ]
  },
  {
   "cell_type": "code",
   "execution_count": 10,
   "id": "565b6a0e",
   "metadata": {},
   "outputs": [],
   "source": [
    "# Take one example (profilin) and investigate why I don't retrieve all \n",
    "fam = \"ghf11\"\n",
    "summary_nseq[summary_nseq.family == fam]\n",
    "hits_fam_file =glob.glob(\"/home/luisasantus/Desktop/crg_cluster/data/structures_collections/homfam/filtered_ids/UniProtKB/id_0.9_cov_1.0/\"+fam+\"/*filtered_hits.m8\")\n",
    "hits_fam = pd.read_csv(hits_fam_file[0], sep='\\t', header = None)"
   ]
  },
  {
   "cell_type": "code",
   "execution_count": 18,
   "id": "29d3516e",
   "metadata": {},
   "outputs": [],
   "source": [
    "ids_to_downlad =glob.glob(\"/home/luisasantus/Desktop/crg_cluster/data/structures_collections/homfam/filtered_ids/UniProtKB/id_0.9_cov_1.0/ghf11/ghf11_ids_to_download.txt\")\n",
    "ids_to_downlad = pd.read_csv(ids_to_downlad[0], sep = \",\", header = None)"
   ]
  },
  {
   "cell_type": "code",
   "execution_count": 40,
   "id": "53a2f642",
   "metadata": {},
   "outputs": [
    {
     "name": "stderr",
     "output_type": "stream",
     "text": [
      "/tmp/ipykernel_12123/2632650797.py:2: ParserWarning: Falling back to the 'python' engine because the 'c' engine does not support regex separators (separators > 1 char and different from '\\s+' are interpreted as regex); you can avoid this warning by specifying engine='python'.\n",
      "  template =  pd.read_csv(template[0], sep = \" _P_ \", header = None)\n"
     ]
    }
   ],
   "source": [
    "template = glob.glob(\"/home/luisasantus/Desktop/crg_cluster/data/structures_collections/homfam/filtered_ids/UniProtKB/id_0.9_cov_1.0/ghf11/ghf11_template.txt\")\n",
    "template =  pd.read_csv(template[0], sep = \" _P_ \", header = None)\n",
    "template[0] = template[0].str.replace(\">\", \"\")\n",
    "template[0] = template[0].str.replace(\"/\", \"_\")"
   ]
  },
  {
   "cell_type": "code",
   "execution_count": 12,
   "id": "e48739cb",
   "metadata": {},
   "outputs": [],
   "source": [
    "matched = set(mmseqs_summary[mmseqs_summary.family == fam ][\"mmseqs_found\"])\n",
    "matched = set([sub.replace('/', '_') for sub in matched])\n",
    "downloaded = set(str_summary[str_summary.family == fam ][\"structure\"])"
   ]
  },
  {
   "cell_type": "code",
   "execution_count": 13,
   "id": "7a19ae0b",
   "metadata": {},
   "outputs": [],
   "source": [
    "missing = matched-downloaded"
   ]
  },
  {
   "cell_type": "code",
   "execution_count": 14,
   "id": "3b5e91bc",
   "metadata": {},
   "outputs": [
    {
     "data": {
      "text/plain": [
       "{'B1A4I1_BACPU_36-221',\n",
       " 'C9N599_9ACTO_58-239',\n",
       " 'D1Z855_SORMA_38-218',\n",
       " 'Q00263_9PLEO_44-224',\n",
       " 'Q0U2J3_PHANO_44-224',\n",
       " 'Q0UBV5_PHANO_18-195',\n",
       " 'Q45VU2_BACSU_27-212',\n",
       " 'Q45VU8_PAEMA_27-212',\n",
       " 'Q9C1R1_FUSOX_48-228',\n",
       " 'Q9HGT9_TRIRE_1-71',\n",
       " 'Q9HGU0_ASPNG_1-71',\n",
       " 'Q9UVY9_PHANO_2-123'}"
      ]
     },
     "execution_count": 14,
     "metadata": {},
     "output_type": "execute_result"
    }
   ],
   "source": [
    "missing"
   ]
  },
  {
   "cell_type": "code",
   "execution_count": 154,
   "id": "554b6264",
   "metadata": {},
   "outputs": [
    {
     "data": {
      "text/html": [
       "<div>\n",
       "<style scoped>\n",
       "    .dataframe tbody tr th:only-of-type {\n",
       "        vertical-align: middle;\n",
       "    }\n",
       "\n",
       "    .dataframe tbody tr th {\n",
       "        vertical-align: top;\n",
       "    }\n",
       "\n",
       "    .dataframe thead th {\n",
       "        text-align: right;\n",
       "    }\n",
       "</style>\n",
       "<table border=\"1\" class=\"dataframe\">\n",
       "  <thead>\n",
       "    <tr style=\"text-align: right;\">\n",
       "      <th></th>\n",
       "      <th>0</th>\n",
       "    </tr>\n",
       "  </thead>\n",
       "  <tbody>\n",
       "    <tr>\n",
       "      <th>0</th>\n",
       "      <td>C6F1J6</td>\n",
       "    </tr>\n",
       "    <tr>\n",
       "      <th>1</th>\n",
       "      <td>P09850</td>\n",
       "    </tr>\n",
       "    <tr>\n",
       "      <th>2</th>\n",
       "      <td>A0T2F0</td>\n",
       "    </tr>\n",
       "    <tr>\n",
       "      <th>3</th>\n",
       "      <td>F8W669</td>\n",
       "    </tr>\n",
       "    <tr>\n",
       "      <th>4</th>\n",
       "      <td>O43097</td>\n",
       "    </tr>\n",
       "    <tr>\n",
       "      <th>...</th>\n",
       "      <td>...</td>\n",
       "    </tr>\n",
       "    <tr>\n",
       "      <th>444</th>\n",
       "      <td>A0A4S2VPW4</td>\n",
       "    </tr>\n",
       "    <tr>\n",
       "      <th>445</th>\n",
       "      <td>P26220</td>\n",
       "    </tr>\n",
       "    <tr>\n",
       "      <th>446</th>\n",
       "      <td>P54865</td>\n",
       "    </tr>\n",
       "    <tr>\n",
       "      <th>447</th>\n",
       "      <td>O97402</td>\n",
       "    </tr>\n",
       "    <tr>\n",
       "      <th>448</th>\n",
       "      <td>P48793</td>\n",
       "    </tr>\n",
       "  </tbody>\n",
       "</table>\n",
       "<p>449 rows × 1 columns</p>\n",
       "</div>"
      ],
      "text/plain": [
       "              0\n",
       "0        C6F1J6\n",
       "1        P09850\n",
       "2        A0T2F0\n",
       "3        F8W669\n",
       "4        O43097\n",
       "..          ...\n",
       "444  A0A4S2VPW4\n",
       "445      P26220\n",
       "446      P54865\n",
       "447      O97402\n",
       "448      P48793\n",
       "\n",
       "[449 rows x 1 columns]"
      ]
     },
     "execution_count": 154,
     "metadata": {},
     "output_type": "execute_result"
    }
   ],
   "source": [
    "ids_to_downlad"
   ]
  },
  {
   "cell_type": "code",
   "execution_count": 47,
   "id": "373b9187",
   "metadata": {},
   "outputs": [
    {
     "data": {
      "text/html": [
       "<div>\n",
       "<style scoped>\n",
       "    .dataframe tbody tr th:only-of-type {\n",
       "        vertical-align: middle;\n",
       "    }\n",
       "\n",
       "    .dataframe tbody tr th {\n",
       "        vertical-align: top;\n",
       "    }\n",
       "\n",
       "    .dataframe thead th {\n",
       "        text-align: right;\n",
       "    }\n",
       "</style>\n",
       "<table border=\"1\" class=\"dataframe\">\n",
       "  <thead>\n",
       "    <tr style=\"text-align: right;\">\n",
       "      <th></th>\n",
       "      <th>0</th>\n",
       "      <th>1</th>\n",
       "    </tr>\n",
       "  </thead>\n",
       "  <tbody>\n",
       "    <tr>\n",
       "      <th>211</th>\n",
       "      <td>C9N599_9ACTO_58-239</td>\n",
       "      <td>A0A8D3WQ19</td>\n",
       "    </tr>\n",
       "  </tbody>\n",
       "</table>\n",
       "</div>"
      ],
      "text/plain": [
       "                       0           1\n",
       "211  C9N599_9ACTO_58-239  A0A8D3WQ19"
      ]
     },
     "execution_count": 47,
     "metadata": {},
     "output_type": "execute_result"
    }
   ],
   "source": [
    "template[template[0] == \"C9N599_9ACTO_58-239\"]"
   ]
  },
  {
   "cell_type": "code",
   "execution_count": 50,
   "id": "b71e0585",
   "metadata": {},
   "outputs": [
    {
     "data": {
      "text/html": [
       "<div>\n",
       "<style scoped>\n",
       "    .dataframe tbody tr th:only-of-type {\n",
       "        vertical-align: middle;\n",
       "    }\n",
       "\n",
       "    .dataframe tbody tr th {\n",
       "        vertical-align: top;\n",
       "    }\n",
       "\n",
       "    .dataframe thead th {\n",
       "        text-align: right;\n",
       "    }\n",
       "</style>\n",
       "<table border=\"1\" class=\"dataframe\">\n",
       "  <thead>\n",
       "    <tr style=\"text-align: right;\">\n",
       "      <th></th>\n",
       "      <th>0</th>\n",
       "    </tr>\n",
       "  </thead>\n",
       "  <tbody>\n",
       "    <tr>\n",
       "      <th>201</th>\n",
       "      <td>A0A8D3WQ19</td>\n",
       "    </tr>\n",
       "  </tbody>\n",
       "</table>\n",
       "</div>"
      ],
      "text/plain": [
       "              0\n",
       "201  A0A8D3WQ19"
      ]
     },
     "execution_count": 50,
     "metadata": {},
     "output_type": "execute_result"
    }
   ],
   "source": [
    "ids_to_downlad[ids_to_downlad[0] == \"A0A8D3WQ19\"]"
   ]
  },
  {
   "cell_type": "code",
   "execution_count": null,
   "id": "f9fec255",
   "metadata": {},
   "outputs": [],
   "source": []
  },
  {
   "cell_type": "code",
   "execution_count": 69,
   "id": "d82a9187",
   "metadata": {},
   "outputs": [],
   "source": [
    "summary_n = summary_n.sort_values(\"mmseqs_perc_missing\")\n",
    "melted_summary_missing = pd.melt(summary_n[[\"family\", \"mmseqs_perc_missing\", \"structures_perc_missing\"]],  id_vars=['family'], value_name='N')"
   ]
  },
  {
   "cell_type": "code",
   "execution_count": 71,
   "id": "d18b40cd",
   "metadata": {},
   "outputs": [
    {
     "data": {
      "text/plain": [
       "<matplotlib.legend.Legend at 0x7efff5821070>"
      ]
     },
     "execution_count": 71,
     "metadata": {},
     "output_type": "execute_result"
    },
    {
     "data": {
      "image/png": "[encoded data removed]",
      "text/plain": [
       "<Figure size 1080x576 with 1 Axes>"
      ]
     },
     "metadata": {
      "needs_background": "light"
     },
     "output_type": "display_data"
    }
   ],
   "source": [
    "plt.figure(figsize=(15,8))\n",
    "ax = sns.barplot(x=\"N\", y=\"family\", data=melted_summary_missing, hue = \"variable\",palette=\"mako\")\n",
    "plt.legend(bbox_to_anchor=(1.05, 1), loc='upper left', borderaxespad=0)\n"
   ]
  },
  {
   "cell_type": "markdown",
   "id": "f07fd771",
   "metadata": {},
   "source": [
    "# TODO: \n",
    "- Why are not all the structures downloaded? "
   ]
  },
  {
   "cell_type": "code",
   "execution_count": null,
   "id": "ccecbd8e",
   "metadata": {},
   "outputs": [],
   "source": [
    ">A0T2F0_TRIVI/50-227 _P_ A0T2F0"
   ]
  },
  {
   "cell_type": "code",
   "execution_count": null,
   "id": "e3690757",
   "metadata": {},
   "outputs": [],
   "source": [
    ">A0T2F0_TRIVI/50-227\n",
    "RRASINYDQNYQTGGQVSYSPSNTGFSVNWNTQDDFVVGVGWTTGSSAPINFGGSFSVNS\n",
    "GTGLLSVYGWSTNPLVEYYIMEDNHNYPAQGTVKGTVTSDGATYTIWENTRVNEPSIQGT\n",
    "ATFNQYISVRNSPRTSGTVTVQNHFNAWASLGLHLGQMNYQVVAVEGWGGSGSASQSV"
   ]
  },
  {
   "cell_type": "code",
   "execution_count": 117,
   "id": "56fab447",
   "metadata": {},
   "outputs": [],
   "source": [
    "string = \"RRASINYDQNYQTGGQVSYSPSNTGFSVNWNTQDDFVVGVGWTTGSSAPINFGGSFSVNSGTGLLSVYGWSTNPLVEYYIMEDNHNYPAQGTVKGTVTSDGATYTIWENTRVNEPSIQGTATFNQYISVRNSPRTSGTVTVQNHFNAWASLGLHLGQMNYQVVAVEGWGGSGSASQSV\""
   ]
  },
  {
   "cell_type": "code",
   "execution_count": 118,
   "id": "b1214b1b",
   "metadata": {},
   "outputs": [
    {
     "data": {
      "text/plain": [
       "178"
      ]
     },
     "execution_count": 118,
     "metadata": {},
     "output_type": "execute_result"
    }
   ],
   "source": [
    "len(string)"
   ]
  },
  {
   "cell_type": "code",
   "execution_count": 131,
   "id": "b9dd3476",
   "metadata": {},
   "outputs": [],
   "source": [
    "PDBFile = \"/home/luisasantus/Desktop/test.pdb\""
   ]
  },
  {
   "cell_type": "code",
   "execution_count": 132,
   "id": "0c531054",
   "metadata": {},
   "outputs": [
    {
     "name": "stdout",
     "output_type": "stream",
     "text": [
      ">????:A\n",
      "MVAFSSLICALTSIASTLAMPTGLEPESSVNVTERGMYDFVLGAHNDHRRRASINYDQNYQTGGQVSYSPSNTGFSVNWNTQDDFVVGVGWTTGSSAPINFGGSFSVNSGTGLLSVYGWSTNPLVEYYIMEDNHNYPAQGTVKGTVTSDGATYTIWENTRVNEPSIQGTATFNQYISVRNSPRTSGTVTVQNHFNAWASLGLHLGQMNYQVVAVEGWGGSGSASQSVSN\n"
     ]
    },
    {
     "name": "stderr",
     "output_type": "stream",
     "text": [
      "/home/luisasantus/anaconda3/lib/python3.9/site-packages/Bio/SeqIO/PdbIO.py:303: BiopythonParserWarning: 'HEADER' line not found; can't determine PDB ID.\n",
      "  warnings.warn(\n"
     ]
    }
   ],
   "source": [
    "import sys\n",
    "from Bio import SeqIO\n",
    "\n",
    "with open(PDBFile, 'r') as pdb_file:\n",
    "    for record in SeqIO.parse(pdb_file, 'pdb-atom'):\n",
    "        print('>' + record.id)\n",
    "        print(record.seq)\n"
   ]
  },
  {
   "cell_type": "code",
   "execution_count": 133,
   "id": "9add863d",
   "metadata": {},
   "outputs": [],
   "source": [
    "str_fa = \"MVAFSSLICALTSIASTLAMPTGLEPESSVNVTERGMYDFVLGAHNDHRRRASINYDQNYQTGGQVSYSPSNTGFSVNWNTQDDFVVGVGWTTGSSAPINFGGSFSVNSGTGLLSVYGWSTNPLVEYYIMEDNHNYPAQGTVKGTVTSDGATYTIWENTRVNEPSIQGTATFNQYISVRNSPRTSGTVTVQNHFNAWASLGLHLGQMNYQVVAVEGWGGSGSASQSVSN\""
   ]
  },
  {
   "cell_type": "code",
   "execution_count": 134,
   "id": "e70b0ba4",
   "metadata": {},
   "outputs": [
    {
     "data": {
      "text/plain": [
       "229"
      ]
     },
     "execution_count": 134,
     "metadata": {},
     "output_type": "execute_result"
    }
   ],
   "source": [
    "len(str_fa)"
   ]
  },
  {
   "cell_type": "code",
   "execution_count": null,
   "id": "a38acc80",
   "metadata": {},
   "outputs": [],
   "source": []
  },
  {
   "cell_type": "code",
   "execution_count": null,
   "id": "dee6cf71",
   "metadata": {},
   "outputs": [],
   "source": []
  },
  {
   "cell_type": "code",
   "execution_count": null,
   "id": "190e56c8",
   "metadata": {},
   "outputs": [],
   "source": []
  },
  {
   "cell_type": "code",
   "execution_count": null,
   "id": "5750f724",
   "metadata": {},
   "outputs": [],
   "source": []
  }
 ],
 "metadata": {
  "kernelspec": {
   "display_name": "Python 3 (ipykernel)",
   "language": "python",
   "name": "python3"
  },
  "language_info": {
   "codemirror_mode": {
    "name": "ipython",
    "version": 3
   },
   "file_extension": ".py",
   "mimetype": "text/x-python",
   "name": "python",
   "nbconvert_exporter": "python",
   "pygments_lexer": "ipython3",
   "version": "3.9.12"
  }
 },
 "nbformat": 4,
 "nbformat_minor": 5
}
