{
 "cells": [
  {
   "cell_type": "code",
   "execution_count": null,
   "id": "5a9a4fdd",
   "metadata": {},
   "outputs": [],
   "source": [
    "\n"
   ]
  },
  {
   "cell_type": "code",
   "execution_count": 2,
   "id": "4a48dd7e",
   "metadata": {},
   "outputs": [],
   "source": [
    "input_file = \"/home/luisasantus/Desktop/test_luisa/file.aln\""
   ]
  },
  {
   "cell_type": "code",
   "execution_count": 3,
   "id": "ba65c841",
   "metadata": {},
   "outputs": [],
   "source": [
    "from Bio import SeqIO\n",
    "\n",
    "output_file = \"output_file.fasta\"\n",
    "\n",
    "with open(input_file) as handle, open(output_file, \"w\") as out:\n",
    "    for record in SeqIO.parse(handle, \"fasta\"):\n",
    "        seq_id, seq = record.description, str(record.seq).replace(\"-\", \"\")\n",
    "        out.write(f\">{seq_id}\\n{seq}\\n\")"
   ]
  }
 ],
 "metadata": {
  "kernelspec": {
   "display_name": "Python 3 (ipykernel)",
   "language": "python",
   "name": "python3"
  },
  "language_info": {
   "codemirror_mode": {
    "name": "ipython",
    "version": 3
   },
   "file_extension": ".py",
   "mimetype": "text/x-python",
   "name": "python",
   "nbconvert_exporter": "python",
   "pygments_lexer": "ipython3",
   "version": "3.9.12"
  }
 },
 "nbformat": 4,
 "nbformat_minor": 5
}
