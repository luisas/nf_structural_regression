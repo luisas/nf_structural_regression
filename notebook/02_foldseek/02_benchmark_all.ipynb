{
 "cells": [
  {
   "cell_type": "code",
   "execution_count": 1,
   "id": "af05c198",
   "metadata": {},
   "outputs": [],
   "source": [
    "import os\n",
    "import pandas as pd\n",
    "import numpy as np\n",
    "import seaborn as sns\n",
    "import glob \n",
    "import matplotlib.pyplot as plt\n",
    "import matplotlib as mpl\n",
    "\n",
    "sns.set_context(\"talk\")\n",
    "data_dir = \"/home/luisasantus/Desktop/crg_cluster/projects/structural_regression/results/homfam/\"\n",
    "\n",
    "# load families summary\n",
    "summary_homfam_exthomfam = pd.read_csv(\"/home/luisasantus/Desktop/crg_cluster/data/structural_regression/stats/01_summary_homfam_exthomfam.csv\")\n",
    "summary_homfam = summary_homfam_exthomfam[summary_homfam_exthomfam.dataset == \"homfam\"]\n",
    "families = summary_homfam.drop([\"subset\", \"file\", \"min_length\", \"max_length\", \"perc_ref_total\", \"dataset\"], axis = 1)\n",
    "\n",
    "# 1. PREP SCORES\n",
    "def get_scores(score_files): \n",
    "    def parse_score(score_file): \n",
    "        return(pd.read_csv(score_file,sep = \";\", header = None).drop(4, axis = 1))\n",
    "\n",
    "    scores = pd.concat(list(map(parse_score, score_files)))\n",
    "    scores = scores.iloc[:,0:4]\n",
    "    scores.columns = ['name', 'sp', 'tc', 'column']\n",
    "    #scores.name = scores.name.str.split(\".\", expand = True)[:-1]\n",
    "    #scores[[\"family\", \"method\", \"bucket_size\", \"align_method\", \"tree_method\"]] = scores.name.str.split(\".\", expand = True)\n",
    "    #scores = scores.drop(\"method\", axis = 1)\n",
    "    return(scores)"
   ]
  },
  {
   "cell_type": "code",
   "execution_count": null,
   "id": "264667a7",
   "metadata": {},
   "outputs": [],
   "source": [
    "# T_COFFEE REGRESSIVE, STRUCTURE HYBRID IS BETTER THEN ALL - REG PROBA TCOFFEE, REG MAFFT SPARSECORE, FAMSA"
   ]
  }
 ],
 "metadata": {
  "kernelspec": {
   "display_name": "Python 3 (ipykernel)",
   "language": "python",
   "name": "python3"
  },
  "language_info": {
   "codemirror_mode": {
    "name": "ipython",
    "version": 3
   },
   "file_extension": ".py",
   "mimetype": "text/x-python",
   "name": "python",
   "nbconvert_exporter": "python",
   "pygments_lexer": "ipython3",
   "version": "3.9.12"
  }
 },
 "nbformat": 4,
 "nbformat_minor": 5
}
