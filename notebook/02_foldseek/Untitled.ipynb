{
 "cells": [
  {
   "cell_type": "code",
   "execution_count": 19,
   "id": "81d43881",
   "metadata": {},
   "outputs": [],
   "source": [
    "import pandas as pd\n",
    "import os\n",
    "import pandas as pd\n",
    "from Bio.Seq import Seq\n",
    "from Bio.SeqRecord import SeqRecord\n",
    "from Bio import SeqIO\n",
    "import sys "
   ]
  },
  {
   "cell_type": "code",
   "execution_count": 15,
   "id": "0195623b",
   "metadata": {},
   "outputs": [],
   "source": [
    "mapping_file = \"/home/luisasantus/Desktop/crg_cluster/projects/structural_regression/results/homfam/alphabet/3di/UniProtKB/seatoxin/seatoxin.mapping\""
   ]
  },
  {
   "cell_type": "code",
   "execution_count": 24,
   "id": "fe635e08",
   "metadata": {},
   "outputs": [],
   "source": [
    "output_dir = \"./test\""
   ]
  },
  {
   "cell_type": "code",
   "execution_count": 16,
   "id": "a3d5f15f",
   "metadata": {},
   "outputs": [],
   "source": [
    "mapping = pd.read_csv(mapping_file, sep = \"\\t\", header = None, engine = \"python\")\n",
    "mapping.columns = [\"id\", \"seq\", \"map\"]\n",
    "mapping.id = mapping.id.str.replace(\"_alphafold.pdb\", \"\", regex = False)"
   ]
  },
  {
   "cell_type": "code",
   "execution_count": 30,
   "id": "541d185f",
   "metadata": {},
   "outputs": [
    {
     "ename": "FileNotFoundError",
     "evalue": "[Errno 2] No such file or directory: './test/1ahl.pdb'",
     "output_type": "error",
     "traceback": [
      "\u001b[0;31m---------------------------------------------------------------------------\u001b[0m",
      "\u001b[0;31mFileNotFoundError\u001b[0m                         Traceback (most recent call last)",
      "Input \u001b[0;32mIn [30]\u001b[0m, in \u001b[0;36m<cell line: 1>\u001b[0;34m()\u001b[0m\n\u001b[1;32m      8\u001b[0m \u001b[38;5;66;03m# create a new file with the id as the file name in the output directory\u001b[39;00m\n\u001b[1;32m      9\u001b[0m file_path \u001b[38;5;241m=\u001b[39m os\u001b[38;5;241m.\u001b[39mpath\u001b[38;5;241m.\u001b[39mjoin(output_dir, row[\u001b[38;5;124m'\u001b[39m\u001b[38;5;124mid\u001b[39m\u001b[38;5;124m'\u001b[39m] )\n\u001b[0;32m---> 10\u001b[0m \u001b[38;5;28;01mwith\u001b[39;00m \u001b[38;5;28;43mopen\u001b[39;49m\u001b[43m(\u001b[49m\u001b[43mfile_path\u001b[49m\u001b[43m,\u001b[49m\u001b[43m \u001b[49m\u001b[38;5;124;43m'\u001b[39;49m\u001b[38;5;124;43mw\u001b[39;49m\u001b[38;5;124;43m'\u001b[39;49m\u001b[43m)\u001b[49m \u001b[38;5;28;01mas\u001b[39;00m f:\n\u001b[1;32m     11\u001b[0m     \u001b[38;5;66;03m# write the SeqRecord to the file in FASTA format\u001b[39;00m\n\u001b[1;32m     12\u001b[0m     SeqIO\u001b[38;5;241m.\u001b[39mwrite(seq_record, f, \u001b[38;5;124m'\u001b[39m\u001b[38;5;124mfasta\u001b[39m\u001b[38;5;124m'\u001b[39m)\n",
      "\u001b[0;31mFileNotFoundError\u001b[0m: [Errno 2] No such file or directory: './test/1ahl.pdb'"
     ]
    }
   ],
   "source": [
    "for index, row in mapping.iterrows():\n",
    "    # create a new SeqRecord object\n",
    "    seq_record = SeqRecord(\n",
    "        seq=Seq(row['map']),\n",
    "        id=row['id'],\n",
    "        description=''\n",
    "    )\n",
    "    # create a new file with the id as the file name in the output directory\n",
    "    file_path = os.path.join(output_dir, row['id'] )\n",
    "    with open(file_path, 'w') as f:\n",
    "        # write the SeqRecord to the file in FASTA format\n",
    "        SeqIO.write(seq_record, f, 'fasta')"
   ]
  },
  {
   "cell_type": "code",
   "execution_count": 28,
   "id": "7a5ce97e",
   "metadata": {},
   "outputs": [],
   "source": []
  },
  {
   "cell_type": "code",
   "execution_count": 29,
   "id": "1b543596",
   "metadata": {},
   "outputs": [
    {
     "data": {
      "text/html": [
       "<div>\n",
       "<style scoped>\n",
       "    .dataframe tbody tr th:only-of-type {\n",
       "        vertical-align: middle;\n",
       "    }\n",
       "\n",
       "    .dataframe tbody tr th {\n",
       "        vertical-align: top;\n",
       "    }\n",
       "\n",
       "    .dataframe thead th {\n",
       "        text-align: right;\n",
       "    }\n",
       "</style>\n",
       "<table border=\"1\" class=\"dataframe\">\n",
       "  <thead>\n",
       "    <tr style=\"text-align: right;\">\n",
       "      <th></th>\n",
       "      <th>id</th>\n",
       "      <th>seq</th>\n",
       "      <th>map</th>\n",
       "    </tr>\n",
       "  </thead>\n",
       "  <tbody>\n",
       "    <tr>\n",
       "      <th>0</th>\n",
       "      <td>1ahl.pdb</td>\n",
       "      <td>GVSCLCDSDGPSVRGNTLSGTLWLYPSGCPSGWHNCKAHGPTIGWCCKQ</td>\n",
       "      <td>DDQAAFVVQDDDPPPTPSQWDFDQDPVADDPPWDQRHPDDDPGGGTIHD</td>\n",
       "    </tr>\n",
       "    <tr>\n",
       "      <th>1</th>\n",
       "      <td>1apf.pdb</td>\n",
       "      <td>GVPCLCDSDGPRPRGNTLSGILWFYPSGCPSGWHNCKAHGPNIGWCCKK</td>\n",
       "      <td>DDQAAFVVQPDDPVPTPSQWDWDFPPDADDPPWDQRHPDDDPGTGTIHD</td>\n",
       "    </tr>\n",
       "    <tr>\n",
       "      <th>2</th>\n",
       "      <td>1atx.pdb</td>\n",
       "      <td>GAACLCKSDGPNTRGNSMSGTIWVFGCPSGWNNCEGRAIIGYCCKQ</td>\n",
       "      <td>DDQWQAVVLDDDPPPRDSQWDFDQPADDPPWDQRVTDDPHHGTIHD</td>\n",
       "    </tr>\n",
       "    <tr>\n",
       "      <th>3</th>\n",
       "      <td>1bds.pdb</td>\n",
       "      <td>AAPCFCSGKPGRGDLWILRGTCPGGYGYTSNCYKWPNICCYPH</td>\n",
       "      <td>DDWDDDPPDDDTFDKDAQDPDDDPPPQFPDWDDDVSIITTDHD</td>\n",
       "    </tr>\n",
       "    <tr>\n",
       "      <th>4</th>\n",
       "      <td>1sh1.pdb</td>\n",
       "      <td>AACKCDDEGPDIRTAPLTGTVDLGSCNAGWEKCASYYTIIADCCRKKK</td>\n",
       "      <td>DQAAFPVQDDDPVPGPSQWDKDFADDDPQWDQRHPDDDPGIGTIHGDD</td>\n",
       "    </tr>\n",
       "    <tr>\n",
       "      <th>...</th>\n",
       "      <td>...</td>\n",
       "      <td>...</td>\n",
       "      <td>...</td>\n",
       "    </tr>\n",
       "    <tr>\n",
       "      <th>84</th>\n",
       "      <td>TXH2_ANTS7_3-45.pdb</td>\n",
       "      <td>GVPCLCDSDGPSVRGNTLSGTLWLAGCPSGWHNCKAHGPTIGWCCKK</td>\n",
       "      <td>DDQAAFVVQDDDPPPTPSQWDFDQPADDPPWDQRHPDDDPGGGTIHD</td>\n",
       "    </tr>\n",
       "    <tr>\n",
       "      <th>85</th>\n",
       "      <td>TXH7_ANTS7_3-45.pdb</td>\n",
       "      <td>GVPCLCDSDGPSVHGNTLSGTIWLAGCPSGWHNCKAHGPTIGWCCKK</td>\n",
       "      <td>DQQAAFVVQDDDPPPTPSQWDFDQPADDPPWDQRHPDDDPGGGTIHD</td>\n",
       "    </tr>\n",
       "    <tr>\n",
       "      <th>86</th>\n",
       "      <td>TXH8_ANTS7_3-45.pdb</td>\n",
       "      <td>GVPCLCDSDGPSVRGNTLSGTLWLFGCPSGWHNCKARGPTIGWCCKK</td>\n",
       "      <td>DDQAQFVVQDDDPPPTDSQWDWDQPADDPPWDQRHPDADPGGGTIHD</td>\n",
       "    </tr>\n",
       "    <tr>\n",
       "      <th>87</th>\n",
       "      <td>TXNA_CONGI_3-45.pdb</td>\n",
       "      <td>GVPCRCDSDGPSVHGNTLSGTVWVGSCASGWHKCNDEYNIAYECCKE</td>\n",
       "      <td>DDQAAFVVQPDDPPPRRSQWDKDFQDDDPPWDQRHPDDDRGIGTTHD</td>\n",
       "    </tr>\n",
       "    <tr>\n",
       "      <th>88</th>\n",
       "      <td>TXRC1_HETCR_3-45.pdb</td>\n",
       "      <td>GVPCRCDSDGPSVHGNTLSGTIWVGSCETGWHKCNTEHNLFHECCKQ</td>\n",
       "      <td>DQQAAFVVQDDDPVPRPSQWDKDFPDDDPVWDQRHPDDDPGIGTTHD</td>\n",
       "    </tr>\n",
       "  </tbody>\n",
       "</table>\n",
       "<p>89 rows × 3 columns</p>\n",
       "</div>"
      ],
      "text/plain": [
       "                      id                                                seq  \\\n",
       "0               1ahl.pdb  GVSCLCDSDGPSVRGNTLSGTLWLYPSGCPSGWHNCKAHGPTIGWCCKQ   \n",
       "1               1apf.pdb  GVPCLCDSDGPRPRGNTLSGILWFYPSGCPSGWHNCKAHGPNIGWCCKK   \n",
       "2               1atx.pdb     GAACLCKSDGPNTRGNSMSGTIWVFGCPSGWNNCEGRAIIGYCCKQ   \n",
       "3               1bds.pdb        AAPCFCSGKPGRGDLWILRGTCPGGYGYTSNCYKWPNICCYPH   \n",
       "4               1sh1.pdb   AACKCDDEGPDIRTAPLTGTVDLGSCNAGWEKCASYYTIIADCCRKKK   \n",
       "..                   ...                                                ...   \n",
       "84   TXH2_ANTS7_3-45.pdb    GVPCLCDSDGPSVRGNTLSGTLWLAGCPSGWHNCKAHGPTIGWCCKK   \n",
       "85   TXH7_ANTS7_3-45.pdb    GVPCLCDSDGPSVHGNTLSGTIWLAGCPSGWHNCKAHGPTIGWCCKK   \n",
       "86   TXH8_ANTS7_3-45.pdb    GVPCLCDSDGPSVRGNTLSGTLWLFGCPSGWHNCKARGPTIGWCCKK   \n",
       "87   TXNA_CONGI_3-45.pdb    GVPCRCDSDGPSVHGNTLSGTVWVGSCASGWHKCNDEYNIAYECCKE   \n",
       "88  TXRC1_HETCR_3-45.pdb    GVPCRCDSDGPSVHGNTLSGTIWVGSCETGWHKCNTEHNLFHECCKQ   \n",
       "\n",
       "                                                  map  \n",
       "0   DDQAAFVVQDDDPPPTPSQWDFDQDPVADDPPWDQRHPDDDPGGGTIHD  \n",
       "1   DDQAAFVVQPDDPVPTPSQWDWDFPPDADDPPWDQRHPDDDPGTGTIHD  \n",
       "2      DDQWQAVVLDDDPPPRDSQWDFDQPADDPPWDQRVTDDPHHGTIHD  \n",
       "3         DDWDDDPPDDDTFDKDAQDPDDDPPPQFPDWDDDVSIITTDHD  \n",
       "4    DQAAFPVQDDDPVPGPSQWDKDFADDDPQWDQRHPDDDPGIGTIHGDD  \n",
       "..                                                ...  \n",
       "84    DDQAAFVVQDDDPPPTPSQWDFDQPADDPPWDQRHPDDDPGGGTIHD  \n",
       "85    DQQAAFVVQDDDPPPTPSQWDFDQPADDPPWDQRHPDDDPGGGTIHD  \n",
       "86    DDQAQFVVQDDDPPPTDSQWDWDQPADDPPWDQRHPDADPGGGTIHD  \n",
       "87    DDQAAFVVQPDDPPPRRSQWDKDFQDDDPPWDQRHPDDDRGIGTTHD  \n",
       "88    DQQAAFVVQDDDPVPRPSQWDKDFPDDDPVWDQRHPDDDPGIGTTHD  \n",
       "\n",
       "[89 rows x 3 columns]"
      ]
     },
     "execution_count": 29,
     "metadata": {},
     "output_type": "execute_result"
    }
   ],
   "source": [
    "mapping"
   ]
  }
 ],
 "metadata": {
  "kernelspec": {
   "display_name": "Python 3 (ipykernel)",
   "language": "python",
   "name": "python3"
  },
  "language_info": {
   "codemirror_mode": {
    "name": "ipython",
    "version": 3
   },
   "file_extension": ".py",
   "mimetype": "text/x-python",
   "name": "python",
   "nbconvert_exporter": "python",
   "pygments_lexer": "ipython3",
   "version": "3.9.12"
  }
 },
 "nbformat": 4,
 "nbformat_minor": 5
}
