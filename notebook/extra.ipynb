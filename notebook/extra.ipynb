{
 "cells": [
  {
   "cell_type": "code",
   "execution_count": null,
   "id": "e742b164",
   "metadata": {},
   "outputs": [],
   "source": [
    "# Extract from .score files \n",
    "dataset = \"homfam\"\n",
    "homoplasy_dir = join(\"/home/luisasantus/Desktop/crg_cluster/projects/structural_regression/results/\",dataset,\"alignments/\")\n",
    "homoplasy = pd.DataFrame()\n",
    "for homoplasy_name in os.listdir(homoplasy_dir):\n",
    "    homoplasy_file = os.path.join(homoplasy_dir,homoplasy_name)\n",
    "    # Parse file\n",
    "    if homoplasy_file.endswith(\"INFO\"):\n",
    "        homoplasy_df = pd.read_csv(homoplasy_file,sep = \"\\s\", header = None).drop([0,1,9], axis = 0)\n",
    "        homoplasy_df[1] = homoplasy_df[1].str.strip()\n",
    "        homoplasy_df = homoplasy_df.set_index(0).T\n",
    "        homoplasy_df[\"name\"] = homoplasy_name.replace(\".easel_INFO\", \"\")\n",
    "        homoplasy = homoplasy.append(homoplasy_df, ignore_index=True)\n",
    "homoplasy\n",
    "\n",
    "\n",
    "\n",
    "for root, dirs, files in os.walk(directory):\n",
    "    for file in files:\n",
    "        if file.endswith('.txt'):\n",
    "            print(file)"
   ]
  }
 ],
 "metadata": {
  "kernelspec": {
   "display_name": "Python 3 (ipykernel)",
   "language": "python",
   "name": "python3"
  },
  "language_info": {
   "codemirror_mode": {
    "name": "ipython",
    "version": 3
   },
   "file_extension": ".py",
   "mimetype": "text/x-python",
   "name": "python",
   "nbconvert_exporter": "python",
   "pygments_lexer": "ipython3",
   "version": "3.8.10"
  }
 },
 "nbformat": 4,
 "nbformat_minor": 5
}
