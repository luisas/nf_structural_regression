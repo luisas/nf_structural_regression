{
 "cells": [
  {
   "cell_type": "code",
   "execution_count": 1,
   "id": "83467d55",
   "metadata": {},
   "outputs": [],
   "source": [
    "import os\n",
    "import pandas as pd\n",
    "import numpy as np\n",
    "import seaborn as sns\n",
    "import matplotlib.pyplot as plt\n",
    "from collections import OrderedDict\n",
    "from Bio import SeqIO\n",
    "import glob\n"
   ]
  },
  {
   "cell_type": "code",
   "execution_count": 2,
   "id": "0ff780ce",
   "metadata": {},
   "outputs": [],
   "source": [
    "fasta_files = glob.glob(\"/home/luisasantus/Desktop/crg_cluster/data/structural_regression/benchfam/refs/*.fa\")"
   ]
  },
  {
   "cell_type": "code",
   "execution_count": 3,
   "id": "781cdc21",
   "metadata": {},
   "outputs": [],
   "source": [
    "def get_domain(fasta_file):\n",
    "    fasta_sequences = SeqIO.parse(open(fasta_file),'fasta')\n",
    "    found_names = []\n",
    "    domain = \"mono\"\n",
    "    fam = os.path.basename(fasta_file).replace(\".fa\", \"\")\n",
    "    for fasta in fasta_sequences:\n",
    "        name, sequence = fasta.id, str(fasta.seq)\n",
    "        name = name.rsplit('/', 1)[0]\n",
    "        if(name in found_names):\n",
    "            domain = \"multi\"\n",
    "            break\n",
    "        else: \n",
    "            found_names.append(name)\n",
    "    entry = pd.DataFrame([{ \"family\": fam, \"domain\": domain}])\n",
    "    return(entry)"
   ]
  },
  {
   "cell_type": "code",
   "execution_count": 4,
   "id": "53bfd06f",
   "metadata": {},
   "outputs": [],
   "source": [
    "summary = pd.DataFrame()\n",
    "for fasta_file in fasta_files:\n",
    "    summary = pd.concat([summary,get_domain(fasta_file)], ignore_index=True)"
   ]
  },
  {
   "cell_type": "code",
   "execution_count": 5,
   "id": "a17e1229",
   "metadata": {},
   "outputs": [],
   "source": [
    "summary.to_csv(\"/home/luisasantus/Desktop/crg_cluster/data/structural_regression/stats/refs/benchfam/domain.csv\", index = False)"
   ]
  },
  {
   "cell_type": "code",
   "execution_count": 6,
   "id": "7b10fb20",
   "metadata": {},
   "outputs": [
    {
     "data": {
      "text/plain": [
       "<seaborn.axisgrid.FacetGrid at 0x7fcc9e3aed60>"
      ]
     },
     "execution_count": 6,
     "metadata": {},
     "output_type": "execute_result"
    },
    {
     "data": {
      "image/png": "[encoded data removed]",
      "text/plain": [
       "<Figure size 360x360 with 1 Axes>"
      ]
     },
     "metadata": {},
     "output_type": "display_data"
    }
   ],
   "source": [
    "sns.set_context(\"talk\")\n",
    "sns.set_theme(style=\"white\")\n",
    "sns.displot(data = summary, x = \"domain\" ) "
   ]
  }
 ],
 "metadata": {
  "kernelspec": {
   "display_name": "Python 3 (ipykernel)",
   "language": "python",
   "name": "python3"
  },
  "language_info": {
   "codemirror_mode": {
    "name": "ipython",
    "version": 3
   },
   "file_extension": ".py",
   "mimetype": "text/x-python",
   "name": "python",
   "nbconvert_exporter": "python",
   "pygments_lexer": "ipython3",
   "version": "3.9.12"
  }
 },
 "nbformat": 4,
 "nbformat_minor": 5
}
