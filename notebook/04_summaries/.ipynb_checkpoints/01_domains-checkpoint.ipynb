{
 "cells": [
  {
   "cell_type": "code",
   "execution_count": 18,
   "id": "83467d55",
   "metadata": {},
   "outputs": [],
   "source": [
    "import os\n",
    "import pandas as pd\n",
    "import numpy as np\n",
    "import seaborn as sns\n",
    "import matplotlib.pyplot as plt\n",
    "from collections import OrderedDict\n",
    "from Bio import SeqIO\n",
    "import glob\n"
   ]
  },
  {
   "cell_type": "code",
   "execution_count": 23,
   "id": "0ff780ce",
   "metadata": {},
   "outputs": [],
   "source": [
    "fasta_files = glob.glob(\"/home/luisasantus/Desktop/test*.fa\")"
   ]
  },
  {
   "cell_type": "code",
   "execution_count": 25,
   "id": "aa853288",
   "metadata": {},
   "outputs": [],
   "source": [
    "fasta_file = fasta_files[0]"
   ]
  },
  {
   "cell_type": "code",
   "execution_count": 37,
   "id": "781cdc21",
   "metadata": {},
   "outputs": [],
   "source": [
    "def get_domain(fasta_file):\n",
    "    fasta_sequences = SeqIO.parse(open(fasta_file),'fasta')\n",
    "    found_names = []\n",
    "    domain = \"mono\"\n",
    "    fam = os.path.basename(fasta_file).replace(\".fa\", \"\")\n",
    "    for fasta in fasta_sequences:\n",
    "        name, sequence = fasta.id, str(fasta.seq)\n",
    "        name = name.rsplit('_', 1)[0]\n",
    "        if(name in found_names):\n",
    "            domain = \"multi\"\n",
    "            break\n",
    "        else: \n",
    "            found_names.append(name)\n",
    "    entry = pd.DataFrame([{ \"family\": fam, \"domain\": domain}])\n",
    "    return(entry)"
   ]
  },
  {
   "cell_type": "code",
   "execution_count": 40,
   "id": "64e2962e",
   "metadata": {},
   "outputs": [],
   "source": [
    "summary = pd.DataFrame()\n",
    "for fasta_file in fasta_files:\n",
    "    summary = pd.concat([summary,get_domain(fasta_file)], ignore_index=True)"
   ]
  },
  {
   "cell_type": "code",
   "execution_count": 42,
   "id": "6444d853",
   "metadata": {},
   "outputs": [],
   "source": [
    "summary.to_csv(\"/home/luisasantus/Desktop/crg_cluster/data/structural_regression/stats/refs/benchfam/domain.csv\")"
   ]
  },
  {
   "cell_type": "code",
   "execution_count": null,
   "id": "a8ecc62b",
   "metadata": {},
   "outputs": [],
   "source": []
  },
  {
   "cell_type": "code",
   "execution_count": null,
   "id": "1029f9b4",
   "metadata": {},
   "outputs": [],
   "source": []
  },
  {
   "cell_type": "code",
   "execution_count": null,
   "id": "c23c1a5f",
   "metadata": {},
   "outputs": [],
   "source": []
  },
  {
   "cell_type": "code",
   "execution_count": null,
   "id": "a7e420df",
   "metadata": {},
   "outputs": [],
   "source": []
  }
 ],
 "metadata": {
  "kernelspec": {
   "display_name": "Python 3 (ipykernel)",
   "language": "python",
   "name": "python3"
  },
  "language_info": {
   "codemirror_mode": {
    "name": "ipython",
    "version": 3
   },
   "file_extension": ".py",
   "mimetype": "text/x-python",
   "name": "python",
   "nbconvert_exporter": "python",
   "pygments_lexer": "ipython3",
   "version": "3.9.12"
  }
 },
 "nbformat": 4,
 "nbformat_minor": 5
}
