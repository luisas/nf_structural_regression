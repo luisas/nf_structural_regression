{
 "cells": [
  {
   "cell_type": "code",
   "execution_count": 1,
   "id": "e5cefe4d",
   "metadata": {},
   "outputs": [],
   "source": [
    "import os\n",
    "import pandas as pd\n",
    "import numpy as np\n",
    "import seaborn as sns\n",
    "import matplotlib.pyplot as plt\n",
    "from collections import OrderedDict\n",
    "from Bio import SeqIO\n",
    "\n",
    "# Load Homfam \n",
    "# Load Benchfam \n",
    "\n",
    "stats_lengths = \"/home/luisasantus/Desktop/crg_cluster/data/structural_regression/stats/refs/benchfam/seq_lengths/summary_lengths.csv\"\n",
    "stats_sims = \"/home/luisasantus/Desktop/crg_cluster/data/structural_regression/stats/refs/benchfam/sim/benchfam_similarities_summary.csv\"\n",
    "outfile = os.path.join(\"/home/luisasantus/Desktop/crg_cluster/data/structural_regression/stats/refs/\", \"02_summary_benchfam_refs.csv\")"
   ]
  },
  {
   "cell_type": "code",
   "execution_count": 2,
   "id": "940c6881",
   "metadata": {},
   "outputs": [],
   "source": [
    "# Load stats in df\n",
    "length_df = pd.read_csv(stats_lengths)\n",
    "sims_df = pd.read_csv(stats_sims, header = None)\n",
    "sims_df = sims_df.drop(3, axis = 1)\n",
    "sims_df.columns = [\"family\", \"benchmarking_dataset\", \"sim\"]"
   ]
  },
  {
   "cell_type": "code",
   "execution_count": 3,
   "id": "e5da4db8",
   "metadata": {},
   "outputs": [
    {
     "data": {
      "text/html": [
       "<div>\n",
       "<style scoped>\n",
       "    .dataframe tbody tr th:only-of-type {\n",
       "        vertical-align: middle;\n",
       "    }\n",
       "\n",
       "    .dataframe tbody tr th {\n",
       "        vertical-align: top;\n",
       "    }\n",
       "\n",
       "    .dataframe thead th {\n",
       "        text-align: right;\n",
       "    }\n",
       "</style>\n",
       "<table border=\"1\" class=\"dataframe\">\n",
       "  <thead>\n",
       "    <tr style=\"text-align: right;\">\n",
       "      <th></th>\n",
       "      <th>family</th>\n",
       "      <th>benchmarking_dataset</th>\n",
       "      <th>sim</th>\n",
       "      <th>mean</th>\n",
       "      <th>median</th>\n",
       "      <th>max</th>\n",
       "      <th>n_sequences</th>\n",
       "    </tr>\n",
       "  </thead>\n",
       "  <tbody>\n",
       "    <tr>\n",
       "      <th>0</th>\n",
       "      <td>PF00502-ref</td>\n",
       "      <td>benchfam</td>\n",
       "      <td>29.17</td>\n",
       "      <td>159.333333</td>\n",
       "      <td>155.0</td>\n",
       "      <td>170</td>\n",
       "      <td>39</td>\n",
       "    </tr>\n",
       "    <tr>\n",
       "      <th>1</th>\n",
       "      <td>PF00355-ref</td>\n",
       "      <td>benchfam</td>\n",
       "      <td>11.82</td>\n",
       "      <td>97.078947</td>\n",
       "      <td>96.0</td>\n",
       "      <td>105</td>\n",
       "      <td>38</td>\n",
       "    </tr>\n",
       "  </tbody>\n",
       "</table>\n",
       "</div>"
      ],
      "text/plain": [
       "        family benchmarking_dataset    sim        mean  median  max  \\\n",
       "0  PF00502-ref             benchfam  29.17  159.333333   155.0  170   \n",
       "1  PF00355-ref             benchfam  11.82   97.078947    96.0  105   \n",
       "\n",
       "   n_sequences  \n",
       "0           39  \n",
       "1           38  "
      ]
     },
     "execution_count": 3,
     "metadata": {},
     "output_type": "execute_result"
    }
   ],
   "source": [
    "summary_benchfam = pd.merge(sims_df, length_df, on = [\"family\", \"benchmarking_dataset\"])\n",
    "summary_benchfam.head(2)"
   ]
  },
  {
   "cell_type": "code",
   "execution_count": 4,
   "id": "d4618c9a",
   "metadata": {},
   "outputs": [],
   "source": [
    "summary_benchfam.to_csv(outfile, index = False)"
   ]
  },
  {
   "cell_type": "code",
   "execution_count": 6,
   "id": "c6a23cdf",
   "metadata": {},
   "outputs": [],
   "source": [
    "\n",
    "stats_lengths = \"/home/luisasantus/Desktop/crg_cluster/data/structural_regression/stats/refs/homfam/seq_lengths/summary_lengths.csv\"\n",
    "stats_sims = \"/home/luisasantus/Desktop/crg_cluster/data/structural_regression/stats/refs/homfam/sim/homfam_similarities_summary.csv\"\n",
    "outfile = os.path.join(\"/home/luisasantus/Desktop/crg_cluster/data/structural_regression/stats/refs/\", \"02_summary_homfam_refs.csv\")\n",
    "# Load stats in df\n",
    "length_df = pd.read_csv(stats_lengths)\n",
    "sims_df = pd.read_csv(stats_sims, header = None)\n",
    "sims_df = sims_df.drop(3, axis = 1)\n",
    "sims_df.columns = [\"family\", \"benchmarking_dataset\", \"sim\"]\n",
    "summary_homfam = pd.merge(sims_df, length_df, on = [\"family\", \"benchmarking_dataset\"])\n",
    "summary_homfam.to_csv(outfile, index = False)"
   ]
  }
 ],
 "metadata": {
  "kernelspec": {
   "display_name": "Python 3 (ipykernel)",
   "language": "python",
   "name": "python3"
  },
  "language_info": {
   "codemirror_mode": {
    "name": "ipython",
    "version": 3
   },
   "file_extension": ".py",
   "mimetype": "text/x-python",
   "name": "python",
   "nbconvert_exporter": "python",
   "pygments_lexer": "ipython3",
   "version": "3.9.12"
  }
 },
 "nbformat": 4,
 "nbformat_minor": 5
}
