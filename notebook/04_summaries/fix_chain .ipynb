{
 "cells": [
  {
   "cell_type": "code",
   "execution_count": 17,
   "id": "8f5f9586",
   "metadata": {},
   "outputs": [],
   "source": [
    "import Bio.PDB as bpdb\n",
    "import glob \n",
    "import os\n",
    "import pandas as pd\n",
    "from Bio import SeqIO\n"
   ]
  },
  {
   "cell_type": "code",
   "execution_count": 15,
   "id": "28dde367",
   "metadata": {},
   "outputs": [],
   "source": [
    "hits_file = \"/home/luisasantus/Desktop/crg_cluster/projects/structuresfetcher/work/f9/ac83efc565fec739e16f88e5d89f46/hits.txt\"\n",
    "fasta_reference = \"/home/luisasantus/Desktop/crg_cluster/data/structures_collections/benchfam_ref/structures/fetched/PDB/id_1.0_cov_1.0/PF00004-ref/CLPA_ECOLI_210-347_ref.fa\""
   ]
  },
  {
   "cell_type": "code",
   "execution_count": 11,
   "id": "2f3e9319",
   "metadata": {},
   "outputs": [],
   "source": [
    "# Extract chain from HITS file\n",
    "matching_pdb_id = pd.read_csv(hits_file, sep = \"\\t\", header = None)[1][0]\n",
    "matching_chain = matching_pdb_id.split(\"_\")[1]"
   ]
  },
  {
   "cell_type": "code",
   "execution_count": 24,
   "id": "317e95ce",
   "metadata": {},
   "outputs": [
    {
     "name": "stdout",
     "output_type": "stream",
     "text": [
      "Chains A, B, C, D, E, F\n",
      "Chains U[auth X], V[auth Y]\n",
      "Chains G, H, I, J, K, L, M, N, O, P, Q, R, S, T\n"
     ]
    }
   ],
   "source": [
    "with open(fasta_reference, 'r') as file:\n",
    "    for record in SeqIO.parse(file, 'fasta'):\n",
    "        id_chains = record.description\n",
    "        id_chains = id_chains.split(\"|\")[1]\n",
    "        print(str(id_chains))\n",
    "    "
   ]
  },
  {
   "cell_type": "code",
   "execution_count": 42,
   "id": "23af2a47",
   "metadata": {},
   "outputs": [
    {
     "name": "stdout",
     "output_type": "stream",
     "text": [
      "U[auth X], V[auth Y]\n"
     ]
    }
   ],
   "source": [
    "map_chains = {}\n",
    "id_chains = \"Chains U[auth X], V[auth Y]\"\n",
    "#id_chains = \"Chains A, B, C, D, E, F\"\n",
    "\n",
    "id_chains = id_chains.replace(\"Chains\",\"\").strip()\n",
    "\n",
    "if \"[\" in id_chains: \n",
    "    for id_chain in id_chains.split(\",\"):\n",
    "        id_chain = id_chain.strip().replace(\"auth\", \"\")\n",
    "        id_chain_for_pdb = id_chain.split(\"[\")[0].strip()\n",
    "        id_chain_hits = id_chain.split(\"[\")[1].replace(\"]\",\"\").strip()\n",
    "        map_chains[id_chain_hits] = id_chain_for_pdb\n",
    "    \n",
    "\n",
    "\n",
    "\n",
    "\n"
   ]
  },
  {
   "cell_type": "code",
   "execution_count": 44,
   "id": "f70aa5be",
   "metadata": {},
   "outputs": [
    {
     "data": {
      "text/plain": [
       "{'X': 'U', 'Y': 'V'}"
      ]
     },
     "execution_count": 44,
     "metadata": {},
     "output_type": "execute_result"
    }
   ],
   "source": [
    "map_chains"
   ]
  }
 ],
 "metadata": {
  "kernelspec": {
   "display_name": "Python 3 (ipykernel)",
   "language": "python",
   "name": "python3"
  },
  "language_info": {
   "codemirror_mode": {
    "name": "ipython",
    "version": 3
   },
   "file_extension": ".py",
   "mimetype": "text/x-python",
   "name": "python",
   "nbconvert_exporter": "python",
   "pygments_lexer": "ipython3",
   "version": "3.9.12"
  }
 },
 "nbformat": 4,
 "nbformat_minor": 5
}
