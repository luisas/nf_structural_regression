{
 "cells": [
  {
   "cell_type": "code",
   "execution_count": 43,
   "id": "a9a9955f",
   "metadata": {},
   "outputs": [],
   "source": [
    "import os\n",
    "import pandas as pd\n",
    "import numpy as np\n",
    "import seaborn as sns\n",
    "import matplotlib.pyplot as plt\n",
    "from collections import OrderedDict\n",
    "from Bio import SeqIO\n",
    "import glob\n",
    "\n",
    "\n",
    "sns.set_theme(style=\"white\")\n",
    "sns.set_context(\"talk\")\n"
   ]
  },
  {
   "cell_type": "code",
   "execution_count": 6,
   "id": "0e62702d",
   "metadata": {},
   "outputs": [],
   "source": [
    "files = glob.glob(\"/home/luisasantus/Desktop/crg_cluster/projects/structural_regression/results/benchfam_ref/evaluation/library/*.score_ascii\")"
   ]
  },
  {
   "cell_type": "code",
   "execution_count": 30,
   "id": "9c13c98b",
   "metadata": {},
   "outputs": [],
   "source": [
    "def get_tcs(file): \n",
    "    with open(file, 'r') as f:\n",
    "        for line in f:\n",
    "            if line.startswith('SCORE='):\n",
    "                family = os.path.basename(file).split(\".\")[0]\n",
    "                library_method = os.path.basename(file).split(\".\")[1]\n",
    "                score = float(line.split(\"=\")[1].strip())\n",
    "                if(library_method == \"progressive\"): \n",
    "                    library_method = \"3DCOFFEE\"\n",
    "                break\n",
    "        entry = pd.DataFrame([{ \"family\": family, \"library_method\": library_method, \"tcs\": score}])\n",
    "        return entry"
   ]
  },
  {
   "cell_type": "code",
   "execution_count": 31,
   "id": "65d05ada",
   "metadata": {},
   "outputs": [],
   "source": [
    "summary = pd.DataFrame()\n",
    "for file in files:\n",
    "    summary = pd.concat([summary,get_tcs(file)], ignore_index=True)"
   ]
  },
  {
   "cell_type": "code",
   "execution_count": 33,
   "id": "c1cef7ca",
   "metadata": {},
   "outputs": [
    {
     "data": {
      "text/html": [
       "<div>\n",
       "<style scoped>\n",
       "    .dataframe tbody tr th:only-of-type {\n",
       "        vertical-align: middle;\n",
       "    }\n",
       "\n",
       "    .dataframe tbody tr th {\n",
       "        vertical-align: top;\n",
       "    }\n",
       "\n",
       "    .dataframe thead th {\n",
       "        text-align: right;\n",
       "    }\n",
       "</style>\n",
       "<table border=\"1\" class=\"dataframe\">\n",
       "  <thead>\n",
       "    <tr style=\"text-align: right;\">\n",
       "      <th></th>\n",
       "      <th>family</th>\n",
       "      <th>library_method</th>\n",
       "      <th>tcs</th>\n",
       "    </tr>\n",
       "  </thead>\n",
       "  <tbody>\n",
       "    <tr>\n",
       "      <th>0</th>\n",
       "      <td>PF00441-ref</td>\n",
       "      <td>fs_only</td>\n",
       "      <td>872.0</td>\n",
       "    </tr>\n",
       "    <tr>\n",
       "      <th>1</th>\n",
       "      <td>PF00890-ref</td>\n",
       "      <td>proba_only</td>\n",
       "      <td>791.0</td>\n",
       "    </tr>\n",
       "  </tbody>\n",
       "</table>\n",
       "</div>"
      ],
      "text/plain": [
       "        family library_method    tcs\n",
       "0  PF00441-ref        fs_only  872.0\n",
       "1  PF00890-ref     proba_only  791.0"
      ]
     },
     "execution_count": 33,
     "metadata": {},
     "output_type": "execute_result"
    }
   ],
   "source": [
    "summary.head(2)"
   ]
  },
  {
   "cell_type": "code",
   "execution_count": 29,
   "id": "8d7408f4",
   "metadata": {},
   "outputs": [],
   "source": [
    "summary.to_csv(\"/home/luisasantus/Desktop/crg_cluster/data/structural_regression/stats/refs/benchfam/tcs.csv\", index = False)"
   ]
  },
  {
   "cell_type": "code",
   "execution_count": 64,
   "id": "3e684910",
   "metadata": {},
   "outputs": [
    {
     "data": {
      "text/plain": [
       "<seaborn.axisgrid.FacetGrid at 0x7fdae71a9a90>"
      ]
     },
     "execution_count": 64,
     "metadata": {},
     "output_type": "execute_result"
    },
    {
     "data": {
      "image/png": "[encoded data removed]",
      "text/plain": [
       "<Figure size 468.225x360 with 1 Axes>"
      ]
     },
     "metadata": {},
     "output_type": "display_data"
    }
   ],
   "source": [
    "sns.displot(data = summary, x = \"tcs\", hue = \"library_method\", alpha = 0.5)"
   ]
  },
  {
   "cell_type": "code",
   "execution_count": 63,
   "id": "f6136212",
   "metadata": {},
   "outputs": [
    {
     "data": {
      "text/plain": [
       "<AxesSubplot:xlabel='tcs', ylabel='library_method'>"
      ]
     },
     "execution_count": 63,
     "metadata": {},
     "output_type": "execute_result"
    },
    {
     "data": {
      "image/png": "[encoded data removed]",
      "text/plain": [
       "<Figure size 432x288 with 1 Axes>"
      ]
     },
     "metadata": {},
     "output_type": "display_data"
    }
   ],
   "source": [
    "sns.boxplot(data = summary, x = \"tcs\", y = \"library_method\")"
   ]
  }
 ],
 "metadata": {
  "kernelspec": {
   "display_name": "Python 3 (ipykernel)",
   "language": "python",
   "name": "python3"
  },
  "language_info": {
   "codemirror_mode": {
    "name": "ipython",
    "version": 3
   },
   "file_extension": ".py",
   "mimetype": "text/x-python",
   "name": "python",
   "nbconvert_exporter": "python",
   "pygments_lexer": "ipython3",
   "version": "3.9.12"
  }
 },
 "nbformat": 4,
 "nbformat_minor": 5
}
