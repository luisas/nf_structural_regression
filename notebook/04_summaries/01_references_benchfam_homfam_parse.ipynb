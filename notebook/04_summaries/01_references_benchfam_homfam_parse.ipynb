{
 "cells": [
  {
   "cell_type": "code",
   "execution_count": 2,
   "id": "e5cefe4d",
   "metadata": {},
   "outputs": [],
   "source": [
    "import os\n",
    "import pandas as pd\n",
    "import numpy as np\n",
    "import seaborn as sns\n",
    "import matplotlib.pyplot as plt\n",
    "from collections import OrderedDict\n",
    "from Bio import SeqIO\n",
    "\n",
    "# Load Homfam \n",
    "# Load Benchfam \n",
    "\n",
    "stats_lengths = \"/home/luisasantus/Desktop/crg_cluster/data/structural_regression/stats/refs/benchfam/seq_lengths/summary_lengths.csv\"\n",
    "stats_sims = \"/home/luisasantus/Desktop/crg_cluster/data/structural_regression/stats/refs/benchfam/sim_idscore/benchfam_similarities_summary.csv\"\n",
    "outfile = os.path.join(\"/home/luisasantus/Desktop/crg_cluster/data/structural_regression/stats/refs/\", \"02_summary_benchfam_refs.csv\")"
   ]
  },
  {
   "cell_type": "code",
   "execution_count": 1,
   "id": "5e00e862",
   "metadata": {},
   "outputs": [],
   "source": [
    "# load benchfam domains\n",
    "domains_file = \"/home/luisasantus/Desktop/crg_cluster/data/structural_regression/stats/refs/benchfam/domain.csv\""
   ]
  },
  {
   "cell_type": "code",
   "execution_count": 5,
   "id": "940c6881",
   "metadata": {},
   "outputs": [],
   "source": [
    "# Load stats in df\n",
    "length_df = pd.read_csv(stats_lengths)\n",
    "sims_df = pd.read_csv(stats_sims, header = None)\n",
    "sims_df = sims_df.drop(3, axis = 1)\n",
    "sims_df.columns = [\"family\", \"benchmarking_dataset\", \"sim\"]\n",
    "domains = pd.read_csv(domains_file)"
   ]
  },
  {
   "cell_type": "code",
   "execution_count": 15,
   "id": "e5da4db8",
   "metadata": {},
   "outputs": [
    {
     "data": {
      "text/html": [
       "<div>\n",
       "<style scoped>\n",
       "    .dataframe tbody tr th:only-of-type {\n",
       "        vertical-align: middle;\n",
       "    }\n",
       "\n",
       "    .dataframe tbody tr th {\n",
       "        vertical-align: top;\n",
       "    }\n",
       "\n",
       "    .dataframe thead th {\n",
       "        text-align: right;\n",
       "    }\n",
       "</style>\n",
       "<table border=\"1\" class=\"dataframe\">\n",
       "  <thead>\n",
       "    <tr style=\"text-align: right;\">\n",
       "      <th></th>\n",
       "      <th>family</th>\n",
       "      <th>benchmarking_dataset</th>\n",
       "      <th>sim</th>\n",
       "      <th>mean</th>\n",
       "      <th>median</th>\n",
       "      <th>max</th>\n",
       "      <th>n_sequences</th>\n",
       "      <th>domain</th>\n",
       "    </tr>\n",
       "  </thead>\n",
       "  <tbody>\n",
       "    <tr>\n",
       "      <th>0</th>\n",
       "      <td>PF01965-ref</td>\n",
       "      <td>benchfam</td>\n",
       "      <td>25.68</td>\n",
       "      <td>171.566667</td>\n",
       "      <td>167.0</td>\n",
       "      <td>212</td>\n",
       "      <td>30</td>\n",
       "      <td>multi</td>\n",
       "    </tr>\n",
       "    <tr>\n",
       "      <th>1</th>\n",
       "      <td>PF02875-ref</td>\n",
       "      <td>benchfam</td>\n",
       "      <td>26.66</td>\n",
       "      <td>86.687500</td>\n",
       "      <td>86.0</td>\n",
       "      <td>97</td>\n",
       "      <td>16</td>\n",
       "      <td>mono</td>\n",
       "    </tr>\n",
       "  </tbody>\n",
       "</table>\n",
       "</div>"
      ],
      "text/plain": [
       "        family benchmarking_dataset    sim        mean  median  max  \\\n",
       "0  PF01965-ref             benchfam  25.68  171.566667   167.0  212   \n",
       "1  PF02875-ref             benchfam  26.66   86.687500    86.0   97   \n",
       "\n",
       "   n_sequences domain  \n",
       "0           30  multi  \n",
       "1           16   mono  "
      ]
     },
     "execution_count": 15,
     "metadata": {},
     "output_type": "execute_result"
    }
   ],
   "source": [
    "summary_benchfam = pd.merge(sims_df, length_df, on = [\"family\", \"benchmarking_dataset\"])\n",
    "summary_benchfam = pd.merge(summary_benchfam, domains, on = [\"family\"])\n",
    "summary_benchfam.head(2)"
   ]
  },
  {
   "cell_type": "code",
   "execution_count": 14,
   "id": "14e4b3a9",
   "metadata": {},
   "outputs": [
    {
     "data": {
      "text/html": [
       "<div>\n",
       "<style scoped>\n",
       "    .dataframe tbody tr th:only-of-type {\n",
       "        vertical-align: middle;\n",
       "    }\n",
       "\n",
       "    .dataframe tbody tr th {\n",
       "        vertical-align: top;\n",
       "    }\n",
       "\n",
       "    .dataframe thead th {\n",
       "        text-align: right;\n",
       "    }\n",
       "</style>\n",
       "<table border=\"1\" class=\"dataframe\">\n",
       "  <thead>\n",
       "    <tr style=\"text-align: right;\">\n",
       "      <th></th>\n",
       "      <th>family</th>\n",
       "      <th>benchmarking_dataset</th>\n",
       "      <th>sim</th>\n",
       "      <th>mean</th>\n",
       "      <th>median</th>\n",
       "      <th>max</th>\n",
       "      <th>n_sequences</th>\n",
       "      <th>domain</th>\n",
       "    </tr>\n",
       "  </thead>\n",
       "  <tbody>\n",
       "    <tr>\n",
       "      <th>144</th>\n",
       "      <td>PF06628-ref</td>\n",
       "      <td>benchfam</td>\n",
       "      <td>25.82</td>\n",
       "      <td>64.333333</td>\n",
       "      <td>64.5</td>\n",
       "      <td>65</td>\n",
       "      <td>18</td>\n",
       "      <td>mono</td>\n",
       "    </tr>\n",
       "  </tbody>\n",
       "</table>\n",
       "</div>"
      ],
      "text/plain": [
       "          family benchmarking_dataset    sim       mean  median  max  \\\n",
       "144  PF06628-ref             benchfam  25.82  64.333333    64.5   65   \n",
       "\n",
       "     n_sequences domain  \n",
       "144           18   mono  "
      ]
     },
     "execution_count": 14,
     "metadata": {},
     "output_type": "execute_result"
    }
   ],
   "source": [
    "fam = \"PF06628-ref\"\n",
    "summary_benchfam[summary_benchfam.family == fam]"
   ]
  },
  {
   "cell_type": "code",
   "execution_count": 13,
   "id": "d4618c9a",
   "metadata": {},
   "outputs": [],
   "source": [
    "summary_benchfam.to_csv(outfile, index = False)"
   ]
  },
  {
   "cell_type": "code",
   "execution_count": 13,
   "id": "c6a23cdf",
   "metadata": {},
   "outputs": [],
   "source": [
    "\n",
    "stats_lengths = \"/home/luisasantus/Desktop/crg_cluster/data/structural_regression/stats/refs/homfam/seq_lengths/summary_lengths.csv\"\n",
    "stats_sims = \"/home/luisasantus/Desktop/crg_cluster/data/structural_regression/stats/refs/homfam/sim_idscore/homfam_similarities_summary.csv\"\n",
    "outfile = os.path.join(\"/home/luisasantus/Desktop/crg_cluster/data/structural_regression/stats/refs/\", \"02_summary_homfam_refs.csv\")\n",
    "# Load stats in df\n",
    "length_df = pd.read_csv(stats_lengths)\n",
    "sims_df = pd.read_csv(stats_sims, header = None)\n",
    "sims_df = sims_df.drop(3, axis = 1)\n",
    "sims_df.columns = [\"family\", \"benchmarking_dataset\", \"sim\"]\n",
    "summary_homfam = pd.merge(sims_df, length_df, on = [\"family\", \"benchmarking_dataset\"])\n",
    "summary_homfam.to_csv(outfile, index = False)"
   ]
  }
 ],
 "metadata": {
  "kernelspec": {
   "display_name": "Python 3 (ipykernel)",
   "language": "python",
   "name": "python3"
  },
  "language_info": {
   "codemirror_mode": {
    "name": "ipython",
    "version": 3
   },
   "file_extension": ".py",
   "mimetype": "text/x-python",
   "name": "python",
   "nbconvert_exporter": "python",
   "pygments_lexer": "ipython3",
   "version": "3.9.12"
  }
 },
 "nbformat": 4,
 "nbformat_minor": 5
}
