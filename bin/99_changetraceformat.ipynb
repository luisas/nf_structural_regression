{
 "cells": [
  {
   "cell_type": "markdown",
   "id": "0bd8af20",
   "metadata": {},
   "source": [
    "## Quick get .command trace to new format "
   ]
  },
  {
   "cell_type": "code",
   "execution_count": 13,
   "id": "a9739704",
   "metadata": {},
   "outputs": [],
   "source": [
    "import os\n",
    "import pandas as pd\n",
    "import numpy as np\n",
    "import seaborn as sns\n",
    "import matplotlib.pyplot as plt\n",
    "from collections import OrderedDict\n",
    "from Bio import SeqIO\n",
    "import pathlib\n",
    "from pathlib import Path\n",
    "import subprocess"
   ]
  },
  {
   "cell_type": "code",
   "execution_count": 49,
   "id": "720814f6",
   "metadata": {},
   "outputs": [],
   "source": [
    "structures_dir = \"/home/luisasantus/Desktop/crg_cluster/data/structural_regression/af2_structures/colabfold\"\n",
    "fams = [\"hip\", \"rnasemam\", \"TNF\", \"toxin\", \"seatoxin_old\", \"scorptoxin\", \"ghf11\", \"test\", \"sti\", \"seatoxin\"]"
   ]
  },
  {
   "cell_type": "code",
   "execution_count": null,
   "id": "5a257f22",
   "metadata": {},
   "outputs": [],
   "source": [
    "cpuline=\"#cpu flag\""
   ]
  },
  {
   "cell_type": "code",
   "execution_count": null,
   "id": "d9b359a4",
   "metadata": {},
   "outputs": [],
   "source": [
    "\tgrep \">\" ${fasta} > colabfold_trace.txt\n",
    "\techo \"#cpu flag\" ${params.cpu_flag} >> colabfold_trace.txt\n",
    "\techo \"RUNNING TIME\" >> colabfold_trace.txt\n",
    "\thash=`sha1sum  colabfold_trace.txt |  head -c 40`\n"
   ]
  },
  {
   "cell_type": "code",
   "execution_count": null,
   "id": "36cf1f6a",
   "metadata": {},
   "outputs": [],
   "source": [
    "f.write(\"Now the file has more content!\")\n"
   ]
  },
  {
   "cell_type": "code",
   "execution_count": 50,
   "id": "052d6eb8",
   "metadata": {},
   "outputs": [
    {
     "name": "stdout",
     "output_type": "stream",
     "text": [
      "ghf11\n",
      "17610332\n",
      "rnasemam\n",
      "10719559\n",
      "seatoxin_old\n",
      "7172008\n",
      "test\n",
      "1421484\n",
      "toxin\n",
      "9284726\n",
      "sti\n",
      "17288679\n",
      "scorptoxin\n",
      "8119039\n",
      "TNF\n",
      "13696014\n",
      "seatoxin\n",
      "13040297\n",
      "hip\n",
      "9476950\n"
     ]
    }
   ],
   "source": [
    "\n",
    "for fam in os.listdir(structures_dir):\n",
    "    if(fam in fams):\n",
    "        print(fam)\n",
    "        fam_dir = os.path.join(structures_dir,fam)        \n",
    "        f = open(os.path.join(fam_dir,\"colabfold_trace.txt\"), \"w\")\n",
    "        \n",
    "        # For all sequences\n",
    "        fileExt = r\"*alphafold.pdb\"\n",
    "        for seq in list(pathlib.Path(fam_dir).glob(fileExt)):\n",
    "            f.write(\">\"+Path(seq).stem.replace(\"_alphafold\",\"\")+\"\\n\")\n",
    "        f.write(\"#cpu flag\\n\")\n",
    "        f.write(\"RUNNING TIME\\n\")\n",
    "        f.close()\n",
    "        \n",
    "        # Hash file \n",
    "        bashCommand = \"sha1sum \"+ os.path.join(fam_dir,\"colabfold_trace.txt\")\n",
    "        process = subprocess.Popen(bashCommand.split(), stdout=subprocess.PIPE)\n",
    "        output, error = process.communicate()\n",
    "        hash_string = output.decode(\"utf-8\")[0:40]\n",
    "        \n",
    "        f2 = open(os.path.join(fam_dir,hash_string+\"_hash_colabfold_trace.txt\"), \"w\")\n",
    "        \n",
    "        # Copy file1 in file2 \n",
    "        with open(os.path.join(fam_dir,\"colabfold_trace.txt\"),'r') as colabfold_trace:\n",
    "            for line in colabfold_trace:\n",
    "                f2.write(line)\n",
    "        \n",
    "        # Get realtime\n",
    "        for f in os.listdir(fam_dir):\n",
    "            if f == \".command.trace\":\n",
    "                trace = os.path.join(fam_dir, f)\n",
    "                df = pd.read_csv(trace, sep = \"=\").T\n",
    "                df = df.rename(index={'nextflow.trace/v2': fam})\n",
    "                print(str(df[\"realtime\"][0]))\n",
    "                val = float(df.realtime[0])/1000\n",
    "                realtime = \"real \"+str(val)\n",
    "                \n",
    "                f2.write(realtime)\n",
    "        f2.write(\"\\nuser -\\n\")\n",
    "        f2.write(\"sys -\\n\")\n",
    "        f2.close()\n",
    "        \n",
    "        \n"
   ]
  },
  {
   "cell_type": "code",
   "execution_count": null,
   "id": "d3d24ba8",
   "metadata": {},
   "outputs": [],
   "source": [
    "        for f in os.listdir(fam_dir):\n",
    "            if f == \".command.trace\":\n",
    "                trace = join(fam_dir, f)\n",
    "                df = pd.read_csv(trace, sep = \"=\").T\n",
    "                df = df.rename(index={'nextflow.trace/v2': fam})\n",
    "                traces = traces.append(df)"
   ]
  },
  {
   "cell_type": "code",
   "execution_count": 14,
   "id": "9855e954",
   "metadata": {},
   "outputs": [],
   "source": [
    "\n",
    "\n",
    "\n"
   ]
  },
  {
   "cell_type": "code",
   "execution_count": 15,
   "id": "f327dd0e",
   "metadata": {},
   "outputs": [
    {
     "data": {
      "text/plain": [
       "b'bioinfoCommands\\ncalc_seqlength.py\\ncalc_seqlength_stats.py\\ncpu_calculate.sh\\ndynamic.pl\\nstats.nf\\nUntitled.ipynb\\n'"
      ]
     },
     "execution_count": 15,
     "metadata": {},
     "output_type": "execute_result"
    }
   ],
   "source": [
    "output"
   ]
  }
 ],
 "metadata": {
  "kernelspec": {
   "display_name": "Python 3 (ipykernel)",
   "language": "python",
   "name": "python3"
  },
  "language_info": {
   "codemirror_mode": {
    "name": "ipython",
    "version": 3
   },
   "file_extension": ".py",
   "mimetype": "text/x-python",
   "name": "python",
   "nbconvert_exporter": "python",
   "pygments_lexer": "ipython3",
   "version": "3.8.10"
  }
 },
 "nbformat": 4,
 "nbformat_minor": 5
}
