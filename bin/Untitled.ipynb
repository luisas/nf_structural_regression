{
 "cells": [
  {
   "cell_type": "code",
   "execution_count": 15,
   "id": "9b95ab26",
   "metadata": {},
   "outputs": [],
   "source": [
    "import pandas as pd\n",
    "import sys\n",
    "\n",
    "hits=\"/home/luisasantus/Desktop/crg_cluster/projects/test_mmseqs/hits.m8\"\n",
    "output_ids = \"/home/luisasantus/Desktop/crg_cluster/projects/test_mmseqs/ids_to_download.txt\"\n",
    "output_chains = \"/home/luisasantus/Desktop/crg_cluster/projects/test_mmseqs/ids_to_download_chains.txt\"\n",
    "template = \"/home/luisasantus/Desktop/crg_cluster/projects/test_mmseqs/template.txt\"\n",
    "\n",
    "\n",
    "def get_best_hits(hits):\n",
    "\n",
    "    df = pd.read_csv(hits, sep='\\t', header = None)\n",
    "    # 1 - Get all the sequences with maximum identity\n",
    "    df_grouped = df.groupby([0]).agg({2:'max'})\n",
    "    df_grouped = df_grouped.reset_index()\n",
    "    df_grouped = df_grouped.rename(columns={2:'identity_max'})\n",
    "    df = pd.merge(df, df_grouped, how='left', on=[0])\n",
    "    df = df[df[2] == df['identity_max']]\n",
    "\n",
    "    # Hits presenting a best match that also have the same id name are prioritized\n",
    "    df[\"target_id_nochain\"] = df[1].str.split(\"_\",expand = True)[0]\n",
    "    df_id_match = df[df[0] == df[\"target_id_nochain\"]]\n",
    "\n",
    "\n",
    "    # Only retain the dataframe\n",
    "    df_noid_match = df[~df[0].isin(df_id_match[0])]\n",
    "    df_noid_match_filtered = df_noid_match.iloc[[df_noid_match[2].idxmax()]]\n",
    "\n",
    "    final_df = pd.concat([df_id_match,df_noid_match_filtered])\n",
    "    return(final_df)\n"
   ]
  },
  {
   "cell_type": "code",
   "execution_count": 2,
   "id": "5cc88aa2",
   "metadata": {},
   "outputs": [],
   "source": [
    "df = get_best_hits(hits)"
   ]
  },
  {
   "cell_type": "code",
   "execution_count": 12,
   "id": "9758fa36",
   "metadata": {},
   "outputs": [],
   "source": []
  },
  {
   "cell_type": "code",
   "execution_count": 28,
   "id": "9be2e485",
   "metadata": {},
   "outputs": [
    {
     "data": {
      "text/plain": [
       "1      >1psn\n",
       "19     >3app\n",
       "339    >2apr\n",
       "345    >5pep\n",
       "74     >4ape\n",
       "Name: 0, dtype: object"
      ]
     },
     "execution_count": 28,
     "metadata": {},
     "output_type": "execute_result"
    }
   ],
   "source": [
    "\n"
   ]
  },
  {
   "cell_type": "code",
   "execution_count": 23,
   "id": "1817c5bf",
   "metadata": {},
   "outputs": [],
   "source": []
  },
  {
   "cell_type": "code",
   "execution_count": 26,
   "id": "379af8cb",
   "metadata": {},
   "outputs": [],
   "source": [
    "# 2. Create file with IDs to download\n",
    "df[\"target_id_nochain\"].to_csv(output_ids, sep=\"\\t\", header=None, index=False)\n",
    "\n",
    "# 3. Create file also with chain informations\n",
    "df[\"chain\"] = df[1].str.split(\"_\", expand = True)[1]\n",
    "df[[0,1,\"chain\",\"target_id_nochain\"]].to_csv(output_chains, sep=\"\\t\", header=None, index=False)\n",
    "\n",
    "# 4. Create template file \n",
    "df[\"sep\"] = \"_P_\"\n",
    "df[\"query_id\"]=\">\"+df[0]\n",
    "cols =  [\"query_id\",\"sep\",\"target_id_nochain\"]\n",
    "df[cols].to_csv(template, sep=\" \", header=None, index=False)"
   ]
  },
  {
   "cell_type": "code",
   "execution_count": 29,
   "id": "38683d68",
   "metadata": {},
   "outputs": [],
   "source": []
  }
 ],
 "metadata": {
  "kernelspec": {
   "display_name": "Python 3 (ipykernel)",
   "language": "python",
   "name": "python3"
  },
  "language_info": {
   "codemirror_mode": {
    "name": "ipython",
    "version": 3
   },
   "file_extension": ".py",
   "mimetype": "text/x-python",
   "name": "python",
   "nbconvert_exporter": "python",
   "pygments_lexer": "ipython3",
   "version": "3.9.12"
  }
 },
 "nbformat": 4,
 "nbformat_minor": 5
}
