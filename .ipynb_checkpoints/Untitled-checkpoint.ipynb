{
 "cells": [
  {
   "cell_type": "code",
   "execution_count": 4,
   "id": "01c7e4a8",
   "metadata": {},
   "outputs": [],
   "source": [
    "import pandas as pd\n",
    "import sys \n",
    "from Bio import SeqIO"
   ]
  },
  {
   "cell_type": "code",
   "execution_count": 8,
   "id": "e7554c3a",
   "metadata": {},
   "outputs": [],
   "source": [
    "mapping_file = \"mapping.tsv\"\n",
    "fasta_file = \"test.fa\"\n",
    "output_file = \"test.out\""
   ]
  },
  {
   "cell_type": "code",
   "execution_count": null,
   "id": "5a0ffac1",
   "metadata": {},
   "outputs": [],
   "source": [
    "fasta_file = sys.argv[1]\n",
    "mapping_file = sys.argv[2]\n",
    "output_file = sys.argv[3]"
   ]
  },
  {
   "cell_type": "code",
   "execution_count": 37,
   "id": "242bd5dc",
   "metadata": {},
   "outputs": [],
   "source": [
    "# Load mapping\n",
    "mapping = pd.read_csv(mapping_file, sep = \"\\s\", header = None, engine = \"python\")\n",
    "mapping.columns = [\"id\", \"seq\", \"map\"]\n",
    "mapping.id = mapping.id.str.replace(\"_alphafold.pdb\", \"\", regex = False)"
   ]
  },
  {
   "cell_type": "code",
   "execution_count": 61,
   "id": "42e2e8c0",
   "metadata": {},
   "outputs": [
    {
     "data": {
      "text/plain": [
       "'BBBC'"
      ]
     },
     "execution_count": 61,
     "metadata": {},
     "output_type": "execute_result"
    }
   ],
   "source": [
    "mapping.loc[mapping.id == \"B\"].seq.item()"
   ]
  },
  {
   "cell_type": "code",
   "execution_count": 63,
   "id": "67cc97a9",
   "metadata": {},
   "outputs": [
    {
     "name": "stdout",
     "output_type": "stream",
     "text": [
      "AAAB\n",
      "XXXY\n",
      "BBBC\n",
      "XXXT\n",
      "AAAC\n",
      "SEQUENCES ARE NOTE MATCHING!!\n"
     ]
    }
   ],
   "source": [
    "with open(fasta_file) as original, open(output_file, 'w') as mapped:\n",
    "    records = SeqIO.parse(fasta_file, 'fasta')\n",
    "    for record in records:\n",
    "        fasta_seq = record.seq\n",
    "        mapping_seq = mapping[mapping.id == record.id].seq.item()\n",
    "        if  fasta_seq == mapping_seq :\n",
    "            record.seq = mapping[mapping.id == record.id].map.item()\n",
    "        else: \n",
    "            print(\"SEQUENCES ARE NOTE MATCHING!!\")  \n",
    "        SeqIO.write(record, mapped, 'fasta')"
   ]
  }
 ],
 "metadata": {
  "kernelspec": {
   "display_name": "Python 3 (ipykernel)",
   "language": "python",
   "name": "python3"
  },
  "language_info": {
   "codemirror_mode": {
    "name": "ipython",
    "version": 3
   },
   "file_extension": ".py",
   "mimetype": "text/x-python",
   "name": "python",
   "nbconvert_exporter": "python",
   "pygments_lexer": "ipython3",
   "version": "3.9.12"
  }
 },
 "nbformat": 4,
 "nbformat_minor": 5
}
